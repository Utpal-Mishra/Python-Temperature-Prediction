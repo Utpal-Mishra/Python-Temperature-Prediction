{
  "nbformat": 4,
  "nbformat_minor": 0,
  "metadata": {
    "colab": {
      "name": "TemperaturePredictionEnsemble.ipynb",
      "provenance": [],
      "collapsed_sections": [
        "W-N-I-ZIleqA",
        "z3SQk9o1U67X",
        "5anQFspzVciq",
        "ri9yLSYJjnUR",
        "PTrEUz77Zyeh"
      ],
      "authorship_tag": "ABX9TyNeZX4fXeYga/Kh+xnw+GtK",
      "include_colab_link": true
    },
    "kernelspec": {
      "name": "python3",
      "display_name": "Python 3"
    }
  },
  "cells": [
    {
      "cell_type": "markdown",
      "metadata": {
        "id": "view-in-github",
        "colab_type": "text"
      },
      "source": [
        "<a href=\"https://colab.research.google.com/github/Utpal-Mishra/Python-Temperature-Prediction/blob/main/TemperaturePredictionEnsemble.ipynb\" target=\"_parent\"><img src=\"https://colab.research.google.com/assets/colab-badge.svg\" alt=\"Open In Colab\"/></a>"
      ]
    },
    {
      "cell_type": "code",
      "metadata": {
        "id": "EmtJlcLcN2Hl",
        "colab": {
          "base_uri": "https://localhost:8080/",
          "height": 365
        },
        "outputId": "94e1ecb5-cf8b-4c2e-9264-56c1c4e1505e"
      },
      "source": [
        "!pip install --upgrade keras\n",
        "!pip install -q tensorflow==2.0beta1\n",
        "\n",
        "import numpy as np\n",
        "import pandas as pd\n",
        "import matplotlib.pyplot as plt\n",
        "from sklearn import preprocessing\n",
        "from sklearn.metrics import classification_report\n",
        "from sklearn.metrics import confusion_matrix\n",
        "from sklearn.metrics import accuracy_score\n",
        "from sklearn.model_selection import train_test_split\n",
        "from sklearn.model_selection import cross_val_score\n",
        "from sklearn.model_selection import KFold\n",
        "from sklearn.ensemble import RandomForestClassifier\n",
        "from sklearn.tree import DecisionTreeClassifier\n",
        "from sklearn.neighbors import KNeighborsClassifier\n",
        "from sklearn.naive_bayes import GaussianNB\n",
        "from sklearn.pipeline import Pipeline\n",
        "from sklearn.preprocessing import StandardScaler\n",
        "from sklearn.model_selection import GridSearchCV\n",
        "from sklearn.svm import SVC\n",
        "import time"
      ],
      "execution_count": null,
      "outputs": [
        {
          "output_type": "stream",
          "text": [
            "Collecting keras\n",
            "\u001b[?25l  Downloading https://files.pythonhosted.org/packages/ad/fd/6bfe87920d7f4fd475acd28500a42482b6b84479832bdc0fe9e589a60ceb/Keras-2.3.1-py2.py3-none-any.whl (377kB)\n",
            "\u001b[K     |████████████████████████████████| 378kB 1.4MB/s \n",
            "\u001b[?25hRequirement already satisfied, skipping upgrade: scipy>=0.14 in /usr/local/lib/python3.6/dist-packages (from keras) (1.4.1)\n",
            "Requirement already satisfied, skipping upgrade: numpy>=1.9.1 in /usr/local/lib/python3.6/dist-packages (from keras) (1.18.2)\n",
            "Requirement already satisfied, skipping upgrade: h5py in /usr/local/lib/python3.6/dist-packages (from keras) (2.10.0)\n",
            "Requirement already satisfied, skipping upgrade: six>=1.9.0 in /usr/local/lib/python3.6/dist-packages (from keras) (1.12.0)\n",
            "Requirement already satisfied, skipping upgrade: keras-preprocessing>=1.0.5 in /usr/local/lib/python3.6/dist-packages (from keras) (1.1.0)\n",
            "Requirement already satisfied, skipping upgrade: keras-applications>=1.0.6 in /usr/local/lib/python3.6/dist-packages (from keras) (1.0.8)\n",
            "Requirement already satisfied, skipping upgrade: pyyaml in /usr/local/lib/python3.6/dist-packages (from keras) (3.13)\n",
            "Installing collected packages: keras\n",
            "  Found existing installation: Keras 2.2.5\n",
            "    Uninstalling Keras-2.2.5:\n",
            "      Successfully uninstalled Keras-2.2.5\n",
            "Successfully installed keras-2.3.1\n",
            "\u001b[K     |████████████████████████████████| 87.9MB 61kB/s \n",
            "\u001b[K     |████████████████████████████████| 3.1MB 48.7MB/s \n",
            "\u001b[K     |████████████████████████████████| 501kB 47.3MB/s \n",
            "\u001b[?25h"
          ],
          "name": "stdout"
        }
      ]
    },
    {
      "cell_type": "code",
      "metadata": {
        "id": "F4rXzUjaN1Tt",
        "colab": {
          "base_uri": "https://localhost:8080/",
          "height": 128
        },
        "outputId": "5c27688b-ec29-45b5-c109-49b1bd38c43b"
      },
      "source": [
        "from google.colab import drive\n",
        "drive.mount('/content/drive/')"
      ],
      "execution_count": null,
      "outputs": [
        {
          "output_type": "stream",
          "text": [
            "Go to this URL in a browser: https://accounts.google.com/o/oauth2/auth?client_id=947318989803-6bn6qk8qdgf4n4g3pfee6491hc0brc4i.apps.googleusercontent.com&redirect_uri=urn%3aietf%3awg%3aoauth%3a2.0%3aoob&response_type=code&scope=email%20https%3a%2f%2fwww.googleapis.com%2fauth%2fdocs.test%20https%3a%2f%2fwww.googleapis.com%2fauth%2fdrive%20https%3a%2f%2fwww.googleapis.com%2fauth%2fdrive.photos.readonly%20https%3a%2f%2fwww.googleapis.com%2fauth%2fpeopleapi.readonly\n",
            "\n",
            "Enter your authorization code:\n",
            "··········\n",
            "Mounted at /content/drive/\n"
          ],
          "name": "stdout"
        }
      ]
    },
    {
      "cell_type": "code",
      "metadata": {
        "id": "rrsRTc0LFYZl",
        "colab": {
          "base_uri": "https://localhost:8080/",
          "height": 322
        },
        "outputId": "683ec5f6-62a7-4931-e5f2-4ede3ab13b4e"
      },
      "source": [
        "path = \"/content/drive/My Drive/Bias_correction_ucl.csv\"\n",
        "data = pd.read_csv(path)\n",
        "data.head()"
      ],
      "execution_count": null,
      "outputs": [
        {
          "output_type": "execute_result",
          "data": {
            "text/html": [
              "<div>\n",
              "<style scoped>\n",
              "    .dataframe tbody tr th:only-of-type {\n",
              "        vertical-align: middle;\n",
              "    }\n",
              "\n",
              "    .dataframe tbody tr th {\n",
              "        vertical-align: top;\n",
              "    }\n",
              "\n",
              "    .dataframe thead th {\n",
              "        text-align: right;\n",
              "    }\n",
              "</style>\n",
              "<table border=\"1\" class=\"dataframe\">\n",
              "  <thead>\n",
              "    <tr style=\"text-align: right;\">\n",
              "      <th></th>\n",
              "      <th>Station</th>\n",
              "      <th>Date</th>\n",
              "      <th>Present_Tmax</th>\n",
              "      <th>Present_Tmin</th>\n",
              "      <th>LDAPS_RHmin</th>\n",
              "      <th>LDAPS_RHmax</th>\n",
              "      <th>LDAPS_Tmax_lapse</th>\n",
              "      <th>LDAPS_Tmin_lapse</th>\n",
              "      <th>LDAPS_WS</th>\n",
              "      <th>LDAPS_LH</th>\n",
              "      <th>LDAPS_CC1</th>\n",
              "      <th>LDAPS_CC2</th>\n",
              "      <th>LDAPS_CC3</th>\n",
              "      <th>LDAPS_CC4</th>\n",
              "      <th>LDAPS_PPT1</th>\n",
              "      <th>LDAPS_PPT2</th>\n",
              "      <th>LDAPS_PPT3</th>\n",
              "      <th>LDAPS_PPT4</th>\n",
              "      <th>lat</th>\n",
              "      <th>lon</th>\n",
              "      <th>DEM</th>\n",
              "      <th>Slope</th>\n",
              "      <th>Solar radiation</th>\n",
              "      <th>Next_Tmax</th>\n",
              "      <th>Next_Tmin</th>\n",
              "    </tr>\n",
              "  </thead>\n",
              "  <tbody>\n",
              "    <tr>\n",
              "      <th>0</th>\n",
              "      <td>1.0</td>\n",
              "      <td>2013-06-30</td>\n",
              "      <td>28.7</td>\n",
              "      <td>21.4</td>\n",
              "      <td>58.255688</td>\n",
              "      <td>91.116364</td>\n",
              "      <td>28.074101</td>\n",
              "      <td>23.006936</td>\n",
              "      <td>6.818887</td>\n",
              "      <td>69.451805</td>\n",
              "      <td>0.233948</td>\n",
              "      <td>0.203896</td>\n",
              "      <td>0.161697</td>\n",
              "      <td>0.130928</td>\n",
              "      <td>0.0</td>\n",
              "      <td>0.0</td>\n",
              "      <td>0.0</td>\n",
              "      <td>0.0</td>\n",
              "      <td>37.6046</td>\n",
              "      <td>126.991</td>\n",
              "      <td>212.3350</td>\n",
              "      <td>2.7850</td>\n",
              "      <td>5992.8960</td>\n",
              "      <td>29.1</td>\n",
              "      <td>21.2</td>\n",
              "    </tr>\n",
              "    <tr>\n",
              "      <th>1</th>\n",
              "      <td>2.0</td>\n",
              "      <td>2013-06-30</td>\n",
              "      <td>31.9</td>\n",
              "      <td>21.6</td>\n",
              "      <td>52.263397</td>\n",
              "      <td>90.604721</td>\n",
              "      <td>29.850689</td>\n",
              "      <td>24.035009</td>\n",
              "      <td>5.691890</td>\n",
              "      <td>51.937448</td>\n",
              "      <td>0.225508</td>\n",
              "      <td>0.251771</td>\n",
              "      <td>0.159444</td>\n",
              "      <td>0.127727</td>\n",
              "      <td>0.0</td>\n",
              "      <td>0.0</td>\n",
              "      <td>0.0</td>\n",
              "      <td>0.0</td>\n",
              "      <td>37.6046</td>\n",
              "      <td>127.032</td>\n",
              "      <td>44.7624</td>\n",
              "      <td>0.5141</td>\n",
              "      <td>5869.3125</td>\n",
              "      <td>30.5</td>\n",
              "      <td>22.5</td>\n",
              "    </tr>\n",
              "    <tr>\n",
              "      <th>2</th>\n",
              "      <td>3.0</td>\n",
              "      <td>2013-06-30</td>\n",
              "      <td>31.6</td>\n",
              "      <td>23.3</td>\n",
              "      <td>48.690479</td>\n",
              "      <td>83.973587</td>\n",
              "      <td>30.091292</td>\n",
              "      <td>24.565633</td>\n",
              "      <td>6.138224</td>\n",
              "      <td>20.573050</td>\n",
              "      <td>0.209344</td>\n",
              "      <td>0.257469</td>\n",
              "      <td>0.204092</td>\n",
              "      <td>0.142125</td>\n",
              "      <td>0.0</td>\n",
              "      <td>0.0</td>\n",
              "      <td>0.0</td>\n",
              "      <td>0.0</td>\n",
              "      <td>37.5776</td>\n",
              "      <td>127.058</td>\n",
              "      <td>33.3068</td>\n",
              "      <td>0.2661</td>\n",
              "      <td>5863.5557</td>\n",
              "      <td>31.1</td>\n",
              "      <td>23.9</td>\n",
              "    </tr>\n",
              "    <tr>\n",
              "      <th>3</th>\n",
              "      <td>4.0</td>\n",
              "      <td>2013-06-30</td>\n",
              "      <td>32.0</td>\n",
              "      <td>23.4</td>\n",
              "      <td>58.239788</td>\n",
              "      <td>96.483688</td>\n",
              "      <td>29.704629</td>\n",
              "      <td>23.326177</td>\n",
              "      <td>5.650050</td>\n",
              "      <td>65.727144</td>\n",
              "      <td>0.216372</td>\n",
              "      <td>0.226002</td>\n",
              "      <td>0.161157</td>\n",
              "      <td>0.134249</td>\n",
              "      <td>0.0</td>\n",
              "      <td>0.0</td>\n",
              "      <td>0.0</td>\n",
              "      <td>0.0</td>\n",
              "      <td>37.6450</td>\n",
              "      <td>127.022</td>\n",
              "      <td>45.7160</td>\n",
              "      <td>2.5348</td>\n",
              "      <td>5856.9648</td>\n",
              "      <td>31.7</td>\n",
              "      <td>24.3</td>\n",
              "    </tr>\n",
              "    <tr>\n",
              "      <th>4</th>\n",
              "      <td>5.0</td>\n",
              "      <td>2013-06-30</td>\n",
              "      <td>31.4</td>\n",
              "      <td>21.9</td>\n",
              "      <td>56.174095</td>\n",
              "      <td>90.155128</td>\n",
              "      <td>29.113934</td>\n",
              "      <td>23.486480</td>\n",
              "      <td>5.735004</td>\n",
              "      <td>107.965535</td>\n",
              "      <td>0.151407</td>\n",
              "      <td>0.249995</td>\n",
              "      <td>0.178892</td>\n",
              "      <td>0.170021</td>\n",
              "      <td>0.0</td>\n",
              "      <td>0.0</td>\n",
              "      <td>0.0</td>\n",
              "      <td>0.0</td>\n",
              "      <td>37.5507</td>\n",
              "      <td>127.135</td>\n",
              "      <td>35.0380</td>\n",
              "      <td>0.5055</td>\n",
              "      <td>5859.5522</td>\n",
              "      <td>31.2</td>\n",
              "      <td>22.5</td>\n",
              "    </tr>\n",
              "  </tbody>\n",
              "</table>\n",
              "</div>"
            ],
            "text/plain": [
              "   Station        Date  Present_Tmax  ...  Solar radiation  Next_Tmax  Next_Tmin\n",
              "0      1.0  2013-06-30          28.7  ...        5992.8960       29.1       21.2\n",
              "1      2.0  2013-06-30          31.9  ...        5869.3125       30.5       22.5\n",
              "2      3.0  2013-06-30          31.6  ...        5863.5557       31.1       23.9\n",
              "3      4.0  2013-06-30          32.0  ...        5856.9648       31.7       24.3\n",
              "4      5.0  2013-06-30          31.4  ...        5859.5522       31.2       22.5\n",
              "\n",
              "[5 rows x 25 columns]"
            ]
          },
          "metadata": {
            "tags": []
          },
          "execution_count": 7
        }
      ]
    },
    {
      "cell_type": "code",
      "metadata": {
        "id": "Hfantvm9u3RX",
        "colab": {
          "base_uri": "https://localhost:8080/",
          "height": 34
        },
        "outputId": "41fb1367-5231-4115-9bf4-f4c1ac65f6f9"
      },
      "source": [
        "data.fillna(0, inplace=True)\n",
        "data.shape"
      ],
      "execution_count": null,
      "outputs": [
        {
          "output_type": "execute_result",
          "data": {
            "text/plain": [
              "(7752, 25)"
            ]
          },
          "metadata": {
            "tags": []
          },
          "execution_count": 23
        }
      ]
    },
    {
      "cell_type": "code",
      "metadata": {
        "id": "7F-8emuHGkvG",
        "colab": {
          "base_uri": "https://localhost:8080/",
          "height": 334
        },
        "outputId": "a4f19579-045a-40c0-900d-8b984d7e3442"
      },
      "source": [
        "data.describe()"
      ],
      "execution_count": null,
      "outputs": [
        {
          "output_type": "execute_result",
          "data": {
            "text/html": [
              "<div>\n",
              "<style scoped>\n",
              "    .dataframe tbody tr th:only-of-type {\n",
              "        vertical-align: middle;\n",
              "    }\n",
              "\n",
              "    .dataframe tbody tr th {\n",
              "        vertical-align: top;\n",
              "    }\n",
              "\n",
              "    .dataframe thead th {\n",
              "        text-align: right;\n",
              "    }\n",
              "</style>\n",
              "<table border=\"1\" class=\"dataframe\">\n",
              "  <thead>\n",
              "    <tr style=\"text-align: right;\">\n",
              "      <th></th>\n",
              "      <th>Station</th>\n",
              "      <th>Date</th>\n",
              "      <th>Present_Tmax</th>\n",
              "      <th>Present_Tmin</th>\n",
              "      <th>LDAPS_RHmin</th>\n",
              "      <th>LDAPS_RHmax</th>\n",
              "      <th>LDAPS_Tmax_lapse</th>\n",
              "      <th>LDAPS_Tmin_lapse</th>\n",
              "      <th>LDAPS_WS</th>\n",
              "      <th>LDAPS_LH</th>\n",
              "      <th>LDAPS_CC1</th>\n",
              "      <th>LDAPS_CC2</th>\n",
              "      <th>LDAPS_CC3</th>\n",
              "      <th>LDAPS_CC4</th>\n",
              "      <th>LDAPS_PPT1</th>\n",
              "      <th>LDAPS_PPT2</th>\n",
              "      <th>LDAPS_PPT3</th>\n",
              "      <th>LDAPS_PPT4</th>\n",
              "      <th>lat</th>\n",
              "      <th>lon</th>\n",
              "      <th>DEM</th>\n",
              "      <th>Slope</th>\n",
              "      <th>Solar radiation</th>\n",
              "      <th>Next_Tmax</th>\n",
              "      <th>Next_Tmin</th>\n",
              "    </tr>\n",
              "  </thead>\n",
              "  <tbody>\n",
              "    <tr>\n",
              "      <th>count</th>\n",
              "      <td>7752.000000</td>\n",
              "      <td>7752.000000</td>\n",
              "      <td>7752.000000</td>\n",
              "      <td>7752.000000</td>\n",
              "      <td>7752.000000</td>\n",
              "      <td>7752.000000</td>\n",
              "      <td>7752.000000</td>\n",
              "      <td>7752.000000</td>\n",
              "      <td>7752.000000</td>\n",
              "      <td>7752.000000</td>\n",
              "      <td>7752.000000</td>\n",
              "      <td>7752.000000</td>\n",
              "      <td>7752.000000</td>\n",
              "      <td>7752.000000</td>\n",
              "      <td>7752.000000</td>\n",
              "      <td>7752.000000</td>\n",
              "      <td>7752.000000</td>\n",
              "      <td>7752.000000</td>\n",
              "      <td>7752.000000</td>\n",
              "      <td>7752.000000</td>\n",
              "      <td>7752.000000</td>\n",
              "      <td>7752.000000</td>\n",
              "      <td>7752.000000</td>\n",
              "      <td>7752.000000</td>\n",
              "      <td>7752.000000</td>\n",
              "    </tr>\n",
              "    <tr>\n",
              "      <th>mean</th>\n",
              "      <td>12.996646</td>\n",
              "      <td>735805.605134</td>\n",
              "      <td>29.499407</td>\n",
              "      <td>23.015338</td>\n",
              "      <td>56.210230</td>\n",
              "      <td>87.519785</td>\n",
              "      <td>29.326939</td>\n",
              "      <td>23.285106</td>\n",
              "      <td>7.029203</td>\n",
              "      <td>61.900288</td>\n",
              "      <td>0.365206</td>\n",
              "      <td>0.352635</td>\n",
              "      <td>0.315323</td>\n",
              "      <td>0.296297</td>\n",
              "      <td>0.586267</td>\n",
              "      <td>0.480310</td>\n",
              "      <td>0.275508</td>\n",
              "      <td>0.266801</td>\n",
              "      <td>37.544722</td>\n",
              "      <td>126.991397</td>\n",
              "      <td>61.867972</td>\n",
              "      <td>1.257048</td>\n",
              "      <td>5341.502804</td>\n",
              "      <td>30.169440</td>\n",
              "      <td>22.852348</td>\n",
              "    </tr>\n",
              "    <tr>\n",
              "      <th>std</th>\n",
              "      <td>7.213660</td>\n",
              "      <td>581.945869</td>\n",
              "      <td>4.083116</td>\n",
              "      <td>3.256071</td>\n",
              "      <td>15.618676</td>\n",
              "      <td>11.227876</td>\n",
              "      <td>4.123757</td>\n",
              "      <td>3.277967</td>\n",
              "      <td>2.281613</td>\n",
              "      <td>34.120103</td>\n",
              "      <td>0.263668</td>\n",
              "      <td>0.259164</td>\n",
              "      <td>0.251090</td>\n",
              "      <td>0.254803</td>\n",
              "      <td>1.937198</td>\n",
              "      <td>1.754900</td>\n",
              "      <td>1.156495</td>\n",
              "      <td>1.200654</td>\n",
              "      <td>0.050352</td>\n",
              "      <td>0.079435</td>\n",
              "      <td>54.279780</td>\n",
              "      <td>1.370444</td>\n",
              "      <td>429.158868</td>\n",
              "      <td>3.596114</td>\n",
              "      <td>2.827042</td>\n",
              "    </tr>\n",
              "    <tr>\n",
              "      <th>min</th>\n",
              "      <td>0.000000</td>\n",
              "      <td>719163.000000</td>\n",
              "      <td>0.000000</td>\n",
              "      <td>0.000000</td>\n",
              "      <td>0.000000</td>\n",
              "      <td>0.000000</td>\n",
              "      <td>0.000000</td>\n",
              "      <td>0.000000</td>\n",
              "      <td>0.000000</td>\n",
              "      <td>-13.603212</td>\n",
              "      <td>0.000000</td>\n",
              "      <td>0.000000</td>\n",
              "      <td>0.000000</td>\n",
              "      <td>0.000000</td>\n",
              "      <td>0.000000</td>\n",
              "      <td>0.000000</td>\n",
              "      <td>0.000000</td>\n",
              "      <td>0.000000</td>\n",
              "      <td>37.456200</td>\n",
              "      <td>126.826000</td>\n",
              "      <td>12.370000</td>\n",
              "      <td>0.098500</td>\n",
              "      <td>4329.520500</td>\n",
              "      <td>0.000000</td>\n",
              "      <td>0.000000</td>\n",
              "    </tr>\n",
              "    <tr>\n",
              "      <th>25%</th>\n",
              "      <td>7.000000</td>\n",
              "      <td>735429.000000</td>\n",
              "      <td>27.700000</td>\n",
              "      <td>21.600000</td>\n",
              "      <td>45.735368</td>\n",
              "      <td>84.038809</td>\n",
              "      <td>27.601014</td>\n",
              "      <td>22.032373</td>\n",
              "      <td>5.647741</td>\n",
              "      <td>36.776474</td>\n",
              "      <td>0.141643</td>\n",
              "      <td>0.136090</td>\n",
              "      <td>0.097389</td>\n",
              "      <td>0.077967</td>\n",
              "      <td>0.000000</td>\n",
              "      <td>0.000000</td>\n",
              "      <td>0.000000</td>\n",
              "      <td>0.000000</td>\n",
              "      <td>37.510200</td>\n",
              "      <td>126.937000</td>\n",
              "      <td>28.700000</td>\n",
              "      <td>0.271300</td>\n",
              "      <td>4999.018600</td>\n",
              "      <td>28.200000</td>\n",
              "      <td>21.300000</td>\n",
              "    </tr>\n",
              "    <tr>\n",
              "      <th>50%</th>\n",
              "      <td>13.000000</td>\n",
              "      <td>735809.000000</td>\n",
              "      <td>29.900000</td>\n",
              "      <td>23.400000</td>\n",
              "      <td>54.828714</td>\n",
              "      <td>89.699505</td>\n",
              "      <td>29.662273</td>\n",
              "      <td>23.735942</td>\n",
              "      <td>6.531345</td>\n",
              "      <td>56.487289</td>\n",
              "      <td>0.312156</td>\n",
              "      <td>0.309148</td>\n",
              "      <td>0.258831</td>\n",
              "      <td>0.224420</td>\n",
              "      <td>0.000000</td>\n",
              "      <td>0.000000</td>\n",
              "      <td>0.000000</td>\n",
              "      <td>0.000000</td>\n",
              "      <td>37.550700</td>\n",
              "      <td>126.995000</td>\n",
              "      <td>45.716000</td>\n",
              "      <td>0.618000</td>\n",
              "      <td>5436.345200</td>\n",
              "      <td>30.500000</td>\n",
              "      <td>23.100000</td>\n",
              "    </tr>\n",
              "    <tr>\n",
              "      <th>75%</th>\n",
              "      <td>19.000000</td>\n",
              "      <td>736191.000000</td>\n",
              "      <td>32.000000</td>\n",
              "      <td>24.900000</td>\n",
              "      <td>67.038254</td>\n",
              "      <td>93.704500</td>\n",
              "      <td>31.683819</td>\n",
              "      <td>25.134001</td>\n",
              "      <td>8.007471</td>\n",
              "      <td>83.904586</td>\n",
              "      <td>0.571696</td>\n",
              "      <td>0.554963</td>\n",
              "      <td>0.494007</td>\n",
              "      <td>0.497230</td>\n",
              "      <td>0.049122</td>\n",
              "      <td>0.016748</td>\n",
              "      <td>0.007231</td>\n",
              "      <td>0.000000</td>\n",
              "      <td>37.577600</td>\n",
              "      <td>127.042000</td>\n",
              "      <td>59.832400</td>\n",
              "      <td>1.767800</td>\n",
              "      <td>5728.316400</td>\n",
              "      <td>32.600000</td>\n",
              "      <td>24.600000</td>\n",
              "    </tr>\n",
              "    <tr>\n",
              "      <th>max</th>\n",
              "      <td>25.000000</td>\n",
              "      <td>736571.000000</td>\n",
              "      <td>37.600000</td>\n",
              "      <td>29.900000</td>\n",
              "      <td>98.524735</td>\n",
              "      <td>100.000153</td>\n",
              "      <td>38.542255</td>\n",
              "      <td>29.619342</td>\n",
              "      <td>21.857621</td>\n",
              "      <td>213.414006</td>\n",
              "      <td>0.967277</td>\n",
              "      <td>0.968353</td>\n",
              "      <td>0.983789</td>\n",
              "      <td>0.974709</td>\n",
              "      <td>23.701544</td>\n",
              "      <td>21.621661</td>\n",
              "      <td>15.841235</td>\n",
              "      <td>16.655469</td>\n",
              "      <td>37.645000</td>\n",
              "      <td>127.135000</td>\n",
              "      <td>212.335000</td>\n",
              "      <td>5.178200</td>\n",
              "      <td>5992.896000</td>\n",
              "      <td>38.900000</td>\n",
              "      <td>29.800000</td>\n",
              "    </tr>\n",
              "  </tbody>\n",
              "</table>\n",
              "</div>"
            ],
            "text/plain": [
              "           Station           Date  ...    Next_Tmax    Next_Tmin\n",
              "count  7752.000000    7752.000000  ...  7752.000000  7752.000000\n",
              "mean     12.996646  735805.605134  ...    30.169440    22.852348\n",
              "std       7.213660     581.945869  ...     3.596114     2.827042\n",
              "min       0.000000  719163.000000  ...     0.000000     0.000000\n",
              "25%       7.000000  735429.000000  ...    28.200000    21.300000\n",
              "50%      13.000000  735809.000000  ...    30.500000    23.100000\n",
              "75%      19.000000  736191.000000  ...    32.600000    24.600000\n",
              "max      25.000000  736571.000000  ...    38.900000    29.800000\n",
              "\n",
              "[8 rows x 25 columns]"
            ]
          },
          "metadata": {
            "tags": []
          },
          "execution_count": 24
        }
      ]
    },
    {
      "cell_type": "code",
      "metadata": {
        "id": "uQSuSjS9FZ3z",
        "colab": {
          "base_uri": "https://localhost:8080/",
          "height": 723
        },
        "outputId": "391b71d1-3728-4e11-f234-70748d5f4ff1"
      },
      "source": [
        "data.hist(bins=30)"
      ],
      "execution_count": null,
      "outputs": [
        {
          "output_type": "execute_result",
          "data": {
            "text/plain": [
              "array([[<matplotlib.axes._subplots.AxesSubplot object at 0x7fd7dcc2ff28>,\n",
              "        <matplotlib.axes._subplots.AxesSubplot object at 0x7fd7dcaad198>,\n",
              "        <matplotlib.axes._subplots.AxesSubplot object at 0x7fd7dcace4e0>,\n",
              "        <matplotlib.axes._subplots.AxesSubplot object at 0x7fd7dca7b860>,\n",
              "        <matplotlib.axes._subplots.AxesSubplot object at 0x7fd7dcaa9be0>],\n",
              "       [<matplotlib.axes._subplots.AxesSubplot object at 0x7fd7dca59f60>,\n",
              "        <matplotlib.axes._subplots.AxesSubplot object at 0x7fd7dca12320>,\n",
              "        <matplotlib.axes._subplots.AxesSubplot object at 0x7fd7dc9c1668>,\n",
              "        <matplotlib.axes._subplots.AxesSubplot object at 0x7fd7dc9c16d8>,\n",
              "        <matplotlib.axes._subplots.AxesSubplot object at 0x7fd7dc9a0da0>],\n",
              "       [<matplotlib.axes._subplots.AxesSubplot object at 0x7fd7dc95a160>,\n",
              "        <matplotlib.axes._subplots.AxesSubplot object at 0x7fd7dc90c4e0>,\n",
              "        <matplotlib.axes._subplots.AxesSubplot object at 0x7fd7dc8be860>,\n",
              "        <matplotlib.axes._subplots.AxesSubplot object at 0x7fd7dc871be0>,\n",
              "        <matplotlib.axes._subplots.AxesSubplot object at 0x7fd7dc8a4f60>],\n",
              "       [<matplotlib.axes._subplots.AxesSubplot object at 0x7fd7dc863320>,\n",
              "        <matplotlib.axes._subplots.AxesSubplot object at 0x7fd7dc8166a0>,\n",
              "        <matplotlib.axes._subplots.AxesSubplot object at 0x7fd7dc7c7a20>,\n",
              "        <matplotlib.axes._subplots.AxesSubplot object at 0x7fd7dc778da0>,\n",
              "        <matplotlib.axes._subplots.AxesSubplot object at 0x7fd7dc737160>],\n",
              "       [<matplotlib.axes._subplots.AxesSubplot object at 0x7fd7dc6eb4e0>,\n",
              "        <matplotlib.axes._subplots.AxesSubplot object at 0x7fd7dc71c860>,\n",
              "        <matplotlib.axes._subplots.AxesSubplot object at 0x7fd7dc6cfbe0>,\n",
              "        <matplotlib.axes._subplots.AxesSubplot object at 0x7fd7dc680f60>,\n",
              "        <matplotlib.axes._subplots.AxesSubplot object at 0x7fd7dc63f320>]],\n",
              "      dtype=object)"
            ]
          },
          "metadata": {
            "tags": []
          },
          "execution_count": 25
        },
        {
          "output_type": "display_data",
          "data": {
            "image/png": "[encoded data removed]",
            "text/plain": [
              "<Figure size 432x288 with 25 Axes>"
            ]
          },
          "metadata": {
            "tags": [],
            "needs_background": "light"
          }
        }
      ]
    },
    {
      "cell_type": "code",
      "metadata": {
        "id": "ii8Z2QsGFbnx",
        "colab": {
          "base_uri": "https://localhost:8080/",
          "height": 281
        },
        "outputId": "80b7195f-f079-4717-a166-2127a88cf2bb"
      },
      "source": [
        "data.plot(kind='density', subplots=True, sharex=False, legend=True, fontsize=10)\n",
        "plt.show()"
      ],
      "execution_count": null,
      "outputs": [
        {
          "output_type": "display_data",
          "data": {
            "image/png": "[encoded data removed]",
            "text/plain": [
              "<Figure size 432x288 with 25 Axes>"
            ]
          },
          "metadata": {
            "tags": [],
            "needs_background": "light"
          }
        }
      ]
    },
    {
      "cell_type": "code",
      "metadata": {
        "id": "ifk91Dr-Fbln",
        "colab": {
          "base_uri": "https://localhost:8080/",
          "height": 281
        },
        "outputId": "5c878d66-5bfb-4431-d1be-8e22607d3737"
      },
      "source": [
        "from matplotlib import cm as cm\n",
        "\n",
        "fig = plt.figure()\n",
        "ax1 = fig.add_subplot(111)\n",
        "cmap = cm.get_cmap('jet', 30)\n",
        "cax = ax1.imshow(data.corr(), interpolation=\"none\", cmap=cmap)\n",
        "ax1.grid(True)\n",
        "plt.title('Loan Status Attributes')\n",
        "\n",
        "fig.colorbar(cax, ticks=[0.00,0.05,0.1,0.15,0.20,0.25,0.3,0.35,0.40,0.45,0.50,0.55,0.60,0.65,0.70,0.75,.80,.85,.90,.95,1])\n",
        "plt.show()"
      ],
      "execution_count": null,
      "outputs": [
        {
          "output_type": "display_data",
          "data": {
            "image/png": "[encoded data removed]",
            "text/plain": [
              "<Figure size 432x288 with 2 Axes>"
            ]
          },
          "metadata": {
            "tags": [],
            "needs_background": "light"
          }
        }
      ]
    },
    {
      "cell_type": "code",
      "metadata": {
        "id": "GRsq3q9Ie4w6",
        "colab": {
          "base_uri": "https://localhost:8080/",
          "height": 34
        },
        "outputId": "a75ec205-7863-4c6e-e67a-c3865fa4b321"
      },
      "source": [
        "Y = data[['Next_Tmax', 'Next_Tmin']]\n",
        "X = data.drop(['Next_Tmax', 'Next_Tmin'], axis=1)\n",
        "X = preprocessing.StandardScaler().fit(X).transform(X)\n",
        "print(\"X.shape:\", X.shape, \"Y.shape:\", Y.shape)"
      ],
      "execution_count": null,
      "outputs": [
        {
          "output_type": "stream",
          "text": [
            "X.shape: (7752, 23) Y.shape: (7752, 2)\n"
          ],
          "name": "stdout"
        }
      ]
    },
    {
      "cell_type": "code",
      "metadata": {
        "id": "rvkRsUA2Fbdc"
      },
      "source": [
        "X_train, X_test, Y_train, Y_test = train_test_split (X, Y, test_size = 0.20, random_state=21)"
      ],
      "execution_count": null,
      "outputs": []
    },
    {
      "cell_type": "code",
      "metadata": {
        "id": "gq0A-2imfTV9",
        "colab": {
          "base_uri": "https://localhost:8080/",
          "height": 34
        },
        "outputId": "82fa24d5-35b4-4b2c-e99c-7d5b769a5aa9"
      },
      "source": [
        "print(\"X_train.shape:\", X_train.shape, \"X_test.shape:\", X_test.shape, \"Y_train.shape:\", Y_train.shape, \"Y_test.shape:\", Y_test.shape)"
      ],
      "execution_count": null,
      "outputs": [
        {
          "output_type": "stream",
          "text": [
            "X_train.shape: (6201, 23) X_test.shape: (1551, 23) Y_train.shape: (6201, 2) Y_test.shape: (1551, 2)\n"
          ],
          "name": "stdout"
        }
      ]
    },
    {
      "cell_type": "code",
      "metadata": {
        "id": "ttT9IKUgWbTZ"
      },
      "source": [
        "MODEL = []"
      ],
      "execution_count": null,
      "outputs": []
    },
    {
      "cell_type": "code",
      "metadata": {
        "id": "E-HplTmYfTec",
        "colab": {
          "base_uri": "https://localhost:8080/",
          "height": 343
        },
        "outputId": "3b7acbe6-e733-46fe-db9b-87c37a1189e0"
      },
      "source": [
        "models_list = []\n",
        "models_list.append(('CART', DecisionTreeClassifier()))\n",
        "models_list.append(('RF', RandomForestClassifier()))\n",
        "models_list.append(('SVM', SVC())) \n",
        "models_list.append(('NB', GaussianNB()))\n",
        "models_list.append(('KNN', KNeighborsClassifier()))\n",
        "print(models_list)"
      ],
      "execution_count": null,
      "outputs": [
        {
          "output_type": "stream",
          "text": [
            "[('CART', DecisionTreeClassifier(ccp_alpha=0.0, class_weight=None, criterion='gini',\n",
            "                       max_depth=None, max_features=None, max_leaf_nodes=None,\n",
            "                       min_impurity_decrease=0.0, min_impurity_split=None,\n",
            "                       min_samples_leaf=1, min_samples_split=2,\n",
            "                       min_weight_fraction_leaf=0.0, presort='deprecated',\n",
            "                       random_state=None, splitter='best')), ('RF', RandomForestClassifier(bootstrap=True, ccp_alpha=0.0, class_weight=None,\n",
            "                       criterion='gini', max_depth=None, max_features='auto',\n",
            "                       max_leaf_nodes=None, max_samples=None,\n",
            "                       min_impurity_decrease=0.0, min_impurity_split=None,\n",
            "                       min_samples_leaf=1, min_samples_split=2,\n",
            "                       min_weight_fraction_leaf=0.0, n_estimators=100,\n",
            "                       n_jobs=None, oob_score=False, random_state=None,\n",
            "                       verbose=0, warm_start=False)), ('SVM', SVC(C=1.0, break_ties=False, cache_size=200, class_weight=None, coef0=0.0,\n",
            "    decision_function_shape='ovr', degree=3, gamma='scale', kernel='rbf',\n",
            "    max_iter=-1, probability=False, random_state=None, shrinking=True,\n",
            "    tol=0.001, verbose=False)), ('NB', GaussianNB(priors=None, var_smoothing=1e-09)), ('KNN', KNeighborsClassifier(algorithm='auto', leaf_size=30, metric='minkowski',\n",
            "                     metric_params=None, n_jobs=None, n_neighbors=5, p=2,\n",
            "                     weights='uniform'))]\n"
          ],
          "name": "stdout"
        }
      ]
    },
    {
      "cell_type": "code",
      "metadata": {
        "id": "J3mJIlTjfTuN",
        "colab": {
          "base_uri": "https://localhost:8080/",
          "height": 1000
        },
        "outputId": "65ff1fdb-fdc9-46e5-de20-dff3a749bfe1"
      },
      "source": [
        "num_folds = 10\n",
        "results = []\n",
        "names = []\n",
        "\n",
        "for name, model in models_list:\n",
        "    kfold = KFold(n_splits=num_folds, random_state=123)\n",
        "    start = time.time()\n",
        "    cv_results = cross_val_score(model, X_train, Y_train, cv=kfold, scoring='accuracy')\n",
        "    end = time.time()\n",
        "    results.append(cv_results)\n",
        "    names.append(name)\n",
        "    print( \"%s: %f (%f) (run time: %f)\" % (name, cv_results.mean(), cv_results.std(), end-start))"
      ],
      "execution_count": null,
      "outputs": [
        {
          "output_type": "stream",
          "text": [
            "/usr/local/lib/python3.6/dist-packages/sklearn/model_selection/_split.py:296: FutureWarning: Setting a random_state has no effect since shuffle is False. This will raise an error in 0.24. You should leave random_state to its default (None), or set shuffle=True.\n",
            "  FutureWarning\n",
            "/usr/local/lib/python3.6/dist-packages/sklearn/model_selection/_validation.py:536: FitFailedWarning: Estimator fit failed. The score on this train-test partition for these parameters will be set to nan. Details: \n",
            "ValueError: Unknown label type: 'continuous-multioutput'\n",
            "\n",
            "  FitFailedWarning)\n",
            "/usr/local/lib/python3.6/dist-packages/sklearn/model_selection/_validation.py:536: FitFailedWarning: Estimator fit failed. The score on this train-test partition for these parameters will be set to nan. Details: \n",
            "ValueError: Unknown label type: 'continuous-multioutput'\n",
            "\n",
            "  FitFailedWarning)\n",
            "/usr/local/lib/python3.6/dist-packages/sklearn/model_selection/_validation.py:536: FitFailedWarning: Estimator fit failed. The score on this train-test partition for these parameters will be set to nan. Details: \n",
            "ValueError: Unknown label type: 'continuous-multioutput'\n",
            "\n",
            "  FitFailedWarning)\n",
            "/usr/local/lib/python3.6/dist-packages/sklearn/model_selection/_validation.py:536: FitFailedWarning: Estimator fit failed. The score on this train-test partition for these parameters will be set to nan. Details: \n",
            "ValueError: Unknown label type: 'continuous-multioutput'\n",
            "\n",
            "  FitFailedWarning)\n",
            "/usr/local/lib/python3.6/dist-packages/sklearn/model_selection/_validation.py:536: FitFailedWarning: Estimator fit failed. The score on this train-test partition for these parameters will be set to nan. Details: \n",
            "ValueError: Unknown label type: 'continuous-multioutput'\n",
            "\n",
            "  FitFailedWarning)\n",
            "/usr/local/lib/python3.6/dist-packages/sklearn/model_selection/_validation.py:536: FitFailedWarning: Estimator fit failed. The score on this train-test partition for these parameters will be set to nan. Details: \n",
            "ValueError: Unknown label type: 'continuous-multioutput'\n",
            "\n",
            "  FitFailedWarning)\n",
            "/usr/local/lib/python3.6/dist-packages/sklearn/model_selection/_validation.py:536: FitFailedWarning: Estimator fit failed. The score on this train-test partition for these parameters will be set to nan. Details: \n",
            "ValueError: Unknown label type: 'continuous-multioutput'\n",
            "\n",
            "  FitFailedWarning)\n",
            "/usr/local/lib/python3.6/dist-packages/sklearn/model_selection/_validation.py:536: FitFailedWarning: Estimator fit failed. The score on this train-test partition for these parameters will be set to nan. Details: \n",
            "ValueError: Unknown label type: 'continuous-multioutput'\n",
            "\n",
            "  FitFailedWarning)\n",
            "/usr/local/lib/python3.6/dist-packages/sklearn/model_selection/_validation.py:536: FitFailedWarning: Estimator fit failed. The score on this train-test partition for these parameters will be set to nan. Details: \n",
            "ValueError: Unknown label type: 'continuous-multioutput'\n",
            "\n",
            "  FitFailedWarning)\n",
            "/usr/local/lib/python3.6/dist-packages/sklearn/model_selection/_validation.py:536: FitFailedWarning: Estimator fit failed. The score on this train-test partition for these parameters will be set to nan. Details: \n",
            "ValueError: Unknown label type: 'continuous-multioutput'\n",
            "\n",
            "  FitFailedWarning)\n",
            "/usr/local/lib/python3.6/dist-packages/sklearn/model_selection/_split.py:296: FutureWarning: Setting a random_state has no effect since shuffle is False. This will raise an error in 0.24. You should leave random_state to its default (None), or set shuffle=True.\n",
            "  FutureWarning\n",
            "/usr/local/lib/python3.6/dist-packages/sklearn/model_selection/_validation.py:536: FitFailedWarning: Estimator fit failed. The score on this train-test partition for these parameters will be set to nan. Details: \n",
            "ValueError: Unknown label type: 'continuous-multioutput'\n",
            "\n",
            "  FitFailedWarning)\n",
            "/usr/local/lib/python3.6/dist-packages/sklearn/model_selection/_validation.py:536: FitFailedWarning: Estimator fit failed. The score on this train-test partition for these parameters will be set to nan. Details: \n",
            "ValueError: Unknown label type: 'continuous-multioutput'\n",
            "\n",
            "  FitFailedWarning)\n",
            "/usr/local/lib/python3.6/dist-packages/sklearn/model_selection/_validation.py:536: FitFailedWarning: Estimator fit failed. The score on this train-test partition for these parameters will be set to nan. Details: \n",
            "ValueError: Unknown label type: 'continuous-multioutput'\n",
            "\n",
            "  FitFailedWarning)\n",
            "/usr/local/lib/python3.6/dist-packages/sklearn/model_selection/_validation.py:536: FitFailedWarning: Estimator fit failed. The score on this train-test partition for these parameters will be set to nan. Details: \n",
            "ValueError: Unknown label type: 'continuous-multioutput'\n",
            "\n",
            "  FitFailedWarning)\n",
            "/usr/local/lib/python3.6/dist-packages/sklearn/model_selection/_validation.py:536: FitFailedWarning: Estimator fit failed. The score on this train-test partition for these parameters will be set to nan. Details: \n",
            "ValueError: Unknown label type: 'continuous-multioutput'\n",
            "\n",
            "  FitFailedWarning)\n",
            "/usr/local/lib/python3.6/dist-packages/sklearn/model_selection/_validation.py:536: FitFailedWarning: Estimator fit failed. The score on this train-test partition for these parameters will be set to nan. Details: \n",
            "ValueError: Unknown label type: 'continuous-multioutput'\n",
            "\n",
            "  FitFailedWarning)\n",
            "/usr/local/lib/python3.6/dist-packages/sklearn/model_selection/_validation.py:536: FitFailedWarning: Estimator fit failed. The score on this train-test partition for these parameters will be set to nan. Details: \n",
            "ValueError: Unknown label type: 'continuous-multioutput'\n",
            "\n",
            "  FitFailedWarning)\n",
            "/usr/local/lib/python3.6/dist-packages/sklearn/model_selection/_validation.py:536: FitFailedWarning: Estimator fit failed. The score on this train-test partition for these parameters will be set to nan. Details: \n",
            "ValueError: Unknown label type: 'continuous-multioutput'\n",
            "\n",
            "  FitFailedWarning)\n",
            "/usr/local/lib/python3.6/dist-packages/sklearn/model_selection/_validation.py:536: FitFailedWarning: Estimator fit failed. The score on this train-test partition for these parameters will be set to nan. Details: \n",
            "ValueError: Unknown label type: 'continuous-multioutput'\n",
            "\n",
            "  FitFailedWarning)\n",
            "/usr/local/lib/python3.6/dist-packages/sklearn/model_selection/_validation.py:536: FitFailedWarning: Estimator fit failed. The score on this train-test partition for these parameters will be set to nan. Details: \n",
            "ValueError: Unknown label type: 'continuous-multioutput'\n",
            "\n",
            "  FitFailedWarning)\n",
            "/usr/local/lib/python3.6/dist-packages/sklearn/model_selection/_split.py:296: FutureWarning: Setting a random_state has no effect since shuffle is False. This will raise an error in 0.24. You should leave random_state to its default (None), or set shuffle=True.\n",
            "  FutureWarning\n",
            "/usr/local/lib/python3.6/dist-packages/sklearn/model_selection/_validation.py:536: FitFailedWarning: Estimator fit failed. The score on this train-test partition for these parameters will be set to nan. Details: \n",
            "ValueError: Unknown label type: 'continuous-multioutput'\n",
            "\n",
            "  FitFailedWarning)\n",
            "/usr/local/lib/python3.6/dist-packages/sklearn/model_selection/_validation.py:536: FitFailedWarning: Estimator fit failed. The score on this train-test partition for these parameters will be set to nan. Details: \n",
            "ValueError: Unknown label type: 'continuous-multioutput'\n",
            "\n",
            "  FitFailedWarning)\n",
            "/usr/local/lib/python3.6/dist-packages/sklearn/model_selection/_validation.py:536: FitFailedWarning: Estimator fit failed. The score on this train-test partition for these parameters will be set to nan. Details: \n",
            "ValueError: Unknown label type: 'continuous-multioutput'\n",
            "\n",
            "  FitFailedWarning)\n",
            "/usr/local/lib/python3.6/dist-packages/sklearn/model_selection/_validation.py:536: FitFailedWarning: Estimator fit failed. The score on this train-test partition for these parameters will be set to nan. Details: \n",
            "ValueError: Unknown label type: 'continuous-multioutput'\n",
            "\n",
            "  FitFailedWarning)\n",
            "/usr/local/lib/python3.6/dist-packages/sklearn/model_selection/_validation.py:536: FitFailedWarning: Estimator fit failed. The score on this train-test partition for these parameters will be set to nan. Details: \n",
            "ValueError: Unknown label type: 'continuous-multioutput'\n",
            "\n",
            "  FitFailedWarning)\n",
            "/usr/local/lib/python3.6/dist-packages/sklearn/model_selection/_validation.py:536: FitFailedWarning: Estimator fit failed. The score on this train-test partition for these parameters will be set to nan. Details: \n",
            "ValueError: Unknown label type: 'continuous-multioutput'\n",
            "\n",
            "  FitFailedWarning)\n",
            "/usr/local/lib/python3.6/dist-packages/sklearn/model_selection/_validation.py:536: FitFailedWarning: Estimator fit failed. The score on this train-test partition for these parameters will be set to nan. Details: \n",
            "ValueError: Unknown label type: 'continuous-multioutput'\n",
            "\n",
            "  FitFailedWarning)\n",
            "/usr/local/lib/python3.6/dist-packages/sklearn/model_selection/_validation.py:536: FitFailedWarning: Estimator fit failed. The score on this train-test partition for these parameters will be set to nan. Details: \n",
            "ValueError: Unknown label type: 'continuous-multioutput'\n",
            "\n",
            "  FitFailedWarning)\n",
            "/usr/local/lib/python3.6/dist-packages/sklearn/model_selection/_validation.py:536: FitFailedWarning: Estimator fit failed. The score on this train-test partition for these parameters will be set to nan. Details: \n",
            "ValueError: Unknown label type: 'continuous-multioutput'\n",
            "\n",
            "  FitFailedWarning)\n",
            "/usr/local/lib/python3.6/dist-packages/sklearn/model_selection/_validation.py:536: FitFailedWarning: Estimator fit failed. The score on this train-test partition for these parameters will be set to nan. Details: \n",
            "ValueError: Unknown label type: 'continuous-multioutput'\n",
            "\n",
            "  FitFailedWarning)\n",
            "/usr/local/lib/python3.6/dist-packages/sklearn/model_selection/_split.py:296: FutureWarning: Setting a random_state has no effect since shuffle is False. This will raise an error in 0.24. You should leave random_state to its default (None), or set shuffle=True.\n",
            "  FutureWarning\n",
            "/usr/local/lib/python3.6/dist-packages/sklearn/model_selection/_validation.py:536: FitFailedWarning: Estimator fit failed. The score on this train-test partition for these parameters will be set to nan. Details: \n",
            "ValueError: Unknown label type: 'continuous-multioutput'\n",
            "\n",
            "  FitFailedWarning)\n",
            "/usr/local/lib/python3.6/dist-packages/sklearn/model_selection/_validation.py:536: FitFailedWarning: Estimator fit failed. The score on this train-test partition for these parameters will be set to nan. Details: \n",
            "ValueError: Unknown label type: 'continuous-multioutput'\n",
            "\n",
            "  FitFailedWarning)\n",
            "/usr/local/lib/python3.6/dist-packages/sklearn/model_selection/_validation.py:536: FitFailedWarning: Estimator fit failed. The score on this train-test partition for these parameters will be set to nan. Details: \n",
            "ValueError: Unknown label type: 'continuous-multioutput'\n",
            "\n",
            "  FitFailedWarning)\n",
            "/usr/local/lib/python3.6/dist-packages/sklearn/model_selection/_validation.py:536: FitFailedWarning: Estimator fit failed. The score on this train-test partition for these parameters will be set to nan. Details: \n",
            "ValueError: Unknown label type: 'continuous-multioutput'\n",
            "\n",
            "  FitFailedWarning)\n",
            "/usr/local/lib/python3.6/dist-packages/sklearn/model_selection/_validation.py:536: FitFailedWarning: Estimator fit failed. The score on this train-test partition for these parameters will be set to nan. Details: \n",
            "ValueError: Unknown label type: 'continuous-multioutput'\n",
            "\n",
            "  FitFailedWarning)\n",
            "/usr/local/lib/python3.6/dist-packages/sklearn/model_selection/_validation.py:536: FitFailedWarning: Estimator fit failed. The score on this train-test partition for these parameters will be set to nan. Details: \n",
            "ValueError: Unknown label type: 'continuous-multioutput'\n",
            "\n",
            "  FitFailedWarning)\n",
            "/usr/local/lib/python3.6/dist-packages/sklearn/model_selection/_validation.py:536: FitFailedWarning: Estimator fit failed. The score on this train-test partition for these parameters will be set to nan. Details: \n",
            "ValueError: Unknown label type: 'continuous-multioutput'\n",
            "\n",
            "  FitFailedWarning)\n",
            "/usr/local/lib/python3.6/dist-packages/sklearn/model_selection/_validation.py:536: FitFailedWarning: Estimator fit failed. The score on this train-test partition for these parameters will be set to nan. Details: \n",
            "ValueError: Unknown label type: 'continuous-multioutput'\n",
            "\n",
            "  FitFailedWarning)\n",
            "/usr/local/lib/python3.6/dist-packages/sklearn/model_selection/_validation.py:536: FitFailedWarning: Estimator fit failed. The score on this train-test partition for these parameters will be set to nan. Details: \n",
            "ValueError: Unknown label type: 'continuous-multioutput'\n",
            "\n",
            "  FitFailedWarning)\n",
            "/usr/local/lib/python3.6/dist-packages/sklearn/model_selection/_validation.py:536: FitFailedWarning: Estimator fit failed. The score on this train-test partition for these parameters will be set to nan. Details: \n",
            "ValueError: Unknown label type: 'continuous-multioutput'\n",
            "\n",
            "  FitFailedWarning)\n",
            "/usr/local/lib/python3.6/dist-packages/sklearn/model_selection/_split.py:296: FutureWarning: Setting a random_state has no effect since shuffle is False. This will raise an error in 0.24. You should leave random_state to its default (None), or set shuffle=True.\n",
            "  FutureWarning\n"
          ],
          "name": "stderr"
        },
        {
          "output_type": "stream",
          "text": [
            "CART: nan (nan) (run time: 0.050508)\n",
            "RF: nan (nan) (run time: 0.045688)\n",
            "SVM: nan (nan) (run time: 0.044794)\n",
            "NB: nan (nan) (run time: 0.049680)\n",
            "KNN: nan (nan) (run time: 0.057317)\n"
          ],
          "name": "stdout"
        },
        {
          "output_type": "stream",
          "text": [
            "/usr/local/lib/python3.6/dist-packages/sklearn/model_selection/_validation.py:536: FitFailedWarning: Estimator fit failed. The score on this train-test partition for these parameters will be set to nan. Details: \n",
            "ValueError: Unknown label type: 'continuous-multioutput'\n",
            "\n",
            "  FitFailedWarning)\n",
            "/usr/local/lib/python3.6/dist-packages/sklearn/model_selection/_validation.py:536: FitFailedWarning: Estimator fit failed. The score on this train-test partition for these parameters will be set to nan. Details: \n",
            "ValueError: Unknown label type: 'continuous-multioutput'\n",
            "\n",
            "  FitFailedWarning)\n",
            "/usr/local/lib/python3.6/dist-packages/sklearn/model_selection/_validation.py:536: FitFailedWarning: Estimator fit failed. The score on this train-test partition for these parameters will be set to nan. Details: \n",
            "ValueError: Unknown label type: 'continuous-multioutput'\n",
            "\n",
            "  FitFailedWarning)\n",
            "/usr/local/lib/python3.6/dist-packages/sklearn/model_selection/_validation.py:536: FitFailedWarning: Estimator fit failed. The score on this train-test partition for these parameters will be set to nan. Details: \n",
            "ValueError: Unknown label type: 'continuous-multioutput'\n",
            "\n",
            "  FitFailedWarning)\n",
            "/usr/local/lib/python3.6/dist-packages/sklearn/model_selection/_validation.py:536: FitFailedWarning: Estimator fit failed. The score on this train-test partition for these parameters will be set to nan. Details: \n",
            "ValueError: Unknown label type: 'continuous-multioutput'\n",
            "\n",
            "  FitFailedWarning)\n",
            "/usr/local/lib/python3.6/dist-packages/sklearn/model_selection/_validation.py:536: FitFailedWarning: Estimator fit failed. The score on this train-test partition for these parameters will be set to nan. Details: \n",
            "ValueError: Unknown label type: 'continuous-multioutput'\n",
            "\n",
            "  FitFailedWarning)\n",
            "/usr/local/lib/python3.6/dist-packages/sklearn/model_selection/_validation.py:536: FitFailedWarning: Estimator fit failed. The score on this train-test partition for these parameters will be set to nan. Details: \n",
            "ValueError: Unknown label type: 'continuous-multioutput'\n",
            "\n",
            "  FitFailedWarning)\n",
            "/usr/local/lib/python3.6/dist-packages/sklearn/model_selection/_validation.py:536: FitFailedWarning: Estimator fit failed. The score on this train-test partition for these parameters will be set to nan. Details: \n",
            "ValueError: Unknown label type: 'continuous-multioutput'\n",
            "\n",
            "  FitFailedWarning)\n",
            "/usr/local/lib/python3.6/dist-packages/sklearn/model_selection/_validation.py:536: FitFailedWarning: Estimator fit failed. The score on this train-test partition for these parameters will be set to nan. Details: \n",
            "ValueError: Unknown label type: 'continuous-multioutput'\n",
            "\n",
            "  FitFailedWarning)\n",
            "/usr/local/lib/python3.6/dist-packages/sklearn/model_selection/_validation.py:536: FitFailedWarning: Estimator fit failed. The score on this train-test partition for these parameters will be set to nan. Details: \n",
            "ValueError: Unknown label type: 'continuous-multioutput'\n",
            "\n",
            "  FitFailedWarning)\n"
          ],
          "name": "stderr"
        }
      ]
    },
    {
      "cell_type": "code",
      "metadata": {
        "id": "yqT3gRbafUWs"
      },
      "source": [
        "fig = plt.figure()\n",
        "fig.suptitle('Performance Comparison')\n",
        "ax = fig.add_subplot()\n",
        "plt.boxplot(results)\n",
        "ax.set_xticklabels(names)\n",
        "plt.show()"
      ],
      "execution_count": null,
      "outputs": []
    },
    {
      "cell_type": "code",
      "metadata": {
        "id": "beCAxPO-fTqj"
      },
      "source": [
        "import warnings\n",
        "\n",
        "# Standardize the dataset\n",
        "pipelines = []\n",
        "\n",
        "pipelines.append(('ScaledCART', Pipeline([('Scaler', StandardScaler()),('CART',\n",
        "                                                                        DecisionTreeClassifier())])))\n",
        "pipelines.append(('ScaledRF', Pipeline([('Scaler', StandardScaler()),('RF',\n",
        "                                                                        RandomForestClassifier())])))\n",
        "pipelines.append(('ScaledSVM', Pipeline([('Scaler', StandardScaler()),('SVM', SVC( ))])))\n",
        "pipelines.append(('ScaledNB', Pipeline([('Scaler', StandardScaler()),('NB',\n",
        "                                                                      GaussianNB())])))\n",
        "pipelines.append(('ScaledKNN', Pipeline([('Scaler', StandardScaler()),('KNN',\n",
        "                                                                       KNeighborsClassifier())])))\n",
        "results = []\n",
        "names = []\n",
        "with warnings.catch_warnings():\n",
        "    warnings.simplefilter(\"ignore\")\n",
        "    kfold = KFold(n_splits=num_folds, random_state=123)\n",
        "    for name, model in pipelines:\n",
        "        start = time.time()\n",
        "        cv_results = cross_val_score(model, X_train, Y_train, cv=kfold, scoring='accuracy')\n",
        "        end = time.time()\n",
        "        results.append(cv_results)\n",
        "        names.append(name)\n",
        "        print( \"%s: %f (%f) (run time: %f)\" % (name, cv_results.mean(), cv_results.std(), end-start))"
      ],
      "execution_count": null,
      "outputs": []
    },
    {
      "cell_type": "code",
      "metadata": {
        "id": "wKn071ARfTnT"
      },
      "source": [
        "fig = plt.figure()\n",
        "fig.suptitle('Performance Comparison')\n",
        "ax = fig.add_subplot(111)\n",
        "plt.boxplot(results)\n",
        "ax.set_xticklabels(names)\n",
        "plt.show()"
      ],
      "execution_count": null,
      "outputs": []
    },
    {
      "cell_type": "markdown",
      "metadata": {
        "id": "W-N-I-ZIleqA"
      },
      "source": [
        "#SVM"
      ]
    },
    {
      "cell_type": "code",
      "metadata": {
        "id": "wbxPuB_pfTkN"
      },
      "source": [
        "scaler = StandardScaler().fit(X_train)\n",
        "rescaledX = scaler.transform(X_train)\n",
        "c_values = [0.1, 0.3, 0.5, 0.7, 0.9, 1.0, 1.3, 1.5, 1.7, 2.0]\n",
        "kernel_values = ['linear', 'poly', 'rbf', 'sigmoid']\n",
        "param_grid = dict(C=c_values, kernel=kernel_values)\n",
        "model = SVC()\n",
        "kfold = KFold(n_splits=num_folds, random_state=21)\n",
        "grid = GridSearchCV(estimator=model, param_grid=param_grid, scoring='accuracy', cv=kfold)\n",
        "grid_result = grid.fit(rescaledX, Y_train)\n",
        "print(\"Best: %f using %s\" % (grid_result.best_score_, grid_result.best_params_))\n",
        "means = grid_result.cv_results_['mean_test_score']\n",
        "stds = grid_result.cv_results_['std_test_score']\n",
        "params = grid_result.cv_results_['params']\n",
        "for mean, stdev, param in zip(means, stds, params):\n",
        "    print(\"%f (%f) with: %r\" % (mean, stdev, param))"
      ],
      "execution_count": null,
      "outputs": []
    },
    {
      "cell_type": "code",
      "metadata": {
        "id": "RWrty6etfTiS"
      },
      "source": [
        "# prepare the model\n",
        "with warnings.catch_warnings():\n",
        "    warnings.simplefilter(\"ignore\")\n",
        "    scaler = StandardScaler().fit(X_train)\n",
        "X_train_scaled = scaler.transform(X_train)\n",
        "model = SVC(C=0.1, kernel='linear')\n",
        "start = time.time()\n",
        "model.fit(X_train_scaled, Y_train)\n",
        "end = time.time()\n",
        "print( \"Run Time: %f\" % (end-start))"
      ],
      "execution_count": null,
      "outputs": []
    },
    {
      "cell_type": "code",
      "metadata": {
        "id": "n1Nwvj85fTcv"
      },
      "source": [
        "# estimate accuracy on test dataset\n",
        "with warnings.catch_warnings():\n",
        "    warnings.simplefilter(\"ignore\")\n",
        "    X_test_scaled = scaler.transform(X_test)\n",
        "predictions = model.predict(X_test_scaled)"
      ],
      "execution_count": null,
      "outputs": []
    },
    {
      "cell_type": "code",
      "metadata": {
        "id": "lc-KjSQKlnW_"
      },
      "source": [
        "print(\"Accuracy score %f\" % accuracy_score(Y_test, predictions))\n",
        "print(classification_report(Y_test, predictions))"
      ],
      "execution_count": null,
      "outputs": []
    },
    {
      "cell_type": "code",
      "metadata": {
        "id": "TXDD1MySlnhD"
      },
      "source": [
        "print(confusion_matrix(Y_test, predictions))"
      ],
      "execution_count": null,
      "outputs": []
    },
    {
      "cell_type": "code",
      "metadata": {
        "id": "7e8qPDXagHrg"
      },
      "source": [
        "model.fit(X_test, Y_test)\n",
        "print(\"Accuracy score %f\" % accuracy_score(Y_test, model.predict(X_test)))\n",
        "\n",
        "MODEL.append(model)"
      ],
      "execution_count": null,
      "outputs": []
    },
    {
      "cell_type": "markdown",
      "metadata": {
        "id": "z3SQk9o1U67X"
      },
      "source": [
        "#KNN"
      ]
    },
    {
      "cell_type": "code",
      "metadata": {
        "id": "Y_oa4iMBU1ZY"
      },
      "source": [
        "from sklearn.neighbors import KNeighborsClassifier\n",
        "from sklearn import metrics"
      ],
      "execution_count": null,
      "outputs": []
    },
    {
      "cell_type": "code",
      "metadata": {
        "id": "xV2oDK_Wlnkr"
      },
      "source": [
        "k=3\n",
        "neigh = KNeighborsClassifier(n_neighbors=k).fit(X_train, Y_train)\n",
        "Y_pred = neigh.predict(X_test)\n",
        "print(\"Train Accuracy: \", metrics.accuracy_score(Y_train, neigh.predict(X_train), normalize=True))\n",
        "print(\"Test Accuracy: \", metrics.accuracy_score(Y_test, Y_pred, normalize=True))"
      ],
      "execution_count": null,
      "outputs": []
    },
    {
      "cell_type": "code",
      "metadata": {
        "id": "fxzDbreilnfa"
      },
      "source": [
        "k=10\n",
        "MeanAccuracy = np.zeros(k-1)\n",
        "StandardAccuracy = np.zeros(k-1)\n",
        "\n",
        "for i in range(1,k):\n",
        "    neigh = KNeighborsClassifier(n_neighbors=i).fit(X_train, Y_train)\n",
        "    Y_pred = neigh.predict(X_test)\n",
        "    MeanAccuracy[i-1] = metrics.accuracy_score(Y_test, Y_pred)\n",
        "    StandardAccuracy[i-1] = np.std(Y_pred==Y_test)/np.sqrt(Y_pred.shape[0])\n",
        "\n",
        "MeanAccuracy"
      ],
      "execution_count": null,
      "outputs": []
    },
    {
      "cell_type": "code",
      "metadata": {
        "id": "r2yVK_a0lndn"
      },
      "source": [
        "print(\"Best MEAN Accuracy of \", MeanAccuracy.max(),\" obtained at k=\", MeanAccuracy.argmax()+1)\n",
        "print(\"Best STANDARD Accuracy of \", StandardAccuracy.max(),\" obtained at k=\", StandardAccuracy.argmax()+1)"
      ],
      "execution_count": null,
      "outputs": []
    },
    {
      "cell_type": "code",
      "metadata": {
        "id": "U47nrF41VPmx"
      },
      "source": [
        "plt.plot(range(1,k), MeanAccuracy,'g')\n",
        "plt.fill_between(range(1,k), MeanAccuracy - 1 * StandardAccuracy, MeanAccuracy + 1 * StandardAccuracy, alpha=0.10)\n",
        "plt.legend(('Accuracy ', '+/- 3xstd'))\n",
        "plt.ylabel('Accuracy ')\n",
        "plt.xlabel('Number of Neigbors (K)')\n",
        "plt.tight_layout()\n",
        "plt.show()"
      ],
      "execution_count": null,
      "outputs": []
    },
    {
      "cell_type": "code",
      "metadata": {
        "id": "7CJjX2YsVPk6"
      },
      "source": [
        "from sklearn.metrics import confusion_matrix\n",
        "cm = confusion_matrix(Y_test, Y_pred)\n",
        "cm"
      ],
      "execution_count": null,
      "outputs": []
    },
    {
      "cell_type": "code",
      "metadata": {
        "id": "EzlJomDXVPhd"
      },
      "source": [
        "neigh = KNeighborsClassifier(n_neighbors=MeanAccuracy.argmax()+1).fit(X_test, Y_test)\n",
        "print(\"Accuracy Score :: %f\" % accuracy_score(Y_test, neigh.predict(X_test)))\n",
        "\n",
        "MODEL.append(neigh)"
      ],
      "execution_count": null,
      "outputs": []
    },
    {
      "cell_type": "markdown",
      "metadata": {
        "id": "5anQFspzVciq"
      },
      "source": [
        "#DECISION TREE"
      ]
    },
    {
      "cell_type": "code",
      "metadata": {
        "id": "o_NSD9AqlnU_"
      },
      "source": [
        "from sklearn.tree import DecisionTreeClassifier"
      ],
      "execution_count": null,
      "outputs": []
    },
    {
      "cell_type": "code",
      "metadata": {
        "id": "mmeEnprUVm6U"
      },
      "source": [
        "max_depth=10\n",
        "MeanAccuracy = np.zeros(max_depth-1)\n",
        "StandardAccuracy = np.zeros(max_depth-1)\n",
        "\n",
        "for i in range(1, max_depth):\n",
        "  drugTree = DecisionTreeClassifier(criterion=\"gini\", max_depth = i, splitter='best')\n",
        "  drugTree.fit(X_train, Y_train)\n",
        "  predTree = drugTree.predict(X_test)\n",
        "  MeanAccuracy[i-1] = metrics.accuracy_score(Y_test, predTree)\n",
        "  StandardAccuracy[i-1] = np.std(predTree==Y_test)/np.sqrt(predTree.shape[0])\n",
        "  print(\"DecisionTree's Accuracy: \", metrics.accuracy_score(Y_test, predTree))"
      ],
      "execution_count": null,
      "outputs": []
    },
    {
      "cell_type": "code",
      "metadata": {
        "id": "bPFv3Zv_djxO"
      },
      "source": [
        "print(\"Best MEAN Accuracy of \", MeanAccuracy.max(),\" obtained at i=\", MeanAccuracy.argmax()+1)\n",
        "print(\"Best STANDARD Accuracy of \", StandardAccuracy.max(),\" obtained at i=\", StandardAccuracy.argmax()+1)"
      ],
      "execution_count": null,
      "outputs": []
    },
    {
      "cell_type": "code",
      "metadata": {
        "id": "Yjy_M5xFiFu7"
      },
      "source": [
        "drugTree = DecisionTreeClassifier(criterion=\"gini\", max_depth = MeanAccuracy.argmax()+1, splitter='best')\n",
        "drugTree.fit(X_train, Y_train)\n",
        "print(\"Accuracy Score :: %f\" % accuracy_score(Y_test, drugTree.predict(X_test)))\n",
        "\n",
        "MODEL.append(drugTree)"
      ],
      "execution_count": null,
      "outputs": []
    },
    {
      "cell_type": "code",
      "metadata": {
        "id": "vVwvS65EVnKS"
      },
      "source": [
        "from sklearn.metrics import confusion_matrix\n",
        "cm = confusion_matrix(Y_test, Y_pred)\n",
        "cm"
      ],
      "execution_count": null,
      "outputs": []
    },
    {
      "cell_type": "markdown",
      "metadata": {
        "id": "ri9yLSYJjnUR"
      },
      "source": [
        "#LOGISTIC REGRESSION"
      ]
    },
    {
      "cell_type": "code",
      "metadata": {
        "id": "R-aMoSk_Vm_3"
      },
      "source": [
        "from sklearn.model_selection import train_test_split\n",
        "X_train, X_test, Y_train, Y_test = train_test_split( X, Y, test_size=0.2, random_state=4)\n",
        "print ('Train set:', X_train.shape,  Y_train.shape)\n",
        "print ('Test set:', X_test.shape,  Y_test.shape)"
      ],
      "execution_count": null,
      "outputs": []
    },
    {
      "cell_type": "code",
      "metadata": {
        "id": "2jXDsdezWNV_"
      },
      "source": [
        "from sklearn.linear_model import LogisticRegression\n",
        "from sklearn.metrics import confusion_matrix\n",
        "LR = LogisticRegression(C=0.01, solver='liblinear').fit(X_train,Y_train)\n",
        "LR"
      ],
      "execution_count": null,
      "outputs": []
    },
    {
      "cell_type": "code",
      "metadata": {
        "id": "JrWkfgTiWNea"
      },
      "source": [
        "Y_pred = LR.predict(X_test)\n",
        "Y_pred_prob = LR.predict_proba(X_test)"
      ],
      "execution_count": null,
      "outputs": []
    },
    {
      "cell_type": "code",
      "metadata": {
        "id": "-foXm_xVWNS6"
      },
      "source": [
        "from sklearn.metrics import jaccard_similarity_score\n",
        "from sklearn import metrics\n",
        "\n",
        "print(\"Jaccard Similarity: \", jaccard_similarity_score(Y_test, Y_pred))\n",
        "print(\"Mean Accuracy: \", metrics.accuracy_score(Y_test, Y_pred))"
      ],
      "execution_count": null,
      "outputs": []
    },
    {
      "cell_type": "code",
      "metadata": {
        "id": "3WI6x-_jeVlq"
      },
      "source": [
        "LR.fit(X_train, Y_train)\n",
        "print(\"Accuracy Score :: %f\" % accuracy_score(Y_test, LR.predict(X_test)))\n",
        "\n",
        "MODEL.append(drugTree)"
      ],
      "execution_count": null,
      "outputs": []
    },
    {
      "cell_type": "code",
      "metadata": {
        "id": "oqmBBCV9jt9i"
      },
      "source": [
        "MODEL"
      ],
      "execution_count": null,
      "outputs": []
    },
    {
      "cell_type": "code",
      "metadata": {
        "id": "Z1GuX0OGjuzq"
      },
      "source": [
        "for i in MODEL:\n",
        "  print(\"ACCURACY::\", accuracy_score(Y_test, i.predict(X_test)))"
      ],
      "execution_count": null,
      "outputs": []
    },
    {
      "cell_type": "markdown",
      "metadata": {
        "id": "PTrEUz77Zyeh"
      },
      "source": [
        "#FEATURE SELECTION"
      ]
    },
    {
      "cell_type": "code",
      "metadata": {
        "id": "KFEm6tLTuPLu"
      },
      "source": [
        "#TAKE A PAUSE "
      ],
      "execution_count": null,
      "outputs": []
    },
    {
      "cell_type": "code",
      "metadata": {
        "id": "PM9pxlddirhI"
      },
      "source": [
        "Y = data[''].values\n",
        "X = data.drop(['',''], axis=1).values\n",
        "X = preprocessing.StandardScaler().fit(X).transform(X)\n",
        "print(\"X.shape:\", X.shape, \"Y.shape:\", Y.shape)"
      ],
      "execution_count": null,
      "outputs": []
    },
    {
      "cell_type": "code",
      "metadata": {
        "id": "EA8pTKqgUib3"
      },
      "source": [
        "import statsmodels.api as sm\n",
        "X_Opt = np.append(arr = np.ones((data.shape[0], 1)), values = X, axis = 1)\n",
        "regressor_OLS = sm.OLS(Y, X_Opt).fit()\n",
        "print(regressor_OLS.summary())"
      ],
      "execution_count": null,
      "outputs": []
    },
    {
      "cell_type": "code",
      "metadata": {
        "id": "9zMg8c1QlYcn"
      },
      "source": [
        "data.drop(['',''], axis = 1)"
      ],
      "execution_count": null,
      "outputs": []
    },
    {
      "cell_type": "code",
      "metadata": {
        "id": "QImr4OzujEhM"
      },
      "source": [
        "X = data.drop([''], axis=1).values\n",
        "X = preprocessing.StandardScaler().fit(X).transform(X)\n",
        "\n",
        "X_Opt = np.append(arr = np.ones((data.shape[0], 1)), values = X, axis = 1)\n",
        "regressor_OLS = sm.OLS(Y, X_Opt).fit()\n",
        "print(regressor_OLS.summary())"
      ],
      "execution_count": null,
      "outputs": []
    },
    {
      "cell_type": "code",
      "metadata": {
        "id": "_8dvupK6jTOs"
      },
      "source": [
        "data.drop([''], axis = 1)"
      ],
      "execution_count": null,
      "outputs": []
    },
    {
      "cell_type": "code",
      "metadata": {
        "id": "gVP-rOgqj366"
      },
      "source": [
        "X = data.drop([''], axis=1).values\n",
        "X = preprocessing.StandardScaler().fit(X).transform(X)\n",
        "\n",
        "X_Opt = np.append(arr = np.ones((data.shape[0], 1)), values = X, axis = 1)\n",
        "regressor_OLS = sm.OLS(Y, X_Opt).fit()\n",
        "print(regressor_OLS.summary())"
      ],
      "execution_count": null,
      "outputs": []
    },
    {
      "cell_type": "code",
      "metadata": {
        "id": "mdakVaaokDVG"
      },
      "source": [
        "data.drop([''], axis = 1)"
      ],
      "execution_count": null,
      "outputs": []
    },
    {
      "cell_type": "code",
      "metadata": {
        "id": "pmo2PRYwkJs_"
      },
      "source": [
        "X = data.drop([''], axis=1).values\n",
        "X = preprocessing.StandardScaler().fit(X).transform(X)\n",
        "\n",
        "X_Opt = np.append(arr = np.ones((data.shape[0], 1)), values = X, axis = 1)\n",
        "regressor_OLS = sm.OLS(Y, X_Opt).fit()\n",
        "print(regressor_OLS.summary())"
      ],
      "execution_count": null,
      "outputs": []
    },
    {
      "cell_type": "code",
      "metadata": {
        "id": "BZfhGY97kZSV"
      },
      "source": [
        "data.drop([''], axis = 1)"
      ],
      "execution_count": null,
      "outputs": []
    },
    {
      "cell_type": "code",
      "metadata": {
        "id": "ANfQj5nZmHvd"
      },
      "source": [
        "X = data.drop([''], axis=1).values\n",
        "X = preprocessing.StandardScaler().fit(X).transform(X)\n",
        "\n",
        "X_Opt = np.append(arr = np.ones((data.shape[0], 1)), values = X, axis = 1)\n",
        "regressor_OLS = sm.OLS(Y, X_Opt).fit()\n",
        "print(regressor_OLS.summary())"
      ],
      "execution_count": null,
      "outputs": []
    },
    {
      "cell_type": "code",
      "metadata": {
        "id": "lpLer4ZomH8J"
      },
      "source": [
        "data.drop([''], axis = 1)"
      ],
      "execution_count": null,
      "outputs": []
    },
    {
      "cell_type": "code",
      "metadata": {
        "id": "i5HZL8hGmbDp"
      },
      "source": [
        "X = data.drop([''], axis=1).values\n",
        "X = preprocessing.StandardScaler().fit(X).transform(X)\n",
        "\n",
        "X_Opt = np.append(arr = np.ones((data.shape[0], 1)), values = X, axis = 1)\n",
        "regressor_OLS = sm.OLS(Y, X_Opt).fit()\n",
        "print(regressor_OLS.summary())"
      ],
      "execution_count": null,
      "outputs": []
    }
  ]
}