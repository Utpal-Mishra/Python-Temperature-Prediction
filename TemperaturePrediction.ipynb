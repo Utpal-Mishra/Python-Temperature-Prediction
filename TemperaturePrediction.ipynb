{
  "nbformat": 4,
  "nbformat_minor": 0,
  "metadata": {
    "colab": {
      "name": "TemperaturePrediction.ipynb",
      "provenance": [],
      "collapsed_sections": [
        "ZnNY6iK5KCrv",
        "hEK4HbGmmGi1",
        "R5yU51FgUYS9",
        "XQ1y2RdQUgaP",
        "ojAJcjpOUiPj",
        "SS_32UcfVNN7",
        "2QKD9BoMCgMO",
        "8lt8LJ-LtK3w",
        "13CLyDRXlaBg"
      ],
      "mount_file_id": "1UE6Z2PRd2juP1BmTlW-SMDrldtONHgPe",
      "authorship_tag": "ABX9TyO1/MZnWVnR6iWOSbKzAwlN",
      "include_colab_link": true
    },
    "kernelspec": {
      "name": "python3",
      "display_name": "Python 3"
    }
  },
  "cells": [
    {
      "cell_type": "markdown",
      "metadata": {
        "id": "view-in-github",
        "colab_type": "text"
      },
      "source": [
        "<a href=\"https://colab.research.google.com/github/Utpal-Mishra/Python-Temperature-Prediction/blob/main/TemperaturePrediction.ipynb\" target=\"_parent\"><img src=\"https://colab.research.google.com/assets/colab-badge.svg\" alt=\"Open In Colab\"/></a>"
      ]
    },
    {
      "cell_type": "markdown",
      "metadata": {
        "id": "ZnNY6iK5KCrv"
      },
      "source": [
        "#IMPORT LIBRARIES"
      ]
    },
    {
      "cell_type": "code",
      "metadata": {
        "id": "SfFTY4G1YUeT"
      },
      "source": [
        "import pandas as pd\n",
        "import pylab as pl\n",
        "import numpy as np\n",
        "import scipy.optimize as opt\n",
        "from sklearn import preprocessing\n",
        "%matplotlib inline \n",
        "import matplotlib.pyplot as plt"
      ],
      "execution_count": null,
      "outputs": []
    },
    {
      "cell_type": "markdown",
      "metadata": {
        "id": "HciNbqXnJ-Vg"
      },
      "source": [
        "#IMPORT DATA"
      ]
    },
    {
      "cell_type": "code",
      "metadata": {
        "id": "XK00XD6mX3sQ",
        "colab": {
          "base_uri": "https://localhost:8080/",
          "height": 118
        },
        "outputId": "24144b7a-5808-4387-9586-5497f716bb62"
      },
      "source": [
        "from google.colab import drive\n",
        "drive.mount('/content/Drive/')"
      ],
      "execution_count": null,
      "outputs": [
        {
          "output_type": "stream",
          "text": [
            "Go to this URL in a browser: https://accounts.google.com/o/oauth2/auth?client_id=947318989803-6bn6qk8qdgf4n4g3pfee6491hc0brc4i.apps.googleusercontent.com&redirect_uri=urn%3aietf%3awg%3aoauth%3a2.0%3aoob&response_type=code&scope=email%20https%3a%2f%2fwww.googleapis.com%2fauth%2fdocs.test%20https%3a%2f%2fwww.googleapis.com%2fauth%2fdrive%20https%3a%2f%2fwww.googleapis.com%2fauth%2fdrive.photos.readonly%20https%3a%2f%2fwww.googleapis.com%2fauth%2fpeopleapi.readonly\n",
            "\n",
            "Enter your authorization code:\n",
            "··········\n",
            "Mounted at /content/Drive/\n"
          ],
          "name": "stdout"
        }
      ]
    },
    {
      "cell_type": "code",
      "metadata": {
        "id": "89DFE4z9YrCO",
        "colab": {
          "base_uri": "https://localhost:8080/",
          "height": 308
        },
        "outputId": "18fbcb42-c616-424c-fd05-75cff971a306"
      },
      "source": [
        "path = '/content/Drive/My Drive/Temperature Prediction/Bias_correction_ucl.csv'\n",
        "data = pd.read_csv(path)\n",
        "data.head()"
      ],
      "execution_count": null,
      "outputs": [
        {
          "output_type": "execute_result",
          "data": {
            "text/html": [
              "<div>\n",
              "<style scoped>\n",
              "    .dataframe tbody tr th:only-of-type {\n",
              "        vertical-align: middle;\n",
              "    }\n",
              "\n",
              "    .dataframe tbody tr th {\n",
              "        vertical-align: top;\n",
              "    }\n",
              "\n",
              "    .dataframe thead th {\n",
              "        text-align: right;\n",
              "    }\n",
              "</style>\n",
              "<table border=\"1\" class=\"dataframe\">\n",
              "  <thead>\n",
              "    <tr style=\"text-align: right;\">\n",
              "      <th></th>\n",
              "      <th>Station</th>\n",
              "      <th>Date</th>\n",
              "      <th>Present_Tmax</th>\n",
              "      <th>Present_Tmin</th>\n",
              "      <th>LDAPS_RHmin</th>\n",
              "      <th>LDAPS_RHmax</th>\n",
              "      <th>LDAPS_Tmax_lapse</th>\n",
              "      <th>LDAPS_Tmin_lapse</th>\n",
              "      <th>LDAPS_WS</th>\n",
              "      <th>LDAPS_LH</th>\n",
              "      <th>LDAPS_CC1</th>\n",
              "      <th>LDAPS_CC2</th>\n",
              "      <th>LDAPS_CC3</th>\n",
              "      <th>LDAPS_CC4</th>\n",
              "      <th>LDAPS_PPT1</th>\n",
              "      <th>LDAPS_PPT2</th>\n",
              "      <th>LDAPS_PPT3</th>\n",
              "      <th>LDAPS_PPT4</th>\n",
              "      <th>lat</th>\n",
              "      <th>lon</th>\n",
              "      <th>DEM</th>\n",
              "      <th>Slope</th>\n",
              "      <th>Solar radiation</th>\n",
              "      <th>Next_Tmax</th>\n",
              "      <th>Next_Tmin</th>\n",
              "    </tr>\n",
              "  </thead>\n",
              "  <tbody>\n",
              "    <tr>\n",
              "      <th>0</th>\n",
              "      <td>1.0</td>\n",
              "      <td>2013-06-30</td>\n",
              "      <td>28.7</td>\n",
              "      <td>21.4</td>\n",
              "      <td>58.255688</td>\n",
              "      <td>91.116364</td>\n",
              "      <td>28.074101</td>\n",
              "      <td>23.006936</td>\n",
              "      <td>6.818887</td>\n",
              "      <td>69.451805</td>\n",
              "      <td>0.233948</td>\n",
              "      <td>0.203896</td>\n",
              "      <td>0.161697</td>\n",
              "      <td>0.130928</td>\n",
              "      <td>0.0</td>\n",
              "      <td>0.0</td>\n",
              "      <td>0.0</td>\n",
              "      <td>0.0</td>\n",
              "      <td>37.6046</td>\n",
              "      <td>126.991</td>\n",
              "      <td>212.3350</td>\n",
              "      <td>2.7850</td>\n",
              "      <td>5992.8960</td>\n",
              "      <td>29.1</td>\n",
              "      <td>21.2</td>\n",
              "    </tr>\n",
              "    <tr>\n",
              "      <th>1</th>\n",
              "      <td>2.0</td>\n",
              "      <td>2013-06-30</td>\n",
              "      <td>31.9</td>\n",
              "      <td>21.6</td>\n",
              "      <td>52.263397</td>\n",
              "      <td>90.604721</td>\n",
              "      <td>29.850689</td>\n",
              "      <td>24.035009</td>\n",
              "      <td>5.691890</td>\n",
              "      <td>51.937448</td>\n",
              "      <td>0.225508</td>\n",
              "      <td>0.251771</td>\n",
              "      <td>0.159444</td>\n",
              "      <td>0.127727</td>\n",
              "      <td>0.0</td>\n",
              "      <td>0.0</td>\n",
              "      <td>0.0</td>\n",
              "      <td>0.0</td>\n",
              "      <td>37.6046</td>\n",
              "      <td>127.032</td>\n",
              "      <td>44.7624</td>\n",
              "      <td>0.5141</td>\n",
              "      <td>5869.3125</td>\n",
              "      <td>30.5</td>\n",
              "      <td>22.5</td>\n",
              "    </tr>\n",
              "    <tr>\n",
              "      <th>2</th>\n",
              "      <td>3.0</td>\n",
              "      <td>2013-06-30</td>\n",
              "      <td>31.6</td>\n",
              "      <td>23.3</td>\n",
              "      <td>48.690479</td>\n",
              "      <td>83.973587</td>\n",
              "      <td>30.091292</td>\n",
              "      <td>24.565633</td>\n",
              "      <td>6.138224</td>\n",
              "      <td>20.573050</td>\n",
              "      <td>0.209344</td>\n",
              "      <td>0.257469</td>\n",
              "      <td>0.204092</td>\n",
              "      <td>0.142125</td>\n",
              "      <td>0.0</td>\n",
              "      <td>0.0</td>\n",
              "      <td>0.0</td>\n",
              "      <td>0.0</td>\n",
              "      <td>37.5776</td>\n",
              "      <td>127.058</td>\n",
              "      <td>33.3068</td>\n",
              "      <td>0.2661</td>\n",
              "      <td>5863.5557</td>\n",
              "      <td>31.1</td>\n",
              "      <td>23.9</td>\n",
              "    </tr>\n",
              "    <tr>\n",
              "      <th>3</th>\n",
              "      <td>4.0</td>\n",
              "      <td>2013-06-30</td>\n",
              "      <td>32.0</td>\n",
              "      <td>23.4</td>\n",
              "      <td>58.239788</td>\n",
              "      <td>96.483688</td>\n",
              "      <td>29.704629</td>\n",
              "      <td>23.326177</td>\n",
              "      <td>5.650050</td>\n",
              "      <td>65.727144</td>\n",
              "      <td>0.216372</td>\n",
              "      <td>0.226002</td>\n",
              "      <td>0.161157</td>\n",
              "      <td>0.134249</td>\n",
              "      <td>0.0</td>\n",
              "      <td>0.0</td>\n",
              "      <td>0.0</td>\n",
              "      <td>0.0</td>\n",
              "      <td>37.6450</td>\n",
              "      <td>127.022</td>\n",
              "      <td>45.7160</td>\n",
              "      <td>2.5348</td>\n",
              "      <td>5856.9648</td>\n",
              "      <td>31.7</td>\n",
              "      <td>24.3</td>\n",
              "    </tr>\n",
              "    <tr>\n",
              "      <th>4</th>\n",
              "      <td>5.0</td>\n",
              "      <td>2013-06-30</td>\n",
              "      <td>31.4</td>\n",
              "      <td>21.9</td>\n",
              "      <td>56.174095</td>\n",
              "      <td>90.155128</td>\n",
              "      <td>29.113934</td>\n",
              "      <td>23.486480</td>\n",
              "      <td>5.735004</td>\n",
              "      <td>107.965535</td>\n",
              "      <td>0.151407</td>\n",
              "      <td>0.249995</td>\n",
              "      <td>0.178892</td>\n",
              "      <td>0.170021</td>\n",
              "      <td>0.0</td>\n",
              "      <td>0.0</td>\n",
              "      <td>0.0</td>\n",
              "      <td>0.0</td>\n",
              "      <td>37.5507</td>\n",
              "      <td>127.135</td>\n",
              "      <td>35.0380</td>\n",
              "      <td>0.5055</td>\n",
              "      <td>5859.5522</td>\n",
              "      <td>31.2</td>\n",
              "      <td>22.5</td>\n",
              "    </tr>\n",
              "  </tbody>\n",
              "</table>\n",
              "</div>"
            ],
            "text/plain": [
              "   Station        Date  Present_Tmax  ...  Solar radiation  Next_Tmax  Next_Tmin\n",
              "0      1.0  2013-06-30          28.7  ...        5992.8960       29.1       21.2\n",
              "1      2.0  2013-06-30          31.9  ...        5869.3125       30.5       22.5\n",
              "2      3.0  2013-06-30          31.6  ...        5863.5557       31.1       23.9\n",
              "3      4.0  2013-06-30          32.0  ...        5856.9648       31.7       24.3\n",
              "4      5.0  2013-06-30          31.4  ...        5859.5522       31.2       22.5\n",
              "\n",
              "[5 rows x 25 columns]"
            ]
          },
          "metadata": {
            "tags": []
          },
          "execution_count": 3
        }
      ]
    },
    {
      "cell_type": "code",
      "metadata": {
        "id": "vQuX2dydZbdP",
        "colab": {
          "base_uri": "https://localhost:8080/",
          "height": 33
        },
        "outputId": "5c786746-d801-4709-f3be-2e26945ed634"
      },
      "source": [
        "print(\"Data.shape:\", data.shape)"
      ],
      "execution_count": null,
      "outputs": [
        {
          "output_type": "stream",
          "text": [
            "Data.shape: (7752, 25)\n"
          ],
          "name": "stdout"
        }
      ]
    },
    {
      "cell_type": "code",
      "metadata": {
        "id": "ZZOOu0wCoZub",
        "colab": {
          "base_uri": "https://localhost:8080/",
          "height": 227
        },
        "outputId": "83867640-b909-4a12-f619-861cc02afbae"
      },
      "source": [
        "import datetime as dt\n",
        "data['Date'] = pd.to_datetime(data['Date'])\n",
        "data['Date']= data['Date'].map(dt.datetime.toordinal)\n",
        "data.head()"
      ],
      "execution_count": null,
      "outputs": [
        {
          "output_type": "execute_result",
          "data": {
            "text/html": [
              "<div>\n",
              "<style scoped>\n",
              "    .dataframe tbody tr th:only-of-type {\n",
              "        vertical-align: middle;\n",
              "    }\n",
              "\n",
              "    .dataframe tbody tr th {\n",
              "        vertical-align: top;\n",
              "    }\n",
              "\n",
              "    .dataframe thead th {\n",
              "        text-align: right;\n",
              "    }\n",
              "</style>\n",
              "<table border=\"1\" class=\"dataframe\">\n",
              "  <thead>\n",
              "    <tr style=\"text-align: right;\">\n",
              "      <th></th>\n",
              "      <th>Station</th>\n",
              "      <th>Date</th>\n",
              "      <th>Present_Tmax</th>\n",
              "      <th>Present_Tmin</th>\n",
              "      <th>LDAPS_RHmin</th>\n",
              "      <th>LDAPS_RHmax</th>\n",
              "      <th>LDAPS_Tmax_lapse</th>\n",
              "      <th>LDAPS_Tmin_lapse</th>\n",
              "      <th>LDAPS_WS</th>\n",
              "      <th>LDAPS_LH</th>\n",
              "      <th>LDAPS_CC1</th>\n",
              "      <th>LDAPS_CC2</th>\n",
              "      <th>LDAPS_CC3</th>\n",
              "      <th>LDAPS_CC4</th>\n",
              "      <th>LDAPS_PPT1</th>\n",
              "      <th>LDAPS_PPT2</th>\n",
              "      <th>LDAPS_PPT3</th>\n",
              "      <th>LDAPS_PPT4</th>\n",
              "      <th>lat</th>\n",
              "      <th>lon</th>\n",
              "      <th>DEM</th>\n",
              "      <th>Slope</th>\n",
              "      <th>Solar radiation</th>\n",
              "      <th>Next_Tmax</th>\n",
              "      <th>Next_Tmin</th>\n",
              "    </tr>\n",
              "  </thead>\n",
              "  <tbody>\n",
              "    <tr>\n",
              "      <th>0</th>\n",
              "      <td>1.0</td>\n",
              "      <td>735049</td>\n",
              "      <td>28.7</td>\n",
              "      <td>21.4</td>\n",
              "      <td>58.255688</td>\n",
              "      <td>91.116364</td>\n",
              "      <td>28.074101</td>\n",
              "      <td>23.006936</td>\n",
              "      <td>6.818887</td>\n",
              "      <td>69.451805</td>\n",
              "      <td>0.233948</td>\n",
              "      <td>0.203896</td>\n",
              "      <td>0.161697</td>\n",
              "      <td>0.130928</td>\n",
              "      <td>0.0</td>\n",
              "      <td>0.0</td>\n",
              "      <td>0.0</td>\n",
              "      <td>0.0</td>\n",
              "      <td>37.6046</td>\n",
              "      <td>126.991</td>\n",
              "      <td>212.3350</td>\n",
              "      <td>2.7850</td>\n",
              "      <td>5992.8960</td>\n",
              "      <td>29.1</td>\n",
              "      <td>21.2</td>\n",
              "    </tr>\n",
              "    <tr>\n",
              "      <th>1</th>\n",
              "      <td>2.0</td>\n",
              "      <td>735049</td>\n",
              "      <td>31.9</td>\n",
              "      <td>21.6</td>\n",
              "      <td>52.263397</td>\n",
              "      <td>90.604721</td>\n",
              "      <td>29.850689</td>\n",
              "      <td>24.035009</td>\n",
              "      <td>5.691890</td>\n",
              "      <td>51.937448</td>\n",
              "      <td>0.225508</td>\n",
              "      <td>0.251771</td>\n",
              "      <td>0.159444</td>\n",
              "      <td>0.127727</td>\n",
              "      <td>0.0</td>\n",
              "      <td>0.0</td>\n",
              "      <td>0.0</td>\n",
              "      <td>0.0</td>\n",
              "      <td>37.6046</td>\n",
              "      <td>127.032</td>\n",
              "      <td>44.7624</td>\n",
              "      <td>0.5141</td>\n",
              "      <td>5869.3125</td>\n",
              "      <td>30.5</td>\n",
              "      <td>22.5</td>\n",
              "    </tr>\n",
              "    <tr>\n",
              "      <th>2</th>\n",
              "      <td>3.0</td>\n",
              "      <td>735049</td>\n",
              "      <td>31.6</td>\n",
              "      <td>23.3</td>\n",
              "      <td>48.690479</td>\n",
              "      <td>83.973587</td>\n",
              "      <td>30.091292</td>\n",
              "      <td>24.565633</td>\n",
              "      <td>6.138224</td>\n",
              "      <td>20.573050</td>\n",
              "      <td>0.209344</td>\n",
              "      <td>0.257469</td>\n",
              "      <td>0.204092</td>\n",
              "      <td>0.142125</td>\n",
              "      <td>0.0</td>\n",
              "      <td>0.0</td>\n",
              "      <td>0.0</td>\n",
              "      <td>0.0</td>\n",
              "      <td>37.5776</td>\n",
              "      <td>127.058</td>\n",
              "      <td>33.3068</td>\n",
              "      <td>0.2661</td>\n",
              "      <td>5863.5557</td>\n",
              "      <td>31.1</td>\n",
              "      <td>23.9</td>\n",
              "    </tr>\n",
              "    <tr>\n",
              "      <th>3</th>\n",
              "      <td>4.0</td>\n",
              "      <td>735049</td>\n",
              "      <td>32.0</td>\n",
              "      <td>23.4</td>\n",
              "      <td>58.239788</td>\n",
              "      <td>96.483688</td>\n",
              "      <td>29.704629</td>\n",
              "      <td>23.326177</td>\n",
              "      <td>5.650050</td>\n",
              "      <td>65.727144</td>\n",
              "      <td>0.216372</td>\n",
              "      <td>0.226002</td>\n",
              "      <td>0.161157</td>\n",
              "      <td>0.134249</td>\n",
              "      <td>0.0</td>\n",
              "      <td>0.0</td>\n",
              "      <td>0.0</td>\n",
              "      <td>0.0</td>\n",
              "      <td>37.6450</td>\n",
              "      <td>127.022</td>\n",
              "      <td>45.7160</td>\n",
              "      <td>2.5348</td>\n",
              "      <td>5856.9648</td>\n",
              "      <td>31.7</td>\n",
              "      <td>24.3</td>\n",
              "    </tr>\n",
              "    <tr>\n",
              "      <th>4</th>\n",
              "      <td>5.0</td>\n",
              "      <td>735049</td>\n",
              "      <td>31.4</td>\n",
              "      <td>21.9</td>\n",
              "      <td>56.174095</td>\n",
              "      <td>90.155128</td>\n",
              "      <td>29.113934</td>\n",
              "      <td>23.486480</td>\n",
              "      <td>5.735004</td>\n",
              "      <td>107.965535</td>\n",
              "      <td>0.151407</td>\n",
              "      <td>0.249995</td>\n",
              "      <td>0.178892</td>\n",
              "      <td>0.170021</td>\n",
              "      <td>0.0</td>\n",
              "      <td>0.0</td>\n",
              "      <td>0.0</td>\n",
              "      <td>0.0</td>\n",
              "      <td>37.5507</td>\n",
              "      <td>127.135</td>\n",
              "      <td>35.0380</td>\n",
              "      <td>0.5055</td>\n",
              "      <td>5859.5522</td>\n",
              "      <td>31.2</td>\n",
              "      <td>22.5</td>\n",
              "    </tr>\n",
              "  </tbody>\n",
              "</table>\n",
              "</div>"
            ],
            "text/plain": [
              "   Station    Date  Present_Tmax  ...  Solar radiation  Next_Tmax  Next_Tmin\n",
              "0      1.0  735049          28.7  ...        5992.8960       29.1       21.2\n",
              "1      2.0  735049          31.9  ...        5869.3125       30.5       22.5\n",
              "2      3.0  735049          31.6  ...        5863.5557       31.1       23.9\n",
              "3      4.0  735049          32.0  ...        5856.9648       31.7       24.3\n",
              "4      5.0  735049          31.4  ...        5859.5522       31.2       22.5\n",
              "\n",
              "[5 rows x 25 columns]"
            ]
          },
          "metadata": {
            "tags": []
          },
          "execution_count": 5
        }
      ]
    },
    {
      "cell_type": "code",
      "metadata": {
        "id": "BVU3OHCWJhl4",
        "colab": {
          "base_uri": "https://localhost:8080/",
          "height": 50
        },
        "outputId": "78846a15-fd3a-4d1d-93e2-345b45938ed9"
      },
      "source": [
        "print(data.isnull().sum().sum())\n",
        "data.fillna(value = 0, inplace = True)\n",
        "print(data.isnull().sum().sum())"
      ],
      "execution_count": null,
      "outputs": [
        {
          "output_type": "stream",
          "text": [
            "1246\n",
            "0\n"
          ],
          "name": "stdout"
        }
      ]
    },
    {
      "cell_type": "code",
      "metadata": {
        "id": "e8ZpMoSxMa7D",
        "colab": {
          "base_uri": "https://localhost:8080/",
          "height": 50
        },
        "outputId": "f926acde-8b2d-4b13-a30f-06bd57ce27be"
      },
      "source": [
        "print(np.any(np.isnan(data)))\n",
        "print(np.all(np.isfinite(data)))"
      ],
      "execution_count": null,
      "outputs": [
        {
          "output_type": "stream",
          "text": [
            "False\n",
            "True\n"
          ],
          "name": "stdout"
        }
      ]
    },
    {
      "cell_type": "code",
      "metadata": {
        "id": "Jdx4nbSR6DiP",
        "colab": {
          "base_uri": "https://localhost:8080/",
          "height": 212
        },
        "outputId": "c7fbb18a-375a-4bf6-8f64-0559f4a4fd7e"
      },
      "source": [
        "data['Present_Tmax'].apply(lambda x: '{:.1f}'.format(x))\n",
        "data['Present_Tmin'].apply(lambda x: '{:.1f}'.format(x))\n",
        "data['LDAPS_RHmin'].apply(lambda x: '{:.7f}'.format(x))\n",
        "data['LDAPS_RHmax'].apply(lambda x: '{:.7f}'.format(x))\n",
        "data['LDAPS_Tmax_lapse'].apply(lambda x: '{:.7f}'.format(x))\n",
        "data['LDAPS_Tmin_lapse'].apply(lambda x: '{:.7f}'.format(x))\n",
        "data['LDAPS_WS'].apply(lambda x: '{:.7f}'.format(x))\n",
        "data['LDAPS_LH'].apply(lambda x: '{:.7f}'.format(x))\n",
        "data['LDAPS_CC1'].apply(lambda x: '{:.7f}'.format(x))\n",
        "data['LDAPS_CC2'].apply(lambda x: '{:.7f}'.format(x))\n",
        "data['LDAPS_CC3'].apply(lambda x: '{:.7f}'.format(x))\n",
        "data['LDAPS_CC4'].apply(lambda x: '{:.7f}'.format(x))\n",
        "data['LDAPS_PPT1'].apply(lambda x: '{:.7f}'.format(x))\n",
        "data['LDAPS_PPT2'].apply(lambda x: '{:.7f}'.format(x))\n",
        "data['LDAPS_PPT3'].apply(lambda x: '{:.7f}'.format(x))\n",
        "data['LDAPS_PPT4'].apply(lambda x: '{:.7f}'.format(x))\n",
        "data['lat'].apply(lambda x: '{:.4f}'.format(x))\n",
        "data['lon'].apply(lambda x: '{:.3f}'.format(x))\n",
        "data['DEM'].apply(lambda x: '{:.4f}'.format(x))\n",
        "data['Slope'].apply(lambda x: '{:.4f}'.format(x))\n",
        "data['Solar radiation'].apply(lambda x: '{:.4f}'.format(x))\n",
        "data['Next_Tmax'].apply(lambda x: '{:.1f}'.format(x))\n",
        "data['Next_Tmin'].apply(lambda x: '{:.1f}'.format(x))"
      ],
      "execution_count": null,
      "outputs": [
        {
          "output_type": "execute_result",
          "data": {
            "text/plain": [
              "0       21.2\n",
              "1       22.5\n",
              "2       23.9\n",
              "3       24.3\n",
              "4       22.5\n",
              "        ... \n",
              "7747    18.1\n",
              "7748    18.8\n",
              "7749    17.4\n",
              "7750    11.3\n",
              "7751    29.8\n",
              "Name: Next_Tmin, Length: 7752, dtype: object"
            ]
          },
          "metadata": {
            "tags": []
          },
          "execution_count": 11
        }
      ]
    },
    {
      "cell_type": "code",
      "metadata": {
        "id": "eDlVMLb8BP-j",
        "colab": {
          "base_uri": "https://localhost:8080/",
          "height": 50
        },
        "outputId": "bff5db58-fca0-4a10-99c2-58c322dd0635"
      },
      "source": [
        "print(np.any(np.isnan(data)))\n",
        "print(np.all(np.isfinite(data)))"
      ],
      "execution_count": null,
      "outputs": [
        {
          "output_type": "stream",
          "text": [
            "False\n",
            "True\n"
          ],
          "name": "stdout"
        }
      ]
    },
    {
      "cell_type": "markdown",
      "metadata": {
        "id": "LhJ3y9TvH6Y7"
      },
      "source": [
        "#VISUALIZATION"
      ]
    },
    {
      "cell_type": "code",
      "metadata": {
        "id": "EtgJiYJs6El7",
        "colab": {
          "base_uri": "https://localhost:8080/",
          "height": 1000
        },
        "outputId": "e1d0428f-dbf8-49e3-9880-bdbd7cb1fb9a"
      },
      "source": [
        "data.hist(figsize = (12,10), bins = 30)"
      ],
      "execution_count": null,
      "outputs": [
        {
          "output_type": "execute_result",
          "data": {
            "text/plain": [
              "array([[<matplotlib.axes._subplots.AxesSubplot object at 0x7f71e5791c18>,\n",
              "        <matplotlib.axes._subplots.AxesSubplot object at 0x7f71e5766eb8>,\n",
              "        <matplotlib.axes._subplots.AxesSubplot object at 0x7f71e5723160>,\n",
              "        <matplotlib.axes._subplots.AxesSubplot object at 0x7f71e56d43c8>,\n",
              "        <matplotlib.axes._subplots.AxesSubplot object at 0x7f71e5685630>],\n",
              "       [<matplotlib.axes._subplots.AxesSubplot object at 0x7f71e56b9898>,\n",
              "        <matplotlib.axes._subplots.AxesSubplot object at 0x7f71e566fb00>,\n",
              "        <matplotlib.axes._subplots.AxesSubplot object at 0x7f71e5621d30>,\n",
              "        <matplotlib.axes._subplots.AxesSubplot object at 0x7f71e5621da0>,\n",
              "        <matplotlib.axes._subplots.AxesSubplot object at 0x7f71e5594278>],\n",
              "       [<matplotlib.axes._subplots.AxesSubplot object at 0x7f71e55484e0>,\n",
              "        <matplotlib.axes._subplots.AxesSubplot object at 0x7f71e557b748>,\n",
              "        <matplotlib.axes._subplots.AxesSubplot object at 0x7f71e552e9b0>,\n",
              "        <matplotlib.axes._subplots.AxesSubplot object at 0x7f71e54e2c18>,\n",
              "        <matplotlib.axes._subplots.AxesSubplot object at 0x7f71e5494e80>],\n",
              "       [<matplotlib.axes._subplots.AxesSubplot object at 0x7f71e5456128>,\n",
              "        <matplotlib.axes._subplots.AxesSubplot object at 0x7f71e540a390>,\n",
              "        <matplotlib.axes._subplots.AxesSubplot object at 0x7f71e543c5f8>,\n",
              "        <matplotlib.axes._subplots.AxesSubplot object at 0x7f71e53f1860>,\n",
              "        <matplotlib.axes._subplots.AxesSubplot object at 0x7f71e53a2ac8>],\n",
              "       [<matplotlib.axes._subplots.AxesSubplot object at 0x7f71e5356d30>,\n",
              "        <matplotlib.axes._subplots.AxesSubplot object at 0x7f71e530af98>,\n",
              "        <matplotlib.axes._subplots.AxesSubplot object at 0x7f71e52ca240>,\n",
              "        <matplotlib.axes._subplots.AxesSubplot object at 0x7f71e52fc4a8>,\n",
              "        <matplotlib.axes._subplots.AxesSubplot object at 0x7f71e52b0710>]],\n",
              "      dtype=object)"
            ]
          },
          "metadata": {
            "tags": []
          },
          "execution_count": 13
        },
        {
          "output_type": "display_data",
          "data": {
            "image/png": "[encoded data removed]",
            "text/plain": [
              "<Figure size 864x720 with 25 Axes>"
            ]
          },
          "metadata": {
            "tags": [],
            "needs_background": "light"
          }
        }
      ]
    },
    {
      "cell_type": "markdown",
      "metadata": {
        "id": "0IA_IvLqIymC"
      },
      "source": [
        "#MODEL TRAINING"
      ]
    },
    {
      "cell_type": "code",
      "metadata": {
        "id": "A8eJzVbdZLOW",
        "colab": {
          "base_uri": "https://localhost:8080/",
          "height": 33
        },
        "outputId": "5539fd30-599e-459f-b05a-b93c65bb2709"
      },
      "source": [
        "X = data.drop(['Next_Tmax', 'Next_Tmin'] , axis=1).values\n",
        "Y = data[['Next_Tmax', 'Next_Tmin']].values\n",
        "\n",
        "from sklearn.model_selection import train_test_split\n",
        "X_train, X_test, Y_train, Y_test = train_test_split(X, Y, test_size = 0.2)\n",
        "print(\"X_train.shape:\", X_train.shape, \"X_test.shape:\", X_test.shape, \"Y_train.shape:\", Y_train.shape, \"Y_test.shape:\", Y_test.shape)"
      ],
      "execution_count": null,
      "outputs": [
        {
          "output_type": "stream",
          "text": [
            "X_train.shape: (6201, 23) X_test.shape: (1551, 23) Y_train.shape: (6201, 2) Y_test.shape: (1551, 2)\n"
          ],
          "name": "stdout"
        }
      ]
    },
    {
      "cell_type": "code",
      "metadata": {
        "id": "dI1W1tIuXwki"
      },
      "source": [
        "REGRESSOR = ['LINEAR REGRESSION','RIDGE REGRESSION','RIDGE COMPLEXITY','LASSO REGRESSION','LARS LASSO REGRESSION', 'DECISION TREE','RANDOM FOREST']\n",
        "TRAIN_ACCURACY = []\n",
        "VARIANCE_SCORE = []\n",
        "ABSOLUTE_ERROR = []\n",
        "MEAN_SQUARED_ERROR = []\n",
        "MEDIAN_ABSOLUTE_ERROR = []\n",
        "R_SQUARE_SCORE = []"
      ],
      "execution_count": null,
      "outputs": []
    },
    {
      "cell_type": "markdown",
      "metadata": {
        "id": "hEK4HbGmmGi1"
      },
      "source": [
        "#LINEAR REGRESSION"
      ]
    },
    {
      "cell_type": "code",
      "metadata": {
        "id": "xvXbmX0TZLMl",
        "colab": {
          "base_uri": "https://localhost:8080/",
          "height": 427
        },
        "outputId": "fdffa274-3927-4a63-e7c7-dac3f93f150b"
      },
      "source": [
        "from sklearn import linear_model, metrics\n",
        "\n",
        "LR = linear_model.LinearRegression(normalize=True)\n",
        "\n",
        "LR.fit(X_train, Y_train)\n",
        "LR_pred = LR.predict(X_test)\n",
        "print ('Coefficients: ', LR.coef_)\n",
        "print ('Intercept: ', LR.intercept_)\n",
        "\n",
        "print(\"\\nREGRESSION REPORT:\\n\")\n",
        "print(\"TRAINING ACCURACY:\\t\", LR.score(X_train, Y_train))\n",
        "print(\"VARIANCE SCORE:\\t\\t\", metrics.explained_variance_score(Y_test,LR_pred))\n",
        "#print(\"MAX ERROR:\\t\\t\", metrics.max_error(Y_test,LR_pred))\n",
        "print(\"ABSOLUTE ERROR:\\t\\t\", metrics.mean_absolute_error(Y_test,LR_pred))\n",
        "print(\"MEAN SQUARED ERROR:\\t\", metrics.mean_squared_error(Y_test,LR_pred))\n",
        "#print(\"MEAN SQUARED LOG ERROR: \", metrics.mean_squared_log_error(Y_test,LR_pred))\n",
        "print(\"MEDIAN ABSOLUTE ERROR:  \", metrics.median_absolute_error(Y_test,LR_pred))\n",
        "print(\"R-SQUARE SCORE:  \\t\", metrics.r2_score(Y_test,LR_pred))\n",
        "#print(\"MEAN POISSON DEVIANCE: \", metrics.mean_poisson_deviance(Y_test,LR_pred))\n",
        "#print(\"MEAN GAMMA DEVIANCE: \", metrics.mean_gamma_deviance(Y_test,LR_pred))"
      ],
      "execution_count": null,
      "outputs": [
        {
          "output_type": "stream",
          "text": [
            "Coefficients:  [[ 1.69252236e-02  4.08745028e-06  8.03358187e-02  1.57664346e-01\n",
            "   8.86470260e-03 -1.05673897e-01  2.55265442e-01  1.68686330e-01\n",
            "  -2.89288652e-01  9.78032020e-03 -1.50746394e+00 -7.31515197e-01\n",
            "  -1.66490092e+00 -1.47178809e+00  8.76488993e-02  1.53854041e-01\n",
            "   1.63323109e-02  6.84153624e-02  1.68577221e+00 -1.34553420e+00\n",
            "  -3.80960118e-03  2.56138381e-01  7.22855686e-04]\n",
            " [-1.05678920e-03  2.66402609e-06 -7.13987683e-02  3.33370796e-01\n",
            "  -1.33155624e-03 -9.14484184e-02 -2.68918632e-01  7.77137098e-01\n",
            "  -9.32558561e-02  4.28621604e-03 -8.70111487e-01  3.96197323e-01\n",
            "  -1.11585075e+00 -2.30207241e-01  5.30615520e-02 -6.70829031e-03\n",
            "   8.21542272e-02 -5.17217494e-03  1.33518826e+00 -6.38662046e-02\n",
            "  -8.20649317e-03  3.35478450e-01  5.66889581e-04]]\n",
            "Intercept:  [124.96058098 -30.8033183 ]\n",
            "\n",
            "REGRESSION REPORT:\n",
            "\n",
            "TRAINING ACCURACY:\t 0.5535776492832564\n",
            "VARIANCE SCORE:\t\t 0.5908961160610955\n",
            "ABSOLUTE ERROR:\t\t 1.2174704240468386\n",
            "MEAN SQUARED ERROR:\t 4.168214008853111\n",
            "MEDIAN ABSOLUTE ERROR:   0.8985188155870638\n",
            "R-SQUARE SCORE:  \t 0.5907597591585331\n"
          ],
          "name": "stdout"
        },
        {
          "output_type": "stream",
          "text": [
            "/usr/local/lib/python3.6/dist-packages/sklearn/base.py:434: FutureWarning: The default value of multioutput (not exposed in score method) will change from 'variance_weighted' to 'uniform_average' in 0.23 to keep consistent with 'metrics.r2_score'. To specify the default value manually and avoid the warning, please either call 'metrics.r2_score' directly or make a custom scorer with 'metrics.make_scorer' (the built-in scorer 'r2' uses multioutput='uniform_average').\n",
            "  \"multioutput='uniform_average').\", FutureWarning)\n"
          ],
          "name": "stderr"
        }
      ]
    },
    {
      "cell_type": "code",
      "metadata": {
        "id": "FlUxyNnTY-KC",
        "colab": {
          "base_uri": "https://localhost:8080/",
          "height": 70
        },
        "outputId": "db8da291-9cd0-4883-d2bd-667ae8ac390e"
      },
      "source": [
        "TRAIN_ACCURACY.append(LR.score(X_train, Y_train))\n",
        "VARIANCE_SCORE.append(metrics.explained_variance_score(Y_test,LR_pred))\n",
        "#MAX_ERROR.append(metrics.max_error(Y_test,LR_pred))\n",
        "ABSOLUTE_ERROR.append(metrics.mean_absolute_error(Y_test,LR_pred))\n",
        "MEAN_SQUARED_ERROR.append(metrics.mean_squared_error(Y_test,LR_pred))\n",
        "MEDIAN_ABSOLUTE_ERROR.append(metrics.median_absolute_error(Y_test,LR_pred))\n",
        "R_SQUARE_SCORE.append(metrics.r2_score(Y_test,LR_pred))"
      ],
      "execution_count": null,
      "outputs": [
        {
          "output_type": "stream",
          "text": [
            "/usr/local/lib/python3.6/dist-packages/sklearn/base.py:434: FutureWarning: The default value of multioutput (not exposed in score method) will change from 'variance_weighted' to 'uniform_average' in 0.23 to keep consistent with 'metrics.r2_score'. To specify the default value manually and avoid the warning, please either call 'metrics.r2_score' directly or make a custom scorer with 'metrics.make_scorer' (the built-in scorer 'r2' uses multioutput='uniform_average').\n",
            "  \"multioutput='uniform_average').\", FutureWarning)\n"
          ],
          "name": "stderr"
        }
      ]
    },
    {
      "cell_type": "markdown",
      "metadata": {
        "id": "R5yU51FgUYS9"
      },
      "source": [
        "#RIDGE REGRESSION"
      ]
    },
    {
      "cell_type": "code",
      "metadata": {
        "id": "LXhK5pq4UYxN",
        "colab": {
          "base_uri": "https://localhost:8080/",
          "height": 427
        },
        "outputId": "94b24929-f243-48f2-9311-933ec1498072"
      },
      "source": [
        "from sklearn import linear_model, metrics\n",
        "\n",
        "RR = linear_model.Ridge(alpha=.5)\n",
        "RR.fit(X_train, Y_train)\n",
        "RR_pred = RR.predict(X_test)\n",
        "print ('Coefficients: ', RR.coef_)\n",
        "print ('Intercept: ', RR.intercept_)\n",
        "\n",
        "print(\"\\nREGRESSION REPORT:\\n\")\n",
        "print(\"TRAINING ACCURACY:\\t\", RR.score(X_train, Y_train))\n",
        "print(\"VARIANCE SCORE:\\t\\t\", metrics.explained_variance_score(Y_test,RR_pred))\n",
        "#print(\"MAX ERROR:\\t\\t\", metrics.max_error(Y_test,RR_pred))\n",
        "print(\"ABSOLUTE ERROR:\\t\\t\", metrics.mean_absolute_error(Y_test,RR_pred))\n",
        "print(\"MEAN SQUARED ERROR:\\t\", metrics.mean_squared_error(Y_test,RR_pred))\n",
        "#print(\"MEAN SQUARED LOG ERROR: \", metrics.mean_squared_log_error(Y_test,RR_pred))\n",
        "print(\"MEDIAN ABSOLUTE ERROR:  \", metrics.median_absolute_error(Y_test,RR_pred))\n",
        "print(\"R-SQUARE SCORE:  \\t\", metrics.r2_score(Y_test,RR_pred))\n",
        "#print(\"MEAN POISSON DEVIANCE: \", metrics.mean_poisson_deviance(Y_test,RR_pred))\n",
        "#print(\"MEAN GAMMA DEVIANCE: \", metrics.mean_gamma_deviance(Y_test,RR_pred))"
      ],
      "execution_count": null,
      "outputs": [
        {
          "output_type": "stream",
          "text": [
            "Coefficients:  [[ 1.68486171e-02  4.08233984e-06  8.03828162e-02  1.57660630e-01\n",
            "   8.88015935e-03 -1.05655231e-01  2.55371965e-01  1.68429909e-01\n",
            "  -2.89258389e-01  9.79027602e-03 -1.50429556e+00 -7.34853229e-01\n",
            "  -1.66169969e+00 -1.47111774e+00  8.75094744e-02  1.53814311e-01\n",
            "   1.61920933e-02  6.81736893e-02  1.61622276e+00 -1.31719101e+00\n",
            "  -3.81654438e-03  2.56315909e-01  7.22825681e-04]\n",
            " [-1.12704115e-03  2.66270540e-06 -7.13419553e-02  3.33345205e-01\n",
            "  -1.30286887e-03 -9.14322966e-02 -2.68765358e-01  7.76854983e-01\n",
            "  -9.32582353e-02  4.28899853e-03 -8.65973724e-01  3.88963625e-01\n",
            "  -1.10904232e+00 -2.33124588e-01  5.29449305e-02 -6.58875296e-03\n",
            "   8.20067692e-02 -5.22085498e-03  1.28547933e+00 -5.57502294e-02\n",
            "  -8.21305726e-03  3.35638451e-01  5.66858627e-04]]\n",
            "Intercept:  [123.97481402 -29.96778166]\n",
            "\n",
            "REGRESSION REPORT:\n",
            "\n",
            "TRAINING ACCURACY:\t 0.553576744304304\n",
            "VARIANCE SCORE:\t\t 0.5908904509795067\n",
            "ABSOLUTE ERROR:\t\t 1.2174641574013707\n",
            "MEAN SQUARED ERROR:\t 4.168235663206806\n",
            "MEDIAN ABSOLUTE ERROR:   0.8973406000113808\n",
            "R-SQUARE SCORE:  \t 0.590754021294919\n"
          ],
          "name": "stdout"
        },
        {
          "output_type": "stream",
          "text": [
            "/usr/local/lib/python3.6/dist-packages/sklearn/base.py:434: FutureWarning: The default value of multioutput (not exposed in score method) will change from 'variance_weighted' to 'uniform_average' in 0.23 to keep consistent with 'metrics.r2_score'. To specify the default value manually and avoid the warning, please either call 'metrics.r2_score' directly or make a custom scorer with 'metrics.make_scorer' (the built-in scorer 'r2' uses multioutput='uniform_average').\n",
            "  \"multioutput='uniform_average').\", FutureWarning)\n"
          ],
          "name": "stderr"
        }
      ]
    },
    {
      "cell_type": "code",
      "metadata": {
        "id": "aSQwrqOiZBSV",
        "colab": {
          "base_uri": "https://localhost:8080/",
          "height": 70
        },
        "outputId": "afe99602-a38c-497b-d55d-a159ad516fc3"
      },
      "source": [
        "TRAIN_ACCURACY.append(RR.score(X_train, Y_train))\n",
        "VARIANCE_SCORE.append(metrics.explained_variance_score(Y_test,RR_pred))\n",
        "#MAX_ERROR.append(metrics.max_error(Y_test,RR_pred))\n",
        "ABSOLUTE_ERROR.append(metrics.mean_absolute_error(Y_test,RR_pred))\n",
        "MEAN_SQUARED_ERROR.append(metrics.mean_squared_error(Y_test,RR_pred))\n",
        "MEDIAN_ABSOLUTE_ERROR.append(metrics.median_absolute_error(Y_test,RR_pred))\n",
        "R_SQUARE_SCORE.append(metrics.r2_score(Y_test,RR_pred))"
      ],
      "execution_count": null,
      "outputs": [
        {
          "output_type": "stream",
          "text": [
            "/usr/local/lib/python3.6/dist-packages/sklearn/base.py:434: FutureWarning: The default value of multioutput (not exposed in score method) will change from 'variance_weighted' to 'uniform_average' in 0.23 to keep consistent with 'metrics.r2_score'. To specify the default value manually and avoid the warning, please either call 'metrics.r2_score' directly or make a custom scorer with 'metrics.make_scorer' (the built-in scorer 'r2' uses multioutput='uniform_average').\n",
            "  \"multioutput='uniform_average').\", FutureWarning)\n"
          ],
          "name": "stderr"
        }
      ]
    },
    {
      "cell_type": "markdown",
      "metadata": {
        "id": "XQ1y2RdQUgaP"
      },
      "source": [
        "#RIDGE COMPLEXITY"
      ]
    },
    {
      "cell_type": "code",
      "metadata": {
        "id": "CjnFObUKUYqx",
        "colab": {
          "base_uri": "https://localhost:8080/",
          "height": 427
        },
        "outputId": "e6de4d58-3a77-402e-9cfa-d8237d31b472"
      },
      "source": [
        "from sklearn import linear_model, metrics\n",
        "\n",
        "RC = linear_model.RidgeCV()\n",
        "RC.fit(X_train, Y_train)\n",
        "RC_pred = RC.predict(X_test)\n",
        "print ('Coefficients: ', RC.coef_)\n",
        "print ('Intercept: ', RC.intercept_)\n",
        "\n",
        "print(\"\\nREGRESSION REPORT:\\n\")\n",
        "print(\"TRAINING ACCURACY:\\t\", RC.score(X_train, Y_train))\n",
        "print(\"VARIANCE SCORE:\\t\\t\", metrics.explained_variance_score(Y_test,RC_pred))\n",
        "#print(\"MAX ERROR:\\t\\t\", metrics.max_error(Y_test,RC_pred))\n",
        "print(\"ABSOLUTE ERROR:\\t\\t\", metrics.mean_absolute_error(Y_test,RC_pred))\n",
        "print(\"MEAN SQUARED ERROR:\\t\", metrics.mean_squared_error(Y_test,RC_pred))\n",
        "#print(\"MEAN SQUARED LOG ERROR: \", metrics.mean_squared_log_error(Y_test,RC_pred))\n",
        "print(\"MEDIAN ABSOLUTE ERROR:  \", metrics.median_absolute_error(Y_test,RC_pred))\n",
        "print(\"R-SQUARE SCORE:  \\t\", metrics.r2_score(Y_test,RC_pred))\n",
        "#print(\"MEAN POISSON DEVIANCE: \", metrics.mean_poisson_deviance(Y_test,RC_pred))\n",
        "#print(\"MEAN GAMMA DEVIANCE: \", metrics.mean_gamma_deviance(Y_test,RC_pred))"
      ],
      "execution_count": null,
      "outputs": [
        {
          "output_type": "stream",
          "text": [
            "Coefficients:  [[ 1.67784947e-02  4.07429980e-06  8.04257440e-02  1.57658945e-01\n",
            "   8.89064968e-03 -1.05638429e-01  2.55476163e-01  1.68190921e-01\n",
            "  -2.89233070e-01  9.79998787e-03 -1.50109647e+00 -7.38052783e-01\n",
            "  -1.65844398e+00 -1.47041536e+00  8.73721998e-02  1.53774293e-01\n",
            "   1.60507644e-02  6.79371107e-02  1.55201627e+00 -1.29048613e+00\n",
            "  -3.82274911e-03  2.56479569e-01  7.22784483e-04]\n",
            " [-1.19237535e-03  2.65356903e-06 -7.12881629e-02  3.33321163e-01\n",
            "  -1.27729147e-03 -9.14175781e-02 -2.68615666e-01  7.76586688e-01\n",
            "  -9.32631740e-02  4.29163123e-03 -8.61862340e-01  3.81906357e-01\n",
            "  -1.10231512e+00 -2.35957593e-01  5.28305876e-02 -6.47187264e-03\n",
            "   8.18603103e-02 -5.26760028e-03  1.23944500e+00 -4.84473268e-02\n",
            "  -8.21906612e-03  3.35786452e-01  5.66820027e-04]]\n",
            "Intercept:  [122.9987386  -29.16113864]\n",
            "\n",
            "REGRESSION REPORT:\n",
            "\n",
            "TRAINING ACCURACY:\t 0.5535742611903482\n",
            "VARIANCE SCORE:\t\t 0.5908836454811851\n",
            "ABSOLUTE ERROR:\t\t 1.2174628363203563\n",
            "MEAN SQUARED ERROR:\t 4.168271513182919\n",
            "MEDIAN ABSOLUTE ERROR:   0.8976911802404643\n",
            "R-SQUARE SCORE:  \t 0.5907471692357757\n"
          ],
          "name": "stdout"
        },
        {
          "output_type": "stream",
          "text": [
            "/usr/local/lib/python3.6/dist-packages/sklearn/base.py:434: FutureWarning: The default value of multioutput (not exposed in score method) will change from 'variance_weighted' to 'uniform_average' in 0.23 to keep consistent with 'metrics.r2_score'. To specify the default value manually and avoid the warning, please either call 'metrics.r2_score' directly or make a custom scorer with 'metrics.make_scorer' (the built-in scorer 'r2' uses multioutput='uniform_average').\n",
            "  \"multioutput='uniform_average').\", FutureWarning)\n"
          ],
          "name": "stderr"
        }
      ]
    },
    {
      "cell_type": "code",
      "metadata": {
        "id": "RNtk2MrpZD2v",
        "colab": {
          "base_uri": "https://localhost:8080/",
          "height": 70
        },
        "outputId": "22248dc9-8f3c-4cd5-9396-15e3b8c785ec"
      },
      "source": [
        "TRAIN_ACCURACY.append(RC.score(X_train, Y_train))\n",
        "VARIANCE_SCORE.append(metrics.explained_variance_score(Y_test,RC_pred))\n",
        "#MAX_ERROR.append(metrics.max_error(Y_test,RC_pred))\n",
        "ABSOLUTE_ERROR.append(metrics.mean_absolute_error(Y_test,RC_pred))\n",
        "MEAN_SQUARED_ERROR.append(metrics.mean_squared_error(Y_test,RC_pred))\n",
        "MEDIAN_ABSOLUTE_ERROR.append(metrics.median_absolute_error(Y_test,RC_pred))\n",
        "R_SQUARE_SCORE.append(metrics.r2_score(Y_test,RC_pred))"
      ],
      "execution_count": null,
      "outputs": [
        {
          "output_type": "stream",
          "text": [
            "/usr/local/lib/python3.6/dist-packages/sklearn/base.py:434: FutureWarning: The default value of multioutput (not exposed in score method) will change from 'variance_weighted' to 'uniform_average' in 0.23 to keep consistent with 'metrics.r2_score'. To specify the default value manually and avoid the warning, please either call 'metrics.r2_score' directly or make a custom scorer with 'metrics.make_scorer' (the built-in scorer 'r2' uses multioutput='uniform_average').\n",
            "  \"multioutput='uniform_average').\", FutureWarning)\n"
          ],
          "name": "stderr"
        }
      ]
    },
    {
      "cell_type": "markdown",
      "metadata": {
        "id": "ojAJcjpOUiPj"
      },
      "source": [
        "#LASSO REGRESSION"
      ]
    },
    {
      "cell_type": "code",
      "metadata": {
        "id": "ugJTHXkXVSl7",
        "colab": {
          "base_uri": "https://localhost:8080/",
          "height": 427
        },
        "outputId": "7332806e-3db0-48ce-ae26-d1ab68dd77a9"
      },
      "source": [
        "from sklearn import linear_model, metrics\n",
        "\n",
        "LassoR = linear_model.Lasso(alpha=0.1)\n",
        "LassoR.fit(X_train, Y_train)\n",
        "LassoR_pred = LassoR.predict(X_test)\n",
        "print ('Coefficients: ', LassoR.coef_)\n",
        "print ('Intercept: ', LassoR.intercept_)\n",
        "\n",
        "print(\"\\nREGRESSION REPORT:\\n\")\n",
        "print(\"TRAINING ACCURACY:\\t\", LassoR.score(X_train, Y_train))\n",
        "print(\"VARIANCE SCORE:\\t\\t\", metrics.explained_variance_score(Y_test,LassoR_pred))\n",
        "#print(\"MAX ERROR:\\t\\t\", metrics.max_error(Y_test, LassoR_pred))\n",
        "print(\"ABSOLUTE ERROR:\\t\\t\", metrics.mean_absolute_error(Y_test, LassoR_pred))\n",
        "print(\"MEAN SQUARED ERROR:\\t\", metrics.mean_squared_error(Y_test, LassoR_pred))\n",
        "#print(\"MEAN SQUARED LOG ERROR: \", metrics.mean_squared_log_error(Y_test, LassoR_pred))\n",
        "print(\"MEDIAN ABSOLUTE ERROR:  \", metrics.median_absolute_error(Y_test, LassoR_pred))\n",
        "print(\"R-SQUARE SCORE:  \\t\", metrics.r2_score(Y_test, LassoR_pred))\n",
        "#print(\"MEAN POISSON DEVIANCE: \", metrics.mean_poisson_deviance(Y_test, LassoR_pred))\n",
        "#print(\"MEAN GAMMA DEVIANCE: \", metrics.mean_gamma_deviance(Y_test,LassoR_pred))"
      ],
      "execution_count": null,
      "outputs": [
        {
          "output_type": "stream",
          "text": [
            "Coefficients:  [[ 1.58357146e-02  1.29288105e-06  7.63804081e-02  1.82774293e-01\n",
            "  -2.76537494e-02 -1.03596442e-01  3.52497604e-01  7.45871424e-02\n",
            "  -3.00526271e-01  1.46405778e-02 -0.00000000e+00 -0.00000000e+00\n",
            "  -0.00000000e+00 -8.15935465e-02  9.75978515e-03  5.26321190e-02\n",
            "  -6.75613420e-03 -7.87277266e-03  0.00000000e+00 -0.00000000e+00\n",
            "  -3.80055741e-04  1.59388510e-01  6.55960418e-04]\n",
            " [ 0.00000000e+00  1.55388247e-06 -3.46716446e-02  3.17049873e-01\n",
            "   2.59052739e-03 -9.39366519e-02 -1.26828585e-01  6.00497782e-01\n",
            "  -8.61149717e-02  4.39257784e-03 -0.00000000e+00 -0.00000000e+00\n",
            "  -0.00000000e+00 -0.00000000e+00  0.00000000e+00 -0.00000000e+00\n",
            "   0.00000000e+00 -0.00000000e+00  0.00000000e+00 -0.00000000e+00\n",
            "  -5.05538005e-03  1.85424939e-01  4.73623747e-04]]\n",
            "Intercept:  [18.61953613 11.13965137]\n",
            "\n",
            "REGRESSION REPORT:\n",
            "\n",
            "TRAINING ACCURACY:\t 0.5255302560004378\n",
            "VARIANCE SCORE:\t\t 0.5685433321874758\n",
            "ABSOLUTE ERROR:\t\t 1.2786369060279348\n",
            "MEAN SQUARED ERROR:\t 4.426024615089783\n",
            "MEDIAN ABSOLUTE ERROR:   0.9421210703502219\n",
            "R-SQUARE SCORE:  \t 0.5684121523566587\n"
          ],
          "name": "stdout"
        },
        {
          "output_type": "stream",
          "text": [
            "/usr/local/lib/python3.6/dist-packages/sklearn/base.py:434: FutureWarning: The default value of multioutput (not exposed in score method) will change from 'variance_weighted' to 'uniform_average' in 0.23 to keep consistent with 'metrics.r2_score'. To specify the default value manually and avoid the warning, please either call 'metrics.r2_score' directly or make a custom scorer with 'metrics.make_scorer' (the built-in scorer 'r2' uses multioutput='uniform_average').\n",
            "  \"multioutput='uniform_average').\", FutureWarning)\n"
          ],
          "name": "stderr"
        }
      ]
    },
    {
      "cell_type": "code",
      "metadata": {
        "id": "l-SK8pXmZIVV",
        "colab": {
          "base_uri": "https://localhost:8080/",
          "height": 70
        },
        "outputId": "d1ea0b18-44e9-4875-b994-fe7820e85acf"
      },
      "source": [
        "TRAIN_ACCURACY.append(LassoR.score(X_train, Y_train))\n",
        "VARIANCE_SCORE.append(metrics.explained_variance_score(Y_test,LassoR_pred))\n",
        "#MAX_ERROR.append(metrics.max_error(Y_test, LassoR_pred))\n",
        "ABSOLUTE_ERROR.append(metrics.mean_absolute_error(Y_test, LassoR_pred))\n",
        "MEAN_SQUARED_ERROR.append(metrics.mean_squared_error(Y_test, LassoR_pred))\n",
        "MEDIAN_ABSOLUTE_ERROR.append(metrics.median_absolute_error(Y_test, LassoR_pred))\n",
        "R_SQUARE_SCORE.append(metrics.r2_score(Y_test, LassoR_pred))"
      ],
      "execution_count": null,
      "outputs": [
        {
          "output_type": "stream",
          "text": [
            "/usr/local/lib/python3.6/dist-packages/sklearn/base.py:434: FutureWarning: The default value of multioutput (not exposed in score method) will change from 'variance_weighted' to 'uniform_average' in 0.23 to keep consistent with 'metrics.r2_score'. To specify the default value manually and avoid the warning, please either call 'metrics.r2_score' directly or make a custom scorer with 'metrics.make_scorer' (the built-in scorer 'r2' uses multioutput='uniform_average').\n",
            "  \"multioutput='uniform_average').\", FutureWarning)\n"
          ],
          "name": "stderr"
        }
      ]
    },
    {
      "cell_type": "markdown",
      "metadata": {
        "id": "SS_32UcfVNN7"
      },
      "source": [
        "#LARS LASSO REGRESSION"
      ]
    },
    {
      "cell_type": "code",
      "metadata": {
        "id": "uOk10_64VP8R",
        "colab": {
          "base_uri": "https://localhost:8080/",
          "height": 265
        },
        "outputId": "e71c024a-9d63-4bc9-fb84-aa69694a2387"
      },
      "source": [
        "from sklearn import linear_model, metrics\n",
        "\n",
        "LARSLassoR = linear_model.LassoLars(alpha=0.1)\n",
        "LARSLassoR.fit(X_train, Y_train)\n",
        "LARSLassoR_pred = LARSLassoR.predict(X_test)\n",
        "print ('Coefficients: ', LARSLassoR.coef_)\n",
        "print ('Intercept: ', LARSLassoR.intercept_)\n",
        "\n",
        "print(\"\\nREGRESSION REPORT:\\n\")\n",
        "print(\"TRAINING ACCURACY:\\t\", LARSLassoR.score(X_train, Y_train))\n",
        "print(\"VARIANCE SCORE:\\t\\t\", metrics.explained_variance_score(Y_test,LARSLassoR_pred))\n",
        "#print(\"MAX ERROR:\\t\\t\", metrics.max_error(Y_test, LARSLassoR_pred))\n",
        "print(\"ABSOLUTE ERROR:\\t\\t\", metrics.mean_absolute_error(Y_test, LARSLassoR_pred))\n",
        "print(\"MEAN SQUARED ERROR:\\t\", metrics.mean_squared_error(Y_test, LARSLassoR_pred))\n",
        "#print(\"MEAN SQUARED LOG ERROR: \", metrics.mean_squared_log_error(Y_test, LARSLassoR_pred))\n",
        "print(\"MEDIAN ABSOLUTE ERROR:  \", metrics.median_absolute_error(Y_test, LARSLassoR_pred))\n",
        "print(\"R-SQUARE SCORE:  \\t\", metrics.r2_score(Y_test, LARSLassoR_pred))\n",
        "#print(\"MEAN POISSON DEVIANCE: \", metrics.mean_poisson_deviance(Y_test, LARSLassoR_pred))\n",
        "#print(\"MEAN GAMMA DEVIANCE: \", metrics.mean_gamma_deviance(Y_test,LARSLassoR_pred))"
      ],
      "execution_count": null,
      "outputs": [
        {
          "output_type": "stream",
          "text": [
            "Coefficients:  [[0. 0. 0. 0. 0. 0. 0. 0. 0. 0. 0. 0. 0. 0. 0. 0. 0. 0. 0. 0. 0. 0. 0.]\n",
            " [0. 0. 0. 0. 0. 0. 0. 0. 0. 0. 0. 0. 0. 0. 0. 0. 0. 0. 0. 0. 0. 0. 0.]]\n",
            "Intercept:  [30.17734236 22.864796  ]\n",
            "\n",
            "REGRESSION REPORT:\n",
            "\n",
            "TRAINING ACCURACY:\t 0.0\n",
            "VARIANCE SCORE:\t\t -5.551115123125783e-16\n",
            "ABSOLUTE ERROR:\t\t 2.32185063327175\n",
            "MEAN SQUARED ERROR:\t 10.208162921161248\n",
            "MEDIAN ABSOLUTE ERROR:   1.956273181744896\n",
            "R-SQUARE SCORE:  \t -0.00030985966481600347\n"
          ],
          "name": "stdout"
        },
        {
          "output_type": "stream",
          "text": [
            "/usr/local/lib/python3.6/dist-packages/sklearn/base.py:434: FutureWarning: The default value of multioutput (not exposed in score method) will change from 'variance_weighted' to 'uniform_average' in 0.23 to keep consistent with 'metrics.r2_score'. To specify the default value manually and avoid the warning, please either call 'metrics.r2_score' directly or make a custom scorer with 'metrics.make_scorer' (the built-in scorer 'r2' uses multioutput='uniform_average').\n",
            "  \"multioutput='uniform_average').\", FutureWarning)\n"
          ],
          "name": "stderr"
        }
      ]
    },
    {
      "cell_type": "code",
      "metadata": {
        "id": "YwMUPGmoZK5m",
        "colab": {
          "base_uri": "https://localhost:8080/",
          "height": 70
        },
        "outputId": "aa0f6f3d-e8f0-43f9-cef9-b030795107d1"
      },
      "source": [
        "TRAIN_ACCURACY.append(LARSLassoR.score(X_train, Y_train))\n",
        "VARIANCE_SCORE.append(metrics.explained_variance_score(Y_test,LARSLassoR_pred))\n",
        "#MAX_ERROR.append(metrics.max_error(Y_test, LARSLassoR_pred))\n",
        "ABSOLUTE_ERROR.append(metrics.mean_absolute_error(Y_test, LARSLassoR_pred))\n",
        "MEAN_SQUARED_ERROR.append(metrics.mean_squared_error(Y_test, LARSLassoR_pred))\n",
        "MEDIAN_ABSOLUTE_ERROR.append(metrics.median_absolute_error(Y_test, LARSLassoR_pred))\n",
        "R_SQUARE_SCORE.append(metrics.r2_score(Y_test, LARSLassoR_pred))"
      ],
      "execution_count": null,
      "outputs": [
        {
          "output_type": "stream",
          "text": [
            "/usr/local/lib/python3.6/dist-packages/sklearn/base.py:434: FutureWarning: The default value of multioutput (not exposed in score method) will change from 'variance_weighted' to 'uniform_average' in 0.23 to keep consistent with 'metrics.r2_score'. To specify the default value manually and avoid the warning, please either call 'metrics.r2_score' directly or make a custom scorer with 'metrics.make_scorer' (the built-in scorer 'r2' uses multioutput='uniform_average').\n",
            "  \"multioutput='uniform_average').\", FutureWarning)\n"
          ],
          "name": "stderr"
        }
      ]
    },
    {
      "cell_type": "markdown",
      "metadata": {
        "id": "2QKD9BoMCgMO"
      },
      "source": [
        "#DECISiON TREE"
      ]
    },
    {
      "cell_type": "code",
      "metadata": {
        "id": "5sU4ZYlxChac",
        "colab": {
          "base_uri": "https://localhost:8080/",
          "height": 216
        },
        "outputId": "727d3f36-fc63-4cbd-9531-45f29d2bfe63"
      },
      "source": [
        "from sklearn.tree import DecisionTreeRegressor\n",
        "DT = DecisionTreeRegressor()\n",
        "DT.fit(X_train, Y_train)\n",
        "DT_pred = DT.predict(X_test)\n",
        "\n",
        "print(\"\\nREGRESSION REPORT:\\n\")\n",
        "print(\"TRAINING ACCURACY:\\t\", DT.score(X_train, Y_train))\n",
        "print(\"VARIANCE SCORE:\\t\\t\", metrics.explained_variance_score(Y_test,DT_pred))\n",
        "#print(\"MAX ERROR:\\t\\t\", metrics.max_error(Y_test, DT_pred))\n",
        "print(\"ABSOLUTE ERROR:\\t\\t\", metrics.mean_absolute_error(Y_test, DT_pred))\n",
        "print(\"MEAN SQUARED ERROR:\\t\", metrics.mean_squared_error(Y_test, DT_pred))\n",
        "#print(\"MEAN SQUARED LOG ERROR: \", metrics.mean_squared_log_error(Y_test,DT_pred))\n",
        "print(\"MEDIAN ABSOLUTE ERROR:  \", metrics.median_absolute_error(Y_test,DT_pred))\n",
        "print(\"R-SQUARE SCORE:  \\t\", metrics.r2_score(Y_test, DT_pred))\n",
        "#print(\"MEAN POISSON DEVIANCE: \", metrics.mean_poisson_deviance(Y_test, DT_pred))\n",
        "#print(\"MEAN GAMMA DEVIANCE: \", metrics.mean_gamma_deviance(Y_test, DT_pred))"
      ],
      "execution_count": null,
      "outputs": [
        {
          "output_type": "stream",
          "text": [
            "\n",
            "REGRESSION REPORT:\n",
            "\n",
            "TRAINING ACCURACY:\t 1.0\n",
            "VARIANCE SCORE:\t\t 0.24818404366954733\n",
            "ABSOLUTE ERROR:\t\t 1.1892649903288186\n",
            "MEAN SQUARED ERROR:\t 7.665644745325608\n",
            "MEDIAN ABSOLUTE ERROR:   0.7499999999999982\n",
            "R-SQUARE SCORE:  \t 0.24787658491325082\n"
          ],
          "name": "stdout"
        },
        {
          "output_type": "stream",
          "text": [
            "/usr/local/lib/python3.6/dist-packages/sklearn/base.py:434: FutureWarning: The default value of multioutput (not exposed in score method) will change from 'variance_weighted' to 'uniform_average' in 0.23 to keep consistent with 'metrics.r2_score'. To specify the default value manually and avoid the warning, please either call 'metrics.r2_score' directly or make a custom scorer with 'metrics.make_scorer' (the built-in scorer 'r2' uses multioutput='uniform_average').\n",
            "  \"multioutput='uniform_average').\", FutureWarning)\n"
          ],
          "name": "stderr"
        }
      ]
    },
    {
      "cell_type": "code",
      "metadata": {
        "id": "kAO462IkZUyF",
        "colab": {
          "base_uri": "https://localhost:8080/",
          "height": 70
        },
        "outputId": "45745608-1ccd-4211-f5d7-d5715e6fd927"
      },
      "source": [
        "TRAIN_ACCURACY.append(DT.score(X_train, Y_train))\n",
        "VARIANCE_SCORE.append(metrics.explained_variance_score(Y_test,DT_pred))\n",
        "#MAX_ERROR.append(metrics.max_error(Y_test, DT_pred))\n",
        "ABSOLUTE_ERROR.append(metrics.mean_absolute_error(Y_test, DT_pred))\n",
        "MEAN_SQUARED_ERROR.append(metrics.mean_squared_error(Y_test, DT_pred))\n",
        "MEDIAN_ABSOLUTE_ERROR.append(metrics.median_absolute_error(Y_test,DT_pred))\n",
        "R_SQUARE_SCORE.append(metrics.r2_score(Y_test, DT_pred))"
      ],
      "execution_count": null,
      "outputs": [
        {
          "output_type": "stream",
          "text": [
            "/usr/local/lib/python3.6/dist-packages/sklearn/base.py:434: FutureWarning: The default value of multioutput (not exposed in score method) will change from 'variance_weighted' to 'uniform_average' in 0.23 to keep consistent with 'metrics.r2_score'. To specify the default value manually and avoid the warning, please either call 'metrics.r2_score' directly or make a custom scorer with 'metrics.make_scorer' (the built-in scorer 'r2' uses multioutput='uniform_average').\n",
            "  \"multioutput='uniform_average').\", FutureWarning)\n"
          ],
          "name": "stderr"
        }
      ]
    },
    {
      "cell_type": "markdown",
      "metadata": {
        "id": "8lt8LJ-LtK3w"
      },
      "source": [
        "#RANDOM FOREST"
      ]
    },
    {
      "cell_type": "code",
      "metadata": {
        "id": "5vkfdGp1wWvN",
        "colab": {
          "base_uri": "https://localhost:8080/",
          "height": 216
        },
        "outputId": "98a3cf1b-28d8-4a95-9c9f-2e7958bfffd3"
      },
      "source": [
        "from sklearn.preprocessing import StandardScaler\n",
        "\n",
        "from sklearn.ensemble import RandomForestRegressor\n",
        "RF = RandomForestRegressor()\n",
        "RF.fit(X_train, Y_train)\n",
        "RF_pred = RF.predict(X_test)\n",
        "\n",
        "print(\"\\nREGRESSION REPORT:\\n\")\n",
        "print(\"TRAINING ACCURACY:\\t\", RF.score(X_train, Y_train))\n",
        "print(\"VARIANCE SCORE:\\t\\t\", metrics.explained_variance_score(Y_test,RF_pred))\n",
        "#print(\"MAX ERROR:\\t\\t\", metrics.max_error(Y_test, RF_pred))\n",
        "print(\"ABSOLUTE ERROR:\\t\\t\", metrics.mean_absolute_error(Y_test, RF_pred))\n",
        "print(\"MEAN SQUARED ERROR:\\t\", metrics.mean_squared_error(Y_test, RF_pred))\n",
        "#print(\"MEAN SQUARED LOG ERROR: \", metrics.mean_squared_log_error(Y_test, RF_pred))\n",
        "print(\"MEDIAN ABSOLUTE ERROR:  \", metrics.median_absolute_error(Y_test, RF_pred))\n",
        "print(\"R-SQUARE SCORE:  \\t\", metrics.r2_score(Y_test, RF_pred))\n",
        "#print(\"MEAN POISSON DEVIANCE: \", metrics.mean_poisson_deviance(Y_test, RF_pred))\n",
        "#print(\"MEAN GAMMA DEVIANCE: \", metrics.mean_gamma_deviance(Y_test, RF_pred))"
      ],
      "execution_count": null,
      "outputs": [
        {
          "output_type": "stream",
          "text": [
            "\n",
            "REGRESSION REPORT:\n",
            "\n",
            "TRAINING ACCURACY:\t 0.9526288093058473\n",
            "VARIANCE SCORE:\t\t 0.6978865290832376\n",
            "ABSOLUTE ERROR:\t\t 0.7762865892972284\n",
            "MEAN SQUARED ERROR:\t 3.062410881689236\n",
            "MEDIAN ABSOLUTE ERROR:   0.5214999999999961\n",
            "R-SQUARE SCORE:  \t 0.6978461659236359\n"
          ],
          "name": "stdout"
        },
        {
          "output_type": "stream",
          "text": [
            "/usr/local/lib/python3.6/dist-packages/sklearn/base.py:434: FutureWarning: The default value of multioutput (not exposed in score method) will change from 'variance_weighted' to 'uniform_average' in 0.23 to keep consistent with 'metrics.r2_score'. To specify the default value manually and avoid the warning, please either call 'metrics.r2_score' directly or make a custom scorer with 'metrics.make_scorer' (the built-in scorer 'r2' uses multioutput='uniform_average').\n",
            "  \"multioutput='uniform_average').\", FutureWarning)\n"
          ],
          "name": "stderr"
        }
      ]
    },
    {
      "cell_type": "code",
      "metadata": {
        "id": "hFnxqC1FZX7y",
        "colab": {
          "base_uri": "https://localhost:8080/",
          "height": 70
        },
        "outputId": "32269e3e-a54f-4cbe-aff8-e43dbc965756"
      },
      "source": [
        "TRAIN_ACCURACY.append(RF.score(X_train, Y_train))\n",
        "VARIANCE_SCORE.append(metrics.explained_variance_score(Y_test,RF_pred))\n",
        "#MAX_ERROR.append(metrics.max_error(Y_test, RF_pred))\n",
        "ABSOLUTE_ERROR.append(metrics.mean_absolute_error(Y_test, RF_pred))\n",
        "MEAN_SQUARED_ERROR.append(metrics.mean_squared_error(Y_test, RF_pred))\n",
        "MEDIAN_ABSOLUTE_ERROR.append(metrics.median_absolute_error(Y_test, RF_pred))\n",
        "R_SQUARE_SCORE.append(metrics.r2_score(Y_test, RF_pred))"
      ],
      "execution_count": null,
      "outputs": [
        {
          "output_type": "stream",
          "text": [
            "/usr/local/lib/python3.6/dist-packages/sklearn/base.py:434: FutureWarning: The default value of multioutput (not exposed in score method) will change from 'variance_weighted' to 'uniform_average' in 0.23 to keep consistent with 'metrics.r2_score'. To specify the default value manually and avoid the warning, please either call 'metrics.r2_score' directly or make a custom scorer with 'metrics.make_scorer' (the built-in scorer 'r2' uses multioutput='uniform_average').\n",
            "  \"multioutput='uniform_average').\", FutureWarning)\n"
          ],
          "name": "stderr"
        }
      ]
    },
    {
      "cell_type": "markdown",
      "metadata": {
        "id": "13CLyDRXlaBg"
      },
      "source": [
        "#PERFORMANCE EVALUATION"
      ]
    },
    {
      "cell_type": "code",
      "metadata": {
        "id": "GR6t0EkrlYZX",
        "colab": {
          "base_uri": "https://localhost:8080/",
          "height": 248
        },
        "outputId": "cda0baa3-359e-4c15-b294-002bb0e09846"
      },
      "source": [
        "PERFORMANCE = pd.DataFrame({\n",
        "'REGRESSOR' : REGRESSOR,\n",
        "'ACCURACY %' : TRAIN_ACCURACY,\n",
        "'VARIANCE SCORE' : VARIANCE_SCORE,\n",
        "'ABSOLUTE ERROR' : ABSOLUTE_ERROR,\n",
        "'MEAN SQUARED ERROR' : MEAN_SQUARED_ERROR,\n",
        "'MEDIAN ABSOLUTE ERROR' : MEDIAN_ABSOLUTE_ERROR,\n",
        "'R-SQUARE SCORE' : R_SQUARE_SCORE })\n",
        "\n",
        "PERFORMANCE"
      ],
      "execution_count": null,
      "outputs": [
        {
          "output_type": "execute_result",
          "data": {
            "text/html": [
              "<div>\n",
              "<style scoped>\n",
              "    .dataframe tbody tr th:only-of-type {\n",
              "        vertical-align: middle;\n",
              "    }\n",
              "\n",
              "    .dataframe tbody tr th {\n",
              "        vertical-align: top;\n",
              "    }\n",
              "\n",
              "    .dataframe thead th {\n",
              "        text-align: right;\n",
              "    }\n",
              "</style>\n",
              "<table border=\"1\" class=\"dataframe\">\n",
              "  <thead>\n",
              "    <tr style=\"text-align: right;\">\n",
              "      <th></th>\n",
              "      <th>REGRESSOR</th>\n",
              "      <th>ACCURACY %</th>\n",
              "      <th>VARIANCE SCORE</th>\n",
              "      <th>ABSOLUTE ERROR</th>\n",
              "      <th>MEAN SQUARED ERROR</th>\n",
              "      <th>MEDIAN ABSOLUTE ERROR</th>\n",
              "      <th>R-SQUARE SCORE</th>\n",
              "    </tr>\n",
              "  </thead>\n",
              "  <tbody>\n",
              "    <tr>\n",
              "      <th>0</th>\n",
              "      <td>LINEAR REGRESSION</td>\n",
              "      <td>0.553578</td>\n",
              "      <td>5.908961e-01</td>\n",
              "      <td>1.217470</td>\n",
              "      <td>4.168214</td>\n",
              "      <td>0.898519</td>\n",
              "      <td>0.590760</td>\n",
              "    </tr>\n",
              "    <tr>\n",
              "      <th>1</th>\n",
              "      <td>RIDGE REGRESSION</td>\n",
              "      <td>0.553577</td>\n",
              "      <td>5.908905e-01</td>\n",
              "      <td>1.217464</td>\n",
              "      <td>4.168236</td>\n",
              "      <td>0.897341</td>\n",
              "      <td>0.590754</td>\n",
              "    </tr>\n",
              "    <tr>\n",
              "      <th>2</th>\n",
              "      <td>RIDGE COMPLEXITY</td>\n",
              "      <td>0.553574</td>\n",
              "      <td>5.908836e-01</td>\n",
              "      <td>1.217463</td>\n",
              "      <td>4.168272</td>\n",
              "      <td>0.897691</td>\n",
              "      <td>0.590747</td>\n",
              "    </tr>\n",
              "    <tr>\n",
              "      <th>3</th>\n",
              "      <td>LASSO REGRESSION</td>\n",
              "      <td>0.525530</td>\n",
              "      <td>5.685433e-01</td>\n",
              "      <td>1.278637</td>\n",
              "      <td>4.426025</td>\n",
              "      <td>0.942121</td>\n",
              "      <td>0.568412</td>\n",
              "    </tr>\n",
              "    <tr>\n",
              "      <th>4</th>\n",
              "      <td>LARS LASSO REGRESSION</td>\n",
              "      <td>0.000000</td>\n",
              "      <td>-5.551115e-16</td>\n",
              "      <td>2.321851</td>\n",
              "      <td>10.208163</td>\n",
              "      <td>1.956273</td>\n",
              "      <td>-0.000310</td>\n",
              "    </tr>\n",
              "    <tr>\n",
              "      <th>5</th>\n",
              "      <td>DECISION TREE</td>\n",
              "      <td>1.000000</td>\n",
              "      <td>2.481840e-01</td>\n",
              "      <td>1.189265</td>\n",
              "      <td>7.665645</td>\n",
              "      <td>0.750000</td>\n",
              "      <td>0.247877</td>\n",
              "    </tr>\n",
              "    <tr>\n",
              "      <th>6</th>\n",
              "      <td>RANDOM FOREST</td>\n",
              "      <td>0.952629</td>\n",
              "      <td>6.978865e-01</td>\n",
              "      <td>0.776287</td>\n",
              "      <td>3.062411</td>\n",
              "      <td>0.521500</td>\n",
              "      <td>0.697846</td>\n",
              "    </tr>\n",
              "  </tbody>\n",
              "</table>\n",
              "</div>"
            ],
            "text/plain": [
              "               REGRESSOR  ACCURACY %  ...  MEDIAN ABSOLUTE ERROR  R-SQUARE SCORE\n",
              "0      LINEAR REGRESSION    0.553578  ...               0.898519        0.590760\n",
              "1       RIDGE REGRESSION    0.553577  ...               0.897341        0.590754\n",
              "2       RIDGE COMPLEXITY    0.553574  ...               0.897691        0.590747\n",
              "3       LASSO REGRESSION    0.525530  ...               0.942121        0.568412\n",
              "4  LARS LASSO REGRESSION    0.000000  ...               1.956273       -0.000310\n",
              "5          DECISION TREE    1.000000  ...               0.750000        0.247877\n",
              "6          RANDOM FOREST    0.952629  ...               0.521500        0.697846\n",
              "\n",
              "[7 rows x 7 columns]"
            ]
          },
          "metadata": {
            "tags": []
          },
          "execution_count": 57
        }
      ]
    }
  ]
}