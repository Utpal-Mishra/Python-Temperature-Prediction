{
  "nbformat": 4,
  "nbformat_minor": 0,
  "metadata": {
    "colab": {
      "name": "TemperaturePredictionIntegratedModel.ipynb",
      "provenance": [],
      "collapsed_sections": [
        "ZnNY6iK5KCrv",
        "HciNbqXnJ-Vg",
        "UiV0MUJ-J6Xo",
        "R5yU51FgUYS9",
        "XQ1y2RdQUgaP",
        "ojAJcjpOUiPj",
        "SS_32UcfVNN7",
        "-eV9RTtvVeg6",
        "jVn8xRIssPxz",
        "b_xQnRaTI_cD",
        "2QKD9BoMCgMO",
        "8lt8LJ-LtK3w",
        "Ft1_sje6MJAa",
        "bCZRvntpOs75",
        "9z8mAaByPKHc",
        "E0wdtgBJMgFm",
        "r_nFn8H9J1K8"
      ],
      "mount_file_id": "1UE6Z2PRd2juP1BmTlW-SMDrldtONHgPe",
      "authorship_tag": "ABX9TyOCfrdXJAWPhmhppZ7xNyAj",
      "include_colab_link": true
    },
    "kernelspec": {
      "name": "python3",
      "display_name": "Python 3"
    }
  },
  "cells": [
    {
      "cell_type": "markdown",
      "metadata": {
        "id": "view-in-github",
        "colab_type": "text"
      },
      "source": [
        "<a href=\"https://colab.research.google.com/github/Utpal-Mishra/Python-Temperature-Prediction/blob/main/TemperaturePredictionIntegratedModel.ipynb\" target=\"_parent\"><img src=\"https://colab.research.google.com/assets/colab-badge.svg\" alt=\"Open In Colab\"/></a>"
      ]
    },
    {
      "cell_type": "markdown",
      "metadata": {
        "id": "ZnNY6iK5KCrv"
      },
      "source": [
        "#IMPORT LIBRARIES"
      ]
    },
    {
      "cell_type": "code",
      "metadata": {
        "id": "SfFTY4G1YUeT"
      },
      "source": [
        "import pandas as pd\n",
        "import pylab as pl\n",
        "import numpy as np\n",
        "import scipy.optimize as opt\n",
        "from sklearn import preprocessing\n",
        "%matplotlib inline \n",
        "import matplotlib.pyplot as plt"
      ],
      "execution_count": null,
      "outputs": []
    },
    {
      "cell_type": "markdown",
      "metadata": {
        "id": "HciNbqXnJ-Vg"
      },
      "source": [
        "#IMPORT DATA"
      ]
    },
    {
      "cell_type": "code",
      "metadata": {
        "id": "XK00XD6mX3sQ",
        "colab": {
          "base_uri": "https://localhost:8080/",
          "height": 33
        },
        "outputId": "aa8077fa-ed8a-4d5b-bae6-d11a1723eadd"
      },
      "source": [
        "from google.colab import drive\n",
        "drive.mount('/content/Drive/')"
      ],
      "execution_count": null,
      "outputs": [
        {
          "output_type": "stream",
          "text": [
            "Drive already mounted at /content/Drive/; to attempt to forcibly remount, call drive.mount(\"/content/Drive/\", force_remount=True).\n"
          ],
          "name": "stdout"
        }
      ]
    },
    {
      "cell_type": "code",
      "metadata": {
        "id": "89DFE4z9YrCO",
        "colab": {
          "base_uri": "https://localhost:8080/",
          "height": 308
        },
        "outputId": "b5c44baf-0dc9-4b2b-d443-f957007d1747"
      },
      "source": [
        "path = '/content/Drive/My Drive/Temperature Prediction/Bias_correction_ucl.csv'\n",
        "data = pd.read_csv(path)\n",
        "data.head()"
      ],
      "execution_count": null,
      "outputs": [
        {
          "output_type": "execute_result",
          "data": {
            "text/html": [
              "<div>\n",
              "<style scoped>\n",
              "    .dataframe tbody tr th:only-of-type {\n",
              "        vertical-align: middle;\n",
              "    }\n",
              "\n",
              "    .dataframe tbody tr th {\n",
              "        vertical-align: top;\n",
              "    }\n",
              "\n",
              "    .dataframe thead th {\n",
              "        text-align: right;\n",
              "    }\n",
              "</style>\n",
              "<table border=\"1\" class=\"dataframe\">\n",
              "  <thead>\n",
              "    <tr style=\"text-align: right;\">\n",
              "      <th></th>\n",
              "      <th>Station</th>\n",
              "      <th>Date</th>\n",
              "      <th>Present_Tmax</th>\n",
              "      <th>Present_Tmin</th>\n",
              "      <th>LDAPS_RHmin</th>\n",
              "      <th>LDAPS_RHmax</th>\n",
              "      <th>LDAPS_Tmax_lapse</th>\n",
              "      <th>LDAPS_Tmin_lapse</th>\n",
              "      <th>LDAPS_WS</th>\n",
              "      <th>LDAPS_LH</th>\n",
              "      <th>LDAPS_CC1</th>\n",
              "      <th>LDAPS_CC2</th>\n",
              "      <th>LDAPS_CC3</th>\n",
              "      <th>LDAPS_CC4</th>\n",
              "      <th>LDAPS_PPT1</th>\n",
              "      <th>LDAPS_PPT2</th>\n",
              "      <th>LDAPS_PPT3</th>\n",
              "      <th>LDAPS_PPT4</th>\n",
              "      <th>lat</th>\n",
              "      <th>lon</th>\n",
              "      <th>DEM</th>\n",
              "      <th>Slope</th>\n",
              "      <th>Solar radiation</th>\n",
              "      <th>Next_Tmax</th>\n",
              "      <th>Next_Tmin</th>\n",
              "    </tr>\n",
              "  </thead>\n",
              "  <tbody>\n",
              "    <tr>\n",
              "      <th>0</th>\n",
              "      <td>1.0</td>\n",
              "      <td>2013-06-30</td>\n",
              "      <td>28.7</td>\n",
              "      <td>21.4</td>\n",
              "      <td>58.255688</td>\n",
              "      <td>91.116364</td>\n",
              "      <td>28.074101</td>\n",
              "      <td>23.006936</td>\n",
              "      <td>6.818887</td>\n",
              "      <td>69.451805</td>\n",
              "      <td>0.233948</td>\n",
              "      <td>0.203896</td>\n",
              "      <td>0.161697</td>\n",
              "      <td>0.130928</td>\n",
              "      <td>0.0</td>\n",
              "      <td>0.0</td>\n",
              "      <td>0.0</td>\n",
              "      <td>0.0</td>\n",
              "      <td>37.6046</td>\n",
              "      <td>126.991</td>\n",
              "      <td>212.3350</td>\n",
              "      <td>2.7850</td>\n",
              "      <td>5992.8960</td>\n",
              "      <td>29.1</td>\n",
              "      <td>21.2</td>\n",
              "    </tr>\n",
              "    <tr>\n",
              "      <th>1</th>\n",
              "      <td>2.0</td>\n",
              "      <td>2013-06-30</td>\n",
              "      <td>31.9</td>\n",
              "      <td>21.6</td>\n",
              "      <td>52.263397</td>\n",
              "      <td>90.604721</td>\n",
              "      <td>29.850689</td>\n",
              "      <td>24.035009</td>\n",
              "      <td>5.691890</td>\n",
              "      <td>51.937448</td>\n",
              "      <td>0.225508</td>\n",
              "      <td>0.251771</td>\n",
              "      <td>0.159444</td>\n",
              "      <td>0.127727</td>\n",
              "      <td>0.0</td>\n",
              "      <td>0.0</td>\n",
              "      <td>0.0</td>\n",
              "      <td>0.0</td>\n",
              "      <td>37.6046</td>\n",
              "      <td>127.032</td>\n",
              "      <td>44.7624</td>\n",
              "      <td>0.5141</td>\n",
              "      <td>5869.3125</td>\n",
              "      <td>30.5</td>\n",
              "      <td>22.5</td>\n",
              "    </tr>\n",
              "    <tr>\n",
              "      <th>2</th>\n",
              "      <td>3.0</td>\n",
              "      <td>2013-06-30</td>\n",
              "      <td>31.6</td>\n",
              "      <td>23.3</td>\n",
              "      <td>48.690479</td>\n",
              "      <td>83.973587</td>\n",
              "      <td>30.091292</td>\n",
              "      <td>24.565633</td>\n",
              "      <td>6.138224</td>\n",
              "      <td>20.573050</td>\n",
              "      <td>0.209344</td>\n",
              "      <td>0.257469</td>\n",
              "      <td>0.204092</td>\n",
              "      <td>0.142125</td>\n",
              "      <td>0.0</td>\n",
              "      <td>0.0</td>\n",
              "      <td>0.0</td>\n",
              "      <td>0.0</td>\n",
              "      <td>37.5776</td>\n",
              "      <td>127.058</td>\n",
              "      <td>33.3068</td>\n",
              "      <td>0.2661</td>\n",
              "      <td>5863.5557</td>\n",
              "      <td>31.1</td>\n",
              "      <td>23.9</td>\n",
              "    </tr>\n",
              "    <tr>\n",
              "      <th>3</th>\n",
              "      <td>4.0</td>\n",
              "      <td>2013-06-30</td>\n",
              "      <td>32.0</td>\n",
              "      <td>23.4</td>\n",
              "      <td>58.239788</td>\n",
              "      <td>96.483688</td>\n",
              "      <td>29.704629</td>\n",
              "      <td>23.326177</td>\n",
              "      <td>5.650050</td>\n",
              "      <td>65.727144</td>\n",
              "      <td>0.216372</td>\n",
              "      <td>0.226002</td>\n",
              "      <td>0.161157</td>\n",
              "      <td>0.134249</td>\n",
              "      <td>0.0</td>\n",
              "      <td>0.0</td>\n",
              "      <td>0.0</td>\n",
              "      <td>0.0</td>\n",
              "      <td>37.6450</td>\n",
              "      <td>127.022</td>\n",
              "      <td>45.7160</td>\n",
              "      <td>2.5348</td>\n",
              "      <td>5856.9648</td>\n",
              "      <td>31.7</td>\n",
              "      <td>24.3</td>\n",
              "    </tr>\n",
              "    <tr>\n",
              "      <th>4</th>\n",
              "      <td>5.0</td>\n",
              "      <td>2013-06-30</td>\n",
              "      <td>31.4</td>\n",
              "      <td>21.9</td>\n",
              "      <td>56.174095</td>\n",
              "      <td>90.155128</td>\n",
              "      <td>29.113934</td>\n",
              "      <td>23.486480</td>\n",
              "      <td>5.735004</td>\n",
              "      <td>107.965535</td>\n",
              "      <td>0.151407</td>\n",
              "      <td>0.249995</td>\n",
              "      <td>0.178892</td>\n",
              "      <td>0.170021</td>\n",
              "      <td>0.0</td>\n",
              "      <td>0.0</td>\n",
              "      <td>0.0</td>\n",
              "      <td>0.0</td>\n",
              "      <td>37.5507</td>\n",
              "      <td>127.135</td>\n",
              "      <td>35.0380</td>\n",
              "      <td>0.5055</td>\n",
              "      <td>5859.5522</td>\n",
              "      <td>31.2</td>\n",
              "      <td>22.5</td>\n",
              "    </tr>\n",
              "  </tbody>\n",
              "</table>\n",
              "</div>"
            ],
            "text/plain": [
              "   Station        Date  Present_Tmax  ...  Solar radiation  Next_Tmax  Next_Tmin\n",
              "0      1.0  2013-06-30          28.7  ...        5992.8960       29.1       21.2\n",
              "1      2.0  2013-06-30          31.9  ...        5869.3125       30.5       22.5\n",
              "2      3.0  2013-06-30          31.6  ...        5863.5557       31.1       23.9\n",
              "3      4.0  2013-06-30          32.0  ...        5856.9648       31.7       24.3\n",
              "4      5.0  2013-06-30          31.4  ...        5859.5522       31.2       22.5\n",
              "\n",
              "[5 rows x 25 columns]"
            ]
          },
          "metadata": {
            "tags": []
          },
          "execution_count": 45
        }
      ]
    },
    {
      "cell_type": "code",
      "metadata": {
        "id": "vQuX2dydZbdP",
        "colab": {
          "base_uri": "https://localhost:8080/",
          "height": 33
        },
        "outputId": "d8cb9b7a-be9b-4e06-d36b-8ca3fa53621c"
      },
      "source": [
        "print(\"Data.shape:\", data.shape)"
      ],
      "execution_count": null,
      "outputs": [
        {
          "output_type": "stream",
          "text": [
            "Data.shape: (7752, 25)\n"
          ],
          "name": "stdout"
        }
      ]
    },
    {
      "cell_type": "code",
      "metadata": {
        "id": "6E_p3gnrjXpm",
        "colab": {
          "base_uri": "https://localhost:8080/",
          "height": 227
        },
        "outputId": "67cbcdf8-befb-47d3-c240-39136b790b10"
      },
      "source": [
        "import datetime as dt\n",
        "data['Date'] = pd.to_datetime(data['Date'])\n",
        "data['Date']= data['Date'].map(dt.datetime.toordinal)\n",
        "data.head()"
      ],
      "execution_count": null,
      "outputs": [
        {
          "output_type": "execute_result",
          "data": {
            "text/html": [
              "<div>\n",
              "<style scoped>\n",
              "    .dataframe tbody tr th:only-of-type {\n",
              "        vertical-align: middle;\n",
              "    }\n",
              "\n",
              "    .dataframe tbody tr th {\n",
              "        vertical-align: top;\n",
              "    }\n",
              "\n",
              "    .dataframe thead th {\n",
              "        text-align: right;\n",
              "    }\n",
              "</style>\n",
              "<table border=\"1\" class=\"dataframe\">\n",
              "  <thead>\n",
              "    <tr style=\"text-align: right;\">\n",
              "      <th></th>\n",
              "      <th>Station</th>\n",
              "      <th>Date</th>\n",
              "      <th>Present_Tmax</th>\n",
              "      <th>Present_Tmin</th>\n",
              "      <th>LDAPS_RHmin</th>\n",
              "      <th>LDAPS_RHmax</th>\n",
              "      <th>LDAPS_Tmax_lapse</th>\n",
              "      <th>LDAPS_Tmin_lapse</th>\n",
              "      <th>LDAPS_WS</th>\n",
              "      <th>LDAPS_LH</th>\n",
              "      <th>LDAPS_CC1</th>\n",
              "      <th>LDAPS_CC2</th>\n",
              "      <th>LDAPS_CC3</th>\n",
              "      <th>LDAPS_CC4</th>\n",
              "      <th>LDAPS_PPT1</th>\n",
              "      <th>LDAPS_PPT2</th>\n",
              "      <th>LDAPS_PPT3</th>\n",
              "      <th>LDAPS_PPT4</th>\n",
              "      <th>lat</th>\n",
              "      <th>lon</th>\n",
              "      <th>DEM</th>\n",
              "      <th>Slope</th>\n",
              "      <th>Solar radiation</th>\n",
              "      <th>Next_Tmax</th>\n",
              "      <th>Next_Tmin</th>\n",
              "    </tr>\n",
              "  </thead>\n",
              "  <tbody>\n",
              "    <tr>\n",
              "      <th>0</th>\n",
              "      <td>1.0</td>\n",
              "      <td>735049</td>\n",
              "      <td>28.7</td>\n",
              "      <td>21.4</td>\n",
              "      <td>58.255688</td>\n",
              "      <td>91.116364</td>\n",
              "      <td>28.074101</td>\n",
              "      <td>23.006936</td>\n",
              "      <td>6.818887</td>\n",
              "      <td>69.451805</td>\n",
              "      <td>0.233948</td>\n",
              "      <td>0.203896</td>\n",
              "      <td>0.161697</td>\n",
              "      <td>0.130928</td>\n",
              "      <td>0.0</td>\n",
              "      <td>0.0</td>\n",
              "      <td>0.0</td>\n",
              "      <td>0.0</td>\n",
              "      <td>37.6046</td>\n",
              "      <td>126.991</td>\n",
              "      <td>212.3350</td>\n",
              "      <td>2.7850</td>\n",
              "      <td>5992.8960</td>\n",
              "      <td>29.1</td>\n",
              "      <td>21.2</td>\n",
              "    </tr>\n",
              "    <tr>\n",
              "      <th>1</th>\n",
              "      <td>2.0</td>\n",
              "      <td>735049</td>\n",
              "      <td>31.9</td>\n",
              "      <td>21.6</td>\n",
              "      <td>52.263397</td>\n",
              "      <td>90.604721</td>\n",
              "      <td>29.850689</td>\n",
              "      <td>24.035009</td>\n",
              "      <td>5.691890</td>\n",
              "      <td>51.937448</td>\n",
              "      <td>0.225508</td>\n",
              "      <td>0.251771</td>\n",
              "      <td>0.159444</td>\n",
              "      <td>0.127727</td>\n",
              "      <td>0.0</td>\n",
              "      <td>0.0</td>\n",
              "      <td>0.0</td>\n",
              "      <td>0.0</td>\n",
              "      <td>37.6046</td>\n",
              "      <td>127.032</td>\n",
              "      <td>44.7624</td>\n",
              "      <td>0.5141</td>\n",
              "      <td>5869.3125</td>\n",
              "      <td>30.5</td>\n",
              "      <td>22.5</td>\n",
              "    </tr>\n",
              "    <tr>\n",
              "      <th>2</th>\n",
              "      <td>3.0</td>\n",
              "      <td>735049</td>\n",
              "      <td>31.6</td>\n",
              "      <td>23.3</td>\n",
              "      <td>48.690479</td>\n",
              "      <td>83.973587</td>\n",
              "      <td>30.091292</td>\n",
              "      <td>24.565633</td>\n",
              "      <td>6.138224</td>\n",
              "      <td>20.573050</td>\n",
              "      <td>0.209344</td>\n",
              "      <td>0.257469</td>\n",
              "      <td>0.204092</td>\n",
              "      <td>0.142125</td>\n",
              "      <td>0.0</td>\n",
              "      <td>0.0</td>\n",
              "      <td>0.0</td>\n",
              "      <td>0.0</td>\n",
              "      <td>37.5776</td>\n",
              "      <td>127.058</td>\n",
              "      <td>33.3068</td>\n",
              "      <td>0.2661</td>\n",
              "      <td>5863.5557</td>\n",
              "      <td>31.1</td>\n",
              "      <td>23.9</td>\n",
              "    </tr>\n",
              "    <tr>\n",
              "      <th>3</th>\n",
              "      <td>4.0</td>\n",
              "      <td>735049</td>\n",
              "      <td>32.0</td>\n",
              "      <td>23.4</td>\n",
              "      <td>58.239788</td>\n",
              "      <td>96.483688</td>\n",
              "      <td>29.704629</td>\n",
              "      <td>23.326177</td>\n",
              "      <td>5.650050</td>\n",
              "      <td>65.727144</td>\n",
              "      <td>0.216372</td>\n",
              "      <td>0.226002</td>\n",
              "      <td>0.161157</td>\n",
              "      <td>0.134249</td>\n",
              "      <td>0.0</td>\n",
              "      <td>0.0</td>\n",
              "      <td>0.0</td>\n",
              "      <td>0.0</td>\n",
              "      <td>37.6450</td>\n",
              "      <td>127.022</td>\n",
              "      <td>45.7160</td>\n",
              "      <td>2.5348</td>\n",
              "      <td>5856.9648</td>\n",
              "      <td>31.7</td>\n",
              "      <td>24.3</td>\n",
              "    </tr>\n",
              "    <tr>\n",
              "      <th>4</th>\n",
              "      <td>5.0</td>\n",
              "      <td>735049</td>\n",
              "      <td>31.4</td>\n",
              "      <td>21.9</td>\n",
              "      <td>56.174095</td>\n",
              "      <td>90.155128</td>\n",
              "      <td>29.113934</td>\n",
              "      <td>23.486480</td>\n",
              "      <td>5.735004</td>\n",
              "      <td>107.965535</td>\n",
              "      <td>0.151407</td>\n",
              "      <td>0.249995</td>\n",
              "      <td>0.178892</td>\n",
              "      <td>0.170021</td>\n",
              "      <td>0.0</td>\n",
              "      <td>0.0</td>\n",
              "      <td>0.0</td>\n",
              "      <td>0.0</td>\n",
              "      <td>37.5507</td>\n",
              "      <td>127.135</td>\n",
              "      <td>35.0380</td>\n",
              "      <td>0.5055</td>\n",
              "      <td>5859.5522</td>\n",
              "      <td>31.2</td>\n",
              "      <td>22.5</td>\n",
              "    </tr>\n",
              "  </tbody>\n",
              "</table>\n",
              "</div>"
            ],
            "text/plain": [
              "   Station    Date  Present_Tmax  ...  Solar radiation  Next_Tmax  Next_Tmin\n",
              "0      1.0  735049          28.7  ...        5992.8960       29.1       21.2\n",
              "1      2.0  735049          31.9  ...        5869.3125       30.5       22.5\n",
              "2      3.0  735049          31.6  ...        5863.5557       31.1       23.9\n",
              "3      4.0  735049          32.0  ...        5856.9648       31.7       24.3\n",
              "4      5.0  735049          31.4  ...        5859.5522       31.2       22.5\n",
              "\n",
              "[5 rows x 25 columns]"
            ]
          },
          "metadata": {
            "tags": []
          },
          "execution_count": 47
        }
      ]
    },
    {
      "cell_type": "code",
      "metadata": {
        "id": "RMMG5_12jac-",
        "colab": {
          "base_uri": "https://localhost:8080/",
          "height": 50
        },
        "outputId": "090c1803-b466-4b65-a2b7-0565c3e75a46"
      },
      "source": [
        "print(data.isnull().sum().sum())\n",
        "data.fillna(value = 0, inplace = True)\n",
        "print(data.isnull().sum().sum())"
      ],
      "execution_count": null,
      "outputs": [
        {
          "output_type": "stream",
          "text": [
            "1246\n",
            "0\n"
          ],
          "name": "stdout"
        }
      ]
    },
    {
      "cell_type": "code",
      "metadata": {
        "id": "ZZOOu0wCoZub",
        "colab": {
          "base_uri": "https://localhost:8080/",
          "height": 50
        },
        "outputId": "cd613d3c-55e3-4d1f-a163-54eaf3d0422a"
      },
      "source": [
        "print(np.any(np.isnan(data)))\n",
        "print(np.all(np.isfinite(data)))"
      ],
      "execution_count": null,
      "outputs": [
        {
          "output_type": "stream",
          "text": [
            "False\n",
            "True\n"
          ],
          "name": "stdout"
        }
      ]
    },
    {
      "cell_type": "code",
      "metadata": {
        "id": "1XJy-Utdrlt_",
        "colab": {
          "base_uri": "https://localhost:8080/",
          "height": 212
        },
        "outputId": "f454ed52-160b-4b0a-94d6-d937d8587d5b"
      },
      "source": [
        "data['Present_Tmax'].apply(lambda x: '{:.1f}'.format(x))\n",
        "data['Present_Tmin'].apply(lambda x: '{:.1f}'.format(x))\n",
        "data['LDAPS_RHmin'].apply(lambda x: '{:.7f}'.format(x))\n",
        "data['LDAPS_RHmax'].apply(lambda x: '{:.7f}'.format(x))\n",
        "data['LDAPS_Tmax_lapse'].apply(lambda x: '{:.7f}'.format(x))\n",
        "data['LDAPS_Tmin_lapse'].apply(lambda x: '{:.7f}'.format(x))\n",
        "data['LDAPS_WS'].apply(lambda x: '{:.7f}'.format(x))\n",
        "data['LDAPS_LH'].apply(lambda x: '{:.7f}'.format(x))\n",
        "data['LDAPS_CC1'].apply(lambda x: '{:.7f}'.format(x))\n",
        "data['LDAPS_CC2'].apply(lambda x: '{:.7f}'.format(x))\n",
        "data['LDAPS_CC3'].apply(lambda x: '{:.7f}'.format(x))\n",
        "data['LDAPS_CC4'].apply(lambda x: '{:.7f}'.format(x))\n",
        "data['LDAPS_PPT1'].apply(lambda x: '{:.7f}'.format(x))\n",
        "data['LDAPS_PPT2'].apply(lambda x: '{:.7f}'.format(x))\n",
        "data['LDAPS_PPT3'].apply(lambda x: '{:.7f}'.format(x))\n",
        "data['LDAPS_PPT4'].apply(lambda x: '{:.7f}'.format(x))\n",
        "data['lat'].apply(lambda x: '{:.4f}'.format(x))\n",
        "data['lon'].apply(lambda x: '{:.3f}'.format(x))\n",
        "data['DEM'].apply(lambda x: '{:.4f}'.format(x))\n",
        "data['Slope'].apply(lambda x: '{:.4f}'.format(x))\n",
        "data['Solar radiation'].apply(lambda x: '{:.4f}'.format(x))\n",
        "data['Next_Tmax'].apply(lambda x: '{:.1f}'.format(x))\n",
        "data['Next_Tmin'].apply(lambda x: '{:.1f}'.format(x))"
      ],
      "execution_count": null,
      "outputs": [
        {
          "output_type": "execute_result",
          "data": {
            "text/plain": [
              "0       21.2\n",
              "1       22.5\n",
              "2       23.9\n",
              "3       24.3\n",
              "4       22.5\n",
              "        ... \n",
              "7747    18.1\n",
              "7748    18.8\n",
              "7749    17.4\n",
              "7750    11.3\n",
              "7751    29.8\n",
              "Name: Next_Tmin, Length: 7752, dtype: object"
            ]
          },
          "metadata": {
            "tags": []
          },
          "execution_count": 50
        }
      ]
    },
    {
      "cell_type": "code",
      "metadata": {
        "id": "y8A8R8Ubrlxr",
        "colab": {
          "base_uri": "https://localhost:8080/",
          "height": 50
        },
        "outputId": "c743eac5-1259-434d-9a43-256467633ec3"
      },
      "source": [
        "print(np.any(np.isnan(data)))\n",
        "print(np.all(np.isfinite(data)))"
      ],
      "execution_count": null,
      "outputs": [
        {
          "output_type": "stream",
          "text": [
            "False\n",
            "True\n"
          ],
          "name": "stdout"
        }
      ]
    },
    {
      "cell_type": "markdown",
      "metadata": {
        "id": "UiV0MUJ-J6Xo"
      },
      "source": [
        "#VISUALIZATION"
      ]
    },
    {
      "cell_type": "code",
      "metadata": {
        "id": "NLFuzZurZBFV",
        "colab": {
          "base_uri": "https://localhost:8080/",
          "height": 607
        },
        "outputId": "9faaa2ad-cea1-49e5-ccc4-294f76e0e7ad"
      },
      "source": [
        "data.hist(figsize = (12,10), bins = 50)\n",
        "plt.show()"
      ],
      "execution_count": null,
      "outputs": [
        {
          "output_type": "display_data",
          "data": {
            "image/png": "[encoded data removed]",
            "text/plain": [
              "<Figure size 864x720 with 25 Axes>"
            ]
          },
          "metadata": {
            "tags": [],
            "needs_background": "light"
          }
        }
      ]
    },
    {
      "cell_type": "markdown",
      "metadata": {
        "id": "aj7jew7--OB3"
      },
      "source": [
        "#CREATING MODEL: CALCULATING NEXT_Tmax"
      ]
    },
    {
      "cell_type": "markdown",
      "metadata": {
        "id": "0IA_IvLqIymC"
      },
      "source": [
        "#MODEL TRAINING"
      ]
    },
    {
      "cell_type": "code",
      "metadata": {
        "id": "A8eJzVbdZLOW",
        "colab": {
          "base_uri": "https://localhost:8080/",
          "height": 33
        },
        "outputId": "b3a805d4-b13f-4ef7-94f4-d96f28c26ec8"
      },
      "source": [
        "X = data.drop(['Next_Tmax', 'Next_Tmin'] , axis=1).values\n",
        "Y = data['Next_Tmax'].values\n",
        "\n",
        "from sklearn.model_selection import train_test_split\n",
        "X_train, X_test, Y_train, Y_test = train_test_split(X, Y, test_size = 0.2)\n",
        "print(\"X_train.shape:\", X_train.shape, \"X_test.shape:\", X_test.shape, \"Y_train.shape:\", Y_train.shape, \"Y_test.shape:\", Y_test.shape)"
      ],
      "execution_count": null,
      "outputs": [
        {
          "output_type": "stream",
          "text": [
            "X_train.shape: (6201, 23) X_test.shape: (1551, 23) Y_train.shape: (6201,) Y_test.shape: (1551,)\n"
          ],
          "name": "stdout"
        }
      ]
    },
    {
      "cell_type": "code",
      "metadata": {
        "id": "dI1W1tIuXwki"
      },
      "source": [
        "REGRESSOR = ['LINEAR REGRESSION','RIDGE REGRESSION','RIDGE COMPLEXITY','LASSO REGRESSION','LARS LASSO REGRESSION','BAYESIAN RIDGE REGRESSION','SVM', 'GRADIENT BOOSTING REGRESSION',\n",
        "             'DECISION TREE','RANDOM FOREST','ADABOOST','GRADIENT DESCENT REGRESSION','VOTING REGRESSION','XGBOOST']\n",
        "TRAIN_ACCURACY = []\n",
        "VARIANCE_SCORE = []\n",
        "MAX_ERROR = []\n",
        "ABSOLUTE_ERROR = []\n",
        "MEAN_SQUARED_ERROR = []\n",
        "MEDIAN_ABSOLUTE_ERROR = []\n",
        "R_SQUARE_SCORE = []"
      ],
      "execution_count": null,
      "outputs": []
    },
    {
      "cell_type": "markdown",
      "metadata": {
        "id": "hEK4HbGmmGi1"
      },
      "source": [
        "#LINEAR REGRESSION"
      ]
    },
    {
      "cell_type": "code",
      "metadata": {
        "id": "xvXbmX0TZLMl",
        "colab": {
          "base_uri": "https://localhost:8080/",
          "height": 293
        },
        "outputId": "2ebab93d-9c01-4bf3-ceae-fa1acae834ac"
      },
      "source": [
        "from sklearn import linear_model, metrics\n",
        "\n",
        "LR = linear_model.LinearRegression(normalize=True)\n",
        "\n",
        "LR.fit(X_train, Y_train)\n",
        "LR_pred = LR.predict(X_test)\n",
        "print ('Coefficients: ', LR.coef_)\n",
        "print ('Intercept: ', LR.intercept_)\n",
        "\n",
        "print(\"\\nREGRESSION REPORT:\\n\")\n",
        "print(\"TRAINING ACCURACY:\\t\", LR.score(X_train, Y_train))\n",
        "print(\"VARIANCE SCORE:\\t\\t\", metrics.explained_variance_score(Y_test,LR_pred))\n",
        "print(\"MAX ERROR:\\t\\t\", metrics.max_error(Y_test,LR_pred))\n",
        "print(\"ABSOLUTE ERROR:\\t\\t\", metrics.mean_absolute_error(Y_test,LR_pred))\n",
        "print(\"MEAN SQUARED ERROR:\\t\", metrics.mean_squared_error(Y_test,LR_pred))\n",
        "#print(\"MEAN SQUARED LOG ERROR: \", metrics.mean_squared_log_error(Y_test,LR_pred))\n",
        "print(\"MEDIAN ABSOLUTE ERROR:  \", metrics.median_absolute_error(Y_test,LR_pred))\n",
        "print(\"R-SQUARE SCORE:  \\t\", metrics.r2_score(Y_test,LR_pred))\n",
        "#print(\"MEAN POISSON DEVIANCE: \", metrics.mean_poisson_deviance(Y_test,LR_pred))\n",
        "#print(\"MEAN GAMMA DEVIANCE: \", metrics.mean_gamma_deviance(Y_test,LR_pred))"
      ],
      "execution_count": null,
      "outputs": [
        {
          "output_type": "stream",
          "text": [
            "Coefficients:  [ 1.77981849e-02 -4.56152077e-06  1.04363043e-01  1.59552507e-01\n",
            "  8.33688482e-03 -9.96592143e-02  2.53931083e-01  1.51334887e-01\n",
            " -2.73789154e-01  8.78506546e-03 -1.19629595e+00 -8.01055265e-01\n",
            " -2.12693591e+00 -1.17948056e+00  7.40710581e-02  1.42775334e-01\n",
            "  4.22164088e-02  6.39965121e-02  1.86934040e+00 -1.23677614e+00\n",
            " -4.44567354e-03  2.77593939e-01  6.84421209e-04]\n",
            "Intercept:  109.96846866253253\n",
            "\n",
            "REGRESSION REPORT:\n",
            "\n",
            "TRAINING ACCURACY:\t 0.5611829341045413\n",
            "VARIANCE SCORE:\t\t 0.5282191740288514\n",
            "MAX ERROR:\t\t 30.357736688779468\n",
            "ABSOLUTE ERROR:\t\t 1.444948817540158\n",
            "MEAN SQUARED ERROR:\t 6.1688193903739235\n",
            "MEDIAN ABSOLUTE ERROR:   1.0284123505652865\n",
            "R-SQUARE SCORE:  \t 0.5276614280358648\n"
          ],
          "name": "stdout"
        }
      ]
    },
    {
      "cell_type": "code",
      "metadata": {
        "id": "FlUxyNnTY-KC"
      },
      "source": [
        "TRAIN_ACCURACY.append(LR.score(X_train, Y_train))\n",
        "VARIANCE_SCORE.append(metrics.explained_variance_score(Y_test,LR_pred))\n",
        "MAX_ERROR.append(metrics.max_error(Y_test,LR_pred))\n",
        "ABSOLUTE_ERROR.append(metrics.mean_absolute_error(Y_test,LR_pred))\n",
        "MEAN_SQUARED_ERROR.append(metrics.mean_squared_error(Y_test,LR_pred))\n",
        "MEDIAN_ABSOLUTE_ERROR.append(metrics.median_absolute_error(Y_test,LR_pred))\n",
        "R_SQUARE_SCORE.append(metrics.r2_score(Y_test,LR_pred))"
      ],
      "execution_count": null,
      "outputs": []
    },
    {
      "cell_type": "markdown",
      "metadata": {
        "id": "R5yU51FgUYS9"
      },
      "source": [
        "#RIDGE REGRESSION"
      ]
    },
    {
      "cell_type": "code",
      "metadata": {
        "id": "LXhK5pq4UYxN",
        "colab": {
          "base_uri": "https://localhost:8080/",
          "height": 293
        },
        "outputId": "61124846-bb6c-4adf-be93-e390bc9ae80b"
      },
      "source": [
        "from sklearn import linear_model, metrics\n",
        "\n",
        "RR = linear_model.Ridge(alpha=.5)\n",
        "RR.fit(X_train, Y_train)\n",
        "RR_pred = RR.predict(X_test)\n",
        "print ('Coefficients: ', RR.coef_)\n",
        "print ('Intercept: ', RR.intercept_)\n",
        "\n",
        "print(\"\\nREGRESSION REPORT:\\n\")\n",
        "print(\"TRAINING ACCURACY:\\t\", RR.score(X_train, Y_train))\n",
        "print(\"VARIANCE SCORE:\\t\\t\", metrics.explained_variance_score(Y_test,RR_pred))\n",
        "print(\"MAX ERROR:\\t\\t\", metrics.max_error(Y_test,RR_pred))\n",
        "print(\"ABSOLUTE ERROR:\\t\\t\", metrics.mean_absolute_error(Y_test,RR_pred))\n",
        "print(\"MEAN SQUARED ERROR:\\t\", metrics.mean_squared_error(Y_test,RR_pred))\n",
        "#print(\"MEAN SQUARED LOG ERROR: \", metrics.mean_squared_log_error(Y_test,RR_pred))\n",
        "print(\"MEDIAN ABSOLUTE ERROR:  \", metrics.median_absolute_error(Y_test,RR_pred))\n",
        "print(\"R-SQUARE SCORE:  \\t\", metrics.r2_score(Y_test,RR_pred))\n",
        "#print(\"MEAN POISSON DEVIANCE: \", metrics.mean_poisson_deviance(Y_test,RR_pred))\n",
        "#print(\"MEAN GAMMA DEVIANCE: \", metrics.mean_gamma_deviance(Y_test,RR_pred))"
      ],
      "execution_count": null,
      "outputs": [
        {
          "output_type": "stream",
          "text": [
            "Coefficients:  [ 1.77172118e-02 -4.57257418e-06  1.04353617e-01  1.59617073e-01\n",
            "  8.33991151e-03 -9.96332120e-02  2.54068432e-01  1.51048893e-01\n",
            " -2.73728376e-01  8.79739546e-03 -1.19478492e+00 -8.03783031e-01\n",
            " -2.12006004e+00 -1.18138928e+00  7.39843313e-02  1.42741618e-01\n",
            "  4.20217773e-02  6.37008643e-02  1.79458170e+00 -1.20942795e+00\n",
            " -4.45290749e-03  2.77816040e-01  6.84713062e-04]\n",
            "Intercept:  109.30685001482793\n",
            "\n",
            "REGRESSION REPORT:\n",
            "\n",
            "TRAINING ACCURACY:\t 0.5611818138891891\n",
            "VARIANCE SCORE:\t\t 0.5282447662326856\n",
            "MAX ERROR:\t\t 30.352073876960475\n",
            "ABSOLUTE ERROR:\t\t 1.444903221768495\n",
            "MEAN SQUARED ERROR:\t 6.168472454827381\n",
            "MEDIAN ABSOLUTE ERROR:   1.0260637281395368\n",
            "R-SQUARE SCORE:  \t 0.5276879924447488\n"
          ],
          "name": "stdout"
        }
      ]
    },
    {
      "cell_type": "code",
      "metadata": {
        "id": "aSQwrqOiZBSV"
      },
      "source": [
        "TRAIN_ACCURACY.append(RR.score(X_train, Y_train))\n",
        "VARIANCE_SCORE.append(metrics.explained_variance_score(Y_test,RR_pred))\n",
        "MAX_ERROR.append(metrics.max_error(Y_test,RR_pred))\n",
        "ABSOLUTE_ERROR.append(metrics.mean_absolute_error(Y_test,RR_pred))\n",
        "MEAN_SQUARED_ERROR.append(metrics.mean_squared_error(Y_test,RR_pred))\n",
        "MEDIAN_ABSOLUTE_ERROR.append(metrics.median_absolute_error(Y_test,RR_pred))\n",
        "R_SQUARE_SCORE.append(metrics.r2_score(Y_test,RR_pred))"
      ],
      "execution_count": null,
      "outputs": []
    },
    {
      "cell_type": "markdown",
      "metadata": {
        "id": "XQ1y2RdQUgaP"
      },
      "source": [
        "#RIDGE COMPLEXITY"
      ]
    },
    {
      "cell_type": "code",
      "metadata": {
        "id": "CjnFObUKUYqx",
        "colab": {
          "base_uri": "https://localhost:8080/",
          "height": 293
        },
        "outputId": "10ae4e68-ccf4-4e77-946a-3d11da3442b0"
      },
      "source": [
        "from sklearn import linear_model, metrics\n",
        "\n",
        "RC = linear_model.RidgeCV()\n",
        "RC.fit(X_train, Y_train)\n",
        "RC_pred = RC.predict(X_test)\n",
        "print ('Coefficients: ', RC.coef_)\n",
        "print ('Intercept: ', RC.intercept_)\n",
        "\n",
        "print(\"\\nREGRESSION REPORT:\\n\")\n",
        "print(\"TRAINING ACCURACY:\\t\", RC.score(X_train, Y_train))\n",
        "print(\"VARIANCE SCORE:\\t\\t\", metrics.explained_variance_score(Y_test,RC_pred))\n",
        "print(\"MAX ERROR:\\t\\t\", metrics.max_error(Y_test,RC_pred))\n",
        "print(\"ABSOLUTE ERROR:\\t\\t\", metrics.mean_absolute_error(Y_test,RC_pred))\n",
        "print(\"MEAN SQUARED ERROR:\\t\", metrics.mean_squared_error(Y_test,RC_pred))\n",
        "#print(\"MEAN SQUARED LOG ERROR: \", metrics.mean_squared_log_error(Y_test,RC_pred))\n",
        "print(\"MEDIAN ABSOLUTE ERROR:  \", metrics.median_absolute_error(Y_test,RC_pred))\n",
        "print(\"R-SQUARE SCORE:  \\t\", metrics.r2_score(Y_test,RC_pred))\n",
        "#print(\"MEAN POISSON DEVIANCE: \", metrics.mean_poisson_deviance(Y_test,RC_pred))\n",
        "#print(\"MEAN GAMMA DEVIANCE: \", metrics.mean_gamma_deviance(Y_test,RC_pred))"
      ],
      "execution_count": null,
      "outputs": [
        {
          "output_type": "stream",
          "text": [
            "Coefficients:  [ 1.69062667e-02 -4.73740911e-06  1.03856831e-01  1.60882042e-01\n",
            "  7.81823530e-03 -9.93413233e-02  2.56300471e-01  1.47686491e-01\n",
            " -2.73279800e-01  8.99898150e-03 -1.16100065e+00 -8.37810829e-01\n",
            " -1.99379669e+00 -1.20693283e+00  7.24969825e-02  1.42030409e-01\n",
            "  3.82926863e-02  5.91783210e-02  1.01527506e+00 -8.85627462e-01\n",
            " -4.51008849e-03  2.80362380e-01  6.87301823e-04]\n",
            "Intercept:  97.52132898433099\n",
            "\n",
            "REGRESSION REPORT:\n",
            "\n",
            "TRAINING ACCURACY:\t 0.5610053128629973\n",
            "VARIANCE SCORE:\t\t 0.5284012427841376\n",
            "MAX ERROR:\t\t 30.28067193354366\n",
            "ABSOLUTE ERROR:\t\t 1.4451544075334462\n",
            "MEAN SQUARED ERROR:\t 6.1662708696207424\n",
            "MEDIAN ABSOLUTE ERROR:   1.0321980649668703\n",
            "R-SQUARE SCORE:  \t 0.5278565649943332\n"
          ],
          "name": "stdout"
        }
      ]
    },
    {
      "cell_type": "code",
      "metadata": {
        "id": "RNtk2MrpZD2v"
      },
      "source": [
        "TRAIN_ACCURACY.append(RC.score(X_train, Y_train))\n",
        "VARIANCE_SCORE.append(metrics.explained_variance_score(Y_test,RC_pred))\n",
        "MAX_ERROR.append(metrics.max_error(Y_test,RC_pred))\n",
        "ABSOLUTE_ERROR.append(metrics.mean_absolute_error(Y_test,RC_pred))\n",
        "MEAN_SQUARED_ERROR.append(metrics.mean_squared_error(Y_test,RC_pred))\n",
        "MEDIAN_ABSOLUTE_ERROR.append(metrics.median_absolute_error(Y_test,RC_pred))\n",
        "R_SQUARE_SCORE.append(metrics.r2_score(Y_test,RC_pred))"
      ],
      "execution_count": null,
      "outputs": []
    },
    {
      "cell_type": "markdown",
      "metadata": {
        "id": "ojAJcjpOUiPj"
      },
      "source": [
        "#LASSO REGRESSION"
      ]
    },
    {
      "cell_type": "code",
      "metadata": {
        "id": "ugJTHXkXVSl7",
        "colab": {
          "base_uri": "https://localhost:8080/",
          "height": 293
        },
        "outputId": "16b5c23d-2fe6-4382-bddf-88609594f838"
      },
      "source": [
        "from sklearn import linear_model, metrics\n",
        "\n",
        "LassoR = linear_model.Lasso(alpha=0.1)\n",
        "LassoR.fit(X_train, Y_train)\n",
        "LassoR_pred = LassoR.predict(X_test)\n",
        "print ('Coefficients: ', LassoR.coef_)\n",
        "print ('Intercept: ', LassoR.intercept_)\n",
        "\n",
        "print(\"\\nREGRESSION REPORT:\\n\")\n",
        "print(\"TRAINING ACCURACY:\\t\", LassoR.score(X_train, Y_train))\n",
        "print(\"VARIANCE SCORE:\\t\\t\", metrics.explained_variance_score(Y_test,LassoR_pred))\n",
        "print(\"MAX ERROR:\\t\\t\", metrics.max_error(Y_test, LassoR_pred))\n",
        "print(\"ABSOLUTE ERROR:\\t\\t\", metrics.mean_absolute_error(Y_test, LassoR_pred))\n",
        "print(\"MEAN SQUARED ERROR:\\t\", metrics.mean_squared_error(Y_test, LassoR_pred))\n",
        "#print(\"MEAN SQUARED LOG ERROR: \", metrics.mean_squared_log_error(Y_test, LassoR_pred))\n",
        "print(\"MEDIAN ABSOLUTE ERROR:  \", metrics.median_absolute_error(Y_test, LassoR_pred))\n",
        "print(\"R-SQUARE SCORE:  \\t\", metrics.r2_score(Y_test, LassoR_pred))\n",
        "#print(\"MEAN POISSON DEVIANCE: \", metrics.mean_poisson_deviance(Y_test, LassoR_pred))\n",
        "#print(\"MEAN GAMMA DEVIANCE: \", metrics.mean_gamma_deviance(Y_test,LassoR_pred))"
      ],
      "execution_count": null,
      "outputs": [
        {
          "output_type": "stream",
          "text": [
            "Coefficients:  [ 1.61545883e-02 -8.58350893e-06  9.10642157e-02  1.97059951e-01\n",
            " -3.19754930e-02 -9.43094243e-02  3.44441819e-01  6.49826015e-02\n",
            " -2.81514130e-01  1.40138378e-02 -0.00000000e+00 -0.00000000e+00\n",
            " -0.00000000e+00 -4.25048436e-02  7.04422510e-03  4.26956284e-02\n",
            " -0.00000000e+00 -1.52391821e-02  0.00000000e+00 -0.00000000e+00\n",
            " -1.03035811e-03  1.85753968e-01  6.43025627e-04]\n",
            "Intercept:  25.0057160520104\n",
            "\n",
            "REGRESSION REPORT:\n",
            "\n",
            "TRAINING ACCURACY:\t 0.5248618650560941\n",
            "VARIANCE SCORE:\t\t 0.49107500740048227\n",
            "MAX ERROR:\t\t 29.35880325355863\n",
            "ABSOLUTE ERROR:\t\t 1.5652688483944242\n",
            "MEAN SQUARED ERROR:\t 6.654853964451693\n",
            "MEDIAN ABSOLUTE ERROR:   1.1340858132325096\n",
            "R-SQUARE SCORE:  \t 0.49044638539685914\n"
          ],
          "name": "stdout"
        }
      ]
    },
    {
      "cell_type": "code",
      "metadata": {
        "id": "l-SK8pXmZIVV"
      },
      "source": [
        "TRAIN_ACCURACY.append(LassoR.score(X_train, Y_train))\n",
        "VARIANCE_SCORE.append(metrics.explained_variance_score(Y_test,LassoR_pred))\n",
        "MAX_ERROR.append(metrics.max_error(Y_test, LassoR_pred))\n",
        "ABSOLUTE_ERROR.append(metrics.mean_absolute_error(Y_test, LassoR_pred))\n",
        "MEAN_SQUARED_ERROR.append(metrics.mean_squared_error(Y_test, LassoR_pred))\n",
        "MEDIAN_ABSOLUTE_ERROR.append(metrics.median_absolute_error(Y_test, LassoR_pred))\n",
        "R_SQUARE_SCORE.append(metrics.r2_score(Y_test, LassoR_pred))"
      ],
      "execution_count": null,
      "outputs": []
    },
    {
      "cell_type": "markdown",
      "metadata": {
        "id": "SS_32UcfVNN7"
      },
      "source": [
        "#LARS LASSO REGRESSION"
      ]
    },
    {
      "cell_type": "code",
      "metadata": {
        "id": "uOk10_64VP8R",
        "colab": {
          "base_uri": "https://localhost:8080/",
          "height": 212
        },
        "outputId": "6737bdf8-9515-49a8-cfce-2da99b93f3f6"
      },
      "source": [
        "from sklearn import linear_model, metrics\n",
        "\n",
        "LARSLassoR = linear_model.LassoLars(alpha=0.1)\n",
        "LARSLassoR.fit(X_train, Y_train)\n",
        "LARSLassoR_pred = LARSLassoR.predict(X_test)\n",
        "print ('Coefficients: ', LARSLassoR.coef_)\n",
        "print ('Intercept: ', LARSLassoR.intercept_)\n",
        "\n",
        "print(\"\\nREGRESSION REPORT:\\n\")\n",
        "print(\"TRAINING ACCURACY:\\t\", LARSLassoR.score(X_train, Y_train))\n",
        "print(\"VARIANCE SCORE:\\t\\t\", metrics.explained_variance_score(Y_test,LARSLassoR_pred))\n",
        "print(\"MAX ERROR:\\t\\t\", metrics.max_error(Y_test, LARSLassoR_pred))\n",
        "print(\"ABSOLUTE ERROR:\\t\\t\", metrics.mean_absolute_error(Y_test, LARSLassoR_pred))\n",
        "print(\"MEAN SQUARED ERROR:\\t\", metrics.mean_squared_error(Y_test, LARSLassoR_pred))\n",
        "#print(\"MEAN SQUARED LOG ERROR: \", metrics.mean_squared_log_error(Y_test, LARSLassoR_pred))\n",
        "print(\"MEDIAN ABSOLUTE ERROR:  \", metrics.median_absolute_error(Y_test, LARSLassoR_pred))\n",
        "print(\"R-SQUARE SCORE:  \\t\", metrics.r2_score(Y_test, LARSLassoR_pred))\n",
        "#print(\"MEAN POISSON DEVIANCE: \", metrics.mean_poisson_deviance(Y_test, LARSLassoR_pred))\n",
        "#print(\"MEAN GAMMA DEVIANCE: \", metrics.mean_gamma_deviance(Y_test,LARSLassoR_pred))"
      ],
      "execution_count": null,
      "outputs": [
        {
          "output_type": "stream",
          "text": [
            "Coefficients:  [0. 0. 0. 0. 0. 0. 0. 0. 0. 0. 0. 0. 0. 0. 0. 0. 0. 0. 0. 0. 0. 0. 0.]\n",
            "Intercept:  30.187260119335594\n",
            "\n",
            "REGRESSION REPORT:\n",
            "\n",
            "TRAINING ACCURACY:\t 0.0\n",
            "VARIANCE SCORE:\t\t 1.1102230246251565e-16\n",
            "MAX ERROR:\t\t 30.187260119335594\n",
            "ABSOLUTE ERROR:\t\t 2.600940895641819\n",
            "MEAN SQUARED ERROR:\t 13.068097021313813\n",
            "MEDIAN ABSOLUTE ERROR:   2.112739880664403\n",
            "R-SQUARE SCORE:  \t -0.0006073925535994285\n"
          ],
          "name": "stdout"
        }
      ]
    },
    {
      "cell_type": "code",
      "metadata": {
        "id": "YwMUPGmoZK5m"
      },
      "source": [
        "TRAIN_ACCURACY.append(LARSLassoR.score(X_train, Y_train))\n",
        "VARIANCE_SCORE.append(metrics.explained_variance_score(Y_test,LARSLassoR_pred))\n",
        "MAX_ERROR.append(metrics.max_error(Y_test, LARSLassoR_pred))\n",
        "ABSOLUTE_ERROR.append(metrics.mean_absolute_error(Y_test, LARSLassoR_pred))\n",
        "MEAN_SQUARED_ERROR.append(metrics.mean_squared_error(Y_test, LARSLassoR_pred))\n",
        "MEDIAN_ABSOLUTE_ERROR.append(metrics.median_absolute_error(Y_test, LARSLassoR_pred))\n",
        "R_SQUARE_SCORE.append(metrics.r2_score(Y_test, LARSLassoR_pred))"
      ],
      "execution_count": null,
      "outputs": []
    },
    {
      "cell_type": "markdown",
      "metadata": {
        "id": "-eV9RTtvVeg6"
      },
      "source": [
        "#BAYESIAN RIDGE REGRESSION\n"
      ]
    },
    {
      "cell_type": "code",
      "metadata": {
        "id": "TwAE1Sq_VivR",
        "colab": {
          "base_uri": "https://localhost:8080/",
          "height": 293
        },
        "outputId": "04d6ec0d-c8e9-4fbf-8621-7396072c3585"
      },
      "source": [
        "from sklearn import linear_model, metrics\n",
        "\n",
        "BRR = linear_model.BayesianRidge()\n",
        "BRR.fit(X_train, Y_train)\n",
        "BRR_pred = BRR.predict(X_test)\n",
        "print ('Coefficients: ', BRR.coef_)\n",
        "print ('Intercept: ', BRR.intercept_)\n",
        "\n",
        "print(\"\\nREGRESSION REPORT:\\n\")\n",
        "print(\"TRAINING ACCURACY:\\t\", BRR.score(X_train, Y_train))\n",
        "print(\"VARIANCE SCORE:\\t\\t\", metrics.explained_variance_score(Y_test, BRR_pred))\n",
        "print(\"MAX ERROR:\\t\\t\", metrics.max_error(Y_test, BRR_pred))\n",
        "print(\"ABSOLUTE ERROR:\\t\\t\", metrics.mean_absolute_error(Y_test, BRR_pred))\n",
        "print(\"MEAN SQUARED ERROR:\\t\", metrics.mean_squared_error(Y_test, BRR_pred))\n",
        "#print(\"MEAN SQUARED LOG ERROR: \", metrics.mean_squared_log_error(Y_test, BRR_pred))\n",
        "print(\"MEDIAN ABSOLUTE ERROR:  \", metrics.median_absolute_error(Y_test, BRR_pred))\n",
        "print(\"R-SQUARE SCORE:  \\t\", metrics.r2_score(Y_test, BRR_pred))\n",
        "#print(\"MEAN POISSON DEVIANCE: \", metrics.mean_poisson_deviance(Y_test, BRR_pred))\n",
        "#print(\"MEAN GAMMA DEVIANCE: \", metrics.mean_gamma_deviance(Y_test, BRR_pred))"
      ],
      "execution_count": null,
      "outputs": [
        {
          "output_type": "stream",
          "text": [
            "Coefficients:  [ 1.67631062e-02 -4.79093146e-06  1.03613496e-01  1.61352368e-01\n",
            "  7.49059681e-03 -9.92790216e-02  2.57080219e-01  1.46861861e-01\n",
            " -2.73283364e-01  9.06734539e-03 -1.14752880e+00 -8.44838716e-01\n",
            " -1.94973030e+00 -1.21249656e+00  7.19740475e-02  1.41712674e-01\n",
            "  3.69174729e-02  5.77190427e-02  8.68979866e-01 -8.11994897e-01\n",
            " -4.51351357e-03  2.80956145e-01  6.87580423e-04]\n",
            "Intercept:  93.69038731278778\n",
            "\n",
            "REGRESSION REPORT:\n",
            "\n",
            "TRAINING ACCURACY:\t 0.5609201621612501\n",
            "VARIANCE SCORE:\t\t 0.5283915688328625\n",
            "MAX ERROR:\t\t 30.262292858236258\n",
            "ABSOLUTE ERROR:\t\t 1.4453129058852565\n",
            "MEAN SQUARED ERROR:\t 6.16635886151596\n",
            "MEDIAN ABSOLUTE ERROR:   1.0358398978159862\n",
            "R-SQUARE SCORE:  \t 0.5278498275680119\n"
          ],
          "name": "stdout"
        }
      ]
    },
    {
      "cell_type": "code",
      "metadata": {
        "id": "grLUHvhZZNMv"
      },
      "source": [
        "TRAIN_ACCURACY.append(BRR.score(X_train, Y_train))\n",
        "VARIANCE_SCORE.append(metrics.explained_variance_score(Y_test, BRR_pred))\n",
        "MAX_ERROR.append(metrics.max_error(Y_test, BRR_pred))\n",
        "ABSOLUTE_ERROR.append(metrics.mean_absolute_error(Y_test, BRR_pred))\n",
        "MEAN_SQUARED_ERROR.append(metrics.mean_squared_error(Y_test, BRR_pred))\n",
        "MEDIAN_ABSOLUTE_ERROR.append(metrics.median_absolute_error(Y_test, BRR_pred))\n",
        "R_SQUARE_SCORE.append(metrics.r2_score(Y_test, BRR_pred))"
      ],
      "execution_count": null,
      "outputs": []
    },
    {
      "cell_type": "markdown",
      "metadata": {
        "id": "jVn8xRIssPxz"
      },
      "source": [
        "#SVM"
      ]
    },
    {
      "cell_type": "code",
      "metadata": {
        "id": "9bwGjujysT7l",
        "colab": {
          "base_uri": "https://localhost:8080/",
          "height": 180
        },
        "outputId": "83d2477d-6dee-4f08-8f0a-2184228256aa"
      },
      "source": [
        "from sklearn.svm import SVR\n",
        "SVM = SVR(kernel='rbf')\n",
        "SVM.fit(X_train, Y_train)\n",
        "\n",
        "SVM_pred = SVM.predict(X_test)\n",
        "#print ('Coefficients: ', SVM.coef_)\n",
        "#print ('Intercept: ', SVM.intercept_)\n",
        "\n",
        "print(\"\\nREGRESSION REPORT:\\n\")\n",
        "print(\"TRAINING ACCURACY:\\t\", SVM.score(X_train, Y_train))\n",
        "print(\"VARIANCE SCORE:\\t\\t\", metrics.explained_variance_score(Y_test,SVM_pred))\n",
        "print(\"MAX ERROR:\\t\\t\", metrics.max_error(Y_test, SVM_pred))\n",
        "print(\"ABSOLUTE ERROR:\\t\\t\", metrics.mean_absolute_error(Y_test, SVM_pred))\n",
        "print(\"MEAN SQUARED ERROR:\\t\", metrics.mean_squared_error(Y_test, SVM_pred))\n",
        "#print(\"MEAN SQUARED LOG ERROR: \", metrics.mean_squared_log_error(Y_test, SVM_pred))\n",
        "print(\"MEDIAN ABSOLUTE ERROR:  \", metrics.median_absolute_error(Y_test, SVM_pred))\n",
        "print(\"R-SQUARE SCORE:  \\t\", metrics.r2_score(Y_test, SVM_pred))\n",
        "#print(\"MEAN POISSON DEVIANCE: \", metrics.mean_poisson_deviance(Y_test, SVM_pred))\n",
        "#print(\"MEAN GAMMA DEVIANCE: \", metrics.mean_gamma_deviance(Y_test, SVM_pred))"
      ],
      "execution_count": null,
      "outputs": [
        {
          "output_type": "stream",
          "text": [
            "\n",
            "REGRESSION REPORT:\n",
            "\n",
            "TRAINING ACCURACY:\t -0.00736396932758976\n",
            "VARIANCE SCORE:\t\t -0.0014401289409686768\n",
            "MAX ERROR:\t\t 30.500071790350926\n",
            "ABSOLUTE ERROR:\t\t 2.6012314507770657\n",
            "MEAN SQUARED ERROR:\t 13.240900536483226\n",
            "MEDIAN ABSOLUTE ERROR:   2.1002103540464354\n",
            "R-SQUARE SCORE:  \t -0.013838735606513053\n"
          ],
          "name": "stdout"
        }
      ]
    },
    {
      "cell_type": "code",
      "metadata": {
        "id": "JB04MuFjZPa-"
      },
      "source": [
        "TRAIN_ACCURACY.append(SVM.score(X_train, Y_train))\n",
        "VARIANCE_SCORE.append(metrics.explained_variance_score(Y_test,SVM_pred))\n",
        "MAX_ERROR.append(metrics.max_error(Y_test, SVM_pred))\n",
        "ABSOLUTE_ERROR.append(metrics.mean_absolute_error(Y_test, SVM_pred))\n",
        "MEAN_SQUARED_ERROR.append(metrics.mean_squared_error(Y_test, SVM_pred))\n",
        "MEDIAN_ABSOLUTE_ERROR.append(metrics.median_absolute_error(Y_test, SVM_pred))\n",
        "R_SQUARE_SCORE.append(metrics.r2_score(Y_test, SVM_pred))"
      ],
      "execution_count": null,
      "outputs": []
    },
    {
      "cell_type": "markdown",
      "metadata": {
        "id": "b_xQnRaTI_cD"
      },
      "source": [
        "#GRADIENT BOOSTING REGRESSION"
      ]
    },
    {
      "cell_type": "code",
      "metadata": {
        "id": "o7Ov_v-uJEQJ",
        "colab": {
          "base_uri": "https://localhost:8080/",
          "height": 180
        },
        "outputId": "704ff889-b938-4473-a259-c8d69ac51b42"
      },
      "source": [
        "from sklearn.ensemble import GradientBoostingRegressor\n",
        "import sklearn.metrics\n",
        "\n",
        "GBR = GradientBoostingRegressor(n_estimators=100, learning_rate=0.1, max_depth=1, random_state=0, loss='ls').fit(X_train, Y_train)\n",
        "#print(\"MEAN SQUARE ERROR: \", metrics.mean_squared_error(Y_test, GBR.predict(X_test)))\n",
        "GBR_PRED = GBR.predict(X_test)\n",
        "\n",
        "print(\"\\nREGRESSION REPORT:\\n\")\n",
        "print(\"TRAINING ACCURACY:\\t\", GBR.score(X_train, Y_train))\n",
        "print(\"VARIANCE SCORE:\\t\\t\", metrics.explained_variance_score(Y_test,RR_pred))\n",
        "print(\"MAX ERROR:\\t\\t\", metrics.max_error(Y_test,RR_pred))\n",
        "print(\"ABSOLUTE ERROR:\\t\\t\", metrics.mean_absolute_error(Y_test,RR_pred))\n",
        "print(\"MEAN SQUARED ERROR:\\t\", metrics.mean_squared_error(Y_test,RR_pred))\n",
        "#print(\"MEAN SQUARED LOG ERROR: \", metrics.mean_squared_log_error(Y_test,RR_pred))\n",
        "print(\"MEDIAN ABSOLUTE ERROR:  \", metrics.median_absolute_error(Y_test,RR_pred))\n",
        "print(\"R-SQUARE SCORE:  \\t\", metrics.r2_score(Y_test,RR_pred))\n",
        "#print(\"MEAN POISSON DEVIANCE: \", metrics.mean_poisson_deviance(Y_test,RR_pred))\n",
        "#print(\"MEAN GAMMA DEVIANCE: \", metrics.mean_gamma_deviance(Y_test,RR_pred))"
      ],
      "execution_count": null,
      "outputs": [
        {
          "output_type": "stream",
          "text": [
            "\n",
            "REGRESSION REPORT:\n",
            "\n",
            "TRAINING ACCURACY:\t 0.6008756145052999\n",
            "VARIANCE SCORE:\t\t 0.5282447662326856\n",
            "MAX ERROR:\t\t 30.352073876960475\n",
            "ABSOLUTE ERROR:\t\t 1.444903221768495\n",
            "MEAN SQUARED ERROR:\t 6.168472454827381\n",
            "MEDIAN ABSOLUTE ERROR:   1.0260637281395368\n",
            "R-SQUARE SCORE:  \t 0.5276879924447488\n"
          ],
          "name": "stdout"
        }
      ]
    },
    {
      "cell_type": "code",
      "metadata": {
        "id": "ffsBghGzZR2i"
      },
      "source": [
        "TRAIN_ACCURACY.append(GBR.score(X_train, Y_train))\n",
        "VARIANCE_SCORE.append(metrics.explained_variance_score(Y_test,RR_pred))\n",
        "MAX_ERROR.append(metrics.max_error(Y_test,RR_pred))\n",
        "ABSOLUTE_ERROR.append(metrics.mean_absolute_error(Y_test,RR_pred))\n",
        "MEAN_SQUARED_ERROR.append(metrics.mean_squared_error(Y_test,RR_pred))\n",
        "MEDIAN_ABSOLUTE_ERROR.append(metrics.median_absolute_error(Y_test,RR_pred))\n",
        "R_SQUARE_SCORE.append(metrics.r2_score(Y_test,RR_pred))"
      ],
      "execution_count": null,
      "outputs": []
    },
    {
      "cell_type": "markdown",
      "metadata": {
        "id": "2QKD9BoMCgMO"
      },
      "source": [
        "#DECISiON TREE"
      ]
    },
    {
      "cell_type": "code",
      "metadata": {
        "id": "5sU4ZYlxChac",
        "colab": {
          "base_uri": "https://localhost:8080/",
          "height": 180
        },
        "outputId": "153c3ac2-a03a-4422-bc5d-b5d5c2b271cd"
      },
      "source": [
        "from sklearn.tree import DecisionTreeRegressor\n",
        "DT = DecisionTreeRegressor()\n",
        "DT.fit(X_train, Y_train)\n",
        "DT_pred = DT.predict(X_test)\n",
        "\n",
        "print(\"\\nREGRESSION REPORT:\\n\")\n",
        "print(\"TRAINING ACCURACY:\\t\", DT.score(X_train, Y_train))\n",
        "print(\"VARIANCE SCORE:\\t\\t\", metrics.explained_variance_score(Y_test,DT_pred))\n",
        "print(\"MAX ERROR:\\t\\t\", metrics.max_error(Y_test, DT_pred))\n",
        "print(\"ABSOLUTE ERROR:\\t\\t\", metrics.mean_absolute_error(Y_test, DT_pred))\n",
        "print(\"MEAN SQUARED ERROR:\\t\", metrics.mean_squared_error(Y_test, DT_pred))\n",
        "#print(\"MEAN SQUARED LOG ERROR: \", metrics.mean_squared_log_error(Y_test,DT_pred))\n",
        "print(\"MEDIAN ABSOLUTE ERROR:  \", metrics.median_absolute_error(Y_test,DT_pred))\n",
        "print(\"R-SQUARE SCORE:  \\t\", metrics.r2_score(Y_test, DT_pred))\n",
        "#print(\"MEAN POISSON DEVIANCE: \", metrics.mean_poisson_deviance(Y_test, DT_pred))\n",
        "#print(\"MEAN GAMMA DEVIANCE: \", metrics.mean_gamma_deviance(Y_test, DT_pred))"
      ],
      "execution_count": null,
      "outputs": [
        {
          "output_type": "stream",
          "text": [
            "\n",
            "REGRESSION REPORT:\n",
            "\n",
            "TRAINING ACCURACY:\t 1.0\n",
            "VARIANCE SCORE:\t\t 0.27422126148287707\n",
            "MAX ERROR:\t\t 33.8\n",
            "ABSOLUTE ERROR:\t\t 1.2836234687298516\n",
            "MEAN SQUARED ERROR:\t 9.478858800773693\n",
            "MEDIAN ABSOLUTE ERROR:   0.6999999999999993\n",
            "R-SQUARE SCORE:  \t 0.2742159647608464\n"
          ],
          "name": "stdout"
        }
      ]
    },
    {
      "cell_type": "code",
      "metadata": {
        "id": "kAO462IkZUyF"
      },
      "source": [
        "TRAIN_ACCURACY.append(DT.score(X_train, Y_train))\n",
        "VARIANCE_SCORE.append(metrics.explained_variance_score(Y_test,DT_pred))\n",
        "MAX_ERROR.append(metrics.max_error(Y_test, DT_pred))\n",
        "ABSOLUTE_ERROR.append(metrics.mean_absolute_error(Y_test, DT_pred))\n",
        "MEAN_SQUARED_ERROR.append(metrics.mean_squared_error(Y_test, DT_pred))\n",
        "MEDIAN_ABSOLUTE_ERROR.append(metrics.median_absolute_error(Y_test,DT_pred))\n",
        "R_SQUARE_SCORE.append(metrics.r2_score(Y_test, DT_pred))"
      ],
      "execution_count": null,
      "outputs": []
    },
    {
      "cell_type": "markdown",
      "metadata": {
        "id": "8lt8LJ-LtK3w"
      },
      "source": [
        "#RANDOM FOREST"
      ]
    },
    {
      "cell_type": "code",
      "metadata": {
        "id": "5vkfdGp1wWvN",
        "colab": {
          "base_uri": "https://localhost:8080/",
          "height": 180
        },
        "outputId": "b51b5a11-baab-4953-e546-5fae7f215b81"
      },
      "source": [
        "from sklearn.preprocessing import StandardScaler\n",
        "\n",
        "from sklearn.ensemble import RandomForestRegressor\n",
        "RF = RandomForestRegressor()\n",
        "RF.fit(X_train, Y_train)\n",
        "RF_pred = RF.predict(X_test)\n",
        "\n",
        "print(\"\\nREGRESSION REPORT:\\n\")\n",
        "print(\"TRAINING ACCURACY:\\t\", RF.score(X_train, Y_train))\n",
        "print(\"VARIANCE SCORE:\\t\\t\", metrics.explained_variance_score(Y_test,RF_pred))\n",
        "print(\"MAX ERROR:\\t\\t\", metrics.max_error(Y_test, RF_pred))\n",
        "print(\"ABSOLUTE ERROR:\\t\\t\", metrics.mean_absolute_error(Y_test, RF_pred))\n",
        "print(\"MEAN SQUARED ERROR:\\t\", metrics.mean_squared_error(Y_test, RF_pred))\n",
        "#print(\"MEAN SQUARED LOG ERROR: \", metrics.mean_squared_log_error(Y_test, RF_pred))\n",
        "print(\"MEDIAN ABSOLUTE ERROR:  \", metrics.median_absolute_error(Y_test, RF_pred))\n",
        "print(\"R-SQUARE SCORE:  \\t\", metrics.r2_score(Y_test, RF_pred))\n",
        "#print(\"MEAN POISSON DEVIANCE: \", metrics.mean_poisson_deviance(Y_test, RF_pred))\n",
        "#print(\"MEAN GAMMA DEVIANCE: \", metrics.mean_gamma_deviance(Y_test, RF_pred))"
      ],
      "execution_count": null,
      "outputs": [
        {
          "output_type": "stream",
          "text": [
            "\n",
            "REGRESSION REPORT:\n",
            "\n",
            "TRAINING ACCURACY:\t 0.9553649564196811\n",
            "VARIANCE SCORE:\t\t 0.6696511389240182\n",
            "MAX ERROR:\t\t 31.682000000000002\n",
            "ABSOLUTE ERROR:\t\t 0.8829935525467437\n",
            "MEAN SQUARED ERROR:\t 4.314412669890393\n",
            "MEDIAN ABSOLUTE ERROR:   0.5629999999999882\n",
            "R-SQUARE SCORE:  \t 0.6696509671623772\n"
          ],
          "name": "stdout"
        }
      ]
    },
    {
      "cell_type": "code",
      "metadata": {
        "id": "hFnxqC1FZX7y"
      },
      "source": [
        "TRAIN_ACCURACY.append(RF.score(X_train, Y_train))\n",
        "VARIANCE_SCORE.append(metrics.explained_variance_score(Y_test,RF_pred))\n",
        "MAX_ERROR.append(metrics.max_error(Y_test, RF_pred))\n",
        "ABSOLUTE_ERROR.append(metrics.mean_absolute_error(Y_test, RF_pred))\n",
        "MEAN_SQUARED_ERROR.append(metrics.mean_squared_error(Y_test, RF_pred))\n",
        "MEDIAN_ABSOLUTE_ERROR.append(metrics.median_absolute_error(Y_test, RF_pred))\n",
        "R_SQUARE_SCORE.append(metrics.r2_score(Y_test, RF_pred))"
      ],
      "execution_count": null,
      "outputs": []
    },
    {
      "cell_type": "markdown",
      "metadata": {
        "id": "Ft1_sje6MJAa"
      },
      "source": [
        "#ADABOOST"
      ]
    },
    {
      "cell_type": "code",
      "metadata": {
        "id": "BHd76fxxMPRz",
        "colab": {
          "base_uri": "https://localhost:8080/",
          "height": 180
        },
        "outputId": "27e5054c-be96-44a9-c496-209e8cb1851a"
      },
      "source": [
        "from sklearn.ensemble import AdaBoostRegressor\n",
        "\n",
        "ABR = AdaBoostRegressor(random_state=0, n_estimators=100)\n",
        "ABR.fit(X_train, Y_train)\n",
        "ABR_pred = ABR.predict(X_test)\n",
        "\n",
        "print(\"\\nREGRESSION REPORT:\\n\")\n",
        "print(\"TRAINING ACCURACY:\\t\", ABR.score(X_train, Y_train))\n",
        "print(\"VARIANCE SCORE:\\t\\t\", metrics.explained_variance_score(Y_test,ABR_pred))\n",
        "print(\"MAX ERROR:\\t\\t\", metrics.max_error(Y_test, ABR_pred))\n",
        "print(\"ABSOLUTE ERROR:\\t\\t\", metrics.mean_absolute_error(Y_test, ABR_pred))\n",
        "print(\"MEAN SQUARED ERROR:\\t\", metrics.mean_squared_error(Y_test, ABR_pred))\n",
        "#print(\"MEAN SQUARED LOG ERROR: \", metrics.mean_squared_log_error(Y_test, ABR_pred))\n",
        "print(\"MEDIAN ABSOLUTE ERROR:  \", metrics.median_absolute_error(Y_test, ABR_pred))\n",
        "print(\"R-SQUARE SCORE:  \\t\", metrics.r2_score(Y_test, ABR_pred))\n",
        "#print(\"MEAN POISSON DEVIANCE: \", metrics.mean_poisson_deviance(Y_test, ABR_pred))\n",
        "#print(\"MEAN GAMMA DEVIANCE: \", metrics.mean_gamma_deviance(Y_test, ABR_pred))"
      ],
      "execution_count": null,
      "outputs": [
        {
          "output_type": "stream",
          "text": [
            "\n",
            "REGRESSION REPORT:\n",
            "\n",
            "TRAINING ACCURACY:\t 0.5348592536358747\n",
            "VARIANCE SCORE:\t\t 0.4067486000198183\n",
            "MAX ERROR:\t\t 29.44347826086956\n",
            "ABSOLUTE ERROR:\t\t 1.8937321129973024\n",
            "MEAN SQUARED ERROR:\t 8.2253959174376\n",
            "MEDIAN ABSOLUTE ERROR:   1.5002390914524852\n",
            "R-SQUARE SCORE:  \t 0.37019200666748586\n"
          ],
          "name": "stdout"
        }
      ]
    },
    {
      "cell_type": "code",
      "metadata": {
        "id": "5sMzJjifZbZt"
      },
      "source": [
        "TRAIN_ACCURACY.append(ABR.score(X_train, Y_train))\n",
        "VARIANCE_SCORE.append(metrics.explained_variance_score(Y_test,ABR_pred))\n",
        "MAX_ERROR.append(metrics.max_error(Y_test, ABR_pred))\n",
        "ABSOLUTE_ERROR.append(metrics.mean_absolute_error(Y_test, ABR_pred))\n",
        "MEAN_SQUARED_ERROR.append(metrics.mean_squared_error(Y_test, ABR_pred))\n",
        "MEDIAN_ABSOLUTE_ERROR.append(metrics.median_absolute_error(Y_test, ABR_pred))\n",
        "R_SQUARE_SCORE.append(metrics.r2_score(Y_test, ABR_pred))"
      ],
      "execution_count": null,
      "outputs": []
    },
    {
      "cell_type": "markdown",
      "metadata": {
        "id": "bCZRvntpOs75"
      },
      "source": [
        "#GRADIENT DESCENT REGRESSION"
      ]
    },
    {
      "cell_type": "code",
      "metadata": {
        "id": "sbWIpvkeOsJl",
        "colab": {
          "base_uri": "https://localhost:8080/",
          "height": 180
        },
        "outputId": "b42b8e5f-67e0-4fd2-dd81-5764fae9d319"
      },
      "source": [
        "from sklearn.ensemble import GradientBoostingRegressor\n",
        "\n",
        "GDR = GradientBoostingRegressor(random_state=0, n_estimators=100)\n",
        "GDR.fit(X_train, Y_train)\n",
        "GDR_pred = GDR.predict(X_test)\n",
        "\n",
        "print(\"\\nREGRESSION REPORT:\\n\")\n",
        "print(\"TRAINING ACCURACY:\\t\", GDR.score(X_train, Y_train))\n",
        "print(\"VARIANCE SCORE:\\t\\t\", metrics.explained_variance_score(Y_test,GDR_pred))\n",
        "print(\"MAX ERROR:\\t\\t\", metrics.max_error(Y_test, GDR_pred))\n",
        "print(\"ABSOLUTE ERROR:\\t\\t\", metrics.mean_absolute_error(Y_test, GDR_pred))\n",
        "print(\"MEAN SQUARED ERROR:\\t\", metrics.mean_squared_error(Y_test, GDR_pred))\n",
        "#print(\"MEAN SQUARED LOG ERROR: \", metrics.mean_squared_log_error(Y_test, GDR_pred))\n",
        "print(\"MEDIAN ABSOLUTE ERROR:  \", metrics.median_absolute_error(Y_test, GDR_pred))\n",
        "print(\"R-SQUARE SCORE:  \\t\", metrics.r2_score(Y_test, GDR_pred))\n",
        "#print(\"MEAN POISSON DEVIANCE: \", metrics.mean_poisson_deviance(Y_test, GDR_pred))\n",
        "#print(\"MEAN GAMMA DEVIANCE: \", metrics.mean_gamma_deviance(Y_test, GDR_pred))"
      ],
      "execution_count": null,
      "outputs": [
        {
          "output_type": "stream",
          "text": [
            "\n",
            "REGRESSION REPORT:\n",
            "\n",
            "TRAINING ACCURACY:\t 0.7699272644738339\n",
            "VARIANCE SCORE:\t\t 0.6315449669490509\n",
            "MAX ERROR:\t\t 30.436805137908383\n",
            "ABSOLUTE ERROR:\t\t 1.1065966287391138\n",
            "MEAN SQUARED ERROR:\t 4.815439636503297\n",
            "MEDIAN ABSOLUTE ERROR:   0.7706223315991956\n",
            "R-SQUARE SCORE:  \t 0.6312879762966133\n"
          ],
          "name": "stdout"
        }
      ]
    },
    {
      "cell_type": "code",
      "metadata": {
        "id": "JYqhf1jUZftb"
      },
      "source": [
        "TRAIN_ACCURACY.append(GDR.score(X_train, Y_train))\n",
        "VARIANCE_SCORE.append(metrics.explained_variance_score(Y_test,GDR_pred))\n",
        "MAX_ERROR.append(metrics.max_error(Y_test, GDR_pred))\n",
        "ABSOLUTE_ERROR.append(metrics.mean_absolute_error(Y_test, GDR_pred))\n",
        "MEAN_SQUARED_ERROR.append(metrics.mean_squared_error(Y_test, GDR_pred))\n",
        "MEDIAN_ABSOLUTE_ERROR.append(metrics.median_absolute_error(Y_test, GDR_pred))\n",
        "R_SQUARE_SCORE.append(metrics.r2_score(Y_test, GDR_pred))"
      ],
      "execution_count": null,
      "outputs": []
    },
    {
      "cell_type": "markdown",
      "metadata": {
        "id": "9z8mAaByPKHc"
      },
      "source": [
        "#VOTING REGRESSION"
      ]
    },
    {
      "cell_type": "code",
      "metadata": {
        "id": "82PaBrx6PFZ6",
        "colab": {
          "base_uri": "https://localhost:8080/",
          "height": 180
        },
        "outputId": "516a710c-5224-4ee1-bbc6-0ab2e4b279e6"
      },
      "source": [
        "from sklearn.ensemble import VotingRegressor\n",
        "\n",
        "VR = VotingRegressor([('LinearR', LR),('RandomFR', RF)])\n",
        "VR.fit(X_train, Y_train)\n",
        "VR_pred = VR.predict(X_test)\n",
        "\n",
        "print(\"\\nREGRESSION REPORT:\\n\")\n",
        "print(\"TRAINING ACCURACY:\\t\", VR.score(X_train, Y_train))\n",
        "print(\"VARIANCE SCORE:\\t\\t\", metrics.explained_variance_score(Y_test,VR_pred))\n",
        "print(\"MAX ERROR:\\t\\t\", metrics.max_error(Y_test, VR_pred))\n",
        "print(\"ABSOLUTE ERROR:\\t\\t\", metrics.mean_absolute_error(Y_test, VR_pred))\n",
        "print(\"MEAN SQUARED ERROR:\\t\", metrics.mean_squared_error(Y_test, VR_pred))\n",
        "#print(\"MEAN SQUARED LOG ERROR: \", metrics.mean_squared_log_error(Y_test, VR_pred))\n",
        "print(\"MEDIAN ABSOLUTE ERROR:  \", metrics.median_absolute_error(Y_test, VR_pred))\n",
        "print(\"R-SQUARE SCORE:  \\t\", metrics.r2_score(Y_test, VR_pred))\n",
        "#print(\"MEAN POISSON DEVIANCE: \", metrics.mean_poisson_deviance(Y_test, VR_pred))\n",
        "#print(\"MEAN GAMMA DEVIANCE: \", metrics.mean_gamma_deviance(Y_test, VR_pred))"
      ],
      "execution_count": null,
      "outputs": [
        {
          "output_type": "stream",
          "text": [
            "\n",
            "REGRESSION REPORT:\n",
            "\n",
            "TRAINING ACCURACY:\t 0.8218673793624592\n",
            "VARIANCE SCORE:\t\t 0.636188783284797\n",
            "MAX ERROR:\t\t 30.971868344389748\n",
            "ABSOLUTE ERROR:\t\t 1.1029908179799535\n",
            "MEAN SQUARED ERROR:\t 4.753545593586142\n",
            "MEDIAN ABSOLUTE ERROR:   0.7570872782158702\n",
            "R-SQUARE SCORE:  \t 0.636027123610635\n"
          ],
          "name": "stdout"
        }
      ]
    },
    {
      "cell_type": "code",
      "metadata": {
        "id": "P_cADNDQZhby"
      },
      "source": [
        "TRAIN_ACCURACY.append(VR.score(X_train, Y_train))\n",
        "VARIANCE_SCORE.append(metrics.explained_variance_score(Y_test,VR_pred))\n",
        "MAX_ERROR.append(metrics.max_error(Y_test, VR_pred))\n",
        "ABSOLUTE_ERROR.append(metrics.mean_absolute_error(Y_test, VR_pred))\n",
        "MEAN_SQUARED_ERROR.append(metrics.mean_squared_error(Y_test, VR_pred))\n",
        "MEDIAN_ABSOLUTE_ERROR.append(metrics.median_absolute_error(Y_test, VR_pred))\n",
        "R_SQUARE_SCORE.append(metrics.r2_score(Y_test, VR_pred))"
      ],
      "execution_count": null,
      "outputs": []
    },
    {
      "cell_type": "markdown",
      "metadata": {
        "id": "E0wdtgBJMgFm"
      },
      "source": [
        "#XGBOOST"
      ]
    },
    {
      "cell_type": "code",
      "metadata": {
        "id": "gTUnEoUyMiFD",
        "colab": {
          "base_uri": "https://localhost:8080/",
          "height": 196
        },
        "outputId": "31589bce-d222-467d-f1be-5bcea29cfd0b"
      },
      "source": [
        "import xgboost\n",
        "\n",
        "XGB = xgboost.XGBRegressor(colsample_bytree=0.4,\n",
        "                 gamma=0,                 \n",
        "                 learning_rate=0.07,\n",
        "                 max_depth=3,\n",
        "                 min_child_weight=1.5,\n",
        "                 n_estimators=10000,                                                                    \n",
        "                 reg_alpha=0.75,\n",
        "                 reg_lambda=0.45,\n",
        "                 subsample=0.6,\n",
        "                 seed=42)\n",
        "XGB.fit(X_train, Y_train)\n",
        "XGB_pred = XGB.predict(X_test)\n",
        "\n",
        "print(\"\\nREGRESSION REPORT:\\n\")\n",
        "print(\"TRAINING ACCURACY:\\t\", XGB.score(X_train, Y_train))\n",
        "print(\"VARIANCE SCORE:\\t\\t\", metrics.explained_variance_score(Y_test, XGB_pred))\n",
        "print(\"MAX ERROR:\\t\\t\", metrics.max_error(Y_test, XGB_pred))\n",
        "print(\"ABSOLUTE ERROR:\\t\\t\", metrics.mean_absolute_error(Y_test, XGB_pred))\n",
        "print(\"MEAN SQUARED ERROR:\\t\", metrics.mean_squared_error(Y_test, XGB_pred))\n",
        "print(\"MEDIAN ABSOLUTE ERROR:  \", metrics.median_absolute_error(Y_test, XGB_pred))\n",
        "print(\"R-SQUARE SCORE:  \\t\", metrics.r2_score(Y_test, XGB_pred))"
      ],
      "execution_count": null,
      "outputs": [
        {
          "output_type": "stream",
          "text": [
            "[16:38:04] WARNING: /workspace/src/objective/regression_obj.cu:152: reg:linear is now deprecated in favor of reg:squarederror.\n",
            "\n",
            "REGRESSION REPORT:\n",
            "\n",
            "TRAINING ACCURACY:\t 0.9981668823121147\n",
            "VARIANCE SCORE:\t\t 0.7020614526831841\n",
            "MAX ERROR:\t\t 31.869909286499023\n",
            "ABSOLUTE ERROR:\t\t 0.7751293556218297\n",
            "MEAN SQUARED ERROR:\t 3.891130026728856\n",
            "MEDIAN ABSOLUTE ERROR:   0.49808311462402344\n",
            "R-SQUARE SCORE:  \t 0.7020611751059114\n"
          ],
          "name": "stdout"
        }
      ]
    },
    {
      "cell_type": "code",
      "metadata": {
        "id": "wbX-njc8ZjIF"
      },
      "source": [
        "TRAIN_ACCURACY.append(XGB.score(X_train, Y_train))\n",
        "VARIANCE_SCORE.append(metrics.explained_variance_score(Y_test, XGB_pred))\n",
        "MAX_ERROR.append(metrics.max_error(Y_test, XGB_pred))\n",
        "ABSOLUTE_ERROR.append(metrics.mean_absolute_error(Y_test, XGB_pred))\n",
        "MEAN_SQUARED_ERROR.append(metrics.mean_squared_error(Y_test, XGB_pred))\n",
        "MEDIAN_ABSOLUTE_ERROR.append(metrics.median_absolute_error(Y_test, XGB_pred))\n",
        "R_SQUARE_SCORE.append(metrics.r2_score(Y_test, XGB_pred))"
      ],
      "execution_count": null,
      "outputs": []
    },
    {
      "cell_type": "markdown",
      "metadata": {
        "id": "13CLyDRXlaBg"
      },
      "source": [
        "#PERFORMANCE EVALUATION"
      ]
    },
    {
      "cell_type": "code",
      "metadata": {
        "id": "GR6t0EkrlYZX",
        "colab": {
          "base_uri": "https://localhost:8080/",
          "height": 450
        },
        "outputId": "ce9024d6-9cf6-45f0-b8f4-4502dc5f5890"
      },
      "source": [
        "PERFORMANCE = pd.DataFrame({\n",
        "'REGRESSOR' : REGRESSOR,\n",
        "'ACCURACY %' : TRAIN_ACCURACY,\n",
        "'VARIANCE SCORE' : VARIANCE_SCORE,\n",
        "'MAX ERROR' : MAX_ERROR,\n",
        "'ABSOLUTE ERROR' : ABSOLUTE_ERROR,\n",
        "'MEAN SQUARED ERROR' : MEAN_SQUARED_ERROR,\n",
        "'MEDIAN ABSOLUTE ERROR' : MEDIAN_ABSOLUTE_ERROR,\n",
        "'R-SQUARE SCORE' : R_SQUARE_SCORE })\n",
        "\n",
        "PERFORMANCE"
      ],
      "execution_count": null,
      "outputs": [
        {
          "output_type": "execute_result",
          "data": {
            "text/html": [
              "<div>\n",
              "<style scoped>\n",
              "    .dataframe tbody tr th:only-of-type {\n",
              "        vertical-align: middle;\n",
              "    }\n",
              "\n",
              "    .dataframe tbody tr th {\n",
              "        vertical-align: top;\n",
              "    }\n",
              "\n",
              "    .dataframe thead th {\n",
              "        text-align: right;\n",
              "    }\n",
              "</style>\n",
              "<table border=\"1\" class=\"dataframe\">\n",
              "  <thead>\n",
              "    <tr style=\"text-align: right;\">\n",
              "      <th></th>\n",
              "      <th>REGRESSOR</th>\n",
              "      <th>ACCURACY %</th>\n",
              "      <th>VARIANCE SCORE</th>\n",
              "      <th>MAX ERROR</th>\n",
              "      <th>ABSOLUTE ERROR</th>\n",
              "      <th>MEAN SQUARED ERROR</th>\n",
              "      <th>MEDIAN ABSOLUTE ERROR</th>\n",
              "      <th>R-SQUARE SCORE</th>\n",
              "    </tr>\n",
              "  </thead>\n",
              "  <tbody>\n",
              "    <tr>\n",
              "      <th>0</th>\n",
              "      <td>LINEAR REGRESSION</td>\n",
              "      <td>0.561183</td>\n",
              "      <td>5.282192e-01</td>\n",
              "      <td>30.357737</td>\n",
              "      <td>1.444949</td>\n",
              "      <td>6.168819</td>\n",
              "      <td>1.028412</td>\n",
              "      <td>0.527661</td>\n",
              "    </tr>\n",
              "    <tr>\n",
              "      <th>1</th>\n",
              "      <td>RIDGE REGRESSION</td>\n",
              "      <td>0.561182</td>\n",
              "      <td>5.282448e-01</td>\n",
              "      <td>30.352074</td>\n",
              "      <td>1.444903</td>\n",
              "      <td>6.168472</td>\n",
              "      <td>1.026064</td>\n",
              "      <td>0.527688</td>\n",
              "    </tr>\n",
              "    <tr>\n",
              "      <th>2</th>\n",
              "      <td>RIDGE COMPLEXITY</td>\n",
              "      <td>0.561005</td>\n",
              "      <td>5.284012e-01</td>\n",
              "      <td>30.280672</td>\n",
              "      <td>1.445154</td>\n",
              "      <td>6.166271</td>\n",
              "      <td>1.032198</td>\n",
              "      <td>0.527857</td>\n",
              "    </tr>\n",
              "    <tr>\n",
              "      <th>3</th>\n",
              "      <td>LASSO REGRESSION</td>\n",
              "      <td>0.524862</td>\n",
              "      <td>4.910750e-01</td>\n",
              "      <td>29.358803</td>\n",
              "      <td>1.565269</td>\n",
              "      <td>6.654854</td>\n",
              "      <td>1.134086</td>\n",
              "      <td>0.490446</td>\n",
              "    </tr>\n",
              "    <tr>\n",
              "      <th>4</th>\n",
              "      <td>LARS LASSO REGRESSION</td>\n",
              "      <td>0.000000</td>\n",
              "      <td>1.110223e-16</td>\n",
              "      <td>30.187260</td>\n",
              "      <td>2.600941</td>\n",
              "      <td>13.068097</td>\n",
              "      <td>2.112740</td>\n",
              "      <td>-0.000607</td>\n",
              "    </tr>\n",
              "    <tr>\n",
              "      <th>5</th>\n",
              "      <td>BAYESIAN RIDGE REGRESSION</td>\n",
              "      <td>0.560920</td>\n",
              "      <td>5.283916e-01</td>\n",
              "      <td>30.262293</td>\n",
              "      <td>1.445313</td>\n",
              "      <td>6.166359</td>\n",
              "      <td>1.035840</td>\n",
              "      <td>0.527850</td>\n",
              "    </tr>\n",
              "    <tr>\n",
              "      <th>6</th>\n",
              "      <td>SVM</td>\n",
              "      <td>-0.007364</td>\n",
              "      <td>-1.440129e-03</td>\n",
              "      <td>30.500072</td>\n",
              "      <td>2.601231</td>\n",
              "      <td>13.240901</td>\n",
              "      <td>2.100210</td>\n",
              "      <td>-0.013839</td>\n",
              "    </tr>\n",
              "    <tr>\n",
              "      <th>7</th>\n",
              "      <td>GRADIENT BOOSTING REGRESSION</td>\n",
              "      <td>0.600876</td>\n",
              "      <td>5.282448e-01</td>\n",
              "      <td>30.352074</td>\n",
              "      <td>1.444903</td>\n",
              "      <td>6.168472</td>\n",
              "      <td>1.026064</td>\n",
              "      <td>0.527688</td>\n",
              "    </tr>\n",
              "    <tr>\n",
              "      <th>8</th>\n",
              "      <td>DECISION TREE</td>\n",
              "      <td>1.000000</td>\n",
              "      <td>2.742213e-01</td>\n",
              "      <td>33.800000</td>\n",
              "      <td>1.283623</td>\n",
              "      <td>9.478859</td>\n",
              "      <td>0.700000</td>\n",
              "      <td>0.274216</td>\n",
              "    </tr>\n",
              "    <tr>\n",
              "      <th>9</th>\n",
              "      <td>RANDOM FOREST</td>\n",
              "      <td>0.955365</td>\n",
              "      <td>6.696511e-01</td>\n",
              "      <td>31.682000</td>\n",
              "      <td>0.882994</td>\n",
              "      <td>4.314413</td>\n",
              "      <td>0.563000</td>\n",
              "      <td>0.669651</td>\n",
              "    </tr>\n",
              "    <tr>\n",
              "      <th>10</th>\n",
              "      <td>ADABOOST</td>\n",
              "      <td>0.534859</td>\n",
              "      <td>4.067486e-01</td>\n",
              "      <td>29.443478</td>\n",
              "      <td>1.893732</td>\n",
              "      <td>8.225396</td>\n",
              "      <td>1.500239</td>\n",
              "      <td>0.370192</td>\n",
              "    </tr>\n",
              "    <tr>\n",
              "      <th>11</th>\n",
              "      <td>GRADIENT DESCENT REGRESSION</td>\n",
              "      <td>0.769927</td>\n",
              "      <td>6.315450e-01</td>\n",
              "      <td>30.436805</td>\n",
              "      <td>1.106597</td>\n",
              "      <td>4.815440</td>\n",
              "      <td>0.770622</td>\n",
              "      <td>0.631288</td>\n",
              "    </tr>\n",
              "    <tr>\n",
              "      <th>12</th>\n",
              "      <td>VOTING REGRESSION</td>\n",
              "      <td>0.821867</td>\n",
              "      <td>6.361888e-01</td>\n",
              "      <td>30.971868</td>\n",
              "      <td>1.102991</td>\n",
              "      <td>4.753546</td>\n",
              "      <td>0.757087</td>\n",
              "      <td>0.636027</td>\n",
              "    </tr>\n",
              "    <tr>\n",
              "      <th>13</th>\n",
              "      <td>XGBOOST</td>\n",
              "      <td>0.998167</td>\n",
              "      <td>7.020615e-01</td>\n",
              "      <td>31.869909</td>\n",
              "      <td>0.775129</td>\n",
              "      <td>3.891130</td>\n",
              "      <td>0.498083</td>\n",
              "      <td>0.702061</td>\n",
              "    </tr>\n",
              "  </tbody>\n",
              "</table>\n",
              "</div>"
            ],
            "text/plain": [
              "                       REGRESSOR  ...  R-SQUARE SCORE\n",
              "0              LINEAR REGRESSION  ...        0.527661\n",
              "1               RIDGE REGRESSION  ...        0.527688\n",
              "2               RIDGE COMPLEXITY  ...        0.527857\n",
              "3               LASSO REGRESSION  ...        0.490446\n",
              "4          LARS LASSO REGRESSION  ...       -0.000607\n",
              "5      BAYESIAN RIDGE REGRESSION  ...        0.527850\n",
              "6                            SVM  ...       -0.013839\n",
              "7   GRADIENT BOOSTING REGRESSION  ...        0.527688\n",
              "8                  DECISION TREE  ...        0.274216\n",
              "9                  RANDOM FOREST  ...        0.669651\n",
              "10                      ADABOOST  ...        0.370192\n",
              "11   GRADIENT DESCENT REGRESSION  ...        0.631288\n",
              "12             VOTING REGRESSION  ...        0.636027\n",
              "13                       XGBOOST  ...        0.702061\n",
              "\n",
              "[14 rows x 8 columns]"
            ]
          },
          "metadata": {
            "tags": []
          },
          "execution_count": 83
        }
      ]
    },
    {
      "cell_type": "markdown",
      "metadata": {
        "id": "XDjT7qcA9mwL"
      },
      "source": [
        "********************************************************************************"
      ]
    },
    {
      "cell_type": "markdown",
      "metadata": {
        "id": "wiroey2_9mta"
      },
      "source": [
        "#INTEGRATING MODEL: CALCULATING NEXT_Tmin"
      ]
    },
    {
      "cell_type": "markdown",
      "metadata": {
        "id": "Qy5e_HlI0L3T"
      },
      "source": [
        "#MODEL TRAINING"
      ]
    },
    {
      "cell_type": "code",
      "metadata": {
        "id": "_6sUkKlL0L3b",
        "colab": {
          "base_uri": "https://localhost:8080/",
          "height": 33
        },
        "outputId": "9b4d2a63-7088-42a6-c55b-c177d4060e9e"
      },
      "source": [
        "X = data.drop(['Next_Tmin'] , axis=1).values\n",
        "Y = data['Next_Tmin'].values\n",
        "\n",
        "from sklearn.model_selection import train_test_split\n",
        "X_train, X_test, Y_train, Y_test = train_test_split(X, Y, test_size = 0.2)\n",
        "print(\"X_train.shape:\", X_train.shape, \"X_test.shape:\", X_test.shape, \"Y_train.shape:\", Y_train.shape, \"Y_test.shape:\", Y_test.shape)"
      ],
      "execution_count": null,
      "outputs": [
        {
          "output_type": "stream",
          "text": [
            "X_train.shape: (6201, 24) X_test.shape: (1551, 24) Y_train.shape: (6201,) Y_test.shape: (1551,)\n"
          ],
          "name": "stdout"
        }
      ]
    },
    {
      "cell_type": "code",
      "metadata": {
        "id": "IsSSoto_0L3n"
      },
      "source": [
        "REGRESSOR = ['LINEAR REGRESSION','RIDGE REGRESSION','RIDGE COMPLEXITY','LASSO REGRESSION','LARS LASSO REGRESSION','BAYESIAN RIDGE REGRESSION','SVM', 'GRADIENT BOOSTING REGRESSION',\n",
        "             'DECISION TREE','RANDOM FOREST','ADABOOST','GRADIENT DESCENT REGRESSION','VOTING REGRESSION','XGBOOST']\n",
        "TRAIN_ACCURACY = []\n",
        "VARIANCE_SCORE = []\n",
        "MAX_ERROR = []\n",
        "ABSOLUTE_ERROR = []\n",
        "MEAN_SQUARED_ERROR = []\n",
        "MEDIAN_ABSOLUTE_ERROR = []\n",
        "R_SQUARE_SCORE = []"
      ],
      "execution_count": null,
      "outputs": []
    },
    {
      "cell_type": "markdown",
      "metadata": {
        "id": "qtma7zXR0L3q"
      },
      "source": [
        "#LINEAR REGRESSION"
      ]
    },
    {
      "cell_type": "code",
      "metadata": {
        "id": "tzpJZRFU0L3r",
        "colab": {
          "base_uri": "https://localhost:8080/",
          "height": 293
        },
        "outputId": "f18905da-774d-4c0f-ef1b-d76cf7394497"
      },
      "source": [
        "from sklearn import linear_model, metrics\n",
        "\n",
        "LR = linear_model.LinearRegression(normalize=True)\n",
        "\n",
        "LR.fit(X_train, Y_train)\n",
        "LR_pred = LR.predict(X_test)\n",
        "print ('Coefficients: ', LR.coef_)\n",
        "print ('Intercept: ', LR.intercept_)\n",
        "\n",
        "print(\"\\nREGRESSION REPORT:\\n\")\n",
        "print(\"TRAINING ACCURACY:\\t\", LR.score(X_train, Y_train))\n",
        "print(\"VARIANCE SCORE:\\t\\t\", metrics.explained_variance_score(Y_test,LR_pred))\n",
        "print(\"MAX ERROR:\\t\\t\", metrics.max_error(Y_test,LR_pred))\n",
        "print(\"ABSOLUTE ERROR:\\t\\t\", metrics.mean_absolute_error(Y_test,LR_pred))\n",
        "print(\"MEAN SQUARED ERROR:\\t\", metrics.mean_squared_error(Y_test,LR_pred))\n",
        "#print(\"MEAN SQUARED LOG ERROR: \", metrics.mean_squared_log_error(Y_test,LR_pred))\n",
        "print(\"MEDIAN ABSOLUTE ERROR:  \", metrics.median_absolute_error(Y_test,LR_pred))\n",
        "print(\"R-SQUARE SCORE:  \\t\", metrics.r2_score(Y_test,LR_pred))\n",
        "#print(\"MEAN POISSON DEVIANCE: \", metrics.mean_poisson_deviance(Y_test,LR_pred))\n",
        "#print(\"MEAN GAMMA DEVIANCE: \", metrics.mean_gamma_deviance(Y_test,LR_pred))"
      ],
      "execution_count": null,
      "outputs": [
        {
          "output_type": "stream",
          "text": [
            "Coefficients:  [-1.47721510e-02  1.75719099e-06 -1.14400866e-01  2.33159477e-01\n",
            " -4.42013948e-03 -3.10594156e-02 -4.09733283e-01  6.65703021e-01\n",
            "  7.99843992e-02 -1.41809398e-03  1.31491648e-01  8.42326295e-01\n",
            " -1.72200031e-01  6.21557509e-01 -4.58800350e-03 -1.04417873e-01\n",
            "  8.18417063e-02 -4.87000176e-02  3.64963098e-01  5.79740064e-01\n",
            " -6.30541756e-03  1.97492664e-01  1.55735081e-04  5.93283661e-01]\n",
            "Intercept:  -87.57666244288498\n",
            "\n",
            "REGRESSION REPORT:\n",
            "\n",
            "TRAINING ACCURACY:\t 0.8233827214245133\n",
            "VARIANCE SCORE:\t\t 0.8000410542186709\n",
            "MAX ERROR:\t\t 6.459227551075131\n",
            "ABSOLUTE ERROR:\t\t 0.9236458785884161\n",
            "MEAN SQUARED ERROR:\t 1.4704144727936916\n",
            "MEDIAN ABSOLUTE ERROR:   0.7418603205498044\n",
            "R-SQUARE SCORE:  \t 0.800039601101431\n"
          ],
          "name": "stdout"
        }
      ]
    },
    {
      "cell_type": "code",
      "metadata": {
        "id": "O_-XS_RS0L3u"
      },
      "source": [
        "TRAIN_ACCURACY.append(LR.score(X_train, Y_train))\n",
        "VARIANCE_SCORE.append(metrics.explained_variance_score(Y_test,LR_pred))\n",
        "MAX_ERROR.append(metrics.max_error(Y_test,LR_pred))\n",
        "ABSOLUTE_ERROR.append(metrics.mean_absolute_error(Y_test,LR_pred))\n",
        "MEAN_SQUARED_ERROR.append(metrics.mean_squared_error(Y_test,LR_pred))\n",
        "MEDIAN_ABSOLUTE_ERROR.append(metrics.median_absolute_error(Y_test,LR_pred))\n",
        "R_SQUARE_SCORE.append(metrics.r2_score(Y_test,LR_pred))"
      ],
      "execution_count": null,
      "outputs": []
    },
    {
      "cell_type": "markdown",
      "metadata": {
        "id": "7EX_wz_Y0L3x"
      },
      "source": [
        "#RIDGE REGRESSION"
      ]
    },
    {
      "cell_type": "code",
      "metadata": {
        "id": "8rSVVNAO0L3y",
        "colab": {
          "base_uri": "https://localhost:8080/",
          "height": 293
        },
        "outputId": "46683c0a-2559-4fd7-b47b-b8b75caf46ca"
      },
      "source": [
        "from sklearn import linear_model, metrics\n",
        "\n",
        "RR = linear_model.Ridge(alpha=.5)\n",
        "RR.fit(X_train, Y_train)\n",
        "RR_pred = RR.predict(X_test)\n",
        "print ('Coefficients: ', RR.coef_)\n",
        "print ('Intercept: ', RR.intercept_)\n",
        "\n",
        "print(\"\\nREGRESSION REPORT:\\n\")\n",
        "print(\"TRAINING ACCURACY:\\t\", RR.score(X_train, Y_train))\n",
        "print(\"VARIANCE SCORE:\\t\\t\", metrics.explained_variance_score(Y_test,RR_pred))\n",
        "print(\"MAX ERROR:\\t\\t\", metrics.max_error(Y_test,RR_pred))\n",
        "print(\"ABSOLUTE ERROR:\\t\\t\", metrics.mean_absolute_error(Y_test,RR_pred))\n",
        "print(\"MEAN SQUARED ERROR:\\t\", metrics.mean_squared_error(Y_test,RR_pred))\n",
        "#print(\"MEAN SQUARED LOG ERROR: \", metrics.mean_squared_log_error(Y_test,RR_pred))\n",
        "print(\"MEDIAN ABSOLUTE ERROR:  \", metrics.median_absolute_error(Y_test,RR_pred))\n",
        "print(\"R-SQUARE SCORE:  \\t\", metrics.r2_score(Y_test,RR_pred))\n",
        "#print(\"MEAN POISSON DEVIANCE: \", metrics.mean_poisson_deviance(Y_test,RR_pred))\n",
        "#print(\"MEAN GAMMA DEVIANCE: \", metrics.mean_gamma_deviance(Y_test,RR_pred))"
      ],
      "execution_count": null,
      "outputs": [
        {
          "output_type": "stream",
          "text": [
            "Coefficients:  [-1.47958297e-02  1.76026891e-06 -1.14389460e-01  2.33164781e-01\n",
            " -4.39911311e-03 -3.10557983e-02 -4.09654628e-01  6.65592990e-01\n",
            "  7.99736180e-02 -1.42074241e-03  1.33102716e-01  8.37166407e-01\n",
            " -1.67216402e-01  6.18132634e-01 -4.60783055e-03 -1.04269949e-01\n",
            "  8.17786951e-02 -4.86260269e-02  3.54614938e-01  5.73505573e-01\n",
            " -6.30772501e-03  1.97532371e-01  1.55791843e-04  5.93254460e-01]\n",
            "Intercept:  -86.39855460776656\n",
            "\n",
            "REGRESSION REPORT:\n",
            "\n",
            "TRAINING ACCURACY:\t 0.8233825783864637\n",
            "VARIANCE SCORE:\t\t 0.8000395584246268\n",
            "MAX ERROR:\t\t 6.461516388471239\n",
            "ABSOLUTE ERROR:\t\t 0.9236535411686961\n",
            "MEAN SQUARED ERROR:\t 1.4704253875950872\n",
            "MEDIAN ABSOLUTE ERROR:   0.7414055093706509\n",
            "R-SQUARE SCORE:  \t 0.8000381168069811\n"
          ],
          "name": "stdout"
        }
      ]
    },
    {
      "cell_type": "code",
      "metadata": {
        "id": "Y-jnZyKt0L32"
      },
      "source": [
        "TRAIN_ACCURACY.append(RR.score(X_train, Y_train))\n",
        "VARIANCE_SCORE.append(metrics.explained_variance_score(Y_test,RR_pred))\n",
        "MAX_ERROR.append(metrics.max_error(Y_test,RR_pred))\n",
        "ABSOLUTE_ERROR.append(metrics.mean_absolute_error(Y_test,RR_pred))\n",
        "MEAN_SQUARED_ERROR.append(metrics.mean_squared_error(Y_test,RR_pred))\n",
        "MEDIAN_ABSOLUTE_ERROR.append(metrics.median_absolute_error(Y_test,RR_pred))\n",
        "R_SQUARE_SCORE.append(metrics.r2_score(Y_test,RR_pred))"
      ],
      "execution_count": null,
      "outputs": []
    },
    {
      "cell_type": "markdown",
      "metadata": {
        "id": "pNzQ0fHX0L35"
      },
      "source": [
        "#RIDGE COMPLEXITY"
      ]
    },
    {
      "cell_type": "code",
      "metadata": {
        "id": "suU-xI580L36",
        "colab": {
          "base_uri": "https://localhost:8080/",
          "height": 293
        },
        "outputId": "68863296-04ea-4904-a51b-4371cd0d2c20"
      },
      "source": [
        "from sklearn import linear_model, metrics\n",
        "\n",
        "RC = linear_model.RidgeCV()\n",
        "RC.fit(X_train, Y_train)\n",
        "RC_pred = RC.predict(X_test)\n",
        "print ('Coefficients: ', RC.coef_)\n",
        "print ('Intercept: ', RC.intercept_)\n",
        "\n",
        "print(\"\\nREGRESSION REPORT:\\n\")\n",
        "print(\"TRAINING ACCURACY:\\t\", RC.score(X_train, Y_train))\n",
        "print(\"VARIANCE SCORE:\\t\\t\", metrics.explained_variance_score(Y_test,RC_pred))\n",
        "print(\"MAX ERROR:\\t\\t\", metrics.max_error(Y_test,RC_pred))\n",
        "print(\"ABSOLUTE ERROR:\\t\\t\", metrics.mean_absolute_error(Y_test,RC_pred))\n",
        "print(\"MEAN SQUARED ERROR:\\t\", metrics.mean_squared_error(Y_test,RC_pred))\n",
        "#print(\"MEAN SQUARED LOG ERROR: \", metrics.mean_squared_log_error(Y_test,RC_pred))\n",
        "print(\"MEDIAN ABSOLUTE ERROR:  \", metrics.median_absolute_error(Y_test,RC_pred))\n",
        "print(\"R-SQUARE SCORE:  \\t\", metrics.r2_score(Y_test,RC_pred))\n",
        "#print(\"MEAN POISSON DEVIANCE: \", metrics.mean_poisson_deviance(Y_test,RC_pred))\n",
        "#print(\"MEAN GAMMA DEVIANCE: \", metrics.mean_gamma_deviance(Y_test,RC_pred))"
      ],
      "execution_count": null,
      "outputs": [
        {
          "output_type": "stream",
          "text": [
            "Coefficients:  [-1.47769858e-02  1.74432716e-06 -1.14398562e-01  2.33160531e-01\n",
            " -4.41590094e-03 -3.10586653e-02 -4.09717385e-01  6.65680690e-01\n",
            "  7.99822674e-02 -1.41862363e-03  1.31816392e-01  8.41286937e-01\n",
            " -1.71194466e-01  6.20867083e-01 -4.59203673e-03 -1.04388096e-01\n",
            "  8.18289851e-02 -4.86851889e-02  3.62836415e-01  5.78488673e-01\n",
            " -6.30589051e-03  1.97500890e-01  1.55732912e-04  5.93277848e-01]\n",
            "Intercept:  -87.32834039762469\n",
            "\n",
            "REGRESSION REPORT:\n",
            "\n",
            "TRAINING ACCURACY:\t 0.8233827136021121\n",
            "VARIANCE SCORE:\t\t 0.8000447946659934\n",
            "MAX ERROR:\t\t 6.459685417020523\n",
            "ABSOLUTE ERROR:\t\t 0.9236407499992619\n",
            "MEAN SQUARED ERROR:\t 1.4703869806363605\n",
            "MEDIAN ABSOLUTE ERROR:   0.7417816033816393\n",
            "R-SQUARE SCORE:  \t 0.8000433397362501\n"
          ],
          "name": "stdout"
        }
      ]
    },
    {
      "cell_type": "code",
      "metadata": {
        "id": "Kt3AIvi40L39"
      },
      "source": [
        "TRAIN_ACCURACY.append(RC.score(X_train, Y_train))\n",
        "VARIANCE_SCORE.append(metrics.explained_variance_score(Y_test,RC_pred))\n",
        "MAX_ERROR.append(metrics.max_error(Y_test,RC_pred))\n",
        "ABSOLUTE_ERROR.append(metrics.mean_absolute_error(Y_test,RC_pred))\n",
        "MEAN_SQUARED_ERROR.append(metrics.mean_squared_error(Y_test,RC_pred))\n",
        "MEDIAN_ABSOLUTE_ERROR.append(metrics.median_absolute_error(Y_test,RC_pred))\n",
        "R_SQUARE_SCORE.append(metrics.r2_score(Y_test,RC_pred))"
      ],
      "execution_count": null,
      "outputs": []
    },
    {
      "cell_type": "markdown",
      "metadata": {
        "id": "-teF_Fdb0L3_"
      },
      "source": [
        "#LASSO REGRESSION"
      ]
    },
    {
      "cell_type": "code",
      "metadata": {
        "id": "FdZz9RCf0L4A",
        "colab": {
          "base_uri": "https://localhost:8080/",
          "height": 293
        },
        "outputId": "6cec962e-7c51-4311-b265-44cc42e2c0ee"
      },
      "source": [
        "from sklearn import linear_model, metrics\n",
        "\n",
        "LassoR = linear_model.Lasso(alpha=0.1)\n",
        "LassoR.fit(X_train, Y_train)\n",
        "LassoR_pred = LassoR.predict(X_test)\n",
        "print ('Coefficients: ', LassoR.coef_)\n",
        "print ('Intercept: ', LassoR.intercept_)\n",
        "\n",
        "print(\"\\nREGRESSION REPORT:\\n\")\n",
        "print(\"TRAINING ACCURACY:\\t\", LassoR.score(X_train, Y_train))\n",
        "print(\"VARIANCE SCORE:\\t\\t\", metrics.explained_variance_score(Y_test,LassoR_pred))\n",
        "print(\"MAX ERROR:\\t\\t\", metrics.max_error(Y_test, LassoR_pred))\n",
        "print(\"ABSOLUTE ERROR:\\t\\t\", metrics.mean_absolute_error(Y_test, LassoR_pred))\n",
        "print(\"MEAN SQUARED ERROR:\\t\", metrics.mean_squared_error(Y_test, LassoR_pred))\n",
        "#print(\"MEAN SQUARED LOG ERROR: \", metrics.mean_squared_log_error(Y_test, LassoR_pred))\n",
        "print(\"MEDIAN ABSOLUTE ERROR:  \", metrics.median_absolute_error(Y_test, LassoR_pred))\n",
        "print(\"R-SQUARE SCORE:  \\t\", metrics.r2_score(Y_test, LassoR_pred))\n",
        "#print(\"MEAN POISSON DEVIANCE: \", metrics.mean_poisson_deviance(Y_test, LassoR_pred))\n",
        "#print(\"MEAN GAMMA DEVIANCE: \", metrics.mean_gamma_deviance(Y_test,LassoR_pred))"
      ],
      "execution_count": null,
      "outputs": [
        {
          "output_type": "stream",
          "text": [
            "Coefficients:  [-6.48145910e-03  2.20946271e-06 -6.97568374e-02  2.06406379e-01\n",
            "  2.25845337e-02 -3.51550544e-02 -3.08536417e-01  5.30793327e-01\n",
            "  5.09225808e-02 -3.53339502e-03  0.00000000e+00  0.00000000e+00\n",
            "  0.00000000e+00  0.00000000e+00  0.00000000e+00 -2.04766510e-02\n",
            "  0.00000000e+00 -0.00000000e+00  0.00000000e+00  0.00000000e+00\n",
            " -3.08779968e-03  1.57214247e-02  1.38888930e-04  5.56381436e-01]\n",
            "Intercept:  -0.3708289269554186\n",
            "\n",
            "REGRESSION REPORT:\n",
            "\n",
            "TRAINING ACCURACY:\t 0.8107521779897839\n",
            "VARIANCE SCORE:\t\t 0.7919505010653107\n",
            "MAX ERROR:\t\t 7.423492331928468\n",
            "ABSOLUTE ERROR:\t\t 0.9314827775264973\n",
            "MEAN SQUARED ERROR:\t 1.5298990919733764\n",
            "MEDIAN ABSOLUTE ERROR:   0.7375971600144524\n",
            "R-SQUARE SCORE:  \t 0.7919503389242841\n"
          ],
          "name": "stdout"
        }
      ]
    },
    {
      "cell_type": "code",
      "metadata": {
        "id": "3Mc13iAG0L4D"
      },
      "source": [
        "TRAIN_ACCURACY.append(LassoR.score(X_train, Y_train))\n",
        "VARIANCE_SCORE.append(metrics.explained_variance_score(Y_test,LassoR_pred))\n",
        "MAX_ERROR.append(metrics.max_error(Y_test, LassoR_pred))\n",
        "ABSOLUTE_ERROR.append(metrics.mean_absolute_error(Y_test, LassoR_pred))\n",
        "MEAN_SQUARED_ERROR.append(metrics.mean_squared_error(Y_test, LassoR_pred))\n",
        "MEDIAN_ABSOLUTE_ERROR.append(metrics.median_absolute_error(Y_test, LassoR_pred))\n",
        "R_SQUARE_SCORE.append(metrics.r2_score(Y_test, LassoR_pred))"
      ],
      "execution_count": null,
      "outputs": []
    },
    {
      "cell_type": "markdown",
      "metadata": {
        "id": "FyipS_ER0L4G"
      },
      "source": [
        "#LARS LASSO REGRESSION"
      ]
    },
    {
      "cell_type": "code",
      "metadata": {
        "id": "gpJDmegy0L4H",
        "colab": {
          "base_uri": "https://localhost:8080/",
          "height": 212
        },
        "outputId": "43b4e134-518b-4b09-a617-b77c5fe05321"
      },
      "source": [
        "from sklearn import linear_model, metrics\n",
        "\n",
        "LARSLassoR = linear_model.LassoLars(alpha=0.1)\n",
        "LARSLassoR.fit(X_train, Y_train)\n",
        "LARSLassoR_pred = LARSLassoR.predict(X_test)\n",
        "print ('Coefficients: ', LARSLassoR.coef_)\n",
        "print ('Intercept: ', LARSLassoR.intercept_)\n",
        "\n",
        "print(\"\\nREGRESSION REPORT:\\n\")\n",
        "print(\"TRAINING ACCURACY:\\t\", LARSLassoR.score(X_train, Y_train))\n",
        "print(\"VARIANCE SCORE:\\t\\t\", metrics.explained_variance_score(Y_test,LARSLassoR_pred))\n",
        "print(\"MAX ERROR:\\t\\t\", metrics.max_error(Y_test, LARSLassoR_pred))\n",
        "print(\"ABSOLUTE ERROR:\\t\\t\", metrics.mean_absolute_error(Y_test, LARSLassoR_pred))\n",
        "print(\"MEAN SQUARED ERROR:\\t\", metrics.mean_squared_error(Y_test, LARSLassoR_pred))\n",
        "#print(\"MEAN SQUARED LOG ERROR: \", metrics.mean_squared_log_error(Y_test, LARSLassoR_pred))\n",
        "print(\"MEDIAN ABSOLUTE ERROR:  \", metrics.median_absolute_error(Y_test, LARSLassoR_pred))\n",
        "print(\"R-SQUARE SCORE:  \\t\", metrics.r2_score(Y_test, LARSLassoR_pred))\n",
        "#print(\"MEAN POISSON DEVIANCE: \", metrics.mean_poisson_deviance(Y_test, LARSLassoR_pred))\n",
        "#print(\"MEAN GAMMA DEVIANCE: \", metrics.mean_gamma_deviance(Y_test,LARSLassoR_pred))"
      ],
      "execution_count": null,
      "outputs": [
        {
          "output_type": "stream",
          "text": [
            "Coefficients:  [0. 0. 0. 0. 0. 0. 0. 0. 0. 0. 0. 0. 0. 0. 0. 0. 0. 0. 0. 0. 0. 0. 0. 0.]\n",
            "Intercept:  22.80690211256249\n",
            "\n",
            "REGRESSION REPORT:\n",
            "\n",
            "TRAINING ACCURACY:\t 0.0\n",
            "VARIANCE SCORE:\t\t 0.0\n",
            "MAX ERROR:\t\t 22.80690211256249\n",
            "ABSOLUTE ERROR:\t\t 2.0228677577533456\n",
            "MEAN SQUARED ERROR:\t 7.405121182858427\n",
            "MEDIAN ABSOLUTE ERROR:   1.6069021125624907\n",
            "R-SQUARE SCORE:  \t -0.007016057726446423\n"
          ],
          "name": "stdout"
        }
      ]
    },
    {
      "cell_type": "code",
      "metadata": {
        "id": "OBvwvsj10L4M"
      },
      "source": [
        "TRAIN_ACCURACY.append(LARSLassoR.score(X_train, Y_train))\n",
        "VARIANCE_SCORE.append(metrics.explained_variance_score(Y_test,LARSLassoR_pred))\n",
        "MAX_ERROR.append(metrics.max_error(Y_test, LARSLassoR_pred))\n",
        "ABSOLUTE_ERROR.append(metrics.mean_absolute_error(Y_test, LARSLassoR_pred))\n",
        "MEAN_SQUARED_ERROR.append(metrics.mean_squared_error(Y_test, LARSLassoR_pred))\n",
        "MEDIAN_ABSOLUTE_ERROR.append(metrics.median_absolute_error(Y_test, LARSLassoR_pred))\n",
        "R_SQUARE_SCORE.append(metrics.r2_score(Y_test, LARSLassoR_pred))"
      ],
      "execution_count": null,
      "outputs": []
    },
    {
      "cell_type": "markdown",
      "metadata": {
        "id": "HcKZE0zR0L4O"
      },
      "source": [
        "#BAYESIAN RIDGE REGRESSION\n"
      ]
    },
    {
      "cell_type": "code",
      "metadata": {
        "id": "ox4WtQAO0L4P",
        "colab": {
          "base_uri": "https://localhost:8080/",
          "height": 293
        },
        "outputId": "d3794907-bab7-47c2-91d1-fddcb479bbda"
      },
      "source": [
        "from sklearn import linear_model, metrics\n",
        "\n",
        "BRR = linear_model.BayesianRidge()\n",
        "BRR.fit(X_train, Y_train)\n",
        "BRR_pred = BRR.predict(X_test)\n",
        "print ('Coefficients: ', BRR.coef_)\n",
        "print ('Intercept: ', BRR.intercept_)\n",
        "\n",
        "print(\"\\nREGRESSION REPORT:\\n\")\n",
        "print(\"TRAINING ACCURACY:\\t\", BRR.score(X_train, Y_train))\n",
        "print(\"VARIANCE SCORE:\\t\\t\", metrics.explained_variance_score(Y_test, BRR_pred))\n",
        "print(\"MAX ERROR:\\t\\t\", metrics.max_error(Y_test, BRR_pred))\n",
        "print(\"ABSOLUTE ERROR:\\t\\t\", metrics.mean_absolute_error(Y_test, BRR_pred))\n",
        "print(\"MEAN SQUARED ERROR:\\t\", metrics.mean_squared_error(Y_test, BRR_pred))\n",
        "#print(\"MEAN SQUARED LOG ERROR: \", metrics.mean_squared_log_error(Y_test, BRR_pred))\n",
        "print(\"MEDIAN ABSOLUTE ERROR:  \", metrics.median_absolute_error(Y_test, BRR_pred))\n",
        "print(\"R-SQUARE SCORE:  \\t\", metrics.r2_score(Y_test, BRR_pred))\n",
        "#print(\"MEAN POISSON DEVIANCE: \", metrics.mean_poisson_deviance(Y_test, BRR_pred))\n",
        "#print(\"MEAN GAMMA DEVIANCE: \", metrics.mean_gamma_deviance(Y_test, BRR_pred))"
      ],
      "execution_count": null,
      "outputs": [
        {
          "output_type": "stream",
          "text": [
            "Coefficients:  [-1.51934891e-02  1.82597065e-06 -1.14099936e-01  2.33308416e-01\n",
            " -3.84504822e-03 -3.10333784e-02 -4.07909649e-01  6.63299125e-01\n",
            "  7.96587985e-02 -1.49743315e-03  1.68067210e-01  7.17178765e-01\n",
            " -5.93763880e-02  5.40134330e-01 -4.91951102e-03 -1.00762827e-01\n",
            "  8.04505157e-02 -4.66738167e-02  2.01321816e-01  4.27892217e-01\n",
            " -6.34484182e-03  1.97767640e-01  1.56911536e-04  5.92352129e-01]\n",
            "Intercept:  -62.19028598365896\n",
            "\n",
            "REGRESSION REPORT:\n",
            "\n",
            "TRAINING ACCURACY:\t 0.8233118714688217\n",
            "VARIANCE SCORE:\t\t 0.7999723399881711\n",
            "MAX ERROR:\t\t 6.516908852716135\n",
            "ABSOLUTE ERROR:\t\t 0.9237186773917279\n",
            "MEAN SQUARED ERROR:\t 1.470918443075012\n",
            "MEDIAN ABSOLUTE ERROR:   0.7415425091566732\n",
            "R-SQUARE SCORE:  \t 0.7999710666165286\n"
          ],
          "name": "stdout"
        }
      ]
    },
    {
      "cell_type": "code",
      "metadata": {
        "id": "wOIlNwLl0L4S"
      },
      "source": [
        "TRAIN_ACCURACY.append(BRR.score(X_train, Y_train))\n",
        "VARIANCE_SCORE.append(metrics.explained_variance_score(Y_test, BRR_pred))\n",
        "MAX_ERROR.append(metrics.max_error(Y_test, BRR_pred))\n",
        "ABSOLUTE_ERROR.append(metrics.mean_absolute_error(Y_test, BRR_pred))\n",
        "MEAN_SQUARED_ERROR.append(metrics.mean_squared_error(Y_test, BRR_pred))\n",
        "MEDIAN_ABSOLUTE_ERROR.append(metrics.median_absolute_error(Y_test, BRR_pred))\n",
        "R_SQUARE_SCORE.append(metrics.r2_score(Y_test, BRR_pred))"
      ],
      "execution_count": null,
      "outputs": []
    },
    {
      "cell_type": "markdown",
      "metadata": {
        "id": "eamckEUF0L4V"
      },
      "source": [
        "#SVM"
      ]
    },
    {
      "cell_type": "code",
      "metadata": {
        "id": "aNbCMfES0L4V",
        "colab": {
          "base_uri": "https://localhost:8080/",
          "height": 180
        },
        "outputId": "b77bd890-f71d-407e-94eb-95522c50e747"
      },
      "source": [
        "from sklearn.svm import SVR\n",
        "SVM = SVR(kernel='rbf')\n",
        "SVM.fit(X_train, Y_train)\n",
        "\n",
        "SVM_pred = SVM.predict(X_test)\n",
        "#print ('Coefficients: ', SVM.coef_)\n",
        "#print ('Intercept: ', SVM.intercept_)\n",
        "\n",
        "print(\"\\nREGRESSION REPORT:\\n\")\n",
        "print(\"TRAINING ACCURACY:\\t\", SVM.score(X_train, Y_train))\n",
        "print(\"VARIANCE SCORE:\\t\\t\", metrics.explained_variance_score(Y_test,SVM_pred))\n",
        "print(\"MAX ERROR:\\t\\t\", metrics.max_error(Y_test, SVM_pred))\n",
        "print(\"ABSOLUTE ERROR:\\t\\t\", metrics.mean_absolute_error(Y_test, SVM_pred))\n",
        "print(\"MEAN SQUARED ERROR:\\t\", metrics.mean_squared_error(Y_test, SVM_pred))\n",
        "#print(\"MEAN SQUARED LOG ERROR: \", metrics.mean_squared_log_error(Y_test, SVM_pred))\n",
        "print(\"MEDIAN ABSOLUTE ERROR:  \", metrics.median_absolute_error(Y_test, SVM_pred))\n",
        "print(\"R-SQUARE SCORE:  \\t\", metrics.r2_score(Y_test, SVM_pred))\n",
        "#print(\"MEAN POISSON DEVIANCE: \", metrics.mean_poisson_deviance(Y_test, SVM_pred))\n",
        "#print(\"MEAN GAMMA DEVIANCE: \", metrics.mean_gamma_deviance(Y_test, SVM_pred))"
      ],
      "execution_count": null,
      "outputs": [
        {
          "output_type": "stream",
          "text": [
            "\n",
            "REGRESSION REPORT:\n",
            "\n",
            "TRAINING ACCURACY:\t -0.009897117238825581\n",
            "VARIANCE SCORE:\t\t -0.00185806918841247\n",
            "MAX ERROR:\t\t 23.10145017972544\n",
            "ABSOLUTE ERROR:\t\t 1.996299100064765\n",
            "MEAN SQUARED ERROR:\t 7.371423726712131\n",
            "MEDIAN ABSOLUTE ERROR:   1.5997067374347758\n",
            "R-SQUARE SCORE:  \t -0.002433569660970303\n"
          ],
          "name": "stdout"
        }
      ]
    },
    {
      "cell_type": "code",
      "metadata": {
        "id": "gLVxth0S0L4Y"
      },
      "source": [
        "TRAIN_ACCURACY.append(SVM.score(X_train, Y_train))\n",
        "VARIANCE_SCORE.append(metrics.explained_variance_score(Y_test,SVM_pred))\n",
        "MAX_ERROR.append(metrics.max_error(Y_test, SVM_pred))\n",
        "ABSOLUTE_ERROR.append(metrics.mean_absolute_error(Y_test, SVM_pred))\n",
        "MEAN_SQUARED_ERROR.append(metrics.mean_squared_error(Y_test, SVM_pred))\n",
        "MEDIAN_ABSOLUTE_ERROR.append(metrics.median_absolute_error(Y_test, SVM_pred))\n",
        "R_SQUARE_SCORE.append(metrics.r2_score(Y_test, SVM_pred))"
      ],
      "execution_count": null,
      "outputs": []
    },
    {
      "cell_type": "markdown",
      "metadata": {
        "id": "w-xsPGug0L4c"
      },
      "source": [
        "#GRADIENT BOOSTING REGRESSION"
      ]
    },
    {
      "cell_type": "code",
      "metadata": {
        "id": "NQcRaJzv0L4d",
        "colab": {
          "base_uri": "https://localhost:8080/",
          "height": 180
        },
        "outputId": "0f6cc927-b415-48ce-eb16-2893507c0045"
      },
      "source": [
        "from sklearn.ensemble import GradientBoostingRegressor\n",
        "import sklearn.metrics\n",
        "\n",
        "GBR = GradientBoostingRegressor(n_estimators=100, learning_rate=0.1, max_depth=1, random_state=0, loss='ls').fit(X_train, Y_train)\n",
        "#print(\"MEAN SQUARE ERROR: \", metrics.mean_squared_error(Y_test, GBR.predict(X_test)))\n",
        "GBR_PRED = GBR.predict(X_test)\n",
        "\n",
        "print(\"\\nREGRESSION REPORT:\\n\")\n",
        "print(\"TRAINING ACCURACY:\\t\", GBR.score(X_train, Y_train))\n",
        "print(\"VARIANCE SCORE:\\t\\t\", metrics.explained_variance_score(Y_test,RR_pred))\n",
        "print(\"MAX ERROR:\\t\\t\", metrics.max_error(Y_test,RR_pred))\n",
        "print(\"ABSOLUTE ERROR:\\t\\t\", metrics.mean_absolute_error(Y_test,RR_pred))\n",
        "print(\"MEAN SQUARED ERROR:\\t\", metrics.mean_squared_error(Y_test,RR_pred))\n",
        "#print(\"MEAN SQUARED LOG ERROR: \", metrics.mean_squared_log_error(Y_test,RR_pred))\n",
        "print(\"MEDIAN ABSOLUTE ERROR:  \", metrics.median_absolute_error(Y_test,RR_pred))\n",
        "print(\"R-SQUARE SCORE:  \\t\", metrics.r2_score(Y_test,RR_pred))\n",
        "#print(\"MEAN POISSON DEVIANCE: \", metrics.mean_poisson_deviance(Y_test,RR_pred))\n",
        "#print(\"MEAN GAMMA DEVIANCE: \", metrics.mean_gamma_deviance(Y_test,RR_pred))"
      ],
      "execution_count": null,
      "outputs": [
        {
          "output_type": "stream",
          "text": [
            "\n",
            "REGRESSION REPORT:\n",
            "\n",
            "TRAINING ACCURACY:\t 0.8583212812613141\n",
            "VARIANCE SCORE:\t\t 0.8000395584246268\n",
            "MAX ERROR:\t\t 6.461516388471239\n",
            "ABSOLUTE ERROR:\t\t 0.9236535411686961\n",
            "MEAN SQUARED ERROR:\t 1.4704253875950872\n",
            "MEDIAN ABSOLUTE ERROR:   0.7414055093706509\n",
            "R-SQUARE SCORE:  \t 0.8000381168069811\n"
          ],
          "name": "stdout"
        }
      ]
    },
    {
      "cell_type": "code",
      "metadata": {
        "id": "IkzqpOO00L4h"
      },
      "source": [
        "TRAIN_ACCURACY.append(GBR.score(X_train, Y_train))\n",
        "VARIANCE_SCORE.append(metrics.explained_variance_score(Y_test,RR_pred))\n",
        "MAX_ERROR.append(metrics.max_error(Y_test,RR_pred))\n",
        "ABSOLUTE_ERROR.append(metrics.mean_absolute_error(Y_test,RR_pred))\n",
        "MEAN_SQUARED_ERROR.append(metrics.mean_squared_error(Y_test,RR_pred))\n",
        "MEDIAN_ABSOLUTE_ERROR.append(metrics.median_absolute_error(Y_test,RR_pred))\n",
        "R_SQUARE_SCORE.append(metrics.r2_score(Y_test,RR_pred))"
      ],
      "execution_count": null,
      "outputs": []
    },
    {
      "cell_type": "markdown",
      "metadata": {
        "id": "y-ZFSQ3a0L4k"
      },
      "source": [
        "#DECISiON TREE"
      ]
    },
    {
      "cell_type": "code",
      "metadata": {
        "id": "MlspKXbF0L4k",
        "colab": {
          "base_uri": "https://localhost:8080/",
          "height": 180
        },
        "outputId": "0bccee03-4025-43d2-ffb0-ca8c411081c0"
      },
      "source": [
        "from sklearn.tree import DecisionTreeRegressor\n",
        "DT = DecisionTreeRegressor()\n",
        "DT.fit(X_train, Y_train)\n",
        "DT_pred = DT.predict(X_test)\n",
        "\n",
        "print(\"\\nREGRESSION REPORT:\\n\")\n",
        "print(\"TRAINING ACCURACY:\\t\", DT.score(X_train, Y_train))\n",
        "print(\"VARIANCE SCORE:\\t\\t\", metrics.explained_variance_score(Y_test,DT_pred))\n",
        "print(\"MAX ERROR:\\t\\t\", metrics.max_error(Y_test, DT_pred))\n",
        "print(\"ABSOLUTE ERROR:\\t\\t\", metrics.mean_absolute_error(Y_test, DT_pred))\n",
        "print(\"MEAN SQUARED ERROR:\\t\", metrics.mean_squared_error(Y_test, DT_pred))\n",
        "#print(\"MEAN SQUARED LOG ERROR: \", metrics.mean_squared_log_error(Y_test,DT_pred))\n",
        "print(\"MEDIAN ABSOLUTE ERROR:  \", metrics.median_absolute_error(Y_test,DT_pred))\n",
        "print(\"R-SQUARE SCORE:  \\t\", metrics.r2_score(Y_test, DT_pred))\n",
        "#print(\"MEAN POISSON DEVIANCE: \", metrics.mean_poisson_deviance(Y_test, DT_pred))\n",
        "#print(\"MEAN GAMMA DEVIANCE: \", metrics.mean_gamma_deviance(Y_test, DT_pred))"
      ],
      "execution_count": null,
      "outputs": [
        {
          "output_type": "stream",
          "text": [
            "\n",
            "REGRESSION REPORT:\n",
            "\n",
            "TRAINING ACCURACY:\t 1.0\n",
            "VARIANCE SCORE:\t\t 0.8363348502741428\n",
            "MAX ERROR:\t\t 5.0\n",
            "ABSOLUTE ERROR:\t\t 0.801611863313991\n",
            "MEAN SQUARED ERROR:\t 1.2041715022566086\n",
            "MEDIAN ABSOLUTE ERROR:   0.5999999999999979\n",
            "R-SQUARE SCORE:  \t 0.8362457535690316\n"
          ],
          "name": "stdout"
        }
      ]
    },
    {
      "cell_type": "code",
      "metadata": {
        "id": "z7IvasmK0L4p"
      },
      "source": [
        "TRAIN_ACCURACY.append(DT.score(X_train, Y_train))\n",
        "VARIANCE_SCORE.append(metrics.explained_variance_score(Y_test,DT_pred))\n",
        "MAX_ERROR.append(metrics.max_error(Y_test, DT_pred))\n",
        "ABSOLUTE_ERROR.append(metrics.mean_absolute_error(Y_test, DT_pred))\n",
        "MEAN_SQUARED_ERROR.append(metrics.mean_squared_error(Y_test, DT_pred))\n",
        "MEDIAN_ABSOLUTE_ERROR.append(metrics.median_absolute_error(Y_test,DT_pred))\n",
        "R_SQUARE_SCORE.append(metrics.r2_score(Y_test, DT_pred))"
      ],
      "execution_count": null,
      "outputs": []
    },
    {
      "cell_type": "markdown",
      "metadata": {
        "id": "eCnSCL2b0L4r"
      },
      "source": [
        "#RANDOM FOREST"
      ]
    },
    {
      "cell_type": "code",
      "metadata": {
        "id": "tLbrfFuc0L4s",
        "colab": {
          "base_uri": "https://localhost:8080/",
          "height": 180
        },
        "outputId": "47f0fee4-d6bc-4565-b162-81c0f7c8ffe4"
      },
      "source": [
        "from sklearn.preprocessing import StandardScaler\n",
        "\n",
        "from sklearn.ensemble import RandomForestRegressor\n",
        "RF = RandomForestRegressor()\n",
        "RF.fit(X_train, Y_train)\n",
        "RF_pred = RF.predict(X_test)\n",
        "\n",
        "print(\"\\nREGRESSION REPORT:\\n\")\n",
        "print(\"TRAINING ACCURACY:\\t\", RF.score(X_train, Y_train))\n",
        "print(\"VARIANCE SCORE:\\t\\t\", metrics.explained_variance_score(Y_test,RF_pred))\n",
        "print(\"MAX ERROR:\\t\\t\", metrics.max_error(Y_test, RF_pred))\n",
        "print(\"ABSOLUTE ERROR:\\t\\t\", metrics.mean_absolute_error(Y_test, RF_pred))\n",
        "print(\"MEAN SQUARED ERROR:\\t\", metrics.mean_squared_error(Y_test, RF_pred))\n",
        "#print(\"MEAN SQUARED LOG ERROR: \", metrics.mean_squared_log_error(Y_test, RF_pred))\n",
        "print(\"MEDIAN ABSOLUTE ERROR:  \", metrics.median_absolute_error(Y_test, RF_pred))\n",
        "print(\"R-SQUARE SCORE:  \\t\", metrics.r2_score(Y_test, RF_pred))\n",
        "#print(\"MEAN POISSON DEVIANCE: \", metrics.mean_poisson_deviance(Y_test, RF_pred))\n",
        "#print(\"MEAN GAMMA DEVIANCE: \", metrics.mean_gamma_deviance(Y_test, RF_pred))"
      ],
      "execution_count": null,
      "outputs": [
        {
          "output_type": "stream",
          "text": [
            "\n",
            "REGRESSION REPORT:\n",
            "\n",
            "TRAINING ACCURACY:\t 0.9905482017566447\n",
            "VARIANCE SCORE:\t\t 0.9267650252413511\n",
            "MAX ERROR:\t\t 3.7259999999999884\n",
            "ABSOLUTE ERROR:\t\t 0.5428974854932301\n",
            "MEAN SQUARED ERROR:\t 0.5391186692456483\n",
            "MEDIAN ABSOLUTE ERROR:   0.4059999999999988\n",
            "R-SQUARE SCORE:  \t 0.9266857160680634\n"
          ],
          "name": "stdout"
        }
      ]
    },
    {
      "cell_type": "code",
      "metadata": {
        "id": "ts_e1sz50L4u"
      },
      "source": [
        "TRAIN_ACCURACY.append(RF.score(X_train, Y_train))\n",
        "VARIANCE_SCORE.append(metrics.explained_variance_score(Y_test,RF_pred))\n",
        "MAX_ERROR.append(metrics.max_error(Y_test, RF_pred))\n",
        "ABSOLUTE_ERROR.append(metrics.mean_absolute_error(Y_test, RF_pred))\n",
        "MEAN_SQUARED_ERROR.append(metrics.mean_squared_error(Y_test, RF_pred))\n",
        "MEDIAN_ABSOLUTE_ERROR.append(metrics.median_absolute_error(Y_test, RF_pred))\n",
        "R_SQUARE_SCORE.append(metrics.r2_score(Y_test, RF_pred))"
      ],
      "execution_count": null,
      "outputs": []
    },
    {
      "cell_type": "markdown",
      "metadata": {
        "id": "83MW4eC40L41"
      },
      "source": [
        "#ADABOOST"
      ]
    },
    {
      "cell_type": "code",
      "metadata": {
        "id": "PjwstJjT0L41",
        "colab": {
          "base_uri": "https://localhost:8080/",
          "height": 180
        },
        "outputId": "9f1801da-41b4-42cf-8a49-4b40963a1699"
      },
      "source": [
        "from sklearn.ensemble import AdaBoostRegressor\n",
        "\n",
        "ABR = AdaBoostRegressor(random_state=0, n_estimators=100)\n",
        "ABR.fit(X_train, Y_train)\n",
        "ABR_pred = ABR.predict(X_test)\n",
        "\n",
        "print(\"\\nREGRESSION REPORT:\\n\")\n",
        "print(\"TRAINING ACCURACY:\\t\", ABR.score(X_train, Y_train))\n",
        "print(\"VARIANCE SCORE:\\t\\t\", metrics.explained_variance_score(Y_test,ABR_pred))\n",
        "print(\"MAX ERROR:\\t\\t\", metrics.max_error(Y_test, ABR_pred))\n",
        "print(\"ABSOLUTE ERROR:\\t\\t\", metrics.mean_absolute_error(Y_test, ABR_pred))\n",
        "print(\"MEAN SQUARED ERROR:\\t\", metrics.mean_squared_error(Y_test, ABR_pred))\n",
        "#print(\"MEAN SQUARED LOG ERROR: \", metrics.mean_squared_log_error(Y_test, ABR_pred))\n",
        "print(\"MEDIAN ABSOLUTE ERROR:  \", metrics.median_absolute_error(Y_test, ABR_pred))\n",
        "print(\"R-SQUARE SCORE:  \\t\", metrics.r2_score(Y_test, ABR_pred))\n",
        "#print(\"MEAN POISSON DEVIANCE: \", metrics.mean_poisson_deviance(Y_test, ABR_pred))\n",
        "#print(\"MEAN GAMMA DEVIANCE: \", metrics.mean_gamma_deviance(Y_test, ABR_pred))"
      ],
      "execution_count": null,
      "outputs": [
        {
          "output_type": "stream",
          "text": [
            "\n",
            "REGRESSION REPORT:\n",
            "\n",
            "TRAINING ACCURACY:\t 0.8636489935510573\n",
            "VARIANCE SCORE:\t\t 0.8507694162633355\n",
            "MAX ERROR:\t\t 3.9242942345918905\n",
            "ABSOLUTE ERROR:\t\t 0.8750261481782107\n",
            "MEAN SQUARED ERROR:\t 1.184941491658516\n",
            "MEDIAN ABSOLUTE ERROR:   0.7485055508111245\n",
            "R-SQUARE SCORE:  \t 0.8388608261633\n"
          ],
          "name": "stdout"
        }
      ]
    },
    {
      "cell_type": "code",
      "metadata": {
        "id": "S7hlmTIr0L44"
      },
      "source": [
        "TRAIN_ACCURACY.append(ABR.score(X_train, Y_train))\n",
        "VARIANCE_SCORE.append(metrics.explained_variance_score(Y_test,ABR_pred))\n",
        "MAX_ERROR.append(metrics.max_error(Y_test, ABR_pred))\n",
        "ABSOLUTE_ERROR.append(metrics.mean_absolute_error(Y_test, ABR_pred))\n",
        "MEAN_SQUARED_ERROR.append(metrics.mean_squared_error(Y_test, ABR_pred))\n",
        "MEDIAN_ABSOLUTE_ERROR.append(metrics.median_absolute_error(Y_test, ABR_pred))\n",
        "R_SQUARE_SCORE.append(metrics.r2_score(Y_test, ABR_pred))"
      ],
      "execution_count": null,
      "outputs": []
    },
    {
      "cell_type": "markdown",
      "metadata": {
        "id": "wZDJtCdr0L47"
      },
      "source": [
        "#GRADIENT DESCENT REGRESSION"
      ]
    },
    {
      "cell_type": "code",
      "metadata": {
        "id": "PArFNI9m0L48",
        "colab": {
          "base_uri": "https://localhost:8080/",
          "height": 180
        },
        "outputId": "8413abad-86fc-420f-ca56-6accdf6b1083"
      },
      "source": [
        "from sklearn.ensemble import GradientBoostingRegressor\n",
        "\n",
        "GDR = GradientBoostingRegressor(random_state=0, n_estimators=100)\n",
        "GDR.fit(X_train, Y_train)\n",
        "GDR_pred = GDR.predict(X_test)\n",
        "\n",
        "print(\"\\nREGRESSION REPORT:\\n\")\n",
        "print(\"TRAINING ACCURACY:\\t\", GDR.score(X_train, Y_train))\n",
        "print(\"VARIANCE SCORE:\\t\\t\", metrics.explained_variance_score(Y_test,GDR_pred))\n",
        "print(\"MAX ERROR:\\t\\t\", metrics.max_error(Y_test, GDR_pred))\n",
        "print(\"ABSOLUTE ERROR:\\t\\t\", metrics.mean_absolute_error(Y_test, GDR_pred))\n",
        "print(\"MEAN SQUARED ERROR:\\t\", metrics.mean_squared_error(Y_test, GDR_pred))\n",
        "#print(\"MEAN SQUARED LOG ERROR: \", metrics.mean_squared_log_error(Y_test, GDR_pred))\n",
        "print(\"MEDIAN ABSOLUTE ERROR:  \", metrics.median_absolute_error(Y_test, GDR_pred))\n",
        "print(\"R-SQUARE SCORE:  \\t\", metrics.r2_score(Y_test, GDR_pred))\n",
        "#print(\"MEAN POISSON DEVIANCE: \", metrics.mean_poisson_deviance(Y_test, GDR_pred))\n",
        "#print(\"MEAN GAMMA DEVIANCE: \", metrics.mean_gamma_deviance(Y_test, GDR_pred))"
      ],
      "execution_count": null,
      "outputs": [
        {
          "output_type": "stream",
          "text": [
            "\n",
            "REGRESSION REPORT:\n",
            "\n",
            "TRAINING ACCURACY:\t 0.9312755207405151\n",
            "VARIANCE SCORE:\t\t 0.9093328805313996\n",
            "MAX ERROR:\t\t 3.5459537245624553\n",
            "ABSOLUTE ERROR:\t\t 0.6287754490680659\n",
            "MEAN SQUARED ERROR:\t 0.667155201069217\n",
            "MEDIAN ABSOLUTE ERROR:   0.5123752893359672\n",
            "R-SQUARE SCORE:  \t 0.9092741382777636\n"
          ],
          "name": "stdout"
        }
      ]
    },
    {
      "cell_type": "code",
      "metadata": {
        "id": "O7GVc8Ne0L4_"
      },
      "source": [
        "TRAIN_ACCURACY.append(GDR.score(X_train, Y_train))\n",
        "VARIANCE_SCORE.append(metrics.explained_variance_score(Y_test,GDR_pred))\n",
        "MAX_ERROR.append(metrics.max_error(Y_test, GDR_pred))\n",
        "ABSOLUTE_ERROR.append(metrics.mean_absolute_error(Y_test, GDR_pred))\n",
        "MEAN_SQUARED_ERROR.append(metrics.mean_squared_error(Y_test, GDR_pred))\n",
        "MEDIAN_ABSOLUTE_ERROR.append(metrics.median_absolute_error(Y_test, GDR_pred))\n",
        "R_SQUARE_SCORE.append(metrics.r2_score(Y_test, GDR_pred))"
      ],
      "execution_count": null,
      "outputs": []
    },
    {
      "cell_type": "markdown",
      "metadata": {
        "id": "T8FedLEY0L5C"
      },
      "source": [
        "#VOTING REGRESSION"
      ]
    },
    {
      "cell_type": "code",
      "metadata": {
        "id": "IG5ksfgL0L5C",
        "colab": {
          "base_uri": "https://localhost:8080/",
          "height": 180
        },
        "outputId": "694cfdd7-7453-48f3-c798-adc9001cf3be"
      },
      "source": [
        "from sklearn.ensemble import VotingRegressor\n",
        "\n",
        "VR = VotingRegressor([('LinearR', LR),('RandomFR', RF)])\n",
        "VR.fit(X_train, Y_train)\n",
        "VR_pred = VR.predict(X_test)\n",
        "\n",
        "print(\"\\nREGRESSION REPORT:\\n\")\n",
        "print(\"TRAINING ACCURACY:\\t\", VR.score(X_train, Y_train))\n",
        "print(\"VARIANCE SCORE:\\t\\t\", metrics.explained_variance_score(Y_test,VR_pred))\n",
        "print(\"MAX ERROR:\\t\\t\", metrics.max_error(Y_test, VR_pred))\n",
        "print(\"ABSOLUTE ERROR:\\t\\t\", metrics.mean_absolute_error(Y_test, VR_pred))\n",
        "print(\"MEAN SQUARED ERROR:\\t\", metrics.mean_squared_error(Y_test, VR_pred))\n",
        "#print(\"MEAN SQUARED LOG ERROR: \", metrics.mean_squared_log_error(Y_test, VR_pred))\n",
        "print(\"MEDIAN ABSOLUTE ERROR:  \", metrics.median_absolute_error(Y_test, VR_pred))\n",
        "print(\"R-SQUARE SCORE:  \\t\", metrics.r2_score(Y_test, VR_pred))\n",
        "#print(\"MEAN POISSON DEVIANCE: \", metrics.mean_poisson_deviance(Y_test, VR_pred))\n",
        "#print(\"MEAN GAMMA DEVIANCE: \", metrics.mean_gamma_deviance(Y_test, VR_pred))"
      ],
      "execution_count": null,
      "outputs": [
        {
          "output_type": "stream",
          "text": [
            "\n",
            "REGRESSION REPORT:\n",
            "\n",
            "TRAINING ACCURACY:\t 0.9409434428935783\n",
            "VARIANCE SCORE:\t\t 0.8945809181846095\n",
            "MAX ERROR:\t\t 3.845588929391088\n",
            "ABSOLUTE ERROR:\t\t 0.6721519087783531\n",
            "MEAN SQUARED ERROR:\t 0.7752910164046448\n",
            "MEDIAN ABSOLUTE ERROR:   0.5398914932709502\n",
            "R-SQUARE SCORE:  \t 0.8945688417985933\n"
          ],
          "name": "stdout"
        }
      ]
    },
    {
      "cell_type": "code",
      "metadata": {
        "id": "24zqNmLl0L5G"
      },
      "source": [
        "TRAIN_ACCURACY.append(VR.score(X_train, Y_train))\n",
        "VARIANCE_SCORE.append(metrics.explained_variance_score(Y_test,VR_pred))\n",
        "MAX_ERROR.append(metrics.max_error(Y_test, VR_pred))\n",
        "ABSOLUTE_ERROR.append(metrics.mean_absolute_error(Y_test, VR_pred))\n",
        "MEAN_SQUARED_ERROR.append(metrics.mean_squared_error(Y_test, VR_pred))\n",
        "MEDIAN_ABSOLUTE_ERROR.append(metrics.median_absolute_error(Y_test, VR_pred))\n",
        "R_SQUARE_SCORE.append(metrics.r2_score(Y_test, VR_pred))"
      ],
      "execution_count": null,
      "outputs": []
    },
    {
      "cell_type": "markdown",
      "metadata": {
        "id": "pwT-MTwY0L5K"
      },
      "source": [
        "#XGBOOST"
      ]
    },
    {
      "cell_type": "code",
      "metadata": {
        "id": "9PhrSpf80L5K",
        "colab": {
          "base_uri": "https://localhost:8080/",
          "height": 196
        },
        "outputId": "f85bf593-7b38-4b67-b8bd-f6fb88760f4d"
      },
      "source": [
        "import xgboost\n",
        "\n",
        "XGB = xgboost.XGBRegressor(colsample_bytree=0.4,\n",
        "                 gamma=0,                 \n",
        "                 learning_rate=0.07,\n",
        "                 max_depth=3,\n",
        "                 min_child_weight=1.5,\n",
        "                 n_estimators=10000,                                                                    \n",
        "                 reg_alpha=0.75,\n",
        "                 reg_lambda=0.45,\n",
        "                 subsample=0.6,\n",
        "                 seed=42)\n",
        "XGB.fit(X_train, Y_train)\n",
        "XGB_pred = XGB.predict(X_test)\n",
        "\n",
        "print(\"\\nREGRESSION REPORT:\\n\")\n",
        "print(\"TRAINING ACCURACY:\\t\", XGB.score(X_train, Y_train))\n",
        "print(\"VARIANCE SCORE:\\t\\t\", metrics.explained_variance_score(Y_test, XGB_pred))\n",
        "print(\"MAX ERROR:\\t\\t\", metrics.max_error(Y_test, XGB_pred))\n",
        "print(\"ABSOLUTE ERROR:\\t\\t\", metrics.mean_absolute_error(Y_test, XGB_pred))\n",
        "print(\"MEAN SQUARED ERROR:\\t\", metrics.mean_squared_error(Y_test, XGB_pred))\n",
        "print(\"MEDIAN ABSOLUTE ERROR:  \", metrics.median_absolute_error(Y_test, XGB_pred))\n",
        "print(\"R-SQUARE SCORE:  \\t\", metrics.r2_score(Y_test, XGB_pred))"
      ],
      "execution_count": null,
      "outputs": [
        {
          "output_type": "stream",
          "text": [
            "[16:42:59] WARNING: /workspace/src/objective/regression_obj.cu:152: reg:linear is now deprecated in favor of reg:squarederror.\n",
            "\n",
            "REGRESSION REPORT:\n",
            "\n",
            "TRAINING ACCURACY:\t 0.9987150825216897\n",
            "VARIANCE SCORE:\t\t 0.96156478601503\n",
            "MAX ERROR:\t\t 2.7400024414062507\n",
            "ABSOLUTE ERROR:\t\t 0.40286020299144754\n",
            "MEAN SQUARED ERROR:\t 0.28267076940518554\n",
            "MEDIAN ABSOLUTE ERROR:   0.3249797821044922\n",
            "R-SQUARE SCORE:  \t 0.9615598453000559\n"
          ],
          "name": "stdout"
        }
      ]
    },
    {
      "cell_type": "code",
      "metadata": {
        "id": "8YdZXAcQ0L5N"
      },
      "source": [
        "TRAIN_ACCURACY.append(XGB.score(X_train, Y_train))\n",
        "VARIANCE_SCORE.append(metrics.explained_variance_score(Y_test, XGB_pred))\n",
        "MAX_ERROR.append(metrics.max_error(Y_test, XGB_pred))\n",
        "ABSOLUTE_ERROR.append(metrics.mean_absolute_error(Y_test, XGB_pred))\n",
        "MEAN_SQUARED_ERROR.append(metrics.mean_squared_error(Y_test, XGB_pred))\n",
        "MEDIAN_ABSOLUTE_ERROR.append(metrics.median_absolute_error(Y_test, XGB_pred))\n",
        "R_SQUARE_SCORE.append(metrics.r2_score(Y_test, XGB_pred))"
      ],
      "execution_count": null,
      "outputs": []
    },
    {
      "cell_type": "markdown",
      "metadata": {
        "id": "AGmu7dEk0L5Q"
      },
      "source": [
        "#PERFORMANCE EVALUATION"
      ]
    },
    {
      "cell_type": "code",
      "metadata": {
        "id": "PQhzq4Vo0L5Q",
        "colab": {
          "base_uri": "https://localhost:8080/",
          "height": 450
        },
        "outputId": "4a4f8815-8ec6-4aaf-d973-eb72f0c227e0"
      },
      "source": [
        "PERFORMANCE = pd.DataFrame({\n",
        "'REGRESSOR' : REGRESSOR,\n",
        "'ACCURACY %' : TRAIN_ACCURACY,\n",
        "'VARIANCE SCORE' : VARIANCE_SCORE,\n",
        "'MAX ERROR' : MAX_ERROR,\n",
        "'ABSOLUTE ERROR' : ABSOLUTE_ERROR,\n",
        "'MEAN SQUARED ERROR' : MEAN_SQUARED_ERROR,\n",
        "'MEDIAN ABSOLUTE ERROR' : MEDIAN_ABSOLUTE_ERROR,\n",
        "'R-SQUARE SCORE' : R_SQUARE_SCORE })"
      ],
      "execution_count": null,
      "outputs": [
        {
          "output_type": "execute_result",
          "data": {
            "text/html": [
              "<div>\n",
              "<style scoped>\n",
              "    .dataframe tbody tr th:only-of-type {\n",
              "        vertical-align: middle;\n",
              "    }\n",
              "\n",
              "    .dataframe tbody tr th {\n",
              "        vertical-align: top;\n",
              "    }\n",
              "\n",
              "    .dataframe thead th {\n",
              "        text-align: right;\n",
              "    }\n",
              "</style>\n",
              "<table border=\"1\" class=\"dataframe\">\n",
              "  <thead>\n",
              "    <tr style=\"text-align: right;\">\n",
              "      <th></th>\n",
              "      <th>REGRESSOR</th>\n",
              "      <th>ACCURACY %</th>\n",
              "      <th>VARIANCE SCORE</th>\n",
              "      <th>MAX ERROR</th>\n",
              "      <th>ABSOLUTE ERROR</th>\n",
              "      <th>MEAN SQUARED ERROR</th>\n",
              "      <th>MEDIAN ABSOLUTE ERROR</th>\n",
              "      <th>R-SQUARE SCORE</th>\n",
              "    </tr>\n",
              "  </thead>\n",
              "  <tbody>\n",
              "    <tr>\n",
              "      <th>0</th>\n",
              "      <td>LINEAR REGRESSION</td>\n",
              "      <td>0.823383</td>\n",
              "      <td>0.800041</td>\n",
              "      <td>6.459228</td>\n",
              "      <td>0.923646</td>\n",
              "      <td>1.470414</td>\n",
              "      <td>0.741860</td>\n",
              "      <td>0.800040</td>\n",
              "    </tr>\n",
              "    <tr>\n",
              "      <th>1</th>\n",
              "      <td>RIDGE REGRESSION</td>\n",
              "      <td>0.823383</td>\n",
              "      <td>0.800040</td>\n",
              "      <td>6.461516</td>\n",
              "      <td>0.923654</td>\n",
              "      <td>1.470425</td>\n",
              "      <td>0.741406</td>\n",
              "      <td>0.800038</td>\n",
              "    </tr>\n",
              "    <tr>\n",
              "      <th>2</th>\n",
              "      <td>RIDGE COMPLEXITY</td>\n",
              "      <td>0.823383</td>\n",
              "      <td>0.800045</td>\n",
              "      <td>6.459685</td>\n",
              "      <td>0.923641</td>\n",
              "      <td>1.470387</td>\n",
              "      <td>0.741782</td>\n",
              "      <td>0.800043</td>\n",
              "    </tr>\n",
              "    <tr>\n",
              "      <th>3</th>\n",
              "      <td>LASSO REGRESSION</td>\n",
              "      <td>0.810752</td>\n",
              "      <td>0.791951</td>\n",
              "      <td>7.423492</td>\n",
              "      <td>0.931483</td>\n",
              "      <td>1.529899</td>\n",
              "      <td>0.737597</td>\n",
              "      <td>0.791950</td>\n",
              "    </tr>\n",
              "    <tr>\n",
              "      <th>4</th>\n",
              "      <td>LARS LASSO REGRESSION</td>\n",
              "      <td>0.000000</td>\n",
              "      <td>0.000000</td>\n",
              "      <td>22.806902</td>\n",
              "      <td>2.022868</td>\n",
              "      <td>7.405121</td>\n",
              "      <td>1.606902</td>\n",
              "      <td>-0.007016</td>\n",
              "    </tr>\n",
              "    <tr>\n",
              "      <th>5</th>\n",
              "      <td>BAYESIAN RIDGE REGRESSION</td>\n",
              "      <td>0.823312</td>\n",
              "      <td>0.799972</td>\n",
              "      <td>6.516909</td>\n",
              "      <td>0.923719</td>\n",
              "      <td>1.470918</td>\n",
              "      <td>0.741543</td>\n",
              "      <td>0.799971</td>\n",
              "    </tr>\n",
              "    <tr>\n",
              "      <th>6</th>\n",
              "      <td>SVM</td>\n",
              "      <td>-0.009897</td>\n",
              "      <td>-0.001858</td>\n",
              "      <td>23.101450</td>\n",
              "      <td>1.996299</td>\n",
              "      <td>7.371424</td>\n",
              "      <td>1.599707</td>\n",
              "      <td>-0.002434</td>\n",
              "    </tr>\n",
              "    <tr>\n",
              "      <th>7</th>\n",
              "      <td>GRADIENT BOOSTING REGRESSION</td>\n",
              "      <td>0.858321</td>\n",
              "      <td>0.800040</td>\n",
              "      <td>6.461516</td>\n",
              "      <td>0.923654</td>\n",
              "      <td>1.470425</td>\n",
              "      <td>0.741406</td>\n",
              "      <td>0.800038</td>\n",
              "    </tr>\n",
              "    <tr>\n",
              "      <th>8</th>\n",
              "      <td>DECISION TREE</td>\n",
              "      <td>1.000000</td>\n",
              "      <td>0.836335</td>\n",
              "      <td>5.000000</td>\n",
              "      <td>0.801612</td>\n",
              "      <td>1.204172</td>\n",
              "      <td>0.600000</td>\n",
              "      <td>0.836246</td>\n",
              "    </tr>\n",
              "    <tr>\n",
              "      <th>9</th>\n",
              "      <td>RANDOM FOREST</td>\n",
              "      <td>0.990548</td>\n",
              "      <td>0.926765</td>\n",
              "      <td>3.726000</td>\n",
              "      <td>0.542897</td>\n",
              "      <td>0.539119</td>\n",
              "      <td>0.406000</td>\n",
              "      <td>0.926686</td>\n",
              "    </tr>\n",
              "    <tr>\n",
              "      <th>10</th>\n",
              "      <td>ADABOOST</td>\n",
              "      <td>0.863649</td>\n",
              "      <td>0.850769</td>\n",
              "      <td>3.924294</td>\n",
              "      <td>0.875026</td>\n",
              "      <td>1.184941</td>\n",
              "      <td>0.748506</td>\n",
              "      <td>0.838861</td>\n",
              "    </tr>\n",
              "    <tr>\n",
              "      <th>11</th>\n",
              "      <td>GRADIENT DESCENT REGRESSION</td>\n",
              "      <td>0.931276</td>\n",
              "      <td>0.909333</td>\n",
              "      <td>3.545954</td>\n",
              "      <td>0.628775</td>\n",
              "      <td>0.667155</td>\n",
              "      <td>0.512375</td>\n",
              "      <td>0.909274</td>\n",
              "    </tr>\n",
              "    <tr>\n",
              "      <th>12</th>\n",
              "      <td>VOTING REGRESSION</td>\n",
              "      <td>0.940943</td>\n",
              "      <td>0.894581</td>\n",
              "      <td>3.845589</td>\n",
              "      <td>0.672152</td>\n",
              "      <td>0.775291</td>\n",
              "      <td>0.539891</td>\n",
              "      <td>0.894569</td>\n",
              "    </tr>\n",
              "    <tr>\n",
              "      <th>13</th>\n",
              "      <td>XGBOOST</td>\n",
              "      <td>0.998715</td>\n",
              "      <td>0.961565</td>\n",
              "      <td>2.740002</td>\n",
              "      <td>0.402860</td>\n",
              "      <td>0.282671</td>\n",
              "      <td>0.324980</td>\n",
              "      <td>0.961560</td>\n",
              "    </tr>\n",
              "  </tbody>\n",
              "</table>\n",
              "</div>"
            ],
            "text/plain": [
              "                       REGRESSOR  ...  R-SQUARE SCORE\n",
              "0              LINEAR REGRESSION  ...        0.800040\n",
              "1               RIDGE REGRESSION  ...        0.800038\n",
              "2               RIDGE COMPLEXITY  ...        0.800043\n",
              "3               LASSO REGRESSION  ...        0.791950\n",
              "4          LARS LASSO REGRESSION  ...       -0.007016\n",
              "5      BAYESIAN RIDGE REGRESSION  ...        0.799971\n",
              "6                            SVM  ...       -0.002434\n",
              "7   GRADIENT BOOSTING REGRESSION  ...        0.800038\n",
              "8                  DECISION TREE  ...        0.836246\n",
              "9                  RANDOM FOREST  ...        0.926686\n",
              "10                      ADABOOST  ...        0.838861\n",
              "11   GRADIENT DESCENT REGRESSION  ...        0.909274\n",
              "12             VOTING REGRESSION  ...        0.894569\n",
              "13                       XGBOOST  ...        0.961560\n",
              "\n",
              "[14 rows x 8 columns]"
            ]
          },
          "metadata": {
            "tags": []
          },
          "execution_count": 114
        }
      ]
    },
    {
      "cell_type": "code",
      "metadata": {
        "id": "fs8PNN2c0aEV"
      },
      "source": [
        ""
      ],
      "execution_count": null,
      "outputs": []
    }
  ]
}