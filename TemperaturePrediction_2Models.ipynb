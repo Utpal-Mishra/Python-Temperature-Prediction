{
  "nbformat": 4,
  "nbformat_minor": 0,
  "metadata": {
    "colab": {
      "name": "TemperaturePrediction:2Models.ipynb",
      "provenance": [],
      "collapsed_sections": [
        "ZnNY6iK5KCrv",
        "HciNbqXnJ-Vg",
        "DANW51__MZMi",
        "UiV0MUJ-J6Xo",
        "rb_W4bnbMBYl",
        "hEK4HbGmmGi1",
        "R5yU51FgUYS9",
        "XQ1y2RdQUgaP",
        "ojAJcjpOUiPj",
        "SS_32UcfVNN7",
        "-eV9RTtvVeg6",
        "jVn8xRIssPxz",
        "b_xQnRaTI_cD",
        "2QKD9BoMCgMO",
        "8lt8LJ-LtK3w",
        "Ft1_sje6MJAa",
        "bCZRvntpOs75",
        "9z8mAaByPKHc",
        "E0wdtgBJMgFm"
      ],
      "mount_file_id": "1UE6Z2PRd2juP1BmTlW-SMDrldtONHgPe",
      "authorship_tag": "ABX9TyNtxjk99YGbqtN7YFJ8z72o",
      "include_colab_link": true
    },
    "kernelspec": {
      "name": "python3",
      "display_name": "Python 3"
    }
  },
  "cells": [
    {
      "cell_type": "markdown",
      "metadata": {
        "id": "view-in-github",
        "colab_type": "text"
      },
      "source": [
        "<a href=\"https://colab.research.google.com/github/Utpal-Mishra/Python-Temperature-Prediction/blob/main/TemperaturePrediction_2Models.ipynb\" target=\"_parent\"><img src=\"https://colab.research.google.com/assets/colab-badge.svg\" alt=\"Open In Colab\"/></a>"
      ]
    },
    {
      "cell_type": "markdown",
      "metadata": {
        "id": "ZnNY6iK5KCrv"
      },
      "source": [
        "#IMPORT LIBRARIES"
      ]
    },
    {
      "cell_type": "code",
      "metadata": {
        "id": "SfFTY4G1YUeT"
      },
      "source": [
        "import pandas as pd\n",
        "import pylab as pl\n",
        "import numpy as np\n",
        "import scipy.optimize as opt\n",
        "from sklearn import preprocessing\n",
        "%matplotlib inline \n",
        "import matplotlib.pyplot as plt"
      ],
      "execution_count": null,
      "outputs": []
    },
    {
      "cell_type": "markdown",
      "metadata": {
        "id": "HciNbqXnJ-Vg"
      },
      "source": [
        "#IMPORT DATA"
      ]
    },
    {
      "cell_type": "code",
      "metadata": {
        "id": "XK00XD6mX3sQ",
        "colab": {
          "base_uri": "https://localhost:8080/",
          "height": 33
        },
        "outputId": "8eabe98f-fbeb-4a2d-b15c-01e8c95126bd"
      },
      "source": [
        "from google.colab import drive\n",
        "drive.mount('/content/Drive/')"
      ],
      "execution_count": null,
      "outputs": [
        {
          "output_type": "stream",
          "text": [
            "Drive already mounted at /content/Drive/; to attempt to forcibly remount, call drive.mount(\"/content/Drive/\", force_remount=True).\n"
          ],
          "name": "stdout"
        }
      ]
    },
    {
      "cell_type": "code",
      "metadata": {
        "id": "89DFE4z9YrCO",
        "colab": {
          "base_uri": "https://localhost:8080/",
          "height": 308
        },
        "outputId": "a773d333-dcf8-46f6-a8a2-a1f11c21596e"
      },
      "source": [
        "path = '/content/Drive/My Drive/Temperature Prediction/Bias_correction_ucl.csv'\n",
        "data = pd.read_csv(path)\n",
        "data.head()"
      ],
      "execution_count": null,
      "outputs": [
        {
          "output_type": "execute_result",
          "data": {
            "text/html": [
              "<div>\n",
              "<style scoped>\n",
              "    .dataframe tbody tr th:only-of-type {\n",
              "        vertical-align: middle;\n",
              "    }\n",
              "\n",
              "    .dataframe tbody tr th {\n",
              "        vertical-align: top;\n",
              "    }\n",
              "\n",
              "    .dataframe thead th {\n",
              "        text-align: right;\n",
              "    }\n",
              "</style>\n",
              "<table border=\"1\" class=\"dataframe\">\n",
              "  <thead>\n",
              "    <tr style=\"text-align: right;\">\n",
              "      <th></th>\n",
              "      <th>Station</th>\n",
              "      <th>Date</th>\n",
              "      <th>Present_Tmax</th>\n",
              "      <th>Present_Tmin</th>\n",
              "      <th>LDAPS_RHmin</th>\n",
              "      <th>LDAPS_RHmax</th>\n",
              "      <th>LDAPS_Tmax_lapse</th>\n",
              "      <th>LDAPS_Tmin_lapse</th>\n",
              "      <th>LDAPS_WS</th>\n",
              "      <th>LDAPS_LH</th>\n",
              "      <th>LDAPS_CC1</th>\n",
              "      <th>LDAPS_CC2</th>\n",
              "      <th>LDAPS_CC3</th>\n",
              "      <th>LDAPS_CC4</th>\n",
              "      <th>LDAPS_PPT1</th>\n",
              "      <th>LDAPS_PPT2</th>\n",
              "      <th>LDAPS_PPT3</th>\n",
              "      <th>LDAPS_PPT4</th>\n",
              "      <th>lat</th>\n",
              "      <th>lon</th>\n",
              "      <th>DEM</th>\n",
              "      <th>Slope</th>\n",
              "      <th>Solar radiation</th>\n",
              "      <th>Next_Tmax</th>\n",
              "      <th>Next_Tmin</th>\n",
              "    </tr>\n",
              "  </thead>\n",
              "  <tbody>\n",
              "    <tr>\n",
              "      <th>0</th>\n",
              "      <td>1.0</td>\n",
              "      <td>2013-06-30</td>\n",
              "      <td>28.7</td>\n",
              "      <td>21.4</td>\n",
              "      <td>58.255688</td>\n",
              "      <td>91.116364</td>\n",
              "      <td>28.074101</td>\n",
              "      <td>23.006936</td>\n",
              "      <td>6.818887</td>\n",
              "      <td>69.451805</td>\n",
              "      <td>0.233948</td>\n",
              "      <td>0.203896</td>\n",
              "      <td>0.161697</td>\n",
              "      <td>0.130928</td>\n",
              "      <td>0.0</td>\n",
              "      <td>0.0</td>\n",
              "      <td>0.0</td>\n",
              "      <td>0.0</td>\n",
              "      <td>37.6046</td>\n",
              "      <td>126.991</td>\n",
              "      <td>212.3350</td>\n",
              "      <td>2.7850</td>\n",
              "      <td>5992.8960</td>\n",
              "      <td>29.1</td>\n",
              "      <td>21.2</td>\n",
              "    </tr>\n",
              "    <tr>\n",
              "      <th>1</th>\n",
              "      <td>2.0</td>\n",
              "      <td>2013-06-30</td>\n",
              "      <td>31.9</td>\n",
              "      <td>21.6</td>\n",
              "      <td>52.263397</td>\n",
              "      <td>90.604721</td>\n",
              "      <td>29.850689</td>\n",
              "      <td>24.035009</td>\n",
              "      <td>5.691890</td>\n",
              "      <td>51.937448</td>\n",
              "      <td>0.225508</td>\n",
              "      <td>0.251771</td>\n",
              "      <td>0.159444</td>\n",
              "      <td>0.127727</td>\n",
              "      <td>0.0</td>\n",
              "      <td>0.0</td>\n",
              "      <td>0.0</td>\n",
              "      <td>0.0</td>\n",
              "      <td>37.6046</td>\n",
              "      <td>127.032</td>\n",
              "      <td>44.7624</td>\n",
              "      <td>0.5141</td>\n",
              "      <td>5869.3125</td>\n",
              "      <td>30.5</td>\n",
              "      <td>22.5</td>\n",
              "    </tr>\n",
              "    <tr>\n",
              "      <th>2</th>\n",
              "      <td>3.0</td>\n",
              "      <td>2013-06-30</td>\n",
              "      <td>31.6</td>\n",
              "      <td>23.3</td>\n",
              "      <td>48.690479</td>\n",
              "      <td>83.973587</td>\n",
              "      <td>30.091292</td>\n",
              "      <td>24.565633</td>\n",
              "      <td>6.138224</td>\n",
              "      <td>20.573050</td>\n",
              "      <td>0.209344</td>\n",
              "      <td>0.257469</td>\n",
              "      <td>0.204092</td>\n",
              "      <td>0.142125</td>\n",
              "      <td>0.0</td>\n",
              "      <td>0.0</td>\n",
              "      <td>0.0</td>\n",
              "      <td>0.0</td>\n",
              "      <td>37.5776</td>\n",
              "      <td>127.058</td>\n",
              "      <td>33.3068</td>\n",
              "      <td>0.2661</td>\n",
              "      <td>5863.5557</td>\n",
              "      <td>31.1</td>\n",
              "      <td>23.9</td>\n",
              "    </tr>\n",
              "    <tr>\n",
              "      <th>3</th>\n",
              "      <td>4.0</td>\n",
              "      <td>2013-06-30</td>\n",
              "      <td>32.0</td>\n",
              "      <td>23.4</td>\n",
              "      <td>58.239788</td>\n",
              "      <td>96.483688</td>\n",
              "      <td>29.704629</td>\n",
              "      <td>23.326177</td>\n",
              "      <td>5.650050</td>\n",
              "      <td>65.727144</td>\n",
              "      <td>0.216372</td>\n",
              "      <td>0.226002</td>\n",
              "      <td>0.161157</td>\n",
              "      <td>0.134249</td>\n",
              "      <td>0.0</td>\n",
              "      <td>0.0</td>\n",
              "      <td>0.0</td>\n",
              "      <td>0.0</td>\n",
              "      <td>37.6450</td>\n",
              "      <td>127.022</td>\n",
              "      <td>45.7160</td>\n",
              "      <td>2.5348</td>\n",
              "      <td>5856.9648</td>\n",
              "      <td>31.7</td>\n",
              "      <td>24.3</td>\n",
              "    </tr>\n",
              "    <tr>\n",
              "      <th>4</th>\n",
              "      <td>5.0</td>\n",
              "      <td>2013-06-30</td>\n",
              "      <td>31.4</td>\n",
              "      <td>21.9</td>\n",
              "      <td>56.174095</td>\n",
              "      <td>90.155128</td>\n",
              "      <td>29.113934</td>\n",
              "      <td>23.486480</td>\n",
              "      <td>5.735004</td>\n",
              "      <td>107.965535</td>\n",
              "      <td>0.151407</td>\n",
              "      <td>0.249995</td>\n",
              "      <td>0.178892</td>\n",
              "      <td>0.170021</td>\n",
              "      <td>0.0</td>\n",
              "      <td>0.0</td>\n",
              "      <td>0.0</td>\n",
              "      <td>0.0</td>\n",
              "      <td>37.5507</td>\n",
              "      <td>127.135</td>\n",
              "      <td>35.0380</td>\n",
              "      <td>0.5055</td>\n",
              "      <td>5859.5522</td>\n",
              "      <td>31.2</td>\n",
              "      <td>22.5</td>\n",
              "    </tr>\n",
              "  </tbody>\n",
              "</table>\n",
              "</div>"
            ],
            "text/plain": [
              "   Station        Date  Present_Tmax  ...  Solar radiation  Next_Tmax  Next_Tmin\n",
              "0      1.0  2013-06-30          28.7  ...        5992.8960       29.1       21.2\n",
              "1      2.0  2013-06-30          31.9  ...        5869.3125       30.5       22.5\n",
              "2      3.0  2013-06-30          31.6  ...        5863.5557       31.1       23.9\n",
              "3      4.0  2013-06-30          32.0  ...        5856.9648       31.7       24.3\n",
              "4      5.0  2013-06-30          31.4  ...        5859.5522       31.2       22.5\n",
              "\n",
              "[5 rows x 25 columns]"
            ]
          },
          "metadata": {
            "tags": []
          },
          "execution_count": 66
        }
      ]
    },
    {
      "cell_type": "code",
      "metadata": {
        "id": "vQuX2dydZbdP",
        "colab": {
          "base_uri": "https://localhost:8080/",
          "height": 33
        },
        "outputId": "0a981ab8-06ae-44fa-ee8d-3a51e131b808"
      },
      "source": [
        "print(\"Data.shape:\", data.shape)"
      ],
      "execution_count": null,
      "outputs": [
        {
          "output_type": "stream",
          "text": [
            "Data.shape: (7752, 25)\n"
          ],
          "name": "stdout"
        }
      ]
    },
    {
      "cell_type": "markdown",
      "metadata": {
        "id": "DANW51__MZMi"
      },
      "source": [
        "#DATA EXPLORATION"
      ]
    },
    {
      "cell_type": "code",
      "metadata": {
        "id": "ZZOOu0wCoZub",
        "colab": {
          "base_uri": "https://localhost:8080/",
          "height": 227
        },
        "outputId": "be24d579-cb51-4857-f079-88519614e1b5"
      },
      "source": [
        "import datetime as dt\n",
        "data['Date'] = pd.to_datetime(data['Date'])\n",
        "data['Date']= data['Date'].map(dt.datetime.toordinal)\n",
        "data.head()"
      ],
      "execution_count": null,
      "outputs": [
        {
          "output_type": "execute_result",
          "data": {
            "text/html": [
              "<div>\n",
              "<style scoped>\n",
              "    .dataframe tbody tr th:only-of-type {\n",
              "        vertical-align: middle;\n",
              "    }\n",
              "\n",
              "    .dataframe tbody tr th {\n",
              "        vertical-align: top;\n",
              "    }\n",
              "\n",
              "    .dataframe thead th {\n",
              "        text-align: right;\n",
              "    }\n",
              "</style>\n",
              "<table border=\"1\" class=\"dataframe\">\n",
              "  <thead>\n",
              "    <tr style=\"text-align: right;\">\n",
              "      <th></th>\n",
              "      <th>Station</th>\n",
              "      <th>Date</th>\n",
              "      <th>Present_Tmax</th>\n",
              "      <th>Present_Tmin</th>\n",
              "      <th>LDAPS_RHmin</th>\n",
              "      <th>LDAPS_RHmax</th>\n",
              "      <th>LDAPS_Tmax_lapse</th>\n",
              "      <th>LDAPS_Tmin_lapse</th>\n",
              "      <th>LDAPS_WS</th>\n",
              "      <th>LDAPS_LH</th>\n",
              "      <th>LDAPS_CC1</th>\n",
              "      <th>LDAPS_CC2</th>\n",
              "      <th>LDAPS_CC3</th>\n",
              "      <th>LDAPS_CC4</th>\n",
              "      <th>LDAPS_PPT1</th>\n",
              "      <th>LDAPS_PPT2</th>\n",
              "      <th>LDAPS_PPT3</th>\n",
              "      <th>LDAPS_PPT4</th>\n",
              "      <th>lat</th>\n",
              "      <th>lon</th>\n",
              "      <th>DEM</th>\n",
              "      <th>Slope</th>\n",
              "      <th>Solar radiation</th>\n",
              "      <th>Next_Tmax</th>\n",
              "      <th>Next_Tmin</th>\n",
              "    </tr>\n",
              "  </thead>\n",
              "  <tbody>\n",
              "    <tr>\n",
              "      <th>0</th>\n",
              "      <td>1.0</td>\n",
              "      <td>735049</td>\n",
              "      <td>28.7</td>\n",
              "      <td>21.4</td>\n",
              "      <td>58.255688</td>\n",
              "      <td>91.116364</td>\n",
              "      <td>28.074101</td>\n",
              "      <td>23.006936</td>\n",
              "      <td>6.818887</td>\n",
              "      <td>69.451805</td>\n",
              "      <td>0.233948</td>\n",
              "      <td>0.203896</td>\n",
              "      <td>0.161697</td>\n",
              "      <td>0.130928</td>\n",
              "      <td>0.0</td>\n",
              "      <td>0.0</td>\n",
              "      <td>0.0</td>\n",
              "      <td>0.0</td>\n",
              "      <td>37.6046</td>\n",
              "      <td>126.991</td>\n",
              "      <td>212.3350</td>\n",
              "      <td>2.7850</td>\n",
              "      <td>5992.8960</td>\n",
              "      <td>29.1</td>\n",
              "      <td>21.2</td>\n",
              "    </tr>\n",
              "    <tr>\n",
              "      <th>1</th>\n",
              "      <td>2.0</td>\n",
              "      <td>735049</td>\n",
              "      <td>31.9</td>\n",
              "      <td>21.6</td>\n",
              "      <td>52.263397</td>\n",
              "      <td>90.604721</td>\n",
              "      <td>29.850689</td>\n",
              "      <td>24.035009</td>\n",
              "      <td>5.691890</td>\n",
              "      <td>51.937448</td>\n",
              "      <td>0.225508</td>\n",
              "      <td>0.251771</td>\n",
              "      <td>0.159444</td>\n",
              "      <td>0.127727</td>\n",
              "      <td>0.0</td>\n",
              "      <td>0.0</td>\n",
              "      <td>0.0</td>\n",
              "      <td>0.0</td>\n",
              "      <td>37.6046</td>\n",
              "      <td>127.032</td>\n",
              "      <td>44.7624</td>\n",
              "      <td>0.5141</td>\n",
              "      <td>5869.3125</td>\n",
              "      <td>30.5</td>\n",
              "      <td>22.5</td>\n",
              "    </tr>\n",
              "    <tr>\n",
              "      <th>2</th>\n",
              "      <td>3.0</td>\n",
              "      <td>735049</td>\n",
              "      <td>31.6</td>\n",
              "      <td>23.3</td>\n",
              "      <td>48.690479</td>\n",
              "      <td>83.973587</td>\n",
              "      <td>30.091292</td>\n",
              "      <td>24.565633</td>\n",
              "      <td>6.138224</td>\n",
              "      <td>20.573050</td>\n",
              "      <td>0.209344</td>\n",
              "      <td>0.257469</td>\n",
              "      <td>0.204092</td>\n",
              "      <td>0.142125</td>\n",
              "      <td>0.0</td>\n",
              "      <td>0.0</td>\n",
              "      <td>0.0</td>\n",
              "      <td>0.0</td>\n",
              "      <td>37.5776</td>\n",
              "      <td>127.058</td>\n",
              "      <td>33.3068</td>\n",
              "      <td>0.2661</td>\n",
              "      <td>5863.5557</td>\n",
              "      <td>31.1</td>\n",
              "      <td>23.9</td>\n",
              "    </tr>\n",
              "    <tr>\n",
              "      <th>3</th>\n",
              "      <td>4.0</td>\n",
              "      <td>735049</td>\n",
              "      <td>32.0</td>\n",
              "      <td>23.4</td>\n",
              "      <td>58.239788</td>\n",
              "      <td>96.483688</td>\n",
              "      <td>29.704629</td>\n",
              "      <td>23.326177</td>\n",
              "      <td>5.650050</td>\n",
              "      <td>65.727144</td>\n",
              "      <td>0.216372</td>\n",
              "      <td>0.226002</td>\n",
              "      <td>0.161157</td>\n",
              "      <td>0.134249</td>\n",
              "      <td>0.0</td>\n",
              "      <td>0.0</td>\n",
              "      <td>0.0</td>\n",
              "      <td>0.0</td>\n",
              "      <td>37.6450</td>\n",
              "      <td>127.022</td>\n",
              "      <td>45.7160</td>\n",
              "      <td>2.5348</td>\n",
              "      <td>5856.9648</td>\n",
              "      <td>31.7</td>\n",
              "      <td>24.3</td>\n",
              "    </tr>\n",
              "    <tr>\n",
              "      <th>4</th>\n",
              "      <td>5.0</td>\n",
              "      <td>735049</td>\n",
              "      <td>31.4</td>\n",
              "      <td>21.9</td>\n",
              "      <td>56.174095</td>\n",
              "      <td>90.155128</td>\n",
              "      <td>29.113934</td>\n",
              "      <td>23.486480</td>\n",
              "      <td>5.735004</td>\n",
              "      <td>107.965535</td>\n",
              "      <td>0.151407</td>\n",
              "      <td>0.249995</td>\n",
              "      <td>0.178892</td>\n",
              "      <td>0.170021</td>\n",
              "      <td>0.0</td>\n",
              "      <td>0.0</td>\n",
              "      <td>0.0</td>\n",
              "      <td>0.0</td>\n",
              "      <td>37.5507</td>\n",
              "      <td>127.135</td>\n",
              "      <td>35.0380</td>\n",
              "      <td>0.5055</td>\n",
              "      <td>5859.5522</td>\n",
              "      <td>31.2</td>\n",
              "      <td>22.5</td>\n",
              "    </tr>\n",
              "  </tbody>\n",
              "</table>\n",
              "</div>"
            ],
            "text/plain": [
              "   Station    Date  Present_Tmax  ...  Solar radiation  Next_Tmax  Next_Tmin\n",
              "0      1.0  735049          28.7  ...        5992.8960       29.1       21.2\n",
              "1      2.0  735049          31.9  ...        5869.3125       30.5       22.5\n",
              "2      3.0  735049          31.6  ...        5863.5557       31.1       23.9\n",
              "3      4.0  735049          32.0  ...        5856.9648       31.7       24.3\n",
              "4      5.0  735049          31.4  ...        5859.5522       31.2       22.5\n",
              "\n",
              "[5 rows x 25 columns]"
            ]
          },
          "metadata": {
            "tags": []
          },
          "execution_count": 68
        }
      ]
    },
    {
      "cell_type": "code",
      "metadata": {
        "id": "Hj2LZtbWIqoN",
        "colab": {
          "base_uri": "https://localhost:8080/",
          "height": 50
        },
        "outputId": "959c7f5a-82a3-4687-dd3b-58bd9805deda"
      },
      "source": [
        "print(data.isnull().sum().sum())\n",
        "data.fillna(value = 0, inplace = True)\n",
        "print(data.isnull().sum().sum())"
      ],
      "execution_count": null,
      "outputs": [
        {
          "output_type": "stream",
          "text": [
            "1246\n",
            "0\n"
          ],
          "name": "stdout"
        }
      ]
    },
    {
      "cell_type": "code",
      "metadata": {
        "id": "N9TVjFS4IqsC",
        "colab": {
          "base_uri": "https://localhost:8080/",
          "height": 212
        },
        "outputId": "f0a3d988-40bb-4176-e80d-25f3ea0b8bec"
      },
      "source": [
        "data['Present_Tmax'].apply(lambda x: '{:.1f}'.format(x))\n",
        "data['Present_Tmin'].apply(lambda x: '{:.1f}'.format(x))\n",
        "data['LDAPS_RHmin'].apply(lambda x: '{:.7f}'.format(x))\n",
        "data['LDAPS_RHmax'].apply(lambda x: '{:.7f}'.format(x))\n",
        "data['LDAPS_Tmax_lapse'].apply(lambda x: '{:.7f}'.format(x))\n",
        "data['LDAPS_Tmin_lapse'].apply(lambda x: '{:.7f}'.format(x))\n",
        "data['LDAPS_WS'].apply(lambda x: '{:.7f}'.format(x))\n",
        "data['LDAPS_LH'].apply(lambda x: '{:.7f}'.format(x))\n",
        "data['LDAPS_CC1'].apply(lambda x: '{:.7f}'.format(x))\n",
        "data['LDAPS_CC2'].apply(lambda x: '{:.7f}'.format(x))\n",
        "data['LDAPS_CC3'].apply(lambda x: '{:.7f}'.format(x))\n",
        "data['LDAPS_CC4'].apply(lambda x: '{:.7f}'.format(x))\n",
        "data['LDAPS_PPT1'].apply(lambda x: '{:.7f}'.format(x))\n",
        "data['LDAPS_PPT2'].apply(lambda x: '{:.7f}'.format(x))\n",
        "data['LDAPS_PPT3'].apply(lambda x: '{:.7f}'.format(x))\n",
        "data['LDAPS_PPT4'].apply(lambda x: '{:.7f}'.format(x))\n",
        "data['lat'].apply(lambda x: '{:.4f}'.format(x))\n",
        "data['lon'].apply(lambda x: '{:.3f}'.format(x))\n",
        "data['DEM'].apply(lambda x: '{:.4f}'.format(x))\n",
        "data['Slope'].apply(lambda x: '{:.4f}'.format(x))\n",
        "data['Solar radiation'].apply(lambda x: '{:.4f}'.format(x))\n",
        "data['Next_Tmax'].apply(lambda x: '{:.1f}'.format(x))\n",
        "data['Next_Tmin'].apply(lambda x: '{:.1f}'.format(x))"
      ],
      "execution_count": null,
      "outputs": [
        {
          "output_type": "execute_result",
          "data": {
            "text/plain": [
              "0       21.2\n",
              "1       22.5\n",
              "2       23.9\n",
              "3       24.3\n",
              "4       22.5\n",
              "        ... \n",
              "7747    18.1\n",
              "7748    18.8\n",
              "7749    17.4\n",
              "7750    11.3\n",
              "7751    29.8\n",
              "Name: Next_Tmin, Length: 7752, dtype: object"
            ]
          },
          "metadata": {
            "tags": []
          },
          "execution_count": 70
        }
      ]
    },
    {
      "cell_type": "code",
      "metadata": {
        "id": "WJlkAIzzI9Pw",
        "colab": {
          "base_uri": "https://localhost:8080/",
          "height": 50
        },
        "outputId": "a57be551-ac36-409e-99fb-eabb2f283f93"
      },
      "source": [
        "print(np.any(np.isnan(data)))\n",
        "print(np.all(np.isfinite(data)))"
      ],
      "execution_count": null,
      "outputs": [
        {
          "output_type": "stream",
          "text": [
            "False\n",
            "True\n"
          ],
          "name": "stdout"
        }
      ]
    },
    {
      "cell_type": "markdown",
      "metadata": {
        "id": "UiV0MUJ-J6Xo"
      },
      "source": [
        "#VISUALIZATION"
      ]
    },
    {
      "cell_type": "code",
      "metadata": {
        "id": "NLFuzZurZBFV",
        "colab": {
          "base_uri": "https://localhost:8080/",
          "height": 607
        },
        "outputId": "a01d5ff2-1a04-45f4-d862-560e55c201cc"
      },
      "source": [
        "data.hist(figsize = (12,10), bins = 50)\n",
        "plt.show()"
      ],
      "execution_count": null,
      "outputs": [
        {
          "output_type": "display_data",
          "data": {
            "image/png": "[encoded data removed]",
            "text/plain": [
              "<Figure size 864x720 with 25 Axes>"
            ]
          },
          "metadata": {
            "tags": [],
            "needs_background": "light"
          }
        }
      ]
    },
    {
      "cell_type": "markdown",
      "metadata": {
        "id": "0IA_IvLqIymC"
      },
      "source": [
        "#MODEL TRAINING"
      ]
    },
    {
      "cell_type": "markdown",
      "metadata": {
        "id": "rb_W4bnbMBYl"
      },
      "source": [
        "###DATA SPLITTING"
      ]
    },
    {
      "cell_type": "code",
      "metadata": {
        "id": "A8eJzVbdZLOW",
        "colab": {
          "base_uri": "https://localhost:8080/",
          "height": 50
        },
        "outputId": "7897cb46-7cc2-41a2-fbaf-a8c61fe1642d"
      },
      "source": [
        "X = data.drop(['Next_Tmax', 'Next_Tmin'], axis=1).values\n",
        "Y1 = data['Next_Tmax'].values\n",
        "Y2 = data['Next_Tmin'].values\n",
        "\n",
        "from sklearn.model_selection import train_test_split\n",
        "X_train, X_test, Y1_train, Y1_test = train_test_split(X, Y1, test_size = 0.2)\n",
        "print(\"X_train.shape:\", X_train.shape, \"X_test.shape:\", X_test.shape, \"Y1_train.shape:\", Y1_train.shape, \"Y1_test.shape:\", Y1_test.shape)\n",
        "\n",
        "X_train, X_test, Y2_train, Y2_test = train_test_split(X, Y2, test_size = 0.2)\n",
        "print(\"X_train.shape:\", X_train.shape, \"X_test.shape:\", X_test.shape, \"Y2_train.shape:\", Y2_train.shape, \"Y2_test.shape:\", Y2_test.shape)"
      ],
      "execution_count": null,
      "outputs": [
        {
          "output_type": "stream",
          "text": [
            "X_train.shape: (6201, 23) X_test.shape: (1551, 23) Y1_train.shape: (6201,) Y1_test.shape: (1551,)\n",
            "X_train.shape: (6201, 23) X_test.shape: (1551, 23) Y2_train.shape: (6201,) Y2_test.shape: (1551,)\n"
          ],
          "name": "stdout"
        }
      ]
    },
    {
      "cell_type": "code",
      "metadata": {
        "id": "dI1W1tIuXwki"
      },
      "source": [
        "REGRESSOR = ['LINEAR REGRESSION (Y1, Y2)','RIDGE REGRESSION (Y1, Y2)','RIDGE COMPLEXITY (Y1, Y2)','LASSO REGRESSION (Y1, Y2)','LARS LASSO REGRESSION (Y1, Y2)',\n",
        "             'BAYESIAN RIDGE REGRESSION (Y1, Y2)', 'SVM (Y1, Y2)', 'GRADIENT BOOSTING REGRESSION (Y1, Y2)', 'DECISION TREE (Y1, Y2)','RANDOM FOREST','ADABOOST (Y1, Y2)',\n",
        "             'GRADIENT DESCENT REGRESSION (Y1, Y2)','VOTING REGRESSION (Y1, Y2)','XGBOOST (Y1, Y2)']\n",
        "TRAIN_ACCURACY = []\n",
        "VARIANCE_SCORE = []\n",
        "MAX_ERROR = []\n",
        "ABSOLUTE_ERROR = []\n",
        "MEAN_SQUARED_ERROR = []\n",
        "MEDIAN_ABSOLUTE_ERROR = []\n",
        "R_SQUARE_SCORE = []"
      ],
      "execution_count": null,
      "outputs": []
    },
    {
      "cell_type": "markdown",
      "metadata": {
        "id": "hEK4HbGmmGi1"
      },
      "source": [
        "#LINEAR REGRESSION"
      ]
    },
    {
      "cell_type": "code",
      "metadata": {
        "id": "xvXbmX0TZLMl"
      },
      "source": [
        "from sklearn import linear_model, metrics\n",
        "\n",
        "LR1 = linear_model.LinearRegression(normalize=True)\n",
        "\n",
        "LR1.fit(X_train, Y1_train)\n",
        "LR1_pred = LR1.predict(X_test)\n",
        "#print ('Coefficients: ', LR1.coef_)\n",
        "#print ('Intercept: ', LR1.intercept_)\n",
        "\n",
        "LR2 = linear_model.LinearRegression(normalize=True)\n",
        "\n",
        "LR2.fit(X_train, Y2_train)\n",
        "LR2_pred = LR2.predict(X_test)\n",
        "#print ('Coefficients: ', LR2.coef_)\n",
        "#print ('Intercept: ', LR2.intercept_)\n",
        "\n",
        "\"\"\"print(\"\\nREGRESSION REPORT:\\n\")\n",
        "print(\"TRAINING ACCURACY:\\t\", LR.score(X_train, Y_train))\n",
        "print(\"VARIANCE SCORE:\\t\\t\", metrics.explained_variance_score(Y_test,LR_pred))\n",
        "print(\"MAX ERROR:\\t\\t\", metrics.max_error(Y_test,LR_pred))\n",
        "print(\"ABSOLUTE ERROR:\\t\\t\", metrics.mean_absolute_error(Y_test,LR_pred))\n",
        "print(\"MEAN SQUARED ERROR:\\t\", metrics.mean_squared_error(Y_test,LR_pred))\n",
        "#print(\"MEAN SQUARED LOG ERROR: \", metrics.mean_squared_log_error(Y_test,LR_pred))\n",
        "print(\"MEDIAN ABSOLUTE ERROR:  \", metrics.median_absolute_error(Y_test,LR_pred))\n",
        "print(\"R-SQUARE SCORE:  \\t\", metrics.r2_score(Y_test,LR_pred))\n",
        "#print(\"MEAN POISSON DEVIANCE: \", metrics.mean_poisson_deviance(Y_test,LR_pred))\n",
        "#print(\"MEAN GAMMA DEVIANCE: \", metrics.mean_gamma_deviance(Y_test,LR_pred))\"\"\"\n",
        "\n",
        "TRAIN_ACCURACY.append((LR1.score(X_train, Y1_train), LR2.score(X_train, Y2_train)))\n",
        "VARIANCE_SCORE.append((metrics.explained_variance_score(Y1_test, LR1_pred), metrics.explained_variance_score(Y2_test, LR2_pred)))\n",
        "MAX_ERROR.append((metrics.max_error(Y1_test,LR1_pred), metrics.max_error(Y2_test,LR2_pred)))\n",
        "ABSOLUTE_ERROR.append((metrics.mean_absolute_error(Y1_test,LR1_pred), metrics.mean_absolute_error(Y2_test,LR2_pred)))\n",
        "MEAN_SQUARED_ERROR.append((metrics.mean_squared_error(Y1_test,LR1_pred), metrics.mean_squared_error(Y2_test,LR2_pred)))\n",
        "MEDIAN_ABSOLUTE_ERROR.append((metrics.median_absolute_error(Y1_test,LR1_pred), metrics.median_absolute_error(Y2_test,LR2_pred)))\n",
        "R_SQUARE_SCORE.append((metrics.r2_score(Y1_test,LR1_pred), metrics.r2_score(Y2_test,LR2_pred)))"
      ],
      "execution_count": null,
      "outputs": []
    },
    {
      "cell_type": "markdown",
      "metadata": {
        "id": "R5yU51FgUYS9"
      },
      "source": [
        "#RIDGE REGRESSION"
      ]
    },
    {
      "cell_type": "code",
      "metadata": {
        "id": "LXhK5pq4UYxN"
      },
      "source": [
        "from sklearn import linear_model, metrics\n",
        "\n",
        "RR1 = linear_model.Ridge(alpha=.5)\n",
        "RR1.fit(X_train, Y1_train)\n",
        "RR1_pred = RR1.predict(X_test)\n",
        "#print ('Coefficients: ', RR1.coef_)\n",
        "#print ('Intercept: ', RR1.intercept_)\n",
        "\n",
        "RR2 = linear_model.Ridge(alpha=.5)\n",
        "RR2.fit(X_train, Y2_train)\n",
        "RR2_pred = RR2.predict(X_test)\n",
        "#print ('Coefficients: ', RR2.coef_)\n",
        "#print ('Intercept: ', RR2.intercept_)\n",
        "\n",
        "\"\"\"print(\"\\nREGRESSION REPORT:\\n\")\n",
        "print(\"TRAINING ACCURACY:\\t\", RR.score(X_train, Y_train))\n",
        "print(\"VARIANCE SCORE:\\t\\t\", metrics.explained_variance_score(Y_test,RR_pred))\n",
        "print(\"MAX ERROR:\\t\\t\", metrics.max_error(Y_test,RR_pred))\n",
        "print(\"ABSOLUTE ERROR:\\t\\t\", metrics.mean_absolute_error(Y_test,RR_pred))\n",
        "print(\"MEAN SQUARED ERROR:\\t\", metrics.mean_squared_error(Y_test,RR_pred))\n",
        "#print(\"MEAN SQUARED LOG ERROR: \", metrics.mean_squared_log_error(Y_test,RR_pred))\n",
        "print(\"MEDIAN ABSOLUTE ERROR:  \", metrics.median_absolute_error(Y_test,RR_pred))\n",
        "print(\"R-SQUARE SCORE:  \\t\", metrics.r2_score(Y_test,RR_pred))\n",
        "#print(\"MEAN POISSON DEVIANCE: \", metrics.mean_poisson_deviance(Y_test,RR_pred))\n",
        "#print(\"MEAN GAMMA DEVIANCE: \", metrics.mean_gamma_deviance(Y_test,RR_pred))\"\"\"\n",
        "\n",
        "TRAIN_ACCURACY.append((RR1.score(X_train, Y1_train), RR2.score(X_train, Y2_train)))\n",
        "VARIANCE_SCORE.append((metrics.explained_variance_score(Y1_test,RR1_pred), metrics.explained_variance_score(Y2_test,RR2_pred)))\n",
        "MAX_ERROR.append((metrics.max_error(Y1_test,RR1_pred), metrics.max_error(Y2_test,RR2_pred)))\n",
        "ABSOLUTE_ERROR.append((metrics.mean_absolute_error(Y1_test,RR1_pred), metrics.mean_absolute_error(Y2_test,RR2_pred)))\n",
        "MEAN_SQUARED_ERROR.append((metrics.mean_squared_error(Y1_test,RR1_pred), metrics.mean_squared_error(Y2_test,RR2_pred)))\n",
        "MEDIAN_ABSOLUTE_ERROR.append((metrics.median_absolute_error(Y1_test,RR1_pred), metrics.median_absolute_error(Y2_test,RR2_pred)))\n",
        "R_SQUARE_SCORE.append((metrics.r2_score(Y1_test,RR1_pred), metrics.r2_score(Y2_test,RR2_pred)))"
      ],
      "execution_count": null,
      "outputs": []
    },
    {
      "cell_type": "markdown",
      "metadata": {
        "id": "XQ1y2RdQUgaP"
      },
      "source": [
        "#RIDGE COMPLEXITY"
      ]
    },
    {
      "cell_type": "code",
      "metadata": {
        "id": "CjnFObUKUYqx"
      },
      "source": [
        "from sklearn import linear_model, metrics\n",
        "\n",
        "RC1 = linear_model.RidgeCV()\n",
        "RC1.fit(X_train, Y1_train)\n",
        "RC1_pred = RC1.predict(X_test)\n",
        "#print ('Coefficients: ', RC1.coef_)\n",
        "#print ('Intercept: ', RC1.intercept_)\n",
        "\n",
        "RC2 = linear_model.RidgeCV()\n",
        "RC2.fit(X_train, Y2_train)\n",
        "RC2_pred = RC2.predict(X_test)\n",
        "#print ('Coefficients: ', RC2.coef_)\n",
        "#print ('Intercept: ', RC2.intercept_)\n",
        "\n",
        "\"\"\"print(\"\\nREGRESSION REPORT:\\n\")\n",
        "print(\"TRAINING ACCURACY:\\t\", RC.score(X_train, Y_train))\n",
        "print(\"VARIANCE SCORE:\\t\\t\", metrics.explained_variance_score(Y_test,RC_pred))\n",
        "print(\"MAX ERROR:\\t\\t\", metrics.max_error(Y_test,RC_pred))\n",
        "print(\"ABSOLUTE ERROR:\\t\\t\", metrics.mean_absolute_error(Y_test,RC_pred))\n",
        "print(\"MEAN SQUARED ERROR:\\t\", metrics.mean_squared_error(Y_test,RC_pred))\n",
        "#print(\"MEAN SQUARED LOG ERROR: \", metrics.mean_squared_log_error(Y_test,RC_pred))\n",
        "print(\"MEDIAN ABSOLUTE ERROR:  \", metrics.median_absolute_error(Y_test,RC_pred))\n",
        "print(\"R-SQUARE SCORE:  \\t\", metrics.r2_score(Y_test,RC_pred))\n",
        "#print(\"MEAN POISSON DEVIANCE: \", metrics.mean_poisson_deviance(Y_test,RC_pred))\n",
        "#print(\"MEAN GAMMA DEVIANCE: \", metrics.mean_gamma_deviance(Y_test,RC_pred))\"\"\"\n",
        "\n",
        "TRAIN_ACCURACY.append((RC1.score(X_train, Y1_train), RC2.score(X_train, Y2_train)))\n",
        "VARIANCE_SCORE.append((metrics.explained_variance_score(Y1_test,RC1_pred), metrics.explained_variance_score(Y2_test,RC2_pred)))\n",
        "MAX_ERROR.append((metrics.max_error(Y1_test,RC1_pred), metrics.max_error(Y2_test,RC2_pred)))\n",
        "ABSOLUTE_ERROR.append((metrics.mean_absolute_error(Y1_test,RC1_pred), metrics.mean_absolute_error(Y2_test,RC2_pred)))\n",
        "MEAN_SQUARED_ERROR.append((metrics.mean_squared_error(Y1_test,RC1_pred), metrics.mean_squared_error(Y2_test,RC2_pred)))\n",
        "MEDIAN_ABSOLUTE_ERROR.append((metrics.median_absolute_error(Y1_test,RC1_pred), metrics.median_absolute_error(Y2_test,RC2_pred)))\n",
        "R_SQUARE_SCORE.append((metrics.r2_score(Y1_test,RC1_pred), metrics.r2_score(Y2_test,RC2_pred)))"
      ],
      "execution_count": null,
      "outputs": []
    },
    {
      "cell_type": "markdown",
      "metadata": {
        "id": "ojAJcjpOUiPj"
      },
      "source": [
        "#LASSO REGRESSION"
      ]
    },
    {
      "cell_type": "code",
      "metadata": {
        "id": "ugJTHXkXVSl7"
      },
      "source": [
        "from sklearn import linear_model, metrics\n",
        "\n",
        "LassoR1 = linear_model.Lasso(alpha=0.1)\n",
        "LassoR1.fit(X_train, Y1_train)\n",
        "LassoR1_pred = LassoR1.predict(X_test)\n",
        "#print ('Coefficients: ', LassoR1.coef_)\n",
        "#print ('Intercept: ', LassoR1.intercept_)\n",
        "\n",
        "LassoR2 = linear_model.Lasso(alpha=0.1)\n",
        "LassoR2.fit(X_train, Y2_train)\n",
        "LassoR2_pred = LassoR2.predict(X_test)\n",
        "#print ('Coefficients: ', LassoR2.coef_)\n",
        "#print ('Intercept: ', LassoR2.intercept_)\n",
        "\n",
        "\"\"\"print(\"\\nREGRESSION REPORT:\\n\")\n",
        "print(\"TRAINING ACCURACY:\\t\", LassoR.score(X_train, Y_train))\n",
        "print(\"VARIANCE SCORE:\\t\\t\", metrics.explained_variance_score(Y_test,LassoR_pred))\n",
        "print(\"MAX ERROR:\\t\\t\", metrics.max_error(Y_test, LassoR_pred))\n",
        "print(\"ABSOLUTE ERROR:\\t\\t\", metrics.mean_absolute_error(Y_test, LassoR_pred))\n",
        "print(\"MEAN SQUARED ERROR:\\t\", metrics.mean_squared_error(Y_test, LassoR_pred))\n",
        "#print(\"MEAN SQUARED LOG ERROR: \", metrics.mean_squared_log_error(Y_test, LassoR_pred))\n",
        "print(\"MEDIAN ABSOLUTE ERROR:  \", metrics.median_absolute_error(Y_test, LassoR_pred))\n",
        "print(\"R-SQUARE SCORE:  \\t\", metrics.r2_score(Y_test, LassoR_pred))\n",
        "#print(\"MEAN POISSON DEVIANCE: \", metrics.mean_poisson_deviance(Y_test, LassoR_pred))\n",
        "#print(\"MEAN GAMMA DEVIANCE: \", metrics.mean_gamma_deviance(Y_test,LassoR_pred))\"\"\"\n",
        "\n",
        "TRAIN_ACCURACY.append((LassoR1.score(X_train, Y1_train), LassoR2.score(X_train, Y2_train)))\n",
        "VARIANCE_SCORE.append((metrics.explained_variance_score(Y1_test,LassoR1_pred), metrics.explained_variance_score(Y2_test,LassoR2_pred)))\n",
        "MAX_ERROR.append((metrics.max_error(Y1_test, LassoR1_pred), metrics.max_error(Y2_test, LassoR2_pred)))\n",
        "ABSOLUTE_ERROR.append((metrics.mean_absolute_error(Y1_test, LassoR1_pred), metrics.mean_absolute_error(Y2_test, LassoR2_pred)))\n",
        "MEAN_SQUARED_ERROR.append((metrics.mean_squared_error(Y1_test, LassoR1_pred), metrics.mean_squared_error(Y2_test, LassoR2_pred)))\n",
        "MEDIAN_ABSOLUTE_ERROR.append((metrics.median_absolute_error(Y1_test, LassoR1_pred), metrics.median_absolute_error(Y2_test, LassoR2_pred)))\n",
        "R_SQUARE_SCORE.append((metrics.r2_score(Y1_test, LassoR1_pred), metrics.r2_score(Y2_test, LassoR2_pred)))"
      ],
      "execution_count": null,
      "outputs": []
    },
    {
      "cell_type": "markdown",
      "metadata": {
        "id": "SS_32UcfVNN7"
      },
      "source": [
        "#LARS LASSO REGRESSION"
      ]
    },
    {
      "cell_type": "code",
      "metadata": {
        "id": "uOk10_64VP8R"
      },
      "source": [
        "from sklearn import linear_model, metrics\n",
        "\n",
        "LARSLassoR1 = linear_model.LassoLars(alpha=0.1)\n",
        "LARSLassoR1.fit(X_train, Y1_train)\n",
        "LARSLassoR1_pred = LARSLassoR1.predict(X_test)\n",
        "#print ('Coefficients: ', LARSLassoR1.coef_)\n",
        "#print ('Intercept: ', LARSLassoR1.intercept_)\n",
        "\n",
        "LARSLassoR2 = linear_model.LassoLars(alpha=0.1)\n",
        "LARSLassoR2.fit(X_train, Y2_train)\n",
        "LARSLassoR2_pred = LARSLassoR2.predict(X_test)\n",
        "#print ('Coefficients: ', LARSLassoR2.coef_)\n",
        "#print ('Intercept: ', LARSLassoR2.intercept_)\n",
        "\n",
        "\"\"\"print(\"\\nREGRESSION REPORT:\\n\")\n",
        "print(\"TRAINING ACCURACY:\\t\", LARSLassoR.score(X_train, Y_train))\n",
        "print(\"VARIANCE SCORE:\\t\\t\", metrics.explained_variance_score(Y_test,LARSLassoR_pred))\n",
        "print(\"MAX ERROR:\\t\\t\", metrics.max_error(Y_test, LARSLassoR_pred))\n",
        "print(\"ABSOLUTE ERROR:\\t\\t\", metrics.mean_absolute_error(Y_test, LARSLassoR_pred))\n",
        "print(\"MEAN SQUARED ERROR:\\t\", metrics.mean_squared_error(Y_test, LARSLassoR_pred))\n",
        "#print(\"MEAN SQUARED LOG ERROR: \", metrics.mean_squared_log_error(Y_test, LARSLassoR_pred))\n",
        "print(\"MEDIAN ABSOLUTE ERROR:  \", metrics.median_absolute_error(Y_test, LARSLassoR_pred))\n",
        "print(\"R-SQUARE SCORE:  \\t\", metrics.r2_score(Y_test, LARSLassoR_pred))\n",
        "#print(\"MEAN POISSON DEVIANCE: \", metrics.mean_poisson_deviance(Y_test, LARSLassoR_pred))\n",
        "#print(\"MEAN GAMMA DEVIANCE: \", metrics.mean_gamma_deviance(Y_test,LARSLassoR_pred))\"\"\"\n",
        "\n",
        "TRAIN_ACCURACY.append((LARSLassoR1.score(X_train, Y1_train), LARSLassoR2.score(X_train, Y2_train)))\n",
        "VARIANCE_SCORE.append((metrics.explained_variance_score(Y1_test,LARSLassoR1_pred), metrics.explained_variance_score(Y2_test,LARSLassoR2_pred)))\n",
        "MAX_ERROR.append((metrics.max_error(Y1_test, LARSLassoR1_pred), metrics.max_error(Y2_test, LARSLassoR2_pred)))\n",
        "ABSOLUTE_ERROR.append((metrics.mean_absolute_error(Y1_test, LARSLassoR1_pred), metrics.mean_absolute_error(Y2_test, LARSLassoR2_pred)))\n",
        "MEAN_SQUARED_ERROR.append((metrics.mean_squared_error(Y1_test, LARSLassoR1_pred), metrics.mean_squared_error(Y2_test, LARSLassoR2_pred)))\n",
        "MEDIAN_ABSOLUTE_ERROR.append((metrics.median_absolute_error(Y1_test, LARSLassoR1_pred), metrics.median_absolute_error(Y2_test, LARSLassoR2_pred)))\n",
        "R_SQUARE_SCORE.append((metrics.r2_score(Y1_test, LARSLassoR1_pred), metrics.r2_score(Y2_test, LARSLassoR2_pred)))"
      ],
      "execution_count": null,
      "outputs": []
    },
    {
      "cell_type": "markdown",
      "metadata": {
        "id": "-eV9RTtvVeg6"
      },
      "source": [
        "#BAYESIAN RIDGE REGRESSION\n"
      ]
    },
    {
      "cell_type": "code",
      "metadata": {
        "id": "TwAE1Sq_VivR"
      },
      "source": [
        "from sklearn import linear_model, metrics\n",
        "\n",
        "BRR1 = linear_model.BayesianRidge()\n",
        "BRR1.fit(X_train, Y1_train)\n",
        "BRR1_pred = BRR1.predict(X_test)\n",
        "#print ('Coefficients: ', BRR1.coef_)\n",
        "#print ('Intercept: ', BRR1.intercept_)\n",
        "\n",
        "BRR2 = linear_model.BayesianRidge()\n",
        "BRR2.fit(X_train, Y2_train)\n",
        "BRR2_pred = BRR2.predict(X_test)\n",
        "#print ('Coefficients: ', BRR2.coef_)\n",
        "#print ('Intercept: ', BRR2.intercept_)\n",
        "\n",
        "\"\"\"print(\"\\nREGRESSION REPORT:\\n\")\n",
        "print(\"TRAINING ACCURACY:\\t\", BRR.score(X_train, Y_train))\n",
        "print(\"VARIANCE SCORE:\\t\\t\", metrics.explained_variance_score(Y_test, BRR_pred))\n",
        "print(\"MAX ERROR:\\t\\t\", metrics.max_error(Y_test, BRR_pred))\n",
        "print(\"ABSOLUTE ERROR:\\t\\t\", metrics.mean_absolute_error(Y_test, BRR_pred))\n",
        "print(\"MEAN SQUARED ERROR:\\t\", metrics.mean_squared_error(Y_test, BRR_pred))\n",
        "#print(\"MEAN SQUARED LOG ERROR: \", metrics.mean_squared_log_error(Y_test, BRR_pred))\n",
        "print(\"MEDIAN ABSOLUTE ERROR:  \", metrics.median_absolute_error(Y_test, BRR_pred))\n",
        "print(\"R-SQUARE SCORE:  \\t\", metrics.r2_score(Y_test, BRR_pred))\n",
        "#print(\"MEAN POISSON DEVIANCE: \", metrics.mean_poisson_deviance(Y_test, BRR_pred))\n",
        "#print(\"MEAN GAMMA DEVIANCE: \", metrics.mean_gamma_deviance(Y_test, BRR_pred))\"\"\"\n",
        "\n",
        "TRAIN_ACCURACY.append((BRR1.score(X_train, Y1_train), BRR2.score(X_train, Y2_train)))\n",
        "VARIANCE_SCORE.append((metrics.explained_variance_score(Y1_test, BRR1_pred), metrics.explained_variance_score(Y2_test, BRR2_pred)))\n",
        "MAX_ERROR.append((metrics.max_error(Y1_test, BRR1_pred), metrics.max_error(Y2_test, BRR2_pred)))\n",
        "ABSOLUTE_ERROR.append((metrics.mean_absolute_error(Y1_test, BRR1_pred), metrics.mean_absolute_error(Y2_test, BRR2_pred)))\n",
        "MEAN_SQUARED_ERROR.append((metrics.mean_squared_error(Y1_test, BRR1_pred), metrics.mean_squared_error(Y2_test, BRR2_pred)))\n",
        "MEDIAN_ABSOLUTE_ERROR.append((metrics.median_absolute_error(Y1_test, BRR1_pred), metrics.median_absolute_error(Y2_test, BRR2_pred)))\n",
        "R_SQUARE_SCORE.append((metrics.r2_score(Y1_test, BRR1_pred), metrics.r2_score(Y2_test, BRR2_pred)))"
      ],
      "execution_count": null,
      "outputs": []
    },
    {
      "cell_type": "markdown",
      "metadata": {
        "id": "jVn8xRIssPxz"
      },
      "source": [
        "#SVM"
      ]
    },
    {
      "cell_type": "code",
      "metadata": {
        "id": "9bwGjujysT7l"
      },
      "source": [
        "from sklearn.svm import SVR\n",
        "\n",
        "SVM1 = SVR(kernel='rbf')\n",
        "SVM1.fit(X_train, Y1_train)\n",
        "SVM1_pred = SVM1.predict(X_test)\n",
        "#print ('Coefficients: ', SVM.coef_)\n",
        "#print ('Intercept: ', SVM.intercept_)\n",
        "\n",
        "SVM2 = SVR(kernel='rbf')\n",
        "SVM2.fit(X_train, Y2_train)\n",
        "SVM2_pred = SVM2.predict(X_test)\n",
        "#print ('Coefficients: ', SVM.coef_)\n",
        "#print ('Intercept: ', SVM.intercept_)\n",
        "\n",
        "\"\"\"print(\"\\nREGRESSION REPORT:\\n\")\n",
        "print(\"TRAINING ACCURACY:\\t\", SVM.score(X_train, Y_train))\n",
        "print(\"VARIANCE SCORE:\\t\\t\", metrics.explained_variance_score(Y_test,SVM_pred))\n",
        "print(\"MAX ERROR:\\t\\t\", metrics.max_error(Y_test, SVM_pred))\n",
        "print(\"ABSOLUTE ERROR:\\t\\t\", metrics.mean_absolute_error(Y_test, SVM_pred))\n",
        "print(\"MEAN SQUARED ERROR:\\t\", metrics.mean_squared_error(Y_test, SVM_pred))\n",
        "#print(\"MEAN SQUARED LOG ERROR: \", metrics.mean_squared_log_error(Y_test, SVM_pred))\n",
        "print(\"MEDIAN ABSOLUTE ERROR:  \", metrics.median_absolute_error(Y_test, SVM_pred))\n",
        "print(\"R-SQUARE SCORE:  \\t\", metrics.r2_score(Y_test, SVM_pred))\n",
        "#print(\"MEAN POISSON DEVIANCE: \", metrics.mean_poisson_deviance(Y_test, SVM_pred))\n",
        "#print(\"MEAN GAMMA DEVIANCE: \", metrics.mean_gamma_deviance(Y_test, SVM_pred))\"\"\"\n",
        "\n",
        "TRAIN_ACCURACY.append((SVM1.score(X_train, Y1_train), SVM2.score(X_train, Y2_train)))\n",
        "VARIANCE_SCORE.append((metrics.explained_variance_score(Y1_test,SVM2_pred), metrics.explained_variance_score(Y2_test,SVM2_pred)))\n",
        "MAX_ERROR.append((metrics.max_error(Y1_test, SVM1_pred), metrics.max_error(Y2_test, SVM2_pred)))\n",
        "ABSOLUTE_ERROR.append((metrics.mean_absolute_error(Y1_test, SVM1_pred), metrics.mean_absolute_error(Y2_test, SVM2_pred)))\n",
        "MEAN_SQUARED_ERROR.append((metrics.mean_squared_error(Y1_test, SVM1_pred), metrics.mean_squared_error(Y2_test, SVM2_pred)))\n",
        "MEDIAN_ABSOLUTE_ERROR.append((metrics.median_absolute_error(Y1_test, SVM1_pred), metrics.median_absolute_error(Y2_test, SVM2_pred)))\n",
        "R_SQUARE_SCORE.append((metrics.r2_score(Y1_test, SVM1_pred), metrics.r2_score(Y2_test, SVM2_pred)))"
      ],
      "execution_count": null,
      "outputs": []
    },
    {
      "cell_type": "markdown",
      "metadata": {
        "id": "b_xQnRaTI_cD"
      },
      "source": [
        "#GRADIENT BOOSTING REGRESSION"
      ]
    },
    {
      "cell_type": "code",
      "metadata": {
        "id": "o7Ov_v-uJEQJ"
      },
      "source": [
        "from sklearn.ensemble import GradientBoostingRegressor\n",
        "import sklearn.metrics\n",
        "\n",
        "GBR1 = GradientBoostingRegressor(n_estimators=100, learning_rate=0.1, max_depth=1, random_state=0, loss='ls').fit(X_train, Y1_train)\n",
        "#print(\"MEAN SQUARE ERROR: \", metrics.mean_squared_error(Y_test, GBR.predict(X_test)))\n",
        "GBR_PRED1 = GBR1.predict(X_test)\n",
        "\n",
        "GBR2 = GradientBoostingRegressor(n_estimators=100, learning_rate=0.1, max_depth=1, random_state=0, loss='ls').fit(X_train, Y2_train)\n",
        "#print(\"MEAN SQUARE ERROR: \", metrics.mean_squared_error(Y_test, GBR.predict(X_test)))\n",
        "GBR_PRED2 = GBR2.predict(X_test)\n",
        "\n",
        "\"\"\"print(\"\\nREGRESSION REPORT:\\n\")\n",
        "print(\"TRAINING ACCURACY:\\t\", GBR.score(X_train, Y_train))\n",
        "print(\"VARIANCE SCORE:\\t\\t\", metrics.explained_variance_score(Y_test,RR_pred))\n",
        "print(\"MAX ERROR:\\t\\t\", metrics.max_error(Y_test,RR_pred))\n",
        "print(\"ABSOLUTE ERROR:\\t\\t\", metrics.mean_absolute_error(Y_test,RR_pred))\n",
        "print(\"MEAN SQUARED ERROR:\\t\", metrics.mean_squared_error(Y_test,RR_pred))\n",
        "#print(\"MEAN SQUARED LOG ERROR: \", metrics.mean_squared_log_error(Y_test,RR_pred))\n",
        "print(\"MEDIAN ABSOLUTE ERROR:  \", metrics.median_absolute_error(Y_test,RR_pred))\n",
        "print(\"R-SQUARE SCORE:  \\t\", metrics.r2_score(Y_test,RR_pred))\n",
        "#print(\"MEAN POISSON DEVIANCE: \", metrics.mean_poisson_deviance(Y_test,RR_pred))\n",
        "#print(\"MEAN GAMMA DEVIANCE: \", metrics.mean_gamma_deviance(Y_test,RR_pred))\"\"\"\n",
        "\n",
        "TRAIN_ACCURACY.append((GBR1.score(X_train, Y1_train), GBR2.score(X_train, Y2_train)))\n",
        "VARIANCE_SCORE.append((metrics.explained_variance_score(Y1_test,RR1_pred), metrics.explained_variance_score(Y2_test,RR2_pred)))\n",
        "MAX_ERROR.append((metrics.max_error(Y1_test,RR1_pred), metrics.max_error(Y2_test,RR2_pred)))\n",
        "ABSOLUTE_ERROR.append((metrics.mean_absolute_error(Y1_test,RR1_pred), metrics.mean_absolute_error(Y2_test,RR2_pred)))\n",
        "MEAN_SQUARED_ERROR.append((metrics.mean_squared_error(Y1_test,RR1_pred), metrics.mean_squared_error(Y2_test,RR2_pred)))\n",
        "MEDIAN_ABSOLUTE_ERROR.append((metrics.median_absolute_error(Y1_test,RR1_pred), metrics.median_absolute_error(Y2_test,RR2_pred)))\n",
        "R_SQUARE_SCORE.append((metrics.r2_score(Y1_test,RR2_pred), metrics.r2_score(Y2_test,RR2_pred)))"
      ],
      "execution_count": null,
      "outputs": []
    },
    {
      "cell_type": "markdown",
      "metadata": {
        "id": "2QKD9BoMCgMO"
      },
      "source": [
        "#DECISiON TREE"
      ]
    },
    {
      "cell_type": "code",
      "metadata": {
        "id": "5sU4ZYlxChac"
      },
      "source": [
        "from sklearn.tree import DecisionTreeRegressor\n",
        "\n",
        "DT1 = DecisionTreeRegressor()\n",
        "DT1.fit(X_train, Y1_train)\n",
        "DT1_pred = DT1.predict(X_test)\n",
        "\n",
        "DT2 = DecisionTreeRegressor()\n",
        "DT2.fit(X_train, Y2_train)\n",
        "DT2_pred = DT2.predict(X_test)\n",
        "\n",
        "\"\"\"print(\"\\nREGRESSION REPORT:\\n\")\n",
        "print(\"TRAINING ACCURACY:\\t\", DT.score(X_train, Y_train))\n",
        "print(\"VARIANCE SCORE:\\t\\t\", metrics.explained_variance_score(Y_test,DT_pred))\n",
        "print(\"MAX ERROR:\\t\\t\", metrics.max_error(Y_test, DT_pred))\n",
        "print(\"ABSOLUTE ERROR:\\t\\t\", metrics.mean_absolute_error(Y_test, DT_pred))\n",
        "print(\"MEAN SQUARED ERROR:\\t\", metrics.mean_squared_error(Y_test, DT_pred))\n",
        "#print(\"MEAN SQUARED LOG ERROR: \", metrics.mean_squared_log_error(Y_test,DT_pred))\n",
        "print(\"MEDIAN ABSOLUTE ERROR:  \", metrics.median_absolute_error(Y_test,DT_pred))\n",
        "print(\"R-SQUARE SCORE:  \\t\", metrics.r2_score(Y_test, DT_pred))\n",
        "#print(\"MEAN POISSON DEVIANCE: \", metrics.mean_poisson_deviance(Y_test, DT_pred))\n",
        "#print(\"MEAN GAMMA DEVIANCE: \", metrics.mean_gamma_deviance(Y_test, DT_pred))\"\"\"\n",
        "\n",
        "TRAIN_ACCURACY.append((DT1.score(X_train, Y1_train), DT2.score(X_train, Y2_train)))\n",
        "VARIANCE_SCORE.append((metrics.explained_variance_score(Y1_test,DT1_pred), metrics.explained_variance_score(Y2_test,DT2_pred)))\n",
        "MAX_ERROR.append((metrics.max_error(Y1_test, DT1_pred), metrics.max_error(Y2_test, DT2_pred)))\n",
        "ABSOLUTE_ERROR.append((metrics.mean_absolute_error(Y1_test, DT1_pred), metrics.mean_absolute_error(Y2_test, DT2_pred)))\n",
        "MEAN_SQUARED_ERROR.append((metrics.mean_squared_error(Y1_test, DT1_pred), metrics.mean_squared_error(Y2_test, DT2_pred)))\n",
        "MEDIAN_ABSOLUTE_ERROR.append((metrics.median_absolute_error(Y1_test,DT1_pred), metrics.median_absolute_error(Y2_test,DT2_pred)))\n",
        "R_SQUARE_SCORE.append((metrics.r2_score(Y1_test, DT1_pred), metrics.r2_score(Y2_test, DT2_pred)))"
      ],
      "execution_count": null,
      "outputs": []
    },
    {
      "cell_type": "markdown",
      "metadata": {
        "id": "8lt8LJ-LtK3w"
      },
      "source": [
        "#RANDOM FOREST"
      ]
    },
    {
      "cell_type": "code",
      "metadata": {
        "id": "5vkfdGp1wWvN"
      },
      "source": [
        "from sklearn.preprocessing import StandardScaler\n",
        "from sklearn.ensemble import RandomForestRegressor\n",
        "\n",
        "RF1 = RandomForestRegressor()\n",
        "RF1.fit(X_train, Y1_train)\n",
        "RF1_pred = RF1.predict(X_test)\n",
        "\n",
        "RF2 = RandomForestRegressor()\n",
        "RF2.fit(X_train, Y2_train)\n",
        "RF2_pred = RF2.predict(X_test)\n",
        "\n",
        "\"\"\"print(\"\\nREGRESSION REPORT:\\n\")\n",
        "print(\"TRAINING ACCURACY:\\t\", RF.score(X_train, Y_train))\n",
        "print(\"VARIANCE SCORE:\\t\\t\", metrics.explained_variance_score(Y_test,RF_pred))\n",
        "print(\"MAX ERROR:\\t\\t\", metrics.max_error(Y_test, RF_pred))\n",
        "print(\"ABSOLUTE ERROR:\\t\\t\", metrics.mean_absolute_error(Y_test, RF_pred))\n",
        "print(\"MEAN SQUARED ERROR:\\t\", metrics.mean_squared_error(Y_test, RF_pred))\n",
        "#print(\"MEAN SQUARED LOG ERROR: \", metrics.mean_squared_log_error(Y_test, RF_pred))\n",
        "print(\"MEDIAN ABSOLUTE ERROR:  \", metrics.median_absolute_error(Y_test, RF_pred))\n",
        "print(\"R-SQUARE SCORE:  \\t\", metrics.r2_score(Y_test, RF_pred))\n",
        "#print(\"MEAN POISSON DEVIANCE: \", metrics.mean_poisson_deviance(Y_test, RF_pred))\n",
        "#print(\"MEAN GAMMA DEVIANCE: \", metrics.mean_gamma_deviance(Y_test, RF_pred))\"\"\"\n",
        "\n",
        "TRAIN_ACCURACY.append((RF1.score(X_train, Y1_train), RF2.score(X_train, Y2_train)))\n",
        "VARIANCE_SCORE.append((metrics.explained_variance_score(Y1_test,RF1_pred), metrics.explained_variance_score(Y2_test,RF2_pred)))\n",
        "MAX_ERROR.append((metrics.max_error(Y1_test, RF1_pred), metrics.max_error(Y2_test, RF2_pred)))\n",
        "ABSOLUTE_ERROR.append((metrics.mean_absolute_error(Y1_test, RF1_pred), metrics.mean_absolute_error(Y2_test, RF2_pred)))\n",
        "MEAN_SQUARED_ERROR.append((metrics.mean_squared_error(Y1_test, RF1_pred), metrics.mean_squared_error(Y2_test, RF2_pred)))\n",
        "MEDIAN_ABSOLUTE_ERROR.append((metrics.median_absolute_error(Y1_test, RF1_pred), metrics.median_absolute_error(Y2_test, RF2_pred)))\n",
        "R_SQUARE_SCORE.append((metrics.r2_score(Y1_test, RF1_pred), metrics.r2_score(Y2_test, RF2_pred)))"
      ],
      "execution_count": null,
      "outputs": []
    },
    {
      "cell_type": "markdown",
      "metadata": {
        "id": "Ft1_sje6MJAa"
      },
      "source": [
        "#ADABOOST"
      ]
    },
    {
      "cell_type": "code",
      "metadata": {
        "id": "BHd76fxxMPRz"
      },
      "source": [
        "from sklearn.ensemble import AdaBoostRegressor\n",
        "\n",
        "ABR1 = AdaBoostRegressor(random_state=0, n_estimators=100)\n",
        "ABR1.fit(X_train, Y1_train)\n",
        "ABR1_pred = ABR1.predict(X_test)\n",
        "\n",
        "ABR2 = AdaBoostRegressor(random_state=0, n_estimators=100)\n",
        "ABR2.fit(X_train, Y2_train)\n",
        "ABR2_pred = ABR2.predict(X_test)\n",
        "\n",
        "\"\"\"print(\"\\nREGRESSION REPORT:\\n\")\n",
        "print(\"TRAINING ACCURACY:\\t\", ABR.score(X_train, Y_train))\n",
        "print(\"VARIANCE SCORE:\\t\\t\", metrics.explained_variance_score(Y_test,ABR_pred))\n",
        "print(\"MAX ERROR:\\t\\t\", metrics.max_error(Y_test, ABR_pred))\n",
        "print(\"ABSOLUTE ERROR:\\t\\t\", metrics.mean_absolute_error(Y_test, ABR_pred))\n",
        "print(\"MEAN SQUARED ERROR:\\t\", metrics.mean_squared_error(Y_test, ABR_pred))\n",
        "#print(\"MEAN SQUARED LOG ERROR: \", metrics.mean_squared_log_error(Y_test, ABR_pred))\n",
        "print(\"MEDIAN ABSOLUTE ERROR:  \", metrics.median_absolute_error(Y_test, ABR_pred))\n",
        "print(\"R-SQUARE SCORE:  \\t\", metrics.r2_score(Y_test, ABR_pred))\n",
        "#print(\"MEAN POISSON DEVIANCE: \", metrics.mean_poisson_deviance(Y_test, ABR_pred))\n",
        "#print(\"MEAN GAMMA DEVIANCE: \", metrics.mean_gamma_deviance(Y_test, ABR_pred))\"\"\"\n",
        "\n",
        "TRAIN_ACCURACY.append((ABR1.score(X_train, Y1_train), ABR2.score(X_train, Y2_train)))\n",
        "VARIANCE_SCORE.append((metrics.explained_variance_score(Y1_test,ABR1_pred), metrics.explained_variance_score(Y2_test,ABR2_pred)))\n",
        "MAX_ERROR.append((metrics.max_error(Y1_test, ABR1_pred), metrics.max_error(Y2_test, ABR2_pred)))\n",
        "ABSOLUTE_ERROR.append((metrics.mean_absolute_error(Y1_test, ABR1_pred), metrics.mean_absolute_error(Y2_test, ABR2_pred)))\n",
        "MEAN_SQUARED_ERROR.append((metrics.mean_squared_error(Y1_test, ABR1_pred), metrics.mean_squared_error(Y2_test, ABR2_pred)))\n",
        "MEDIAN_ABSOLUTE_ERROR.append((metrics.median_absolute_error(Y1_test, ABR1_pred), metrics.median_absolute_error(Y2_test, ABR2_pred)))\n",
        "R_SQUARE_SCORE.append((metrics.r2_score(Y1_test, ABR1_pred), metrics.r2_score(Y2_test, ABR2_pred)))"
      ],
      "execution_count": null,
      "outputs": []
    },
    {
      "cell_type": "markdown",
      "metadata": {
        "id": "bCZRvntpOs75"
      },
      "source": [
        "#GRADIENT DESCENT REGRESSION"
      ]
    },
    {
      "cell_type": "code",
      "metadata": {
        "id": "sbWIpvkeOsJl"
      },
      "source": [
        "from sklearn.ensemble import GradientBoostingRegressor\n",
        "\n",
        "GDR1 = GradientBoostingRegressor(random_state=0, n_estimators=100)\n",
        "GDR1.fit(X_train, Y1_train)\n",
        "GDR1_pred = GDR1.predict(X_test)\n",
        "\n",
        "GDR2 = GradientBoostingRegressor(random_state=0, n_estimators=100)\n",
        "GDR2.fit(X_train, Y2_train)\n",
        "GDR2_pred = GDR2.predict(X_test)\n",
        "\n",
        "\"\"\"print(\"\\nREGRESSION REPORT:\\n\")\n",
        "print(\"TRAINING ACCURACY:\\t\", GDR.score(X_train, Y_train))\n",
        "print(\"VARIANCE SCORE:\\t\\t\", metrics.explained_variance_score(Y_test,GDR_pred))\n",
        "print(\"MAX ERROR:\\t\\t\", metrics.max_error(Y_test, GDR_pred))\n",
        "print(\"ABSOLUTE ERROR:\\t\\t\", metrics.mean_absolute_error(Y_test, GDR_pred))\n",
        "print(\"MEAN SQUARED ERROR:\\t\", metrics.mean_squared_error(Y_test, GDR_pred))\n",
        "#print(\"MEAN SQUARED LOG ERROR: \", metrics.mean_squared_log_error(Y_test, GDR_pred))\n",
        "print(\"MEDIAN ABSOLUTE ERROR:  \", metrics.median_absolute_error(Y_test, GDR_pred))\n",
        "print(\"R-SQUARE SCORE:  \\t\", metrics.r2_score(Y_test, GDR_pred))\n",
        "#print(\"MEAN POISSON DEVIANCE: \", metrics.mean_poisson_deviance(Y_test, GDR_pred))\n",
        "#print(\"MEAN GAMMA DEVIANCE: \", metrics.mean_gamma_deviance(Y_test, GDR_pred))\"\"\"\n",
        "\n",
        "TRAIN_ACCURACY.append((GDR1.score(X_train, Y1_train), GDR2.score(X_train, Y2_train)))\n",
        "VARIANCE_SCORE.append((metrics.explained_variance_score(Y1_test,GDR1_pred), metrics.explained_variance_score(Y2_test,GDR2_pred)))\n",
        "MAX_ERROR.append((metrics.max_error(Y1_test, GDR1_pred), metrics.max_error(Y2_test, GDR2_pred)))\n",
        "ABSOLUTE_ERROR.append((metrics.mean_absolute_error(Y1_test, GDR1_pred), metrics.mean_absolute_error(Y2_test, GDR2_pred)))\n",
        "MEAN_SQUARED_ERROR.append((metrics.mean_squared_error(Y1_test, GDR1_pred), metrics.mean_squared_error(Y2_test, GDR2_pred)))\n",
        "MEDIAN_ABSOLUTE_ERROR.append((metrics.median_absolute_error(Y1_test, GDR1_pred), metrics.median_absolute_error(Y2_test, GDR2_pred)))\n",
        "R_SQUARE_SCORE.append((metrics.r2_score(Y1_test, GDR1_pred), metrics.r2_score(Y2_test, GDR2_pred)))"
      ],
      "execution_count": null,
      "outputs": []
    },
    {
      "cell_type": "markdown",
      "metadata": {
        "id": "9z8mAaByPKHc"
      },
      "source": [
        "#VOTING REGRESSION"
      ]
    },
    {
      "cell_type": "code",
      "metadata": {
        "id": "82PaBrx6PFZ6"
      },
      "source": [
        "from sklearn.ensemble import VotingRegressor\n",
        "\n",
        "VR1 = VotingRegressor([('LinearR', LR1),('RandomFR', RF1)])\n",
        "VR1.fit(X_train, Y1_train)\n",
        "VR1_pred = VR1.predict(X_test)\n",
        "\n",
        "VR2 = VotingRegressor([('LinearR', LR2),('RandomFR', RF2)])\n",
        "VR2.fit(X_train, Y2_train)\n",
        "VR2_pred = VR2.predict(X_test)\n",
        "\n",
        "\"\"\"print(\"\\nREGRESSION REPORT:\\n\")\n",
        "print(\"TRAINING ACCURACY:\\t\", VR.score(X_train, Y_train))\n",
        "print(\"VARIANCE SCORE:\\t\\t\", metrics.explained_variance_score(Y_test,VR_pred))\n",
        "print(\"MAX ERROR:\\t\\t\", metrics.max_error(Y_test, VR_pred))\n",
        "print(\"ABSOLUTE ERROR:\\t\\t\", metrics.mean_absolute_error(Y_test, VR_pred))\n",
        "print(\"MEAN SQUARED ERROR:\\t\", metrics.mean_squared_error(Y_test, VR_pred))\n",
        "#print(\"MEAN SQUARED LOG ERROR: \", metrics.mean_squared_log_error(Y_test, VR_pred))\n",
        "print(\"MEDIAN ABSOLUTE ERROR:  \", metrics.median_absolute_error(Y_test, VR_pred))\n",
        "print(\"R-SQUARE SCORE:  \\t\", metrics.r2_score(Y_test, VR_pred))\n",
        "#print(\"MEAN POISSON DEVIANCE: \", metrics.mean_poisson_deviance(Y_test, VR_pred))\n",
        "#print(\"MEAN GAMMA DEVIANCE: \", metrics.mean_gamma_deviance(Y_test, VR_pred))\"\"\"\n",
        "\n",
        "TRAIN_ACCURACY.append((VR1.score(X_train, Y1_train), VR2.score(X_train, Y2_train)))\n",
        "VARIANCE_SCORE.append((metrics.explained_variance_score(Y1_test,VR1_pred), metrics.explained_variance_score(Y2_test,VR2_pred)))\n",
        "MAX_ERROR.append((metrics.max_error(Y1_test, VR1_pred), metrics.max_error(Y2_test, VR2_pred)))\n",
        "ABSOLUTE_ERROR.append((metrics.mean_absolute_error(Y1_test, VR1_pred), metrics.mean_absolute_error(Y2_test, VR2_pred)))\n",
        "MEAN_SQUARED_ERROR.append((metrics.mean_squared_error(Y1_test, VR1_pred), metrics.mean_squared_error(Y2_test, VR2_pred)))\n",
        "MEDIAN_ABSOLUTE_ERROR.append((metrics.median_absolute_error(Y1_test, VR1_pred), metrics.median_absolute_error(Y2_test, VR2_pred)))\n",
        "R_SQUARE_SCORE.append((metrics.r2_score(Y1_test, VR1_pred), metrics.r2_score(Y2_test, VR2_pred)))"
      ],
      "execution_count": null,
      "outputs": []
    },
    {
      "cell_type": "markdown",
      "metadata": {
        "id": "E0wdtgBJMgFm"
      },
      "source": [
        "#XGBOOST"
      ]
    },
    {
      "cell_type": "code",
      "metadata": {
        "id": "gTUnEoUyMiFD",
        "colab": {
          "base_uri": "https://localhost:8080/",
          "height": 50
        },
        "outputId": "e6d88543-260a-4017-810a-07b57ba46363"
      },
      "source": [
        "import xgboost\n",
        "\n",
        "XGB1 = xgboost.XGBRegressor(colsample_bytree=0.4,\n",
        "                 gamma=0,                 \n",
        "                 learning_rate=0.07,\n",
        "                 max_depth=3,\n",
        "                 min_child_weight=1.5,\n",
        "                 n_estimators=10000,                                                                    \n",
        "                 reg_alpha=0.75,\n",
        "                 reg_lambda=0.45,\n",
        "                 subsample=0.6,\n",
        "                 seed=42)\n",
        "XGB1.fit(X_train, Y1_train)\n",
        "XGB1_pred = XGB1.predict(X_test)\n",
        "\n",
        "XGB2 = xgboost.XGBRegressor(colsample_bytree=0.4,\n",
        "                 gamma=0,                 \n",
        "                 learning_rate=0.07,\n",
        "                 max_depth=3,\n",
        "                 min_child_weight=1.5,\n",
        "                 n_estimators=10000,                                                                    \n",
        "                 reg_alpha=0.75,\n",
        "                 reg_lambda=0.45,\n",
        "                 subsample=0.6,\n",
        "                 seed=42)\n",
        "XGB2.fit(X_train, Y2_train)\n",
        "XGB2_pred = XGB2.predict(X_test)\n",
        "\n",
        "\"\"\"print(\"\\nREGRESSION REPORT:\\n\")\n",
        "print(\"TRAINING ACCURACY:\\t\", XGB.score(X_train, Y_train))\n",
        "print(\"VARIANCE SCORE:\\t\\t\", metrics.explained_variance_score(Y_test, XGB_pred))\n",
        "print(\"MAX ERROR:\\t\\t\", metrics.max_error(Y_test, XGB_pred))\n",
        "print(\"ABSOLUTE ERROR:\\t\\t\", metrics.mean_absolute_error(Y_test, XGB_pred))\n",
        "print(\"MEAN SQUARED ERROR:\\t\", metrics.mean_squared_error(Y_test, XGB_pred))\n",
        "print(\"MEDIAN ABSOLUTE ERROR:  \", metrics.median_absolute_error(Y_test, XGB_pred))\n",
        "print(\"R-SQUARE SCORE:  \\t\", metrics.r2_score(Y_test, XGB_pred))\"\"\"\n",
        "\n",
        "TRAIN_ACCURACY.append((XGB1.score(X_train, Y1_train), XGB2.score(X_train, Y2_train)))\n",
        "VARIANCE_SCORE.append((metrics.explained_variance_score(Y1_test, XGB1_pred), metrics.explained_variance_score(Y2_test, XGB2_pred)))\n",
        "MAX_ERROR.append((metrics.max_error(Y1_test, XGB1_pred), metrics.max_error(Y2_test, XGB2_pred)))\n",
        "ABSOLUTE_ERROR.append((metrics.mean_absolute_error(Y1_test, XGB1_pred), metrics.mean_absolute_error(Y2_test, XGB2_pred)))\n",
        "MEAN_SQUARED_ERROR.append((metrics.mean_squared_error(Y1_test, XGB1_pred), metrics.mean_squared_error(Y2_test, XGB2_pred)))\n",
        "MEDIAN_ABSOLUTE_ERROR.append((metrics.median_absolute_error(Y1_test, XGB1_pred), metrics.median_absolute_error(Y2_test, XGB2_pred)))\n",
        "R_SQUARE_SCORE.append((metrics.r2_score(Y1_test, XGB1_pred), metrics.r2_score(Y2_test, XGB2_pred)))"
      ],
      "execution_count": null,
      "outputs": [
        {
          "output_type": "stream",
          "text": [
            "[15:30:29] WARNING: /workspace/src/objective/regression_obj.cu:152: reg:linear is now deprecated in favor of reg:squarederror.\n",
            "[15:31:14] WARNING: /workspace/src/objective/regression_obj.cu:152: reg:linear is now deprecated in favor of reg:squarederror.\n"
          ],
          "name": "stdout"
        }
      ]
    },
    {
      "cell_type": "markdown",
      "metadata": {
        "id": "13CLyDRXlaBg"
      },
      "source": [
        "#PERFORMANCE EVALUATION"
      ]
    },
    {
      "cell_type": "code",
      "metadata": {
        "id": "GR6t0EkrlYZX"
      },
      "source": [
        "PERFORMANCE = pd.DataFrame({\n",
        "'REGRESSOR' : REGRESSOR,\n",
        "'ACCURACY %' : TRAIN_ACCURACY,\n",
        "'VARIANCE SCORE' : VARIANCE_SCORE,\n",
        "'MAX ERROR' : MAX_ERROR,\n",
        "'ABSOLUTE ERROR' : ABSOLUTE_ERROR,\n",
        "'MEAN SQUARED ERROR' : MEAN_SQUARED_ERROR,\n",
        "'MEDIAN ABSOLUTE ERROR' : MEDIAN_ABSOLUTE_ERROR,\n",
        "'R-SQUARE SCORE' : R_SQUARE_SCORE })"
      ],
      "execution_count": null,
      "outputs": []
    },
    {
      "cell_type": "code",
      "metadata": {
        "id": "O40uEdmmMmUN",
        "colab": {
          "base_uri": "https://localhost:8080/",
          "height": 677
        },
        "outputId": "c1f3c95b-3b4d-4aa2-f2f4-ea5d3358ceba"
      },
      "source": [
        "PERFORMANCE"
      ],
      "execution_count": null,
      "outputs": [
        {
          "output_type": "execute_result",
          "data": {
            "text/html": [
              "<div>\n",
              "<style scoped>\n",
              "    .dataframe tbody tr th:only-of-type {\n",
              "        vertical-align: middle;\n",
              "    }\n",
              "\n",
              "    .dataframe tbody tr th {\n",
              "        vertical-align: top;\n",
              "    }\n",
              "\n",
              "    .dataframe thead th {\n",
              "        text-align: right;\n",
              "    }\n",
              "</style>\n",
              "<table border=\"1\" class=\"dataframe\">\n",
              "  <thead>\n",
              "    <tr style=\"text-align: right;\">\n",
              "      <th></th>\n",
              "      <th>REGRESSOR</th>\n",
              "      <th>ACCURACY %</th>\n",
              "      <th>VARIANCE SCORE</th>\n",
              "      <th>MAX ERROR</th>\n",
              "      <th>ABSOLUTE ERROR</th>\n",
              "      <th>MEAN SQUARED ERROR</th>\n",
              "      <th>MEDIAN ABSOLUTE ERROR</th>\n",
              "      <th>R-SQUARE SCORE</th>\n",
              "    </tr>\n",
              "  </thead>\n",
              "  <tbody>\n",
              "    <tr>\n",
              "      <th>0</th>\n",
              "      <td>LINEAR REGRESSION (Y1, Y2)</td>\n",
              "      <td>(0.0010982252184870145, 0.5621215120876417)</td>\n",
              "      <td>(-0.0025634027979311025, 0.6047736697609576)</td>\n",
              "      <td>(30.399684998286297, 25.574785190773433)</td>\n",
              "      <td>(2.5664671634925216, 1.0696452409394022)</td>\n",
              "      <td>(11.274743021766033, 2.7144532969046824)</td>\n",
              "      <td>(2.2091572122071774, 0.8014555407344552)</td>\n",
              "      <td>(-0.002608901359026028, 0.6047631665742691)</td>\n",
              "    </tr>\n",
              "    <tr>\n",
              "      <th>1</th>\n",
              "      <td>RIDGE REGRESSION (Y1, Y2)</td>\n",
              "      <td>(0.0010978482496452058, 0.5621209407575262)</td>\n",
              "      <td>(-0.002547665471050342, 0.6047328104418881)</td>\n",
              "      <td>(30.39699292981015, 25.57368703919547)</td>\n",
              "      <td>(2.566431277574842, 1.0697191458132882)</td>\n",
              "      <td>(11.274566627162402, 2.714734885773474)</td>\n",
              "      <td>(2.207969935077461, 0.7992832652007245)</td>\n",
              "      <td>(-0.0025932154316916645, 0.6047221659451715)</td>\n",
              "    </tr>\n",
              "    <tr>\n",
              "      <th>2</th>\n",
              "      <td>RIDGE COMPLEXITY (Y1, Y2)</td>\n",
              "      <td>(0.0010464178802047641, 0.562020044588071)</td>\n",
              "      <td>(-0.0023600024091063876, 0.6042341533155906)</td>\n",
              "      <td>(30.368084232589172, 25.558438910975525)</td>\n",
              "      <td>(2.565967132709215, 1.0705972308264324)</td>\n",
              "      <td>(11.272456750794712, 2.7181729954726306)</td>\n",
              "      <td>(2.2159917413628456, 0.8011852424584909)</td>\n",
              "      <td>(-0.002405594230664887, 0.6042215614249116)</td>\n",
              "    </tr>\n",
              "    <tr>\n",
              "      <th>3</th>\n",
              "      <td>LASSO REGRESSION (Y1, Y2)</td>\n",
              "      <td>(0.00035542606765093243, 0.5467177698740813)</td>\n",
              "      <td>(-0.00034517837397851636, 0.5802723000894684)</td>\n",
              "      <td>(30.23144918688691, 25.168384263228745)</td>\n",
              "      <td>(2.5644350892677816, 1.1047809323948412)</td>\n",
              "      <td>(11.249659795901502, 2.8827266785402688)</td>\n",
              "      <td>(2.245893802520847, 0.8239828906655617)</td>\n",
              "      <td>(-0.0003783702082913454, 0.5802617914416306)</td>\n",
              "    </tr>\n",
              "    <tr>\n",
              "      <th>4</th>\n",
              "      <td>LARS LASSO REGRESSION (Y1, Y2)</td>\n",
              "      <td>(0.0, 0.0)</td>\n",
              "      <td>(0.0, 0.0)</td>\n",
              "      <td>(30.16519916142558, 22.861215932914046)</td>\n",
              "      <td>(2.5641395893904924, 1.9887768356656355)</td>\n",
              "      <td>(11.2458541703269, 6.869880391806369)</td>\n",
              "      <td>(2.2348008385744187, 1.5612159329140454)</td>\n",
              "      <td>(-3.995415136048841e-05, -0.0002860521370073865)</td>\n",
              "    </tr>\n",
              "    <tr>\n",
              "      <th>5</th>\n",
              "      <td>BAYESIAN RIDGE REGRESSION (Y1, Y2)</td>\n",
              "      <td>(7.632763461662417e-05, 0.561690586554316)</td>\n",
              "      <td>(-0.00016167681393941535, 0.6037284843273083)</td>\n",
              "      <td>(30.19475008412267, 25.534050193833238)</td>\n",
              "      <td>(2.563821788706644, 1.0715135218339227)</td>\n",
              "      <td>(11.247642931504451, 2.7216627188174103)</td>\n",
              "      <td>(2.2438362796577103, 0.8067544151900918)</td>\n",
              "      <td>(-0.00019902011637218386, 0.6037134417214356)</td>\n",
              "    </tr>\n",
              "    <tr>\n",
              "      <th>6</th>\n",
              "      <td>SVM (Y1, Y2)</td>\n",
              "      <td>(-0.004129776342116642, -0.006860154412351882)</td>\n",
              "      <td>(-6.328164100288802e-06, 3.185606461464374e-05)</td>\n",
              "      <td>(30.40002148520139, 23.100449541831033)</td>\n",
              "      <td>(2.5510634946724027, 1.9805628885385747)</td>\n",
              "      <td>(11.29103693948226, 6.948054435987533)</td>\n",
              "      <td>(2.199986822224279, 1.5996961785278465)</td>\n",
              "      <td>(-0.004057841428769526, -0.01166855104147535)</td>\n",
              "    </tr>\n",
              "    <tr>\n",
              "      <th>7</th>\n",
              "      <td>GRADIENT BOOSTING REGRESSION (Y1, Y2)</td>\n",
              "      <td>(0.008842539224930945, 0.6299336531234607)</td>\n",
              "      <td>(-0.002547665471050342, 0.6047328104418881)</td>\n",
              "      <td>(30.39699292981015, 25.57368703919547)</td>\n",
              "      <td>(2.566431277574842, 1.0697191458132882)</td>\n",
              "      <td>(11.274566627162402, 2.714734885773474)</td>\n",
              "      <td>(2.207969935077461, 0.7992832652007245)</td>\n",
              "      <td>(-5.300138509419679, 0.6047221659451715)</td>\n",
              "    </tr>\n",
              "    <tr>\n",
              "      <th>8</th>\n",
              "      <td>DECISION TREE (Y1, Y2)</td>\n",
              "      <td>(1.0, 1.0)</td>\n",
              "      <td>(-1.3318218801558652, 0.5312061893803688)</td>\n",
              "      <td>(35.9, 26.8)</td>\n",
              "      <td>(3.7671824629271438, 0.9141199226305611)</td>\n",
              "      <td>(26.230232108317214, 3.2210444874274664)</td>\n",
              "      <td>(3.0, 0.6000000000000014)</td>\n",
              "      <td>(-1.3325289228980446, 0.5310011688224886)</td>\n",
              "    </tr>\n",
              "    <tr>\n",
              "      <th>9</th>\n",
              "      <td>RANDOM FOREST</td>\n",
              "      <td>(0.8514155193747017, 0.9509271213903471)</td>\n",
              "      <td>(-0.043585886098474136, 0.7774461368135055)</td>\n",
              "      <td>(30.25400000000001, 26.77)</td>\n",
              "      <td>(2.619970986460348, 0.6723539651837521)</td>\n",
              "      <td>(11.74952692392005, 1.5307682056737588)</td>\n",
              "      <td>(2.2849999999999966, 0.4659999999999975)</td>\n",
              "      <td>(-0.04482916000284809, 0.7771131376586253)</td>\n",
              "    </tr>\n",
              "    <tr>\n",
              "      <th>10</th>\n",
              "      <td>ADABOOST (Y1, Y2)</td>\n",
              "      <td>(-0.12312438722776475, 0.06012926250353612)</td>\n",
              "      <td>(-0.1281312239002983, 0.05707935571994194)</td>\n",
              "      <td>(29.401576240252123, 25.85621436716076)</td>\n",
              "      <td>(2.9266437702820784, 1.9687478569469883)</td>\n",
              "      <td>(14.170851279456501, 8.23088997734718)</td>\n",
              "      <td>(2.5984237597478774, 1.3663306451612947)</td>\n",
              "      <td>(-0.2601459390417724, -0.19845528181747873)</td>\n",
              "    </tr>\n",
              "    <tr>\n",
              "      <th>11</th>\n",
              "      <td>GRADIENT DESCENT REGRESSION (Y1, Y2)</td>\n",
              "      <td>(0.1571001633211484, 0.7931099210722874)</td>\n",
              "      <td>(-0.02293313641301964, 0.7770734308994878)</td>\n",
              "      <td>(30.54307620478353, 26.389965965069887)</td>\n",
              "      <td>(2.5866021346545263, 0.7328521618098953)</td>\n",
              "      <td>(11.504857106532306, 1.5316034758903254)</td>\n",
              "      <td>(2.2038999472487575, 0.554575270790199)</td>\n",
              "      <td>(-0.023071844884155812, 0.7769915184891864)</td>\n",
              "    </tr>\n",
              "    <tr>\n",
              "      <th>12</th>\n",
              "      <td>VOTING REGRESSION (Y1, Y2)</td>\n",
              "      <td>(0.5320333545409536, 0.8175543159437593)</td>\n",
              "      <td>(-0.010352217654459261, 0.7299885538992814)</td>\n",
              "      <td>(30.69684249914315, 26.15489259538671)</td>\n",
              "      <td>(2.5714001665988584, 0.8191053018350773)</td>\n",
              "      <td>(11.366074855262708, 1.8551253754407615)</td>\n",
              "      <td>(2.2239942325205497, 0.6078041469693289)</td>\n",
              "      <td>(-0.010730603917073589, 0.7298852480412841)</td>\n",
              "    </tr>\n",
              "    <tr>\n",
              "      <th>13</th>\n",
              "      <td>XGBOOST (Y1, Y2)</td>\n",
              "      <td>(0.9787692422821409, 0.9979400836304488)</td>\n",
              "      <td>(-0.23536425886084889, 0.816726127738644)</td>\n",
              "      <td>(31.280902862548828, 26.051860809326172)</td>\n",
              "      <td>(2.8481120657413563, 0.562214111313368)</td>\n",
              "      <td>(13.900509440358148, 1.2587223572280548)</td>\n",
              "      <td>(2.335425567626956, 0.39732627868652415)</td>\n",
              "      <td>(-0.2361057339775403, 0.8167242592826023)</td>\n",
              "    </tr>\n",
              "  </tbody>\n",
              "</table>\n",
              "</div>"
            ],
            "text/plain": [
              "                                REGRESSOR  ...                                    R-SQUARE SCORE\n",
              "0              LINEAR REGRESSION (Y1, Y2)  ...       (-0.002608901359026028, 0.6047631665742691)\n",
              "1               RIDGE REGRESSION (Y1, Y2)  ...      (-0.0025932154316916645, 0.6047221659451715)\n",
              "2               RIDGE COMPLEXITY (Y1, Y2)  ...       (-0.002405594230664887, 0.6042215614249116)\n",
              "3               LASSO REGRESSION (Y1, Y2)  ...      (-0.0003783702082913454, 0.5802617914416306)\n",
              "4          LARS LASSO REGRESSION (Y1, Y2)  ...  (-3.995415136048841e-05, -0.0002860521370073865)\n",
              "5      BAYESIAN RIDGE REGRESSION (Y1, Y2)  ...     (-0.00019902011637218386, 0.6037134417214356)\n",
              "6                            SVM (Y1, Y2)  ...     (-0.004057841428769526, -0.01166855104147535)\n",
              "7   GRADIENT BOOSTING REGRESSION (Y1, Y2)  ...          (-5.300138509419679, 0.6047221659451715)\n",
              "8                  DECISION TREE (Y1, Y2)  ...         (-1.3325289228980446, 0.5310011688224886)\n",
              "9                           RANDOM FOREST  ...        (-0.04482916000284809, 0.7771131376586253)\n",
              "10                      ADABOOST (Y1, Y2)  ...       (-0.2601459390417724, -0.19845528181747873)\n",
              "11   GRADIENT DESCENT REGRESSION (Y1, Y2)  ...       (-0.023071844884155812, 0.7769915184891864)\n",
              "12             VOTING REGRESSION (Y1, Y2)  ...       (-0.010730603917073589, 0.7298852480412841)\n",
              "13                       XGBOOST (Y1, Y2)  ...         (-0.2361057339775403, 0.8167242592826023)\n",
              "\n",
              "[14 rows x 8 columns]"
            ]
          },
          "metadata": {
            "tags": []
          },
          "execution_count": 90
        }
      ]
    }
  ]
}